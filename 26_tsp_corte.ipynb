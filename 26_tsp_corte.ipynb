{
 "cells": [
  {
   "cell_type": "markdown",
   "metadata": {},
   "source": [
    "# Cuaderno 26: Modelo para el TSP con desigualdades de corte\n",
    "\n",
    "$\\newcommand{\\card}[1]{\\left| #1 \\right|}$\n",
    "$\\newcommand{\\tabulatedset}[1]{\\left\\{ #1 \\right\\}}$\n",
    "$\\newcommand{\\ZZ}{\\mathbb{Z}}$\n",
    "$\\newcommand{\\RR}{\\mathbb{R}}$\n",
    "\n",
    "Dados: \n",
    "* un grafo no dirigido **completo** $G=(V,E)$; y,\n",
    "* un vector $c \\in \\ZZ^{E}$ de costos asociados a las aristas de $G$.\n",
    "\n",
    "El *problema del agente viajero (Traveling Salesman Problem, TSP)* consiste en encontrar un ciclo que visite **todos** los nodos de $G$ y que tenga el menor costo posible.\n",
    "\n",
    "Al tratarse de una versión no dirigida del problema, las restricciones de grado entrante y saliente se reemplazan por una única restricción de grado para cada nodo: cada nodo debe ser incidente a dos aristas del tour.\n",
    "\n",
    "Por otra parte, notar que para impedir subciclos en una solución es suficiente con requerir que la misma sea conexa,\n",
    "lo cual puede hacerse a través de desigualdades de corte, similares al caso del árbol generador de peso mínimo. En el caso del TSP, estas desigualdades pueden ser mejoradas al observar que, para cualquier conjunto $W \\subset V$ con $\\emptyset \\neq W \\neq V$, todo tour factible debe contener al menos *dos* aristas del corte $\\delta(W)$.\n",
    "\n",
    "Utilizando variables binarias $x_{ij}$ para indicar la selección de aristas, el problema del agente viajero puede formularse como el siguiente programa lineal entero:\n",
    "\n",
    "\\begin{align*}\n",
    "\\min &\\sum_{ij \\in E} c_{ij} x_{ij}\\\\ \n",
    "& \\mbox{s.r.}\\\\\n",
    "&\\sum_{ij \\in \\delta(i) } x_{ij} = 2, \\quad \\forall i \\in V,\\\\\n",
    "&\\sum_{ij \\in \\delta(W)} x_{ij} \\geq 2, \\quad \\forall W \\subset V, \\emptyset \\neq W \\neq V,\\\\\n",
    "& x_{ij} \\in \\{0, 1\\}, \\quad \\forall ij \\in E,\n",
    "\\end{align*}\n",
    "donde $\\delta(W) := \\{ ij \\in E \\, : \\, i \\in W, j \\not\\in W\\}$.\n",
    "\n",
    "La función objetivo mide el costo total de las aristas seleccionadas.\n",
    "\n",
    "La primera familia de restricciones contiene las restricciones de grado para cada nodo.\n",
    "\n",
    "La segunda familia de restricciones contiene un número exponencial de restricciones para la eliminación de subciclos, empleando la observación señalada arriba.\n",
    "\n",
    "Vamos a implementar este modelo usando la interfaz Python de Gurobi.\n",
    "\n"
   ]
  },
  {
   "cell_type": "markdown",
   "metadata": {},
   "source": [
    "Definimos primero los datos. Usaremos la función `randint` del módulo random para generar valores aleatorios en el rango {0,..,100} para las coordenadas de cada nodo. Los costos de las aristas serán iguales a las distancias euclideanas entre sus nodos extremos. Notar que el diccionario `c` contiene cada arista una sola vez, debido a la condición `if i < j`."
   ]
  },
  {
   "cell_type": "code",
   "execution_count": null,
   "metadata": {},
   "outputs": [],
   "source": [
    "import gurobipy as gp\n",
    "from gurobipy import GRB\n",
    "import random as rm\n",
    "import math \n",
    "\n",
    "# Número de nodos del grafo\n",
    "n = 10\n",
    "\n",
    "# Nodos del grafo\n",
    "V = gp.tuplelist(range(1,n+1))\n",
    "\n",
    "# Posiciones de los nodos en un plano euclideano entre (0,0) y (100, 100)\n",
    "coordx={i : rm.randint(0,100) for i in V}\n",
    "coordy={i : rm.randint(0,100) for i in V}\n",
    "\n",
    "# los costos son las distancias eculideanas\n",
    "c = gp.tupledict({(i,j) : math.sqrt((coordx[i] - coordx[j])**2 + (coordy[i] - coordy[j])**2)\n",
    "              for i in V for j in V if i < j})\n",
    " \n",
    "E = c.keys()\n"
   ]
  },
  {
   "cell_type": "markdown",
   "metadata": {},
   "source": [
    "Vamos a necesitar construir una restricción de corte para cada subconjunto de nodos $W \\subset V$ tal que $\\emptyset \\neq W \\neq V$. Con esta finalidad, definimos una función `powerset` empleando las funciones `chain` y `combinations` del módulo `itertools`."
   ]
  },
  {
   "cell_type": "code",
   "execution_count": null,
   "metadata": {},
   "outputs": [],
   "source": [
    "from itertools import chain, combinations\n",
    "\n",
    "def powerset(iterable):\n",
    "    \"powerset([1,2,3]) --> () (1,) (2,) (3,) (1,2) (1,3) (2,3) (1,2,3)\"\n",
    "    s = list(iterable)\n",
    "    return chain.from_iterable(combinations(s, r) for r in range(len(s)+1))\n",
    "\n",
    "# Ejemplo\n",
    "for W in powerset([1,2,3]):\n",
    "    print(W)"
   ]
  },
  {
   "cell_type": "markdown",
   "metadata": {},
   "source": [
    "Emplearemos la función `dibujarTour` para graficar el tour utilizando el módulo `matplotlib`. Esta función recibe tres argumentos: una lista `coordx` con las coordenadas horizontales de los nodos, una lista `coordy` con las coordenadas verticales y un vector `tour` con una permutación de los nodos indicando el orden de visita en la solución."
   ]
  },
  {
   "cell_type": "code",
   "execution_count": null,
   "metadata": {},
   "outputs": [],
   "source": [
    "import matplotlib.pyplot as plt\n",
    "def dibujarTour(coordx, coordy, tour):\n",
    "    Tx = [coordx[i] for i in tour] + [coordx[i] for i in tour[:1]]\n",
    "    Ty = [coordy[i] for i in tour] + [coordy[i] for i in tour[:1]]\n",
    "    plt.plot(Tx, Ty, 'b-')\n",
    "    plt.plot(Tx[:-1], Ty[:-1], 'ro')\n",
    "    for i in range(len(tour)-1):\n",
    "        s='{}'.format(tour[i])\n",
    "        plt.text(Tx[i],Ty[i]+1,s)\n",
    "    plt.show()\n"
   ]
  },
  {
   "cell_type": "markdown",
   "metadata": {},
   "source": [
    "Definimos ahora el objeto modelo, las variables y la función objetivo:"
   ]
  },
  {
   "cell_type": "code",
   "execution_count": null,
   "metadata": {},
   "outputs": [],
   "source": [
    "# Crear el objeto modelo\n",
    "m = gp.Model('tsp-corte')\n",
    "\n",
    "# Crear las variables\n",
    "x = m.addVars(E, name=\"x\", vtype=GRB.BINARY)\n",
    "\n",
    "# Crear la función objetivo\n",
    "m.setObjective(x.prod(c,'*'), GRB.MINIMIZE)\n"
   ]
  },
  {
   "cell_type": "markdown",
   "metadata": {},
   "source": [
    "Añadimos las restricciones de grado. Observar que son necesarias **dos sumas** en cada restricción para cubrir todas las aristas del corte $\\delta(i)$: "
   ]
  },
  {
   "cell_type": "code",
   "execution_count": null,
   "metadata": {},
   "outputs": [],
   "source": [
    "# Restricciones de grado\n",
    "m.addConstrs((x.sum(i,'*') + x.sum('*', i) == 2 for i in V), \n",
    "                 \"grado\")"
   ]
  },
  {
   "cell_type": "markdown",
   "metadata": {},
   "source": [
    "Para construir las restricciones de corte, usamos la función `powerset` para iterar sobre todos los subconjuntos de nodos $W$ tales que $\\emptyset \\neq W \\neq V$. Para cada subconjunto, se construye primero el conjunto `Wc` con su \n",
    "complemento, es decir, con los nodos de $V$ que no están en $W$. La expresión `x.sum(W, Wc)` construye la suma de las variables asociadas a aristas que tienen el \"primer\" extremo en $W$ y el otro extremo fuera de $W$. De manera similar, `x.sum(Wc, W)` construye la suma de las variables asociadas a aristas que tienen el \"primer\" extremo fuera de $W$ y el otro extremo en $W$. La suma de ambas expresiones es igual a la suma de todas las aristas del corte."
   ]
  },
  {
   "cell_type": "code",
   "execution_count": null,
   "metadata": {},
   "outputs": [],
   "source": [
    "# Restricciones de corte\n",
    "for W in powerset(V):\n",
    "    if W!=() and len(W)!=len(V):\n",
    "        Wc = [i for i in V if i not in W]\n",
    "        m.addConstr(x.sum(W, Wc) + x.sum(Wc, W) >= 2, \n",
    "                        \"corte[{}]\".format(W))\n"
   ]
  },
  {
   "cell_type": "markdown",
   "metadata": {},
   "source": [
    "Escribimos el modelo a un archivo de texto:"
   ]
  },
  {
   "cell_type": "code",
   "execution_count": null,
   "metadata": {},
   "outputs": [],
   "source": [
    "# Escribir el modelo a un archivo\n",
    "m.write('tsp-corte.lp')\n"
   ]
  },
  {
   "cell_type": "markdown",
   "metadata": {},
   "source": [
    "Finalmente, resolvemos el modelo y mostramos la solución:"
   ]
  },
  {
   "cell_type": "code",
   "execution_count": null,
   "metadata": {},
   "outputs": [],
   "source": [
    "# Calcular la solución óptima\n",
    "m.optimize()\n",
    "\n",
    "# Escribir la solución\n",
    "if m.SolCount > 0:\n",
    "    # Recuperar los valores de las variables\n",
    "    vx = m.getAttr('x', x)\n",
    "    print('\\nTour óptimo:')\n",
    "    for i,j in E:\n",
    "        if vx[i,j] >= 0.9:\n",
    "            print('{} -- {}'.format(i, j))\n"
   ]
  },
  {
   "cell_type": "markdown",
   "metadata": {},
   "source": [
    "Finalmente, graficamos la solución obtenida:"
   ]
  },
  {
   "cell_type": "code",
   "execution_count": null,
   "metadata": {},
   "outputs": [],
   "source": [
    "# Crear lista con arcos seleccionados en la solución\n",
    "L = gp.tuplelist([(i,j) for i,j in E if vx[i,j]>0])\n",
    "\n",
    "# Recuperar el tour como un ordenamiento de los nodos\n",
    "T = [1]\n",
    "# nodo actual:\n",
    "i = 1\n",
    "while True:\n",
    "    # Determinar sucesor de i en el tour\n",
    "    # Observar que la arista puede ser de la forma (i,j) o (j,i)\n",
    "    N = L.select(i,'*') +  L.select('*',i)\n",
    "    a = N.pop()\n",
    "    L.remove(a)\n",
    "    j = a[1] if i==a[0] else a[0]\n",
    "    # Colocar sucesor en la lista del tour y actualizar i\n",
    "    T.append(j)\n",
    "    i = j\n",
    "    # Terminar cuando el nodo colocado sea 1\n",
    "    if i==1: \n",
    "        break;\n",
    "        \n",
    "# Graficar el tour\n",
    "dibujarTour(coordx, coordy, T)"
   ]
  },
  {
   "cell_type": "markdown",
   "metadata": {},
   "source": [
    "## Código completo\n",
    "\n",
    "Se reproduce a continuación el código completo del modelo anterior."
   ]
  },
  {
   "cell_type": "code",
   "execution_count": null,
   "metadata": {},
   "outputs": [],
   "source": [
    "# Implementación de modelos lineales enteros\n",
    "# Problema del agente viajero simétrico (TSP)\n",
    "\n",
    "# Luis M. Torres (EPN 2022)\n",
    "\n",
    "import gurobipy as gp\n",
    "from gurobipy import GRB\n",
    "import random as rm\n",
    "import matplotlib.pyplot as plt\n",
    "from itertools import chain, combinations\n",
    "\n",
    "def powerset(iterable):\n",
    "    \"powerset([1,2,3]) --> () (1,) (2,) (3,) (1,2) (1,3) (2,3) (1,2,3)\"\n",
    "    s = list(iterable)\n",
    "    return chain.from_iterable(combinations(s, r) for r in range(len(s)+1))\n",
    "\n",
    "def dibujarTour(coordx, coordy, tour):\n",
    "    Tx = [coordx[i] for i in tour] + [coordx[i] for i in tour[:1]]\n",
    "    Ty = [coordy[i] for i in tour] + [coordy[i] for i in tour[:1]]\n",
    "    plt.plot(Tx, Ty, 'b-')\n",
    "    plt.plot(Tx[:-1], Ty[:-1], 'ro')\n",
    "    for i in range(len(tour)-1):\n",
    "        s='{}'.format(tour[i])\n",
    "        plt.text(Tx[i],Ty[i]+1,s)\n",
    "    display(plt.show())\n",
    "\n",
    "# Número de nodos del grafo\n",
    "n = 10\n",
    "\n",
    "# Nodos del grafo\n",
    "V = gp.tuplelist(range(1,n+1))\n",
    "\n",
    "# Posiciones de los nodos en un plano euclideano entre (0,0) y (100, 100)\n",
    "coordx={i : rm.randint(0,100) for i in V}\n",
    "coordy={i : rm.randint(0,100) for i in V}\n",
    "\n",
    "# los costos son las distancias eculideanas\n",
    "c = gp.tupledict({(i,j) : math.sqrt((coordx[i] - coordx[j])**2 + (coordy[i] - coordy[j])**2)\n",
    "              for i in V for j in V if i < j})\n",
    " \n",
    "E = c.keys()\n",
    "\n",
    "try:\n",
    "    # Crear el objeto modelo\n",
    "    m = gp.Model('tsp-corte')\n",
    "\n",
    "    # Crear las variables\n",
    "    x = m.addVars(E, name=\"x\", vtype=GRB.BINARY)\n",
    "\n",
    "    # Crear la función objetivo\n",
    "    m.setObjective(x.prod(c,'*'), GRB.MINIMIZE)\n",
    "\n",
    "    # Restricciones de grado\n",
    "    m.addConstrs((x.sum(i,'*') + x.sum('*', i) == 2 for i in V), \n",
    "                 \"grado\")\n",
    "\n",
    "    # Restricciones de corte\n",
    "    PV = list(powerset(V))\n",
    "    for W in PV:\n",
    "        if W!=() and len(W)!=len(V):\n",
    "            Wc = [i for i in V if i not in W]\n",
    "            m.addConstr(x.sum(W, Wc) + x.sum(Wc, W) >= 1, \n",
    "                            \"corte[{}]\".format(W))\n",
    "\n",
    "    # Escribir el modelo a un archivo\n",
    "    # m.write('tsp-corte.lp')\n",
    "\n",
    "    # Calcular la solución óptima\n",
    "    m.optimize()\n",
    "\n",
    "    # Escribir la solución\n",
    "    if m.SolCount > 0:\n",
    "        # Recuperar los valores de las variables\n",
    "        vx = m.getAttr('x', x)\n",
    "        print('\\nTour óptimo:')\n",
    "        for i,j in E:\n",
    "            if vx[i,j] >= 0.9:\n",
    "                print('{} -> {}'.format(i, j))\n",
    "                \n",
    "    # Crear lista con arcos seleccionados en la solución\n",
    "    L = gp.tuplelist([(i,j) for i,j in E if vx[i,j]>0])\n",
    "\n",
    "    # Recuperar el tour como un ordenamiento de los nodos\n",
    "    T = [1]\n",
    "    # nodo actual:\n",
    "    i = 1\n",
    "    while True:\n",
    "        # Determinar sucesor de i en el tour\n",
    "        # Observar que la arista puede ser de la forma (i,j) o (j,i)\n",
    "        N = L.select(i,'*') +  L.select('*',i)\n",
    "        a = N.pop()\n",
    "        L.remove(a)\n",
    "        j = a[1] if i==a[0] else a[0]\n",
    "        # Colocar sucesor en la lista del tour y actualizar i\n",
    "        T.append(j)\n",
    "        i = j\n",
    "        # Terminar cuando el nodo colocado sea 1\n",
    "        if i==1: \n",
    "            break;\n",
    "        \n",
    "    # Graficar el tour\n",
    "    dibujarTour(coordx, coordy, T)    \n",
    "    \n",
    "except GurobiError as e:\n",
    "    print('Se produjo un error de Gurobi: código: ' + str(e.errno) + \": \" + str(e))\n",
    "\n",
    "except AttributeError:\n",
    "    print('Se produjo un error de atributo')"
   ]
  },
  {
   "cell_type": "code",
   "execution_count": null,
   "metadata": {},
   "outputs": [],
   "source": []
  }
 ],
 "metadata": {
  "kernelspec": {
   "display_name": "Python 3 (ipykernel)",
   "language": "python",
   "name": "python3"
  },
  "language_info": {
   "codemirror_mode": {
    "name": "ipython",
    "version": 3
   },
   "file_extension": ".py",
   "mimetype": "text/x-python",
   "name": "python",
   "nbconvert_exporter": "python",
   "pygments_lexer": "ipython3",
   "version": "3.8.10"
  }
 },
 "nbformat": 4,
 "nbformat_minor": 2
}
