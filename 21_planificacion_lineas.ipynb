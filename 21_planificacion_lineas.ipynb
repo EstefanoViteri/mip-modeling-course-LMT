{
 "cells": [
  {
   "cell_type": "markdown",
   "id": "ce1e8e5c",
   "metadata": {},
   "source": [
    " # Cuaderno 21: Planificación de líneas"
   ]
  },
  {
   "cell_type": "markdown",
   "id": "d76de5f0",
   "metadata": {},
   "source": [
    "*Este cuaderno contiene material tomado del Trabajo de Integración Curricular de Darlyn Ludeña, en la carrera de Ingeniería Matemática en la Escuela Politécnica Nacional (Quito, 2022).*"
   ]
  },
  {
   "cell_type": "markdown",
   "id": "51dec29f",
   "metadata": {},
   "source": [
    "El problema de *planificación de líneas* consiste en seleccionar, de entre un *pool* de líneas posibles, aquellas líneas necesarias para cubrir la demanda en cada arista de la red de transporte a un costo mínimo. A cada línea seleccionada se le debe asignar una frecuencia de operación, que indica el número de viajes programados para esa línea dentro del horizonte de tiempo.\n",
    "\n",
    "En el presente ejemplo vamos a suponer que se tiene dado lo siguiente:\n",
    "* una red de transporte $D=(V,A)$ (grafo dirigido);\n",
    "* un conjunto $L$ de posibles líneas (*line pool*);\n",
    "* un conjunto $F$ de valores posibles para las frecuencias (enteros positivos);\n",
    "* un vector de costos de operación $c \\in \\mathbb{R}^{L \\times F}$, donde $c_{lf}$ es el costo de operar la línea $l \\in L$ con una  frecuencia $f \\in F$; y,\n",
    "* un vector de frecuencias mínimas $f_{ij}^{\\min} \\in \\mathbb{R}^A$ y uno de frecuencias máximas $f_{ij}^{\\max} \\in \\mathbb{R}^A$ asociados a cada arco $(i,j) \\in A$.\n",
    "\n",
    "Para la formulación del modelo emplearemos variables de decisión binarias $x_{lf}$, con $l \\in L$ y $f \\in F$, que indican si la línea $l$ es operada con la frecuencia $f$.\n",
    "\n",
    "Con esta variables, el modelo puede formularse de la siguiente manera:\n",
    "\n",
    "\\begin{align*}\n",
    "\\min &\\sum_{l \\in L}  \\sum_{f \\in F} c_{lf} x_{lf}\\\\\n",
    "&\\mbox{s.r.}\\\\\\\\\n",
    "&f_{ij}^{\\min}\\leq\\sum_{l \\in L : (i,j) \\in l}\\sum_{f \\in F} f x_{lf} \\leq f_{ij}^{\\max}, \\quad \\forall (i,j) \\in A, \\\\\n",
    "&\\sum_{f \\in F} x_{lf} \\leq 1, \\quad \\forall l \\in L, \\\\\n",
    "& x_{lf} \\in \\{0, 1\\}, \\quad \\forall l \\in L, f \\in F.\n",
    "\\end{align*}\n",
    "\n",
    "La función objetivo a minimizar consiste en la suma sobre todas las posibles líneas $l \\in L$ y sobre todas las frecuencias $f \\in F$ del producto de la variable de decisión $x_{lf}$ por el coeficiente de costo $c_{lf}$ correspondiente a la operación de $l$ en la frecuencia $f$. De esta manera, se busca minimizar el costo total de la operación de todas las líneas.\n",
    "\n",
    "La primera familia de restricciones requiere que, para cada arco $(i,j) \\in A$, la suma de las frecuencias de las líneas seleccionadas que contienen a $(i,j)$ esté dentro del rango factible $[f_{ij}^{\\min}; f_{ij}^{\\max}]$. Notar que al requerir que esta suma sea mayor o igual a $f_{ij}^{\\min}$ se busca satisfacer la demanda de transporte estimada sobre $(i,j)$. Por otra parte, se establece que esta suma sea menor o igual a $f_{ij}^{\\max}$ para respetar las restricciones técnicas de capacidad de circulación de las vías.\n",
    "\n",
    "La segunda familia de restricciones especifica que para cada línea se puede seleccionar a lo más una frecuencia de operación. Si para una línea no se seleccionan frecuencias de operación, significa que la línea no será operada en la red. \n",
    "\n",
    "Implementaremos este modelo empleando el API Python de Gurobi, sobre la instancia que se indica a continuación:"
   ]
  },
  {
   "cell_type": "code",
   "execution_count": null,
   "id": "81ff0247",
   "metadata": {},
   "outputs": [],
   "source": [
    "import gurobipy as gp\n",
    "from gurobipy import GRB\n",
    "\n",
    "# Arcos, frecuencias mínima y máxima\n",
    "A, fmin,fmax = gp.multidict({\n",
    "  (1, 2): (2,5),\n",
    "  (2, 3): (2,6),\n",
    "  (3, 4): (2,10),\n",
    "  (4, 3): (2,10),\n",
    "  (4, 8):  (1,15),\n",
    "  (5, 1):  (1,15),\n",
    "  (6, 5):  (2,14),\n",
    "  (4, 5):  (2,15),\n",
    "  (5, 4):  (2,15),\n",
    "  (7, 8):  (2,15),\n",
    "  (2, 4):  (2,15),  \n",
    "  (6, 4): (2,15), \n",
    "  (8, 6):  (2,15),\n",
    "  (3, 7):  (1,20), \n",
    "  (4, 7): (2,15),\n",
    "  (1, 4):  (2,18), \n",
    "  (8, 5):  (1,20)})\n",
    "\n",
    "# Line pool, con los arcos para cada línea:\n",
    "L = {1 : [(1, 2), (2, 3), (3, 7), (7, 8)],\n",
    "         2 : [(1, 4), (4, 8)],\n",
    "         3 : [(8, 6), (6, 5), (5, 1)], \n",
    "         4 : [(4, 3), (3, 7), (7, 8)],\n",
    "         5 : [(2, 4), (4, 8), (8, 5), (5, 1)],\n",
    "         6 : [(8, 6), (6, 4), (4, 5), (5, 1)],\n",
    "         7 : [(1, 2), (2, 3), (3, 4)],\n",
    "         8 : [(6, 4), (4, 3), (3, 7), (7, 8)],\n",
    "         9 : [(1, 4), (4, 7)],\n",
    "        10 : [(5, 4), (4, 7), (7, 8)]}\n",
    "\n",
    "# Verificamos que los arcos de todas las líneas sean arcos de la red\n",
    "# caso contrario, se levanta una excepción\n",
    "for l in L:\n",
    "    for e in L[l]:\n",
    "        assert(e in A)\n",
    "\n",
    "# Frecuencias de operación posibles\n",
    "F = range(1,4)\n",
    "\n",
    "# Costos de operación para cada línea y frecuencia\n",
    "cost = {  (1,1) : 15,  (1,2) : 30,  (1,3) : 45,\n",
    "          (2,1) : 10,  (2,2) : 25,  (2,3) : 35,\n",
    "          (3,1) :  5,  (3,2) : 12,  (3,3) : 19,\n",
    "          (4,1) : 12,  (4,2) : 28,  (4,3) : 36,\n",
    "          (5,1) : 21,  (5,2) : 45,  (5,3) : 75,\n",
    "          (6,1) : 14,  (6,2) : 30,  (6,3) : 50,\n",
    "          (7,1) : 25,  (7,2) : 48,  (7,3) : 85,\n",
    "          (8,1) : 30,  (8,2) : 62,  (8,3) : 100,\n",
    "          (9,1) : 16,  (9,2) : 35,  (9,3) : 55,\n",
    "         (10,1) : 22, (10,2) : 46, (10,3) : 66}"
   ]
  },
  {
   "cell_type": "markdown",
   "id": "3f9943f1",
   "metadata": {},
   "source": [
    "Ahora construimos a partir de los datos anteriores una lista `V` con los nodos de la red de transporte y un diccionario `La` que guarde para cada arco $(i,j) \\in A$ la lista `Le[i,j]` de las líneas que lo contienen."
   ]
  },
  {
   "cell_type": "code",
   "execution_count": null,
   "id": "8667b6b6",
   "metadata": {},
   "outputs": [],
   "source": [
    "# lista V con los nodos del grafo\n",
    "V = gp.tuplelist(set([i for (i,j) in A] + [j for (i,j) in A]))\n",
    "\n",
    "# diccionario con líneas que contienen a cada arco\n",
    "La = {(i,j) : [l for l in L.keys() if (i,j) in L[l]] for (i,j) in A}\n",
    "\n",
    "print('V = {}'.format(V))\n",
    "print('La = {}'.format(La))"
   ]
  },
  {
   "cell_type": "markdown",
   "id": "21fb80dc",
   "metadata": {},
   "source": [
    "Podemos graficar la red empleando las bibliotecas `networkx` y `matplotlib`:"
   ]
  },
  {
   "cell_type": "code",
   "execution_count": null,
   "id": "2d0ea25b",
   "metadata": {},
   "outputs": [],
   "source": [
    "import networkx as nx\n",
    "import matplotlib.pyplot as plt\n",
    "import matplotlib as mp\n",
    "G = nx.MultiDiGraph()\n",
    "G.add_nodes_from(list(V))\n",
    "# Iteramos sobre todas las líneas:\n",
    "for l in L:\n",
    "    # y sobre todos los arcos de cada línea\n",
    "    for (i,j) in L[l]:\n",
    "        # agregamos cada arco al multigrafo, registrando su línea como propiedad\n",
    "        G.add_edge(i, j, linea=l)\n",
    "# Diccionario con las posiciones de los nodos        \n",
    "pos = {1:(-5,6),2:(-2,10),3:(4,10),4:(1,6),\n",
    "       5:(-2,0),6:(1,2),7:(7,6),8:(4,0)}\n",
    "plt.figure(figsize=(8,5))\n",
    "nx.draw_networkx(G, pos, node_size=500,\n",
    "                       alpha=1, edgecolors = 'black',\n",
    "                       node_color='white', edgelist=[],\n",
    "                       font_size=10)\n",
    "ax = plt.gca()\n",
    "colores = ['w', 'b', 'r', 'g', 'lime', 'm', 'c', 'saddlebrown', 'indigo', 'orange', 'gray']\n",
    "# LMT : usar la línea como índice de color\n",
    "lin = nx.get_edge_attributes(G,'linea')\n",
    "for e in G.edges:\n",
    "    # recuperamos la línea del arco, para usarla como color\n",
    "    ax.annotate(\"\",\n",
    "                xy=pos[e[1]], xycoords='data',\n",
    "                xytext=pos[e[0]], textcoords='data',\n",
    "                arrowprops=dict(arrowstyle=\"->\", color=colores[lin[e]],\n",
    "                                shrinkA=12, shrinkB=12,\n",
    "                                patchA=None, patchB=None,\n",
    "                                connectionstyle=\"arc3,rad=rrr\".replace('rrr',str(0.2*e[2])\n",
    "                                ),\n",
    "                                ),\n",
    "                )\n",
    "plt.axis('off')   \n",
    "plt.show()"
   ]
  },
  {
   "cell_type": "markdown",
   "id": "bd1c5d22",
   "metadata": {},
   "source": [
    "Se tienen 10 líneas, con los siguientes recorridos:\n",
    "\n",
    "* La línea 1 de color azul que recorre las paradas 1,2,3,7,8;\n",
    "* La línea 2 de color rojo que recorre las paradas 1,4,8;\n",
    "* La línea 3 de color verde que recorre las paradas 8,6,5,1;\n",
    "* La línea 4 de color verde claro que recorre las paradas 4,3,7,8;\n",
    "* La línea 5 de color fucsia que recorre las paradas 2,4,8,5,1;\n",
    "* La línea 6 de color celeste que recorre las paradas 8,6,4,5,1;\n",
    "* La línea 7 de color café que recorre las paradas 1,2,3,4;\n",
    "* La línea 8 de color morado que recore las paradas 6,4,3,7,8;\n",
    "* La línea 9 de color amarillo que recorre las paradas 1,4,7;y,\n",
    "* La línea 10 de color plomo que recorre las paradas 5,4,7,8."
   ]
  },
  {
   "cell_type": "markdown",
   "id": "a5ccaa81",
   "metadata": {},
   "source": [
    "Con los datos anteriores contruiremos el modelo de programación lineal entera. Empezamos por definir el objeto modelo y las variables de decisión binarias:"
   ]
  },
  {
   "cell_type": "code",
   "execution_count": null,
   "id": "3fdce12a",
   "metadata": {},
   "outputs": [],
   "source": [
    "m = gp.Model('planificacion-lineas')\n",
    "\n",
    "x = m.addVars(L, F, vtype = GRB.BINARY, name=\"x\")"
   ]
  },
  {
   "cell_type": "markdown",
   "id": "dd61ebe3",
   "metadata": {},
   "source": [
    "Construimos ahora la función objetivo:"
   ]
  },
  {
   "cell_type": "code",
   "execution_count": null,
   "id": "d6bc25bf",
   "metadata": {},
   "outputs": [],
   "source": [
    "# minimizar los costos de operación de líneas\n",
    "m.setObjective(x.prod(cost, '*','*'), GRB.MINIMIZE)"
   ]
  },
  {
   "cell_type": "markdown",
   "id": "51f5763c",
   "metadata": {},
   "source": [
    "Implementaremos ahora las restricciones del modelo:\n",
    "\n",
    "1. Para cada arco $(i,j) \\in A$, la suma de las frecuencias de las líneas que pasan por $(i,j)$ debe estar entre $f_{ij}^{\\min}$ y $f_{ij}^{\\max}$:"
   ]
  },
  {
   "cell_type": "code",
   "execution_count": null,
   "id": "d5434897",
   "metadata": {},
   "outputs": [],
   "source": [
    "# Frecuencia mínima por arco\n",
    "m.addConstrs(((gp.quicksum([f*x[l,f] for l in La[i,j]for f in F ]) \n",
    "                         >= fmin[i,j]) for (i,j) in A), \"freq_min\")\n",
    "\n",
    "# Frecuencia máxima por arco\n",
    "m.addConstrs(((gp.quicksum([f*x[l,f] for l in La[i,j]for f in F ]) \n",
    "                         <= fmax[i,j]) for (i,j) in A), \"freq_max\")"
   ]
  },
  {
   "cell_type": "markdown",
   "id": "b3340f74",
   "metadata": {},
   "source": [
    "2. Para cada una de las líneas, debe seleccionarse a lo más una frecuencia."
   ]
  },
  {
   "cell_type": "code",
   "execution_count": null,
   "id": "e142540e",
   "metadata": {},
   "outputs": [],
   "source": [
    "m.addConstrs((x.sum(l,'*')<=1 for l in L), \"freq_por_linea\")"
   ]
  },
  {
   "cell_type": "markdown",
   "id": "761d2434",
   "metadata": {},
   "source": [
    "Exportamos el modelo a un archivo en formato `lp`:"
   ]
  },
  {
   "cell_type": "code",
   "execution_count": null,
   "id": "56d0465e",
   "metadata": {},
   "outputs": [],
   "source": [
    "m.write(\"modelo_planif_lineas.lp\")"
   ]
  },
  {
   "cell_type": "markdown",
   "id": "b00c6381",
   "metadata": {},
   "source": [
    "Finalmente, resolvemos el modelo:"
   ]
  },
  {
   "cell_type": "code",
   "execution_count": null,
   "id": "48802196",
   "metadata": {},
   "outputs": [],
   "source": [
    "# Calcular la solución óptima\n",
    "m.optimize()"
   ]
  },
  {
   "cell_type": "markdown",
   "id": "7bf9f702",
   "metadata": {},
   "source": [
    "Mostramos a continuación la solución encontrada:"
   ]
  },
  {
   "cell_type": "code",
   "execution_count": null,
   "id": "9830dc41",
   "metadata": {},
   "outputs": [],
   "source": [
    "for l in L:\n",
    "    for f in F:\n",
    "        if x[l, f].x >= 0.99:\n",
    "            print(\"La línea {} se opera con frecuencia {}, costo {}.\".format(l, f, cost[l,f]))\n",
    "\n",
    "print('El costo total de operación de las líneas seleccionadas es: {}'.format(m.objVal))           "
   ]
  },
  {
   "cell_type": "markdown",
   "id": "e4f39900",
   "metadata": {},
   "source": [
    "También es de interés mostrar el acumulado de las frecuencias de las líneas seleccionadas sobre cada arco de la red: "
   ]
  },
  {
   "cell_type": "code",
   "execution_count": null,
   "id": "d2763646",
   "metadata": {
    "scrolled": true
   },
   "outputs": [],
   "source": [
    "# Diccionario de frecuencias asignadas a cada línea en la solución\n",
    "Fsol={l : f for l in L for f in F if x[l, f].x >= 0.99}\n",
    "\n",
    "# Diccionario con las frecuencias acumuladas sobre cada arco\n",
    "Farco = {(i,j) : sum(Fsol[l] for l in La[i,j] if l in Fsol.keys()) for i,j in A}\n",
    "\n",
    "for (i,j) in A:\n",
    "    print('({},{}): min= {}; sol= {}; max= {}'.format(i,j,fmin[i,j], Farco[i,j], fmax[i,j]))\n",
    "               "
   ]
  },
  {
   "cell_type": "markdown",
   "id": "790a35cc",
   "metadata": {},
   "source": [
    "Por último, pueden graficarse las líneas seleccionadas empleando las bibliotecas `networkx` y `matplotlib`:"
   ]
  },
  {
   "cell_type": "code",
   "execution_count": null,
   "id": "3d111ef8",
   "metadata": {},
   "outputs": [],
   "source": [
    "import networkx as nx\n",
    "import matplotlib.pyplot as plt\n",
    "import matplotlib as mp\n",
    "G = nx.MultiDiGraph() \n",
    "G.add_nodes_from(list(V))\n",
    "# Iteramos sobre todas las líneas:\n",
    "for l in Fsol.keys():\n",
    "    # y sobre todos los arcos de cada línea\n",
    "    for (i,j) in L[l]:\n",
    "        # agregamos cada arco al multigrafo, registrando su linea como propiedad\n",
    "        G.add_edge(i, j, linea=l)\n",
    "\n",
    "pos = {1:(-5,6),2:(-2,10),3:(4,10),4:(1,6),\n",
    "       5:(-2,0),6:(1,2),7:(7,6),8:(4,0)}\n",
    "plt.figure(figsize=(8,5))\n",
    "nx.draw_networkx(G, pos, node_size=500,\n",
    "                       alpha=1, edgecolors = 'black',\n",
    "                       node_color='white', edgelist=[],\n",
    "                       font_size=10)\n",
    "ax = plt.gca()\n",
    "colores = ['w', 'b', 'r', 'g', 'lime', 'm', 'c', 'saddlebrown', 'indigo', 'orange', 'gray']\n",
    "lin = nx.get_edge_attributes(G,'linea')\n",
    "for e in G.edges:\n",
    "    # recuperamos la linea del arco, para usarla como color\n",
    "    ax.annotate(\"\",\n",
    "                xy=pos[e[1]], xycoords='data',\n",
    "                xytext=pos[e[0]], textcoords='data',\n",
    "                arrowprops=dict(arrowstyle=\"->\", color=colores[lin[e]],\n",
    "                                shrinkA=14, shrinkB=14,\n",
    "                                patchA=None, patchB=None,\n",
    "                                connectionstyle=\"arc3,rad=rrr\".replace('rrr',str(0.2*e[2])\n",
    "                                ),\n",
    "                                ),\n",
    "                )\n",
    "plt.axis('off')   \n",
    "plt.show()"
   ]
  },
  {
   "cell_type": "code",
   "execution_count": null,
   "id": "e9eae272",
   "metadata": {},
   "outputs": [],
   "source": []
  }
 ],
 "metadata": {
  "kernelspec": {
   "display_name": "Python 3 (ipykernel)",
   "language": "python",
   "name": "python3"
  },
  "language_info": {
   "codemirror_mode": {
    "name": "ipython",
    "version": 3
   },
   "file_extension": ".py",
   "mimetype": "text/x-python",
   "name": "python",
   "nbconvert_exporter": "python",
   "pygments_lexer": "ipython3",
   "version": "3.8.10"
  }
 },
 "nbformat": 4,
 "nbformat_minor": 5
}
