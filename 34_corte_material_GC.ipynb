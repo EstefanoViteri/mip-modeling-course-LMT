{
 "cells": [
  {
   "cell_type": "markdown",
   "metadata": {},
   "source": [
    "# Cuaderno 34: Algoritmo de generación de columnas\n",
    "## Otro modelo para el problema de corte de material (Cutting Stock Problem)\n",
    "\n",
    "$\\newcommand{\\card}[1]{\\left| #1 \\right|}$\n",
    "$\\newcommand{\\tabulatedset}[1]{\\left\\{ #1 \\right\\}}$\n",
    "$\\newcommand{\\ZZ}{\\mathbb{Z}}$\n",
    "$\\newcommand{\\RR}{\\mathbb{R}}$\n",
    "$\\newcommand{\\S}{\\mathcal{S}}$\n",
    "\n",
    "\n",
    "Dados: \n",
    "* un conjunto de rollos, cada uno de longitud $L$; y,\n",
    "* $m$ órdenes de corte, cada una de las cuales consiste en cortar de los rollos disponibles $b_i$ items de longitud $w_i$, con $w_i < L$, $i \\in \\{1, \\ldots, m\\}$.\n",
    "\n",
    "El problema del corte de material (*Cutting Stock Problem*) consiste en determinar la manera de satisfacer todas las órdenes de corte empleando la menor cantidad posible de rollos. Consideraremos a continuación una formulación para este problema distinta a la formulación del Cuaderno 31.\n",
    "\n",
    "Definimos un *patrón de corte* como una manera posible de cortar uno o más items de la longitud requerida por las órdenes a partir de *un* rollo de longitud $L$. Notar que un patrón de corte puede ser representado como un vector $s$ de $m$ componentes enteras que además satisface $\\sum_{i=1}^m w_i s_i \\leq L$. Es decir, el conjunto de todos los posibles patrones de corte está dado por:\n",
    "$$\n",
    "\\S :=  \\left\\{ s \\in \\ZZ^m_+ \\; : \\; \\sum_{i=1}^m w_i s_i \\leq L \\right\\}.\n",
    "$$\n",
    "\n",
    "Definiendo una variable entera $x_s$ que indique el número de veces que se usa cada patrón de corte $s \\in S$ en la solución, el problema de corte de material puede formularse como el siguiente programa lineal entero:\n",
    "\\begin{align*}\n",
    "\\min &\\sum_{s \\in \\S} x_s\\\\ \n",
    "& \\mbox{s.r.}\\\\\n",
    "&\\sum_{s \\in \\S} s_i x_s  \\geq b_i, \\quad \\forall i \\in \\{1, \\ldots, m\\},\\\\\n",
    "& x_s \\in \\ZZ, \\quad \\forall s \\in \\S.\n",
    "\\end{align*}\n",
    "\n",
    "Llamaremos *problema master (PM)* al modelo anterior. Generalmente, este programa lineal entero tiene un número astronómico de variables, pues la cantidad de posibles patrones de corte crece exponencialmente como función de $m$. Problemas de este tipo pueden resolverse empleando una técnica conocida como **generación de columnas**.\n",
    "\n",
    "Definimos al *problema master reducido (PMR)* como el modelo anterior, pero restringido a utilizar únicamente un subconjunto $\\S' \\subset \\S$ de patrones de corte disponibles. Inicialmente, $\\S'$ puede contener, por ejemplo, solamente *patrones homogéneos* que cortan un rollo en la mayor cantidad posible de items de la misma longitud (notar que esta cantidad es igual a $\\lfloor \\frac{L}{w_i} \\rfloor$, para $i \\in \\{1, \\ldots, m\\}$). Llamando $s^1, \\ldots, s^m$ a estos patrones homogéneos, inicialmente PMR tiene la forma:\n",
    "\\begin{align*}\n",
    "\\min &\\sum_{i = 1}^m x_{s^i}\\\\ \n",
    "& \\mbox{s.r.}\\\\\n",
    "& \\lfloor \\frac{L}{w_i} \\rfloor x_{s^i}  \\geq b_i, \\quad \\forall i \\in \\{1, \\ldots, m\\},\\\\\n",
    "& x_{s^i} \\in \\ZZ, \\quad \\forall i \\in \\{1, \\ldots, m\\}.\n",
    "\\end{align*}\n",
    "\n",
    "\n",
    "El algoritmo de generación de columnas empieza por resolver la relajación lineal de PMR. Luego se resuelve el siguiente problema de costeo (PRICING): Determinar si existe algún patrón en $\\S \\setminus \\S'$ tal que el costo reducido de la variable correspondiente en la relajación lineal de PM, respecto a los precios sombra dados por la solución del problema dual de PMR, sea estrictamente negativo. De ser así, se añade este nuevo patrón como una variable adicional a PMR y se repite el proceso. Caso contrario, la solución óptima de la relajación lineal de PMR es también una solución óptima de la relajación lineal de PM y la fase de generación de columnas termina. Finalmente, el modelo PMR se resuelve como un problema lineal entero. \n",
    "\n",
    "El algoritmo de generación de columnas permite encontrar la solución óptima de la relajación lineal de PM, aunque no necesariamente la solución óptima entera. Para resolver PM hasta la optimalidad, sería necesario aplicar una nueva fase de generación de columnas en cada nodo del árbol de branch-and-bound. Este nuevo algoritmo se conoce como *Branch-and-Price* y su uso está limitado por su gran complejidad computacional. \n",
    "\n",
    "Para el caso del problema del corte de material, sin embargo, el algoritmo (simple) de generación de columna permite obtener soluciones con brechas de optimalidad muy pequeñas.\n",
    "\n",
    "Implementaremos a continuación el algoritmo de generación de columnas para resolver PM utilizando la interfaz Python del solver Gurobi.\n"
   ]
  },
  {
   "cell_type": "markdown",
   "metadata": {},
   "source": [
    "Definimos primero los datos, al igual que en el Cuaderno 31. Generaremos $m$ órdenes de corte, consistentes en cortar items de longitud entera aleatoria entre 1 y 9. La cantidad de items a cortar de cada tipo estará dada por un número aleatorio entre 10 y 50. La longitud de los rollos será $L := 10$."
   ]
  },
  {
   "cell_type": "code",
   "execution_count": null,
   "metadata": {},
   "outputs": [],
   "source": [
    "import gurobipy as gp\n",
    "from gurobipy import GRB\n",
    "import random as rm\n",
    "import math\n",
    "\n",
    "# iniciar generador de numeros aleatorios\n",
    "rm.seed(0)\n",
    "\n",
    "# número de órdenes\n",
    "m = 100\n",
    "\n",
    "# lista con los índices de las órdenes,\n",
    "# diccionarios con las longitudes y demandas de cada item\n",
    "I, w, b = gp.multidict({\n",
    "    i : (rm.randint(1, 9), rm.randint(10, 50)) \n",
    "        for i in range(1, m+1)}\n",
    ")\n",
    "    \n",
    "L = 10\n",
    "\n",
    "# número de columnas (variables) iniciales en el modelo\n",
    "K = len(I)\n",
    "\n",
    "print('w = {}'.format(w))\n",
    "print('---')\n",
    "print('b = {}'.format(b))\n"
   ]
  },
  {
   "cell_type": "markdown",
   "metadata": {},
   "source": [
    "Definimos ahora el modelo reducido inicial PMR, sus variables y su función objetivo. Este modelo contiene únicamente patrones homogéneos que cortan rollos en items de la misma longitud. Como nos interesa resolver únicamente la relajación lineal del problema, fijaremos el tipo `GRB.CONTINUOUS` para las variables.\n"
   ]
  },
  {
   "cell_type": "code",
   "execution_count": null,
   "metadata": {},
   "outputs": [],
   "source": [
    "# Crear el objeto modelo para el problema master reducido PMR\n",
    "pmr = gp.Model('cutting-stock')\n",
    "\n",
    "# Crear las variables asociadas a patrones homogéneos\n",
    "x = pmr.addVars(I, name=\"x\", vtype=GRB.CONTINUOUS)\n",
    "\n",
    "# Crear la función objetivo\n",
    "pmr.setObjective(x.sum('*'), GRB.MINIMIZE)\n"
   ]
  },
  {
   "cell_type": "markdown",
   "metadata": {},
   "source": [
    "Añadimos las restricciones de satisfacción de la demanda. "
   ]
  },
  {
   "cell_type": "code",
   "execution_count": null,
   "metadata": {},
   "outputs": [],
   "source": [
    "# Restricciones de demanda\n",
    "r = pmr.addConstrs((int(L/w[i])*x[i] >= b[i] for i in I), \"r\");"
   ]
  },
  {
   "cell_type": "markdown",
   "metadata": {},
   "source": [
    "Resolvemos ahora el modelo reducido."
   ]
  },
  {
   "cell_type": "code",
   "execution_count": null,
   "metadata": {},
   "outputs": [],
   "source": [
    "# Resolvemos pmr\n",
    "pmr.optimize()"
   ]
  },
  {
   "cell_type": "markdown",
   "metadata": {},
   "source": [
    "### Resolviendo el problema de costeo (PRICING)\n",
    "\n",
    "El problema de costeo consiste en encontrar, o determinar que no existe, un nuevo patrón de corte $s \\in \\S$, tal que la variable correspondiente en la relajación lineal de PM tenga costo reducido negativo, con respecto a los valores $\\pi_1, \\ldots, \\pi_m$ de las variables duales de la solución óptima de la relajación lineal de PMR encontrada en el paso anterior.\n",
    "\n",
    "Suponer que este patrón de corte tiene la forma $s:= (s_1, \\ldots, s_m)$, con $s_i$ enteros no negativos tales que $\\sum_{i=1}^m w_i s_i \\leq L$. El costo reducido de la variable $x_s$ asociada a este patrón es:\n",
    "$$\n",
    "\\tilde{c}_s := c_s - \\sum_{i = 1}^m \\pi_i s_i,\n",
    "$$\n",
    "donde $c_s = 1$ es el coeficiente de $x_s$ en la función objetivo de PM. Observar que $\\tilde{c}_s < 0$ si y solamente si $\\sum_{i = 1}^m \\pi_i s_i > 1$.\n",
    "\n",
    "Por lo tanto, el problema de costeo puede reducirse a la solución del siguiente problema de la mochila (*knapsack problem*):\n",
    "\\begin{align*}\n",
    "\\max &\\sum_{i = 1}^m \\pi_i s_i\\\\ \n",
    "& \\mbox{s.r.}\\\\\n",
    "&\\sum_{i=1}^m w_i s_i \\leq L,\\\\\n",
    "& s_i \\in \\ZZ_+, \\quad \\forall i \\in \\{1, \\ldots, m\\}.\n",
    "\\end{align*}\n",
    "\n",
    "Si la solución óptima de este problema tiene un valor mayor a uno, la misma está asociada a un nuevo patrón de costo reducido negativo. Caso contrario, se demuestra que no existen más patrones con costo reducido negativo y que por tanto la solución óptima de la relajación lineal de PMR es también solución óptima de la relajación lineal de PM.\n",
    "\n",
    "Para resolver este problema de la mochila, empezamos por recuperar los valores de $\\pi_1, \\ldots, \\pi_m$ asociados a la solución dual del modelo `pm`. Esto se consigue accediendo al atributo `Pi` de cada restricción lineal, a través del método `getAttr` de la clase `Model`. Recordar que las restricciones del modelo fueron almacenadas en el diccionario\n"
   ]
  },
  {
   "cell_type": "code",
   "execution_count": null,
   "metadata": {},
   "outputs": [],
   "source": [
    "# Recuperamos los valores de la solución dual del problema master reducido\n",
    "pi = pmr.getAttr('Pi', r)\n",
    "\n",
    "print(u'\\u03c0 = {}'.format(pi))"
   ]
  },
  {
   "cell_type": "markdown",
   "metadata": {},
   "source": [
    "Construimos ahora el modelo del problema de la mochila, empleando los valores de `pi`, `w` y `L`:"
   ]
  },
  {
   "cell_type": "code",
   "execution_count": null,
   "metadata": {},
   "outputs": [],
   "source": [
    "# Crear un objeto modelo auxiliar para el subproblema del pricing (problema de la mochila)\n",
    "sp = gp.Model('knapsack')\n",
    "\n",
    "# Crear las variables del problema de la mochila\n",
    "s = sp.addVars(I, name=\"s\", vtype=GRB.INTEGER)\n",
    "\n",
    "# Crear la funcion objetivo\n",
    "sp.setObjective(s.prod(pi, '*'), GRB.MAXIMIZE)\n",
    "\n",
    "# Agregar la restriccion \n",
    "sp.addConstr(s.prod(w, '*') <= L, 'capacidad')\n",
    "\n",
    "sp.update()"
   ]
  },
  {
   "cell_type": "markdown",
   "metadata": {},
   "source": [
    "Resolvemos el problema de la mochila y verificamos si la solución óptima tiene un valor mayor a 1."
   ]
  },
  {
   "cell_type": "code",
   "execution_count": null,
   "metadata": {},
   "outputs": [],
   "source": [
    "# Resolver modelo de pricing (problema de la mochila)\n",
    "sp.optimize()\n",
    "\n",
    "# Mostrar la solución encontrada:\n",
    "print('Solución óptima:')\n",
    "for i in I:\n",
    "    if s[i].x > 0.1:\n",
    "        print('s[{}]: {}'.format(i, s[i].x))\n",
    "print('Valor: {}'.format(sp.ObjVal))"
   ]
  },
  {
   "cell_type": "markdown",
   "metadata": {},
   "source": [
    "Como el valor de la función objetivo es mayor a 1, agregamos una nueva variable al modelo PM, asociada al nuevo patrón encontrado. \n",
    "\n",
    "Para ello, construimos en primer lugar un objeto de tipo `Column` que almacenará la columna correspondiente a esta nueva variable. Los coeficientes (no nulos) de la columna se definen llamando al método `addTerms`. Finalmente, se llama a `addVar` para agregar al modelo una nueva variable asociada a esta columna y con coeficiente igual a 1 en la función objetivo."
   ]
  },
  {
   "cell_type": "code",
   "execution_count": null,
   "metadata": {},
   "outputs": [],
   "source": [
    "# incrementar en 1 el indice maximo de variables\n",
    "K+= 1\n",
    "\n",
    "# crear un objeto columna\n",
    "col = gp.Column()\n",
    "\n",
    "# definir los coeficientes de la columna usando la solucion del modelo del knapsack\n",
    "vs = sp.getAttr('x', s)\n",
    "for i in I:\n",
    "    if vs[i] > 0.1:\n",
    "        col.addTerms(round(vs[i]), r[i])\n",
    "\n",
    "# agregar al programa master reducido una nueva variable asociada a esta columna\n",
    "x[K] = pmr.addVar(name=\"x[{}]\".format(K), vtype=GRB.CONTINUOUS, obj=1, column= col)"
   ]
  },
  {
   "cell_type": "markdown",
   "metadata": {},
   "source": [
    "Repetimos el procedimiento de generación de columnas mientras el subproblema de costeo tenga una solución óptima con valor mayor a 1. Para desactivar los mensajes a la pantalla durante la solución de los modelos, fijamos a cero el valor del parámetro `OutputFlag` en ambos modelos"
   ]
  },
  {
   "cell_type": "code",
   "execution_count": null,
   "metadata": {},
   "outputs": [],
   "source": [
    "# desactivar mensajes de salida del modelo pmr\n",
    "pmr.Params.OutputFlag = 0\n",
    "while True:\n",
    "    # 1. Resolver el problema master reducido pmr\n",
    "    pmr.update()\n",
    "    pmr.optimize() \n",
    "        \n",
    "    # 2. Construir y resolver el subproblema de costeo (PRICING)\n",
    "    # Recuperamos la solución dual del problema master\n",
    "    pi = pmr.getAttr('Pi', r)\n",
    "    # Crear un objeto sp para el modelo auxiliar del subproblema de pricing\n",
    "    sp = gp.Model('knapsack')\n",
    "    # desactivar mensajes de salida del modelo sp\n",
    "    sp.Params.OutputFlag = 0\n",
    "    # Crear las variables del problema de la mochila\n",
    "    s = sp.addVars(I, name=\"s\", vtype=GRB.INTEGER)\n",
    "    # Crear la función objetivo\n",
    "    sp.setObjective(s.prod(pi, '*'), GRB.MAXIMIZE)\n",
    "    # Agregar la restricción de la mochila\n",
    "    sp.addConstr(s.prod(w, '*') <= L, 'capacidad')\n",
    "    # Resolver modelo del subproblema\n",
    "    sp.optimize()\n",
    "    \n",
    "    # 3. Si el valor óptimo de la funcion objetivo del subproblema no supera 1, terminar la generación de columnas\n",
    "    if sp.ObjVal < 1.0 + 1e-4:\n",
    "        print('Valor óptimo del último subproblema: {:.5}'.format(sp.ObjVal))\n",
    "        break\n",
    "        \n",
    "    # 4. Agregar la nueva columna al problema\n",
    "    # incrementar en 1 el número de variables\n",
    "    K+= 1\n",
    "\n",
    "    # crear un objeto columna\n",
    "    col = gp.Column()\n",
    "\n",
    "    # definir los coeficientes de la columna usando la solución del supbroblema\n",
    "    vs = sp.getAttr('x', s)\n",
    "    for i in I:\n",
    "        if vs[i] > 0.1:\n",
    "            col.addTerms(round(vs[i]), r[i])\n",
    "\n",
    "    # agregar al modelo principal una nueva variable asociada a esta columna\n",
    "    x[K] = pmr.addVar(name=\"x[{}]\".format(K), vtype=GRB.CONTINUOUS, obj=1, column= col) \n",
    "\n",
    "# la fase de generación de columnas ha terminado\n",
    "print(\"Se generaron {} patrones de corte...\".format(K-m))"
   ]
  },
  {
   "cell_type": "markdown",
   "metadata": {},
   "source": [
    "Una vez terminada la generación de columnas, obtenemos podemos resolver el *programa lineal* `pmr` para obtener una cota inferior válida a la instancia del problema de corte de material:"
   ]
  },
  {
   "cell_type": "code",
   "execution_count": null,
   "metadata": {},
   "outputs": [],
   "source": [
    "pmr.Params.OutputFlag = 1\n",
    "pmr.optimize()\n",
    "\n",
    "cota_gencol = pmr.ObjVal"
   ]
  },
  {
   "cell_type": "markdown",
   "metadata": {},
   "source": [
    "Notar que esta cota es muy ajustada: coincide con la mejor solución factible que habíamos encontrado con el modelo alternativo presentado en el Cuaderno 33.\n",
    "\n",
    "Para encontrar una solución factible, resolvemos el modelo del problema master como un programa entero. Para ello, cambiamos el atributo `vtype` de cada variable al valor `GRB.INTEGER`. \n",
    "\n",
    "Para acceder a cada una de las variables del modelo, podemos iterar sobre los valores del diccionario `x`, o emplear el método `getVars()` de la clase `Model`."
   ]
  },
  {
   "cell_type": "code",
   "execution_count": null,
   "metadata": {},
   "outputs": [],
   "source": [
    "for v in pmr.getVars():\n",
    "    v.vtype = GRB.INTEGER\n",
    "    \n",
    "### Esta es una forma alternativa de hacer lo mismo iterando sobre el diccionario x\n",
    "# for v in x.values():\n",
    "#     v.vtype = GRB.INTEGER    "
   ]
  },
  {
   "cell_type": "markdown",
   "metadata": {},
   "source": [
    "Antes de resolver el modelo, fijamos un límite para el tiempo de cálculo y una tolerancia para la brecha de optimalidad:"
   ]
  },
  {
   "cell_type": "code",
   "execution_count": null,
   "metadata": {},
   "outputs": [],
   "source": [
    "# Terminar luego de 180 segundos\n",
    "pmr.Params.TimeLimit = 180\n",
    "\n",
    "# Activar nuevamente los mensajes de salida\n",
    "pmr.Params.OutputFlag = 1\n",
    "\n",
    "# Resolver el problema principal\n",
    "pmr.optimize()"
   ]
  },
  {
   "cell_type": "markdown",
   "metadata": {},
   "source": [
    "Recordar que la solución óptima entera del modelo reducido en general **no es una solución óptima** del problema original, pues hay patrones de corte faltantes. Su brecha de optimalidad debe determinarse al compararla con la cota inferior válida obtenida de la generación de columnas.\n",
    "\n",
    "Escribir esta solución:"
   ]
  },
  {
   "cell_type": "code",
   "execution_count": null,
   "metadata": {},
   "outputs": [],
   "source": [
    "# escribir valores de la solución encontrada\n",
    "print('Cota generación de columnas: {}'.format(cota_gencol))\n",
    "print('Mejor solución factible encontrada: {}'.format(pmr.ObjVal))\n",
    "print('Gap: {:.4f}%'.format((pmr.ObjVal-cota_gencol)*100/pmr.ObjVal))\n",
    "print('---\\n')\n",
    "\n",
    "# Mostrar solución\n",
    "# recuperar variables cuyo valor sea mayor a cero:\n",
    "for v in pmr.getVars():\n",
    "    if v.getAttr('X') > 0.1:\n",
    "        # recuperar la columna asociada a cada variable\n",
    "        col = pmr.getCol(v)\n",
    "        # decodificar el patron correspondiente a col\n",
    "        L = []\n",
    "        for i in range(col.size()):\n",
    "            L.append((int(col.getCoeff(i)), col.getConstr(i).ConstrName))\n",
    "        S = ['{:2}x{} '.format(k, r) for k,r in L]\n",
    "        print ('{:2}: [{}]'.format(int(v.getAttr('X')), ''.join(S)))\n"
   ]
  },
  {
   "cell_type": "markdown",
   "metadata": {},
   "source": [
    "## Código completo\n",
    "\n",
    "Se reproduce a continuación el código completo del modelo anterior. Notar que no es necesario generar la primera columna \"por separado\" como lo hicimos arriba, con el propósito de explicar mejor el algoritmo."
   ]
  },
  {
   "cell_type": "code",
   "execution_count": null,
   "metadata": {},
   "outputs": [],
   "source": [
    "# Implementación de programas lineales enteros\n",
    "# Problema del corte de material (Cutting-Stock)\n",
    "# Implementación con generación de columnas\n",
    "\n",
    "# Luis M. Torres (EPN 2023)\n",
    "\n",
    "import gurobipy as gp\n",
    "from gurobipy import GRB\n",
    "import random as rm\n",
    "import math\n",
    "\n",
    "# iniciar generador de numeros aleatorios\n",
    "rm.seed(0)\n",
    "\n",
    "# número de órdenes\n",
    "m = 100\n",
    "\n",
    "# lista con los índices de las órdenes,\n",
    "# diccionarios con las longitudes y demandas de cada item\n",
    "I, w, b = gp.multidict({\n",
    "    i : (rm.randint(1, 9), rm.randint(10, 50)) \n",
    "        for i in range(1, m+1)}\n",
    ")\n",
    "    \n",
    "L = 10\n",
    "\n",
    "# número de columnas (variables) iniciales en el modelo\n",
    "K = len(I)\n",
    "\n",
    "try:    \n",
    "    # Crear el objeto modelo para el problema master reducido PMR\n",
    "    pmr = gp.Model('cutting-stock')\n",
    "\n",
    "    # Crear las variables asociadas a patrones homogéneos\n",
    "    x = pmr.addVars(I, name=\"x\", vtype=GRB.CONTINUOUS)\n",
    "\n",
    "    # Crear la función objetivo\n",
    "    pmr.setObjective(x.sum('*'), GRB.MINIMIZE)\n",
    "\n",
    "    # Restricciones de demanda\n",
    "    r = pmr.addConstrs((int(L/w[i])*x[i] >= b[i] for i in I), \"r\");\n",
    "\n",
    "    # desactivar mensajes de salida del modelo pmr\n",
    "    pmr.Params.OutputFlag = 0\n",
    "    print('Iniciando generación de columnas...')\n",
    "    while True:\n",
    "        # 1. Resolver el problema master reducido pmr\n",
    "        pmr.optimize() \n",
    "        \n",
    "        # 2. Construir y resolver el subproblema de costeo (PRICING)\n",
    "        # Recuperamos la solución dual del problema master\n",
    "        pi = pmr.getAttr('Pi', r)\n",
    "        # Crear un objeto sp para el modelo auxiliar del subproblema de pricing\n",
    "        sp = gp.Model('knapsack')\n",
    "        # desactivar mensajes de salida del modelo sp\n",
    "        sp.Params.OutputFlag = 0\n",
    "        # Crear las variables del problema de la mochila\n",
    "        s = sp.addVars(I, name=\"s\", vtype=GRB.INTEGER)\n",
    "        # Crear la función objetivo\n",
    "        sp.setObjective(s.prod(pi, '*'), GRB.MAXIMIZE)\n",
    "        # Agregar la restricción de la mochila\n",
    "        sp.addConstr(s.prod(w, '*') <= L, 'capacidad')\n",
    "        # Resolver modelo del subproblema\n",
    "        sp.optimize()\n",
    "    \n",
    "        # 3. Si el valor óptimo de la funcion objetivo del subproblema no supera 1, terminar la generación de columnas\n",
    "        if sp.ObjVal < 1.0 + 1e-4:\n",
    "            break\n",
    "        \n",
    "        # 4. Agregar la nueva columna al problema\n",
    "        # incrementar en 1 el número de variables\n",
    "        K+= 1\n",
    "\n",
    "        # crear un objeto columna\n",
    "        col = gp.Column()\n",
    "\n",
    "        # definir los coeficientes de la columna usando la solución del supbroblema\n",
    "        vs = sp.getAttr('x', s)\n",
    "        for i in I:\n",
    "            if vs[i] > 0.1:\n",
    "                col.addTerms(round(vs[i]), r[i])\n",
    "\n",
    "        # agregar al modelo principal una nueva variable asociada a esta columna\n",
    "        x[K] = pmr.addVar(name=\"x[{}]\".format(K), vtype=GRB.CONTINUOUS, obj=1, column= col) \n",
    "\n",
    "    # la fase de generación de columnas ha terminado\n",
    "    print(\"Se generaron {} patrones de corte...\".format(K-m))    # fijar parametros del modelo principal\n",
    "\n",
    "    # recuperar cota inferior de la GC\n",
    "    pmr.optimize()\n",
    "    cota_gencol = pmr.ObjVal\n",
    "    print('Cota generación de columnas: {}'.format(cota_gencol))\n",
    "    \n",
    "    for v in pmr.getVars():\n",
    "        v.vtype = GRB.INTEGER\n",
    "\n",
    "    # Terminar luego de 240 segundos\n",
    "    pmr.Params.TimeLimit = 240\n",
    "\n",
    "    # Terminar al alcanzar un Gap del 0.1%\n",
    "    # pmr.Params.MIPGap = 0.001\n",
    "\n",
    "    # Activar nuevamente los mensajes de salida\n",
    "    pmr.Params.OutputFlag = 1\n",
    "\n",
    "    # Resolver el problema principal\n",
    "    pmr.optimize()\n",
    "\n",
    "    # escribir valores de la solución encontrada\n",
    "    print('\\n*** Resumen resultados')\n",
    "    print('Cota generación de columnas: {}'.format(cota_gencol))\n",
    "    print('Mejor solución factible encontrada: {}'.format(pmr.ObjVal))\n",
    "    print('Gap: {:.4f}%'.format((pmr.ObjVal-cota_gencol)*100/pmr.ObjVal))\n",
    "    print('---\\n')\n",
    "\n",
    "    # escribir la solución\n",
    "    if pmr.SolCount > 0 :\n",
    "        # recuperar variables cuyo valor sea mayor a cero:\n",
    "        print('Patrones de corte en la solución:')\n",
    "        for v in pmr.getVars():\n",
    "            if v.getAttr('X') > 0.1:\n",
    "                # recuperar la columna asociada a cada variable\n",
    "                col = pmr.getCol(v)\n",
    "                # decodificar el patron correspondiente a col\n",
    "                L = []\n",
    "                for i in range(col.size()):\n",
    "                    L.append((int(col.getCoeff(i)), col.getConstr(i).ConstrName))\n",
    "                S = ['{:2}x{} '.format(k, r) for k,r in L]\n",
    "                print ('{:2}: [{}]'.format(int(v.getAttr('X')), ''.join(S)))\n",
    "        \n",
    "except GurobiError as e:\n",
    "    print('Se produjo un error de Gurobi: codigo: ' + str(e.errno) + \": \" + str(e))\n",
    "\n",
    "except AttributeError:\n",
    "    print('Se produjo un error de atributo')"
   ]
  },
  {
   "cell_type": "code",
   "execution_count": null,
   "metadata": {},
   "outputs": [],
   "source": []
  }
 ],
 "metadata": {
  "kernelspec": {
   "display_name": "Python 3 (ipykernel)",
   "language": "python",
   "name": "python3"
  },
  "language_info": {
   "codemirror_mode": {
    "name": "ipython",
    "version": 3
   },
   "file_extension": ".py",
   "mimetype": "text/x-python",
   "name": "python",
   "nbconvert_exporter": "python",
   "pygments_lexer": "ipython3",
   "version": "3.8.10"
  }
 },
 "nbformat": 4,
 "nbformat_minor": 2
}
