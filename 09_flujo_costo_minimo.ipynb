{
 "cells": [
  {
   "cell_type": "markdown",
   "metadata": {},
   "source": [
    "# Cuaderno 17: Flujo de costo mínimo (mincost flow)\n",
    "\n",
    "$\\newcommand{\\card}[1]{\\left| #1 \\right|}$\n",
    "$\\newcommand{\\tabulatedset}[1]{\\left\\{ #1 \\right\\}}$\n",
    "$\\newcommand{\\ZZ}{\\mathbb{Z}}$\n",
    "$\\newcommand{\\RR}{\\mathbb{R}}$\n",
    "\n",
    "### Observación:\n",
    "Empezaremos a partir de este cuaderno con problemas de optimización sobre grafos dirigidos y no dirigidos. Un grafo dirigido $D=(V,A)$ es un par ordenado que consiste de un conjunto finito de _vértices o nodos_ $V$ y un conjunto $A \\subseteq V \\times V$ de _arcos_.\n",
    "\n",
    "Dados: \n",
    "* un grafo dirigido $D=(V,A)$; \n",
    "* un vector de capacidades $u \\in \\ZZ^{A}_+$  asociadas a los arcos de $D$; \n",
    "* un vector $c \\in \\ZZ^{A}$ de costos de transporte unitarios asociados a los arcos de $D$; y, \n",
    "* un vector $b \\in \\ZZ^{V}$ de demandas asociadas a los nodos de $D$.\n",
    "\n",
    "El *problema de flujo de costo mínimo (mincost flow, MCF)* consiste en encontrar un flujo $x \\in \\RR^{A}_{+}$  que satisfaga las siguientes condiciones:\n",
    "\n",
    "* para cada nodo $i \\in V$, el flujo neto en $i$ (definido como el flujo total sobre los arcos que entran a $i$ menos el flujo total sobre los arcos qe salen de $i$) debe ser igual a la demanda $b_i$ del nodo $i$;  \n",
    "* el flujo sobre cada arco $(i,j) \\in A$ debe ser menor o igual a su capacidad $u_{ij}$;\n",
    "* el costo total del flujo debe ser mínimo. Este costo se calcula al multiplicar el flujo sobre cada arco $(i,j) \\in A$ por su correspondiente costo unitario de transportación $c_{ij}$, y sumar estos valores sobre todos los arcos de la red.\n",
    "\n",
    "Utilizando variables continuas no negativas $x_{ij}$ para representar el flujo sobre el arco $(i, j) \\in A$, el problema de flujo de costo mínimo puede formularse como el siguiente programa lineal entero:\n",
    "\n",
    "\\begin{align*}\n",
    "\\min &\\sum_{(i,j) \\in A} c_{ij} x_{ij}\\\\ \n",
    "& \\mbox{s.r.}\\\\\n",
    "&\\sum_{(j, i) \\in A} x_{ji} - \\sum_{(i, j) \\in A} x_{ij} = b_i, \\quad \\forall i \\in V,\\\\\n",
    "& 0 \\leq x_{ij} \\leq u_{ij}, \\quad \\forall (i, j) \\in A.\n",
    "\\end{align*}\n",
    "\n",
    "\n",
    "Vamos a implementar este modelo usando la interfaz Python de Gurobi.\n",
    "\n"
   ]
  },
  {
   "cell_type": "markdown",
   "metadata": {},
   "source": [
    "Definimos primero los conjuntos y parámetros del modelo:"
   ]
  },
  {
   "cell_type": "code",
   "execution_count": 1,
   "metadata": {},
   "outputs": [],
   "source": [
    "from gurobipy import *\n",
    "\n",
    "# Nodos del grafo\n",
    "V = tuplelist(['a', 'b', 'c', 'd', 'e', 'f'])\n",
    "\n",
    "# Arcos, capacidades y costos unitarios\n",
    "# (i,j) : (u_ij, c_ij)\n",
    "A, u, c = multidict({\n",
    "  ('a', 'b'):   (10, 2),\n",
    "  ('a', 'c'):   ( 5, 1),\n",
    "  ('c', 'b'):   (20, 2),\n",
    "  ('b', 'd'):   (10, 1),\n",
    "  ('c', 'e'):   (40, 4),\n",
    "  ('d', 'c'):   (20, 3),\n",
    "  ('e', 'd'):   (20, 1),\n",
    "  ('e', 'f'):   (15, 3),\n",
    "  ('d', 'f'):   (10, 2)})\n",
    "\n",
    "# Demandas asociadas a nodos \n",
    "b = tupledict({\n",
    "  'a':  -10,\n",
    "  'b':   25,\n",
    "  'c':  -30,\n",
    "  'd':  -15,\n",
    "  'e':   10,\n",
    "  'f':   20})\n"
   ]
  },
  {
   "cell_type": "markdown",
   "metadata": {},
   "source": [
    "Creamos ahora el objeto modelo y las variables de flujo $x_{ij}$. Observar que las variables están indexadas por los conjuntos de arcos.\n",
    "\n",
    "Si no se especifica el argumento `vtype` en la llamada a la función `addVars`, por defecto las variables creadas son continuas y no negativas.\n",
    "\n",
    "Notar cómo el argumento `ub` de la función `addVars` puede usarse para especificar cotas superiores para cada variable. De esta manera, las restricciones de capacidad quedan incluidas ya en la definición de las variables."
   ]
  },
  {
   "cell_type": "code",
   "execution_count": 2,
   "metadata": {},
   "outputs": [
    {
     "name": "stdout",
     "output_type": "stream",
     "text": [
      "Using license file /Users/ltorres/gurobi.lic\n",
      "Academic license - for non-commercial use only\n"
     ]
    }
   ],
   "source": [
    "# Crear el objeto modelo\n",
    "m = Model('mincost-flow')\n",
    "\n",
    "# Crear las variables\n",
    "x = m.addVars(A, name=\"x\", ub=u)"
   ]
  },
  {
   "cell_type": "markdown",
   "metadata": {},
   "source": [
    "Definimos la función objetivo a minimizar:"
   ]
  },
  {
   "cell_type": "code",
   "execution_count": 3,
   "metadata": {},
   "outputs": [],
   "source": [
    "m.setObjective(x.prod(c, '*'), GRB.MINIMIZE)"
   ]
  },
  {
   "cell_type": "markdown",
   "metadata": {},
   "source": [
    "Definimos las restricciones del modelo:"
   ]
  },
  {
   "cell_type": "code",
   "execution_count": 4,
   "metadata": {},
   "outputs": [
    {
     "data": {
      "text/plain": [
       "{'a': <gurobi.Constr *Awaiting Model Update*>,\n",
       " 'b': <gurobi.Constr *Awaiting Model Update*>,\n",
       " 'c': <gurobi.Constr *Awaiting Model Update*>,\n",
       " 'd': <gurobi.Constr *Awaiting Model Update*>,\n",
       " 'e': <gurobi.Constr *Awaiting Model Update*>,\n",
       " 'f': <gurobi.Constr *Awaiting Model Update*>}"
      ]
     },
     "execution_count": 4,
     "metadata": {},
     "output_type": "execute_result"
    }
   ],
   "source": [
    "# Restricciones de demanda en los nodos\n",
    "m.addConstrs(\n",
    "    (x.sum('*',j) - x.sum(j,'*')  == b[j] for j in V), \"demanda\")"
   ]
  },
  {
   "cell_type": "markdown",
   "metadata": {},
   "source": [
    "Finalmente, resolvemos el modelo y mostramos la solución. Notar que los valores de las variables pueden recuperarse también empleando el método `getAttr`:"
   ]
  },
  {
   "cell_type": "code",
   "execution_count": 5,
   "metadata": {},
   "outputs": [
    {
     "name": "stdout",
     "output_type": "stream",
     "text": [
      "Gurobi Optimizer version 9.0.2 build v9.0.2rc0 (mac64)\n",
      "Optimize a model with 6 rows, 9 columns and 18 nonzeros\n",
      "Model fingerprint: 0x6356ebfd\n",
      "Coefficient statistics:\n",
      "  Matrix range     [1e+00, 1e+00]\n",
      "  Objective range  [1e+00, 4e+00]\n",
      "  Bounds range     [5e+00, 4e+01]\n",
      "  RHS range        [1e+01, 3e+01]\n",
      "Presolve removed 2 rows and 2 columns\n",
      "Presolve time: 0.09s\n",
      "Presolved: 4 rows, 7 columns, 14 nonzeros\n",
      "\n",
      "Iteration    Objective       Primal Inf.    Dual Inf.      Time\n",
      "       0    1.8986600e+02   1.007400e+01   0.000000e+00      0s\n",
      "       3    1.9500000e+02   0.000000e+00   0.000000e+00      0s\n",
      "\n",
      "Solved in 3 iterations and 0.14 seconds\n",
      "Optimal objective  1.950000000e+02\n",
      "Flujos optimos:\n",
      "a -> b: 10.0\n",
      "c -> b: 15.0\n",
      "c -> e: 20.0\n",
      "d -> c: 5.0\n",
      "e -> f: 10.0\n",
      "d -> f: 10.0\n"
     ]
    }
   ],
   "source": [
    "# Calcular la solucion optima\n",
    "m.optimize()\n",
    "\n",
    "# Escribir la solucion\n",
    "if m.status == GRB.Status.OPTIMAL:\n",
    "    # Recuperar los valores de las variables\n",
    "    vx = m.getAttr('x', x)\n",
    "    print('Flujos optimos:')\n",
    "    for i,j in A:\n",
    "        if vx[i,j] >= 0.01:\n",
    "            print('{} -> {}: {}'.format(i, j, vx[i,j]))"
   ]
  },
  {
   "cell_type": "markdown",
   "metadata": {},
   "source": [
    "## Bonus extra\n",
    "### Visualizando grafos\n",
    "Existen algunos módulos especializados en Python para trabajar con grafos. Entre ellos están:\n",
    "* `NetworkX`, que contiene estructuras de datos para el trabajo con grafos e implementaciones de algoritmos para la exploración de grafos y la solución de problemas clásicos de optimización; más información [aquí.](https://networkx.github.io/documentation/stable/) \n",
    "* `ipycytoscape`, que contiene funciones para la visualización de grafos; más información [aquí.](https://blog.jupyter.org/interactive-graph-visualization-in-jupyter-with-ipycytoscape-a8828a54ab63)"
   ]
  },
  {
   "cell_type": "markdown",
   "metadata": {},
   "source": [
    "Para instalar `NetworkX` y `ipycytoscape` podemos usar el comando `pip` **desde una terminal** (será necesario reiniciar el kernel de Jupyter después de hacerlo):\n",
    "\n",
    "`pip install networkx`\n",
    "\n",
    "`conda install -c conda-forge ipycytoscape`"
   ]
  },
  {
   "cell_type": "markdown",
   "metadata": {},
   "source": [
    "Combinando los módulos `NetworkX` e `ipycytoscape` podemos visualizar el grafo del ejemplo anterior:"
   ]
  },
  {
   "cell_type": "code",
   "execution_count": 6,
   "metadata": {},
   "outputs": [
    {
     "data": {
      "application/vnd.jupyter.widget-view+json": {
       "model_id": "8311f42f67244673b00c67bec89b72c0",
       "version_major": 2,
       "version_minor": 0
      },
      "text/plain": [
       "CytoscapeWidget(cytoscape_layout={'name': 'cola'}, cytoscape_style=[{'selector': 'node', 'style': {'background…"
      ]
     },
     "metadata": {},
     "output_type": "display_data"
    }
   ],
   "source": [
    "import networkx as nx\n",
    "import ipycytoscape\n",
    "D = nx.DiGraph()\n",
    "D.add_nodes_from(V)\n",
    "for i in V:\n",
    "    D.nodes[i]['demanda']= str(i) + '\\n' + str(b[i])\n",
    "D.add_edges_from(A)\n",
    "for i,j in A:\n",
    "    D.edges[i,j]['cap_costo'] = u[i,j], c[i,j]\n",
    "grafo = ipycytoscape.CytoscapeWidget()\n",
    "grafo.graph.add_graph_from_networkx(D, directed=True)\n",
    "grafo.set_style([{'selector': 'node', 'style' : {'background-color': '#11479e', 'font-family': 'helvetica', 'font-size': '10px', 'color':'white', 'label': 'data(demanda)', 'text-wrap' : 'wrap', 'text-valign' : 'center'}}, \n",
    "                    {'selector': 'node:parent', 'css': {'background-opacity': 0.333}, 'style' : {'font-family': 'helvetica', 'font-size': '10px', 'label': 'data(demanda)'}}, \n",
    "                    {'selector': 'edge', 'style': {'width': 4, 'line-color': '#9dbaea', 'font-size': '10px', 'label': 'data(cap_costo)', 'text-valign' : 'top', 'text-margin-y' : '-10px'}}, \n",
    "                    {'selector': 'edge.directed', 'style': {'curve-style': 'bezier', 'target-arrow-shape': 'triangle', 'target-arrow-color': '#9dbaea'}}])\n",
    "grafo"
   ]
  },
  {
   "cell_type": "markdown",
   "metadata": {},
   "source": [
    "Y también podemos visualizar la solución"
   ]
  },
  {
   "cell_type": "code",
   "execution_count": 7,
   "metadata": {},
   "outputs": [
    {
     "data": {
      "application/vnd.jupyter.widget-view+json": {
       "model_id": "a043afd259a04011aeb9fc5e4079b0e6",
       "version_major": 2,
       "version_minor": 0
      },
      "text/plain": [
       "CytoscapeWidget(cytoscape_layout={'name': 'cola'}, cytoscape_style=[{'selector': 'node', 'style': {'background…"
      ]
     },
     "metadata": {},
     "output_type": "display_data"
    }
   ],
   "source": [
    "D = nx.DiGraph()\n",
    "D.add_nodes_from(V)\n",
    "for i in V:\n",
    "    D.nodes[i]['demanda']= str(i) + '\\n' + str(b[i])\n",
    "D.add_edges_from(A)\n",
    "for i,j in A:\n",
    "    D.edges[i,j]['flujo_cap'] = str(int(vx[i,j])) + '/' + str(u[i,j]) \n",
    "    D.edges[i,j]['color'] =  '#9dbaea' if vx[i,j]<=0.1 else '#ff007f'\n",
    "grafo = ipycytoscape.CytoscapeWidget()\n",
    "grafo.graph.add_graph_from_networkx(D, directed=True)\n",
    "grafo.set_style([{'selector': 'node', 'style' : {'background-color': '#11479e', 'font-family': 'helvetica', 'font-size': '10px', 'color':'white', 'label': 'data(demanda)', 'text-wrap' : 'wrap', 'text-valign' : 'center'}}, \n",
    "                    {'selector': 'node:parent', 'css': {'background-opacity': 0.333}, 'style' : {'font-family': 'helvetica', 'font-size': '10px', 'label': 'data(demanda)'}}, \n",
    "                    {'selector': 'edge', 'style': {'width': 4, 'line-color': 'data(color)', 'font-size': '10px', 'label': 'data(flujo_cap)', 'text-valign' : 'top', 'text-margin-y' : '-10px'}}, \n",
    "                    {'selector': 'edge.directed', 'style': {'curve-style': 'bezier', 'target-arrow-shape': 'triangle', 'target-arrow-color': 'data(color)'}}])\n",
    "grafo"
   ]
  },
  {
   "cell_type": "markdown",
   "metadata": {},
   "source": [
    "## Código completo\n",
    "\n",
    "Se reproduce a continuación el código completo del modelo anterior."
   ]
  },
  {
   "cell_type": "code",
   "execution_count": 19,
   "metadata": {
    "scrolled": true
   },
   "outputs": [
    {
     "name": "stdout",
     "output_type": "stream",
     "text": [
      "Gurobi Optimizer version 9.0.2 build v9.0.2rc0 (mac64)\n",
      "Optimize a model with 6 rows, 9 columns and 18 nonzeros\n",
      "Model fingerprint: 0x6356ebfd\n",
      "Coefficient statistics:\n",
      "  Matrix range     [1e+00, 1e+00]\n",
      "  Objective range  [1e+00, 4e+00]\n",
      "  Bounds range     [5e+00, 4e+01]\n",
      "  RHS range        [1e+01, 3e+01]\n",
      "Presolve removed 2 rows and 2 columns\n",
      "Presolve time: 0.03s\n",
      "Presolved: 4 rows, 7 columns, 14 nonzeros\n",
      "\n",
      "Iteration    Objective       Primal Inf.    Dual Inf.      Time\n",
      "       0    1.8986600e+02   1.007400e+01   0.000000e+00      0s\n",
      "       3    1.9500000e+02   0.000000e+00   0.000000e+00      0s\n",
      "\n",
      "Solved in 3 iterations and 0.04 seconds\n",
      "Optimal objective  1.950000000e+02\n",
      "Flujos optimos:\n",
      "a -> b: 10.0\n",
      "c -> b: 15.0\n",
      "c -> e: 20.0\n",
      "d -> c: 5.0\n",
      "e -> f: 10.0\n",
      "d -> f: 10.0\n"
     ]
    }
   ],
   "source": [
    "# Implementacion de modelos de programacion lineal entera\n",
    "# Problema de flujo de costo minimo (mincost flow)\n",
    "\n",
    "# Luis M. Torres (EPN 2020)\n",
    "\n",
    "from gurobipy import *\n",
    "\n",
    "# Nodos del grafo\n",
    "V = tuplelist(['a', 'b', 'c', 'd', 'e', 'f'])\n",
    "\n",
    "# Arcos, capacidades y costos unitarios\n",
    "A, u, c = multidict({\n",
    "  ('a', 'b'):   (10, 2),\n",
    "  ('a', 'c'):   ( 5, 1),\n",
    "  ('c', 'b'):   (20, 2),\n",
    "  ('b', 'd'):   (10, 1),\n",
    "  ('c', 'e'):   (40, 4),\n",
    "  ('d', 'c'):   (20, 3),\n",
    "  ('e', 'd'):   (20, 1),\n",
    "  ('e', 'f'):   (15, 3),\n",
    "  ('d', 'f'):   (10, 2)})\n",
    "\n",
    "# Demandas asociadas a nodos \n",
    "b = tupledict({\n",
    "  'a':  -10,\n",
    "  'b':   25,\n",
    "  'c':  -30,\n",
    "  'd':  -15,\n",
    "  'e':   10,\n",
    "  'f':   20})\n",
    "\n",
    "try:\n",
    "    # Crear el objeto modelo\n",
    "    m = Model('mincost-flow')\n",
    "\n",
    "    # Crear las variables\n",
    "    x = m.addVars(A, name=\"x\", ub=u)\n",
    "\n",
    "    # Definir la funcion objetivo\n",
    "    m.setObjective(x.prod(c, '*'), GRB.MINIMIZE)\n",
    "\n",
    "    # Restricciones de demenda en los nodos\n",
    "    m.addConstrs(\n",
    "        (x.sum('*',j) - x.sum(j,'*')  == b[j] for j in V), \"demanda\")\n",
    "\n",
    "    # Calcular la solucion optima\n",
    "    m.optimize()\n",
    "\n",
    "    # Escribir la solucion\n",
    "    if m.status == GRB.Status.OPTIMAL:\n",
    "        # Recuperar los valores de las variables\n",
    "        vx = m.getAttr('x', x)\n",
    "        print('Flujos optimos:')\n",
    "        for i,j in A:\n",
    "            if vx[i,j] > 0:\n",
    "                print('{} -> {}: {}'.format(i, j, vx[i,j]))\n",
    "\n",
    "except GurobiError as e:\n",
    "    print('Se produjo un error de Gurobi: codigo: ' + str(e.errno) + \": \" + str(e))\n",
    "\n",
    "except AttributeError:\n",
    "    print('Se produjo un error de atributo')"
   ]
  }
 ],
 "metadata": {
  "kernelspec": {
   "display_name": "Python 3",
   "language": "python",
   "name": "python3"
  },
  "language_info": {
   "codemirror_mode": {
    "name": "ipython",
    "version": 3
   },
   "file_extension": ".py",
   "mimetype": "text/x-python",
   "name": "python",
   "nbconvert_exporter": "python",
   "pygments_lexer": "ipython3",
   "version": "3.7.6"
  }
 },
 "nbformat": 4,
 "nbformat_minor": 2
}
