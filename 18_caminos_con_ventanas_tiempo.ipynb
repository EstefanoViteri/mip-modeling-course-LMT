{
 "cells": [
  {
   "cell_type": "markdown",
   "metadata": {},
   "source": [
    "# Cuaderno 18: Caminos más cortos con ventanas de tiempo\n",
    "# (Shortest Path Problems with Time Windows - SPPTW)\n",
    "\n",
    "$\\newcommand{\\card}[1]{\\left| #1 \\right|}$\n",
    "$\\newcommand{\\tabulatedset}[1]{\\left\\{ #1 \\right\\}}$\n",
    "$\\newcommand{\\ZZ}{\\mathbb{Z}}$\n",
    "$\\newcommand{\\RR}{\\mathbb{R}}$\n",
    "\n",
    "Dados: \n",
    "* un grafo dirigido $D=(V,A)$; \n",
    "* un vector de costos $c \\in \\ZZ^{A}$  asociados a los arcos de $D$; \n",
    "* un vector de tiempos de tránsito $t \\in \\ZZ^{A}_{+}$  asociados a los arcos de $D$; \n",
    "* un nodo de salida $r$;\n",
    "* un nodo de llegada $s$, y\n",
    "* una ventana de tiempo $[a_i;b_i]$ para cada nodo $i$ in $V$.\n",
    "\n",
    "El *problema del camino más corto con ventanas de tiempo* consiste en encontrar un camino $P$ desde $r$ hasta $s$, conjuntamente con un tiempo de partida $T_r$, de tal forma que cada nodo de $P$ sea visitado dentro de su ventana de tiempo, y que el costo del camino sea mínimo. El costo de un camino se calcula sumando los costos de sus arcos. Por otra parte, los tiempos de visita de los nodos se definen de la siguiente manera:\n",
    "* el tiempo de visita de $r$ es el tiempo de partida $T_r$ del camino,\n",
    "* si $(i,j)$ es un arco de $P$, entonces para los tiempos de visita $T_i$ y $T_j$ sus nodos extremos, debe cumplirse que $T_j := \\max\\{T_i + t_{ij}, a_j\\}$.\n",
    "\n",
    "Para formular este problema, utilizaremos la siguientes variables de decisión: \n",
    "* variables binarias $x_{ij}$, para indicar si los arcos de $A$ son seleccionados o no dentro de $P$; y, \n",
    "* variables no negativas $T_i$ para indicar el tiempo de visita de un nodo $i$ del camino; si el nodo $i$ no pertenece a $P$, el valor de $T_i$ es irrelevante para el modelo.\n",
    "\n",
    "De esta manera, se puede formular al problema como el siguiente programa lineal entero:\n",
    "\n",
    "\\begin{align*}\n",
    "\\min &\\sum_{(i,j) \\in A} c_{ij} x_{ij}\\\\ \n",
    "& \\mbox{s.r.}\\\\\n",
    "&\\sum_{(r, i) \\in A} x_{ri} = 1,\\\\\n",
    "&\\sum_{(i, s) \\in A} x_{is} = 1,\\\\\n",
    "& \\sum_{(j, i) \\in A} x_{ji} - \\sum_{(i, j) \\in A} x_{ij} = 0, \\quad \\forall i \\in V \\setminus \\tabulatedset{r,s},\\\\\n",
    "&T_j \\geq T_i + t_{ij} - M(1 -  x_{ij}), \\quad \\forall (i,j) \\in A, \\\\ \n",
    "&a_i \\leq T_i \\leq b_i, \\quad \\forall i \\in V,\\\\ \n",
    "&T_i \\geq 0, \\quad \\forall i \\in V,\\\\\n",
    "& x_{ij} \\in \\tabulatedset{0, 1}, \\quad \\forall (i, j) \\in A.\n",
    "\\end{align*}\n",
    "\n",
    "El modelo es similar al modelo empleado para el problema de caminos más cortos con duración acotada. La función objetivo mide el costo total de los arcos seleccionados, mientras que las primeras tres familias de restricciones son restricciones de grado: seleccionar exactamente un arco saliente de $r$, exactamente un arco entrante a $s$, y un número de arcos entrantes igual al número de arcos salientes para los demás nodos. \n",
    "\n",
    "En la cuarta familia de restricciones se emplea la técnica de la $M$-grande descrita en el Cuaderno 17 para especificar que, si el arco $(i,j)$ es seleccionado en la solución, entonces debe cumplirse que $T_j \\geq T_i + t_{ij}$. \n",
    "\n",
    "La quinta familia de restricciones requiere que los valores del tiempo de visita en cada nodo estén dentro de las ventanas de tiempo.\n",
    "\n",
    "Notar que, en conjunto, la cuarta y quinta familias de restricciones implican que debe cumplirse $T_j \\geq \\max\\{T_i + t_{ij}, a_j\\}$ para todo nodo $j$ visitado por el camino. Es posible demostrar, además, que dada una solución con estas características, puede obtenerse una solución factible al problema con el mismo costo, al ajustar $T_j:= \\max\\{T_i + t_{ij}, a_j\\}$ para todo nodo $j$ visitado por el camino.\n",
    "\n",
    "Al igual que el modelo para caminos más cortos don duración acotada, este modelo funciona aún si el grafo tiene circuitos de costo negativo, siempre y cuando los tiempos de tránsito sean positivos.\n",
    "\n",
    "Vamos a implementar este modelo usando la interfaz Python de Gurobi.\n",
    "\n"
   ]
  },
  {
   "cell_type": "markdown",
   "metadata": {},
   "source": [
    "Definimos primero los conjuntos y parámetros del modelo:"
   ]
  },
  {
   "cell_type": "code",
   "execution_count": null,
   "metadata": {},
   "outputs": [],
   "source": [
    "from gurobipy import *\n",
    "\n",
    "# Nodos y ventanas de tiempo\n",
    "V , a, b = multidict({\n",
    "    1 : (0, 1),\n",
    "    2 : (2, 4),\n",
    "    3 : (1, 3),\n",
    "    4 : (4, 6),\n",
    "    5 : (5, 6),\n",
    "    6 : (5, 7),\n",
    "    7 : (6, 7),\n",
    "    8 : (7, 9),\n",
    "})\n",
    "\n",
    "# Arcos, costos y tiempos de tránsito \n",
    "A, c, t = multidict({\n",
    "  (1, 2):  (3, 2), \n",
    "  (1, 3):  (20,1),\n",
    "  (2, 3):  (10,2),\n",
    "  (2, 4):  (5,2),\n",
    "  (4, 3):  (2,3),\n",
    "  (3, 5):  (2,3),\n",
    "  (4, 5):  (5,1),\n",
    "  (4, 6):  (10,1),\n",
    "  (5, 6):  (2,3),\n",
    "  (5, 7):  (-3,1),\n",
    "  (6, 8):  (1, 2),  \n",
    "  (7, 8):  (-3,1),  \n",
    "  (8, 5):  (-3,1)})\n",
    "\n",
    "# Nodo de salida\n",
    "r = 1\n",
    "\n",
    "# Nodo de llegada\n",
    "s = 8\n",
    "\n",
    "# Constante suficientemente grande:\n",
    "M = quicksum([t[i,j] for (i,j) in A]) + quicksum(b[i] for i in V)\n",
    "\n",
    "# --- los valores a partir de aqui se calculan automaticamente ---\n",
    "# nodos internos: Vi := V \\ {s, t}\n",
    "Vi = tuplelist([i for i in V if i!=r and i!=s])"
   ]
  },
  {
   "cell_type": "markdown",
   "metadata": {},
   "source": [
    "En la siguiente celda empleamos los módulos `networkx` y `matplotlib` para representar graficamente esta instancia del problema:"
   ]
  },
  {
   "cell_type": "code",
   "execution_count": null,
   "metadata": {},
   "outputs": [],
   "source": [
    "import networkx as nx\n",
    "import matplotlib.pyplot as plt\n",
    "D = nx.DiGraph()\n",
    "D.add_nodes_from(V)\n",
    "node_labels= {i : '{}\\n[{};{}]'.format(i, a[i], b[i]) for i in V}\n",
    "D.add_edges_from(A)\n",
    "edge_labels = {(i,j) : str(c[i,j]) + ',' + str(t[i,j]) for (i,j) in A}\n",
    "plt.figure(figsize=(12,4))\n",
    "pos = {1 : (1,1), 2 : (1,2), 3 : (2,1), 4 : (2,2), 5 : (3,1), 6:(3,2), 7 : (4,1), 8 : (4,2)}\n",
    "nx.draw_networkx_edge_labels(D, pos, edge_labels)\n",
    "nx.draw_networkx(D, pos, labels= node_labels, node_color='cyan', node_size=1200)\n"
   ]
  },
  {
   "cell_type": "markdown",
   "metadata": {},
   "source": [
    "Creamos ahora el objeto modelo y las variables de binarias de selección de arcos $x_{ij}$. Observar que las variables están indexadas por los conjuntos de arcos. Notar que las restricciones de ventanas de tiempo se ingresan como cotas de las variables."
   ]
  },
  {
   "cell_type": "code",
   "execution_count": null,
   "metadata": {},
   "outputs": [],
   "source": [
    "# Crear el objeto modelo\n",
    "m = Model('shortest-path-time-windows')\n",
    "\n",
    "# Crear las variables de selección de arcos\n",
    "x = m.addVars(A, name=\"x\", vtype=GRB.BINARY)\n",
    "\n",
    "# Crear las variables de tiempo de visita en los nodos\n",
    "# Las restricciones de ventanas de tiempo se representan como cotas de las variables\n",
    "T = m.addVars(V, name=\"T\", lb=a, ub=b)\n"
   ]
  },
  {
   "cell_type": "markdown",
   "metadata": {},
   "source": [
    "Definimos la función objetivo a minimizar:"
   ]
  },
  {
   "cell_type": "code",
   "execution_count": null,
   "metadata": {},
   "outputs": [],
   "source": [
    "m.setObjective(x.prod(c, '*'), GRB.MINIMIZE)"
   ]
  },
  {
   "cell_type": "markdown",
   "metadata": {},
   "source": [
    "Definimos las restricciones del modelo:\n",
    "\n",
    "1. Restricciones de grado"
   ]
  },
  {
   "cell_type": "code",
   "execution_count": null,
   "metadata": {},
   "outputs": [],
   "source": [
    "# Arcos salientes de r\n",
    "m.addConstr(x.sum(r,'*')  == 1, \"grado_r\")\n",
    "\n",
    "# Arcos entrantes a s\n",
    "m.addConstr(x.sum('*', s)  == 1, \"grado_s\")\n",
    "\n",
    "# Balance de grados en los demas nodos\n",
    "m.addConstrs(\n",
    "    (x.sum('*',i) - x.sum(i,'*')  == 0 for i in Vi), \"grado\")"
   ]
  },
  {
   "cell_type": "markdown",
   "metadata": {},
   "source": [
    "2. Restricciones de tiempo de visita en los nodos:"
   ]
  },
  {
   "cell_type": "code",
   "execution_count": null,
   "metadata": {},
   "outputs": [],
   "source": [
    "# Tj >= Ti + tij si el arco (i,j) forma parte del camino:\n",
    "m.addConstrs((T[j] >= T[i] + t[i,j] - M*(1 - x[i,j]) for (i,j) in A), \"tiempos_visita\")\n"
   ]
  },
  {
   "cell_type": "markdown",
   "metadata": {},
   "source": [
    "Resolvemos el modelo y mostramos la solución. Notar que los valores de las variables pueden recuperarse también empleando el método `getAttr`:"
   ]
  },
  {
   "cell_type": "code",
   "execution_count": null,
   "metadata": {},
   "outputs": [],
   "source": [
    "# Calcular la solucion optima\n",
    "m.optimize()\n",
    "\n",
    "# Escribir la solucion\n",
    "if m.status == GRB.Status.OPTIMAL:\n",
    "    # Recuperar los valores de las variables\n",
    "    vx = m.getAttr('x', x)    \n",
    "    vT = m.getAttr('x', T)\n",
    "    print('T[{}]={}'.format(r, vT[r]))\n",
    "    print('Arcos seleccionados:')\n",
    "    for i,j in A:\n",
    "        if vx[i,j] >= 0.99:\n",
    "            print('{0} -> {1}; T[{1}]={2}'.format(i, j, vT[j] ))\n",
    "    print(\"Costo: {}\".format(m.objval))"
   ]
  },
  {
   "cell_type": "markdown",
   "metadata": {},
   "source": [
    "Finalmente, grafiquemos la solución empleando `networkx` y `ipycytoscape`:"
   ]
  },
  {
   "cell_type": "code",
   "execution_count": null,
   "metadata": {
    "scrolled": true
   },
   "outputs": [],
   "source": [
    "import networkx as nx\n",
    "import ipycytoscape\n",
    "D = nx.DiGraph()\n",
    "D.add_nodes_from(V)\n",
    "for i in V:\n",
    "    D.nodes[i]['etiq']= '{}:{}\\n[{};{}]'.format(i, int(vT[i]), a[i], b[i])\n",
    "D.add_edges_from(A)\n",
    "for i,j in A:\n",
    "    D.edges[i,j]['etiq'] = '({}, {})'.format(c[i,j], t[i,j])\n",
    "    D.edges[i,j]['color'] =  '#9dbaea' if vx[i,j]<=0.1 else '#ff007f'\n",
    "grafo = ipycytoscape.CytoscapeWidget()\n",
    "grafo.graph.add_graph_from_networkx(D, directed=True)\n",
    "grafo.set_style([{'selector': 'node', 'style' : {'background-color': '#11479e', 'font-family': 'helvetica', 'font-size': '10px', 'color':'white', 'label': 'data(etiq)', 'text-wrap' : 'wrap', 'text-valign' : 'center'}}, \n",
    "                    {'selector': 'node:parent', 'css': {'background-opacity': 0.333}, 'style' : {'font-family': 'helvetica', 'font-size': '10px', 'label': 'data(etiq)'}}, \n",
    "                    {'selector': 'edge', 'style': {'width': 4, 'line-color': 'data(color)', 'font-size': '10px', 'label': 'data(etiq)', 'text-valign' : 'top', 'text-margin-y' : '-10px'}}, \n",
    "                    {'selector': 'edge.directed', 'style': {'curve-style': 'bezier', 'target-arrow-shape': 'triangle', 'target-arrow-color': 'data(color)'}}])\n",
    "grafo"
   ]
  },
  {
   "cell_type": "markdown",
   "metadata": {},
   "source": [
    "## Código completo\n",
    "\n",
    "Se reproduce a continuación el código completo del modelo anterior."
   ]
  },
  {
   "cell_type": "code",
   "execution_count": null,
   "metadata": {},
   "outputs": [],
   "source": [
    "# Implementacion de modelos de programacion lineal entera\n",
    "# Problema de caminos mas cortos con ventanas de tiempo\n",
    "# (shortest path with time windows)\n",
    "# Luis M. Torres (EPN 2022)\n",
    "\n",
    "from gurobipy import *\n",
    "\n",
    "# Nodos y ventanas de tiempo\n",
    "V , a, b = multidict({\n",
    "    1 : (0, 1),\n",
    "    2 : (2, 4),\n",
    "    3 : (1, 3),\n",
    "    4 : (4, 6),\n",
    "    5 : (5, 6),\n",
    "    6 : (5, 7),\n",
    "    7 : (6, 7),\n",
    "    8 : (7, 9),\n",
    "})\n",
    "\n",
    "# Arcos, costos y tiempos de tránsito \n",
    "A, c, t = multidict({\n",
    "  (1, 2):  (3, 2), \n",
    "  (1, 3):  (20,1),\n",
    "  (2, 3):  (10,2),\n",
    "  (2, 4):  (5,2),\n",
    "  (4, 3):  (2,3),\n",
    "  (3, 5):  (2,3),\n",
    "  (4, 5):  (5,1),\n",
    "  (4, 6):  (10,1),\n",
    "  (5, 6):  (2,3),\n",
    "  (5, 7):  (-3,1),\n",
    "  (6, 8):  (1, 2),  \n",
    "  (7, 8):  (-3,1),  \n",
    "  (8, 5):  (-3,1)})\n",
    "\n",
    "# Nodo de salida\n",
    "r = 1\n",
    "\n",
    "# Nodo de llegada\n",
    "s = 8\n",
    "\n",
    "# Constante suficientemente grande:\n",
    "M = quicksum([t[i,j] for (i,j) in A]) + quicksum(b[i] for i in V)\n",
    "\n",
    "# --- los valores a partir de aqui se calculan automaticamente ---\n",
    "# nodos internos: Vi := V \\ {s, t}\n",
    "Vi = tuplelist([i for i in V if i!=r and i!=s])\n",
    "try:\n",
    "    # Crear el objeto modelo\n",
    "    m = Model('shortest-path-time-windows')\n",
    "\n",
    "    # Crear las variables de selección de arcos\n",
    "    x = m.addVars(A, name=\"x\", vtype=GRB.BINARY)\n",
    "\n",
    "    # Crear las variables de tiempo de visita en los nodos\n",
    "    # Las restricciones de ventanas de tiempo se representan como cotas de las variables\n",
    "    T = m.addVars(V, name=\"T\", lb=a, ub=b)\n",
    "\n",
    "    # Definir la funcion objetivo\n",
    "    m.setObjective(x.prod(c, '*'), GRB.MINIMIZE)\n",
    "\n",
    "    # Arcos salientes de r\n",
    "    m.addConstr(x.sum(r,'*')  == 1, \"grado_r\")\n",
    "\n",
    "    # Arcos entrantes a s\n",
    "    m.addConstr(x.sum('*', s)  == 1, \"grado_s\")\n",
    "\n",
    "    # Balance de grados en los demas nodos\n",
    "    m.addConstrs(\n",
    "        (x.sum('*',i) - x.sum(i,'*')  == 0 for i in Vi), \"grado\")\n",
    "\n",
    "    # Tj >= Ti + tij si el arco (i,j) forma parte del camino:\n",
    "    m.addConstrs((T[j] >= T[i] + t[i,j] - M*(1 - x[i,j]) for (i,j) in A), \"tiempos_visita\")\n",
    "\n",
    "    # Calcular la solución óptima\n",
    "    m.optimize()\n",
    "\n",
    "    # Escribir la solucion\n",
    "    if m.status == GRB.Status.OPTIMAL:\n",
    "        # Recuperar los valores de las variables\n",
    "        vx = m.getAttr('x', x)    \n",
    "        vT = m.getAttr('x', T)\n",
    "        print('T[{}]={}'.format(r, vT[r]))\n",
    "        print('Arcos seleccionados:')\n",
    "        for i,j in A:\n",
    "            if vx[i,j] >= 0.99:\n",
    "                print('{0} -> {1}; T[{1}]={2}'.format(i, j, vT[j] ))\n",
    "        print(\"Costo: {}\".format(m.objval))      \n",
    "        \n",
    "except GurobiError as e:\n",
    "    print('Se produjo un error de Gurobi: codigo: ' + str(e.errno) + \": \" + str(e))\n",
    "\n",
    "except AttributeError:\n",
    "    print('Se produjo un error de atributo')"
   ]
  },
  {
   "cell_type": "code",
   "execution_count": null,
   "metadata": {},
   "outputs": [],
   "source": []
  }
 ],
 "metadata": {
  "kernelspec": {
   "display_name": "Python 3 (ipykernel)",
   "language": "python",
   "name": "python3"
  },
  "language_info": {
   "codemirror_mode": {
    "name": "ipython",
    "version": 3
   },
   "file_extension": ".py",
   "mimetype": "text/x-python",
   "name": "python",
   "nbconvert_exporter": "python",
   "pygments_lexer": "ipython3",
   "version": "3.8.12"
  }
 },
 "nbformat": 4,
 "nbformat_minor": 2
}
