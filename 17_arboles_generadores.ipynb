{
 "cells": [
  {
   "cell_type": "markdown",
   "metadata": {},
   "source": [
    "# Cuaderno 25: Problema del árbol generador de peso mínimo \n",
    "# (Minimum Spanning Tree - MST)\n",
    "\n",
    "$\\newcommand{\\card}[1]{\\left| #1 \\right|}$\n",
    "$\\newcommand{\\tabulatedset}[1]{\\left\\{ #1 \\right\\}}$\n",
    "$\\newcommand{\\ZZ}{\\mathbb{Z}}$\n",
    "$\\newcommand{\\RR}{\\mathbb{R}}$\n",
    "\n",
    "Dados: \n",
    "* un grafo no dirigido $G=(V,E)$; y,\n",
    "* un vector $c \\in \\ZZ^{E}$ de costos asociados a las aristas de $G$.\n",
    "\n",
    "El *problema del árbol generador de peso mínimo* consiste en encontrar un subgrafo $H$ de $G$ con las siguientes características: \n",
    "* $H$ debe ser un *árbol*, es decir, debe ser conexo y no contener ciclos; \n",
    "* $H$ debe ser un subgrafo *generador* de $G$, es decir, debe contener todos los nodos de $G$; y,\n",
    "* $H$ debe tener el menor costo posible, donde el costo de $H$ se define como $c(H) = \\sum_{ij \\in E(H)} c_{ij}$.\n",
    "\n",
    "Se puede demostrar que las dos primeras propiedades son equivalentes a requerir que $H$ sea conexo, contenga todos los nodos de $G$ y tenga máximo $n - 1$ aristas, donde $n$ es el número de nodos del grafo. A su vez, la condición de que un subgrafo sea conexo y contenga todos los nodos de $G$ equivale a decir que para todo $W \\subset V$, $\\emptyset \\neq W \\neq V$, $H$ contiene al menos una arista del *corte* $\\delta(W):= \\{ ij \\in E \\, : \\, i \\in W, j \\not\\in W\\}$.\n",
    "\n",
    "Utilizando variables binarias $x_{ij}$ para indicar la selección de aristas en $H$, el problema del árbol generador de peso mínimo puede formularse como el siguiente programa lineal entero:\n",
    "\n",
    "\\begin{align*}\n",
    "\\min &\\sum_{ij \\in E} c_{ij} x_{ij}\\\\ \n",
    "& \\mbox{s.r.}\\\\\n",
    "&\\sum_{ij \\in E} x_{ij} \\leq n - 1, \\\\\n",
    "&\\sum_{ij \\in \\delta(W)} x_{ij} \\geq 1, \\quad \\forall W \\subset V, \\emptyset \\neq W \\neq V,\\\\\n",
    "& x_{ij} \\in \\{0, 1\\}, \\quad \\forall ij \\in E.\n",
    "\\end{align*}\n",
    "\n",
    "Notar que para establecer la condición de conexidad se requiere de un número exponencial de restricciones con las relación a la cantidad de nodos del grafo.\n",
    "Vamos a implementar este modelo usando la interfaz Python de Gurobi.\n",
    "\n"
   ]
  },
  {
   "cell_type": "markdown",
   "metadata": {},
   "source": [
    "Definimos primero los datos. Usaremos la función `randint` del módulo `random` para generar valores de costos de los arcos aleatoriamente en el rango {-10,..,10}."
   ]
  },
  {
   "cell_type": "code",
   "execution_count": 1,
   "metadata": {},
   "outputs": [
    {
     "name": "stdout",
     "output_type": "stream",
     "text": [
      "{(1, 3): 4, (1, 5): 3, (1, 6): 5, (1, 7): -2, (2, 3): -6, (2, 8): 9, (2, 9): 4, (2, 10): 0, (3, 6): 6, (3, 7): -1, (4, 5): -3, (4, 6): 0, (4, 9): -5, (4, 10): 10, (5, 6): -2, (5, 8): -10, (7, 8): 7, (7, 10): 1, (8, 9): -2, (9, 10): 6}\n"
     ]
    }
   ],
   "source": [
    "from gurobipy import *\n",
    "import random as rm\n",
    "\n",
    "# Numero de nodos del grafo\n",
    "n = 10\n",
    "\n",
    "# Nodos del grafo\n",
    "V = tuplelist(range(1,n+1))\n",
    "\n",
    "# Aristas del grafo\n",
    "E = tuplelist([ (1, 3), (1,  5), (1, 6), (1,  7),\n",
    "                (2, 3), (2,  8), (2, 9), (2, 10),\n",
    "                (3, 6), (3,  7), (4, 5), (4,  6),\n",
    "                (4, 9), (4, 10), (5, 6), (5,  8), \n",
    "                (7, 8), (7, 10), (8, 9), (9, 10)])\n",
    "\n",
    "# Costos de las aristas\n",
    "c={}\n",
    "for i,j in E:\n",
    "    c[i,j] = rm.randint(-10,10)\n",
    "\n",
    "print (c)"
   ]
  },
  {
   "cell_type": "markdown",
   "metadata": {},
   "source": [
    "Representamos esta instancia gráficamente empleando funciones de los módulos `networkx` y `ipycytoscape`:"
   ]
  },
  {
   "cell_type": "code",
   "execution_count": 2,
   "metadata": {},
   "outputs": [
    {
     "data": {
      "application/vnd.jupyter.widget-view+json": {
       "model_id": "f1eea751bf3a4c3297e8ef81b883a23e",
       "version_major": 2,
       "version_minor": 0
      },
      "text/plain": [
       "CytoscapeWidget(cytoscape_layout={'name': 'cola'}, cytoscape_style=[{'selector': 'node', 'style': {'background…"
      ]
     },
     "metadata": {},
     "output_type": "display_data"
    }
   ],
   "source": [
    "import networkx as nx\n",
    "import ipycytoscape\n",
    "D = nx.Graph()\n",
    "D.add_nodes_from(V)\n",
    "for i in V:\n",
    "    D.nodes[i]['etiq']= str(i)\n",
    "D.add_edges_from(E)\n",
    "for i,j in E:\n",
    "    D.edges[i,j]['etiq'] = str(c[i,j])\n",
    "    D.edges[i,j]['color'] =  '#9dbaea' #if vx[i,j]<=0.1 else '#ff007f'\n",
    "grafo = ipycytoscape.CytoscapeWidget()\n",
    "grafo.graph.add_graph_from_networkx(D, directed=False)\n",
    "grafo.set_style([{'selector': 'node', 'style' : {'background-color': '#11479e', 'font-family': 'helvetica', 'font-size': '10px', 'color':'white', 'label': 'data(etiq)', 'text-wrap' : 'wrap', 'text-valign' : 'center'}}, \n",
    "                    {'selector': 'node:parent', 'css': {'background-opacity': 0.333}, 'style' : {'font-family': 'helvetica', 'font-size': '10px', 'label': 'data(etiq)'}}, \n",
    "                    {'selector': 'edge', 'style': {'width': 4, 'line-color': 'data(color)', 'font-size': '10px', 'label': 'data(etiq)', 'text-valign' : 'top', 'text-margin-y' : '-10px'}}, \n",
    "                    {'selector': 'edge.directed', 'style': {'curve-style': 'bezier', 'target-arrow-shape': 'triangle', 'target-arrow-color': 'data(color)'}}])\n",
    "grafo"
   ]
  },
  {
   "cell_type": "markdown",
   "metadata": {},
   "source": [
    "Vamos a necesitar construir una restricción de corte para cada subconjunto de nodos $W \\subset V$ tal que $\\emptyset \\neq W \\neq V$. Con esta finalidad, definimos una función `powerset` empleando las funciones `chain` y `combinations` del módulo `itertools`."
   ]
  },
  {
   "cell_type": "code",
   "execution_count": 3,
   "metadata": {},
   "outputs": [],
   "source": [
    "from itertools import chain, combinations\n",
    "\n",
    "def powerset(iterable):\n",
    "    \"powerset([1,2,3]) --> () (1,) (2,) (3,) (1,2) (1,3) (2,3) (1,2,3)\"\n",
    "    s = list(iterable)\n",
    "    return chain.from_iterable(combinations(s, r) for r in range(len(s)+1))\n"
   ]
  },
  {
   "cell_type": "markdown",
   "metadata": {},
   "source": [
    "Definimos ahora el objeto modelo, las variables y la función objetivo:"
   ]
  },
  {
   "cell_type": "code",
   "execution_count": 4,
   "metadata": {},
   "outputs": [
    {
     "name": "stdout",
     "output_type": "stream",
     "text": [
      "Using license file /Users/ltorres/gurobi.lic\n",
      "Academic license - for non-commercial use only\n"
     ]
    }
   ],
   "source": [
    "# Crear el objeto modelo\n",
    "m = Model('mst')\n",
    "\n",
    "# Crear las variables\n",
    "x = m.addVars(E, name=\"x\", vtype=GRB.BINARY)\n",
    "\n",
    "# Crear la funcion objetivo\n",
    "m.setObjective(x.prod(c,'*'), GRB.MINIMIZE)\n"
   ]
  },
  {
   "cell_type": "markdown",
   "metadata": {},
   "source": [
    "Añadimos la restricción de cardinalidad del conjunto de aristas:"
   ]
  },
  {
   "cell_type": "code",
   "execution_count": 5,
   "metadata": {},
   "outputs": [
    {
     "data": {
      "text/plain": [
       "<gurobi.Constr *Awaiting Model Update*>"
      ]
     },
     "execution_count": 5,
     "metadata": {},
     "output_type": "execute_result"
    }
   ],
   "source": [
    "# Restriccion de cardinalidad\n",
    "m.addConstr(x.sum('*','*')  <= n-1,  \"cardinalidad\")"
   ]
  },
  {
   "cell_type": "markdown",
   "metadata": {},
   "source": [
    "Para construir las restricciones de corte, usamos la función `powerset` para iterar sobre todos los subconjuntos de nodos $W$ tales que $\\emptyset \\neq W \\neq V$. Para cada subconjunto, se construye primero el conjunto `Wc` con su \n",
    "complemento, es decir, con los nodos de $V$ que no están en $W$. La expresión `x.sum(W, Wc)` construye la suma de las variables asociadas a aristas que tienen el \"primer\" extremo en $W$ y el otro extremo fuera de $W$. De manera similar, `x.sum(Wc, W)` construye la suma de las variables asociadas a aristas que tienen el \"primer\" extremo fuera de $W$ y el otro extremo en $W$. La suma de ambas expresiones es igual a la suma de todas las aristas del corte."
   ]
  },
  {
   "cell_type": "code",
   "execution_count": 6,
   "metadata": {},
   "outputs": [],
   "source": [
    "# Restricciones de corte\n",
    "PV = list(powerset(V))\n",
    "for W in PV:\n",
    "    if W!=() and W!=tuple(V):\n",
    "        Wc = [i for i in V if i not in W]\n",
    "        # Como el grafo es no dirigido, el corte contiene las aristas en sum(W, Wc) y sum(Wc, W)\n",
    "        m.addConstr(x.sum(W, Wc) + x.sum(Wc, W) >= 1, \n",
    "                        \"corte[{}]\".format(W))\n"
   ]
  },
  {
   "cell_type": "markdown",
   "metadata": {},
   "source": [
    "Escribimos el modelo a un archivo de texto:"
   ]
  },
  {
   "cell_type": "code",
   "execution_count": 7,
   "metadata": {},
   "outputs": [
    {
     "name": "stdout",
     "output_type": "stream",
     "text": [
      "Warning: constraint name \"corte[(1, 2)]\" has a space\n"
     ]
    }
   ],
   "source": [
    "# Escribir el modelo a un archivo\n",
    "m.write('mst.lp')\n"
   ]
  },
  {
   "cell_type": "markdown",
   "metadata": {},
   "source": [
    "Finalmente, resolvemos el modelo y mostramos la solución:"
   ]
  },
  {
   "cell_type": "code",
   "execution_count": 8,
   "metadata": {},
   "outputs": [
    {
     "name": "stdout",
     "output_type": "stream",
     "text": [
      "Gurobi Optimizer version 9.0.2 build v9.0.2rc0 (mac64)\n",
      "Optimize a model with 1023 rows, 20 columns and 10260 nonzeros\n",
      "Model fingerprint: 0xf9d37421\n",
      "Variable types: 0 continuous, 20 integer (20 binary)\n",
      "Coefficient statistics:\n",
      "  Matrix range     [1e+00, 1e+00]\n",
      "  Objective range  [1e+00, 1e+01]\n",
      "  Bounds range     [1e+00, 1e+00]\n",
      "  RHS range        [1e+00, 9e+00]\n",
      "Found heuristic solution: objective 24.0000000\n",
      "Presolve removed 774 rows and 0 columns\n",
      "Presolve time: 0.05s\n",
      "Presolved: 249 rows, 20 columns, 2188 nonzeros\n",
      "Variable types: 0 continuous, 20 integer (20 binary)\n",
      "\n",
      "Root relaxation: objective -2.600000e+01, 18 iterations, 0.01 seconds\n",
      "\n",
      "    Nodes    |    Current Node    |     Objective Bounds      |     Work\n",
      " Expl Unexpl |  Obj  Depth IntInf | Incumbent    BestBd   Gap | It/Node Time\n",
      "\n",
      "     0     0  -26.00000    0    4   24.00000  -26.00000   208%     -    0s\n",
      "H    0     0                     -26.0000000  -26.00000  0.00%     -    0s\n",
      "     0     0  -26.00000    0    4  -26.00000  -26.00000  0.00%     -    0s\n",
      "\n",
      "Explored 1 nodes (18 simplex iterations) in 0.25 seconds\n",
      "Thread count was 4 (of 4 available processors)\n",
      "\n",
      "Solution count 2: -26 24 \n",
      "No other solutions better than -26\n",
      "\n",
      "Optimal solution found (tolerance 1.00e-04)\n",
      "Best objective -2.600000000000e+01, best bound -2.600000000000e+01, gap 0.0000%\n",
      "\n",
      "Arbol generador de peso minimo:\n",
      "1 - 5\n",
      "1 - 7\n",
      "2 - 3\n",
      "2 - 10\n",
      "3 - 7\n",
      "4 - 5\n",
      "4 - 9\n",
      "5 - 6\n",
      "5 - 8\n"
     ]
    }
   ],
   "source": [
    "# Calcular la solucion optima\n",
    "m.optimize()\n",
    "\n",
    "# Escribir la solucion\n",
    "if m.status == GRB.Status.OPTIMAL:\n",
    "    # Recuperar los valores de las variables\n",
    "    vx = m.getAttr('x', x)\n",
    "    print('\\nArbol generador de peso minimo:')\n",
    "    for i,j in E:\n",
    "        if vx[i,j] > 0:\n",
    "            print('{} - {}'.format(i, j))\n"
   ]
  },
  {
   "cell_type": "markdown",
   "metadata": {},
   "source": [
    "Dibujamos la solución usando las funciones de los módulos `networkx` y `ipycytoscape`:"
   ]
  },
  {
   "cell_type": "code",
   "execution_count": 9,
   "metadata": {},
   "outputs": [
    {
     "data": {
      "application/vnd.jupyter.widget-view+json": {
       "model_id": "dea2756580ae4eab8d36725d849563c9",
       "version_major": 2,
       "version_minor": 0
      },
      "text/plain": [
       "CytoscapeWidget(cytoscape_layout={'name': 'cola'}, cytoscape_style=[{'selector': 'node', 'style': {'background…"
      ]
     },
     "metadata": {},
     "output_type": "display_data"
    }
   ],
   "source": [
    "import networkx as nx\n",
    "import ipycytoscape\n",
    "D = nx.Graph()\n",
    "D.add_nodes_from(V)\n",
    "for i in V:\n",
    "    D.nodes[i]['etiq']= str(i)\n",
    "D.add_edges_from(E)\n",
    "for i,j in E:\n",
    "    D.edges[i,j]['etiq'] = str(c[i,j])\n",
    "    D.edges[i,j]['color'] =  '#9dbaea' if vx[i,j]<=0.1 else '#ff007f'\n",
    "grafo = ipycytoscape.CytoscapeWidget()\n",
    "grafo.graph.add_graph_from_networkx(D, directed=False)\n",
    "grafo.set_style([{'selector': 'node', 'style' : {'background-color': '#11479e', 'font-family': 'helvetica', 'font-size': '10px', 'color':'white', 'label': 'data(etiq)', 'text-wrap' : 'wrap', 'text-valign' : 'center'}}, \n",
    "                    {'selector': 'node:parent', 'css': {'background-opacity': 0.333}, 'style' : {'font-family': 'helvetica', 'font-size': '10px', 'label': 'data(etiq)'}}, \n",
    "                    {'selector': 'edge', 'style': {'width': 4, 'line-color': 'data(color)', 'font-size': '10px', 'label': 'data(etiq)', 'text-valign' : 'top', 'text-margin-y' : '-10px'}}, \n",
    "                    {'selector': 'edge.directed', 'style': {'curve-style': 'bezier', 'target-arrow-shape': 'triangle', 'target-arrow-color': 'data(color)'}}])\n",
    "grafo"
   ]
  },
  {
   "cell_type": "markdown",
   "metadata": {},
   "source": [
    "## Código completo\n",
    "\n",
    "Se reproduce a continuación el código completo del modelo anterior."
   ]
  },
  {
   "cell_type": "code",
   "execution_count": 13,
   "metadata": {},
   "outputs": [
    {
     "name": "stdout",
     "output_type": "stream",
     "text": [
      "Warning: constraint name \"corte[(1, 2)]\" has a space\n",
      "Gurobi Optimizer version 9.0.2 build v9.0.2rc0 (mac64)\n",
      "Optimize a model with 1023 rows, 20 columns and 10260 nonzeros\n",
      "Model fingerprint: 0x7e149b23\n",
      "Variable types: 0 continuous, 20 integer (20 binary)\n",
      "Coefficient statistics:\n",
      "  Matrix range     [1e+00, 1e+00]\n",
      "  Objective range  [1e+00, 1e+01]\n",
      "  Bounds range     [1e+00, 1e+00]\n",
      "  RHS range        [1e+00, 9e+00]\n",
      "Found heuristic solution: objective -29.0000000\n",
      "Presolve removed 774 rows and 0 columns\n",
      "Presolve time: 0.03s\n",
      "Presolved: 249 rows, 20 columns, 2188 nonzeros\n",
      "Variable types: 0 continuous, 20 integer (20 binary)\n",
      "\n",
      "Root relaxation: objective -4.250000e+01, 18 iterations, 0.00 seconds\n",
      "\n",
      "    Nodes    |    Current Node    |     Objective Bounds      |     Work\n",
      " Expl Unexpl |  Obj  Depth IntInf | Incumbent    BestBd   Gap | It/Node Time\n",
      "\n",
      "     0     0  -42.50000    0    4  -29.00000  -42.50000  46.6%     -    0s\n",
      "H    0     0                     -42.0000000  -42.50000  1.19%     -    0s\n",
      "     0     0  -42.50000    0    4  -42.00000  -42.50000  1.19%     -    0s\n",
      "\n",
      "Explored 1 nodes (18 simplex iterations) in 0.15 seconds\n",
      "Thread count was 4 (of 4 available processors)\n",
      "\n",
      "Solution count 2: -42 -29 \n",
      "No other solutions better than -42\n",
      "\n",
      "Optimal solution found (tolerance 1.00e-04)\n",
      "Best objective -4.200000000000e+01, best bound -4.200000000000e+01, gap 0.0000%\n",
      "\n",
      "Arbol generado de peso minimo:\n",
      "1 - 3\n",
      "2 - 8\n",
      "2 - 9\n",
      "3 - 6\n",
      "3 - 7\n",
      "4 - 6\n",
      "5 - 6\n",
      "5 - 8\n",
      "9 - 10\n"
     ]
    }
   ],
   "source": [
    "# Implementación de modelos lineales enteros\n",
    "# Problema del árbol generador de peso mínimo (MST)\n",
    "\n",
    "# Luis M. Torres (EPN 2020)\n",
    "\n",
    "from gurobipy import *\n",
    "import random as rm\n",
    "from itertools import chain, combinations\n",
    "import networkx as nx\n",
    "import ipycytoscape\n",
    "\n",
    "\n",
    "def powerset(iterable):\n",
    "    \"powerset([1,2,3]) --> () (1,) (2,) (3,) (1,2) (1,3) (2,3) (1,2,3)\"\n",
    "    s = list(iterable)\n",
    "    return chain.from_iterable(combinations(s, r) for r in range(len(s)+1))\n",
    "\n",
    "# Numero de nodos del grafo\n",
    "n = 10\n",
    "\n",
    "# Nodos del grafo\n",
    "V = tuplelist(range(1,n+1))\n",
    "\n",
    "# Aristas del grafo\n",
    "E = tuplelist([ (1, 3), (1,  5), (1, 6), (1,  7),\n",
    "                (2, 3), (2,  8), (2, 9), (2, 10),\n",
    "                (3, 6), (3,  7), (4, 5), (4,  6),\n",
    "                (4, 9), (4, 10), (5, 6), (5,  8), \n",
    "                (7, 8), (7, 10), (8, 9), (9, 10)])\n",
    "\n",
    "# Costos de las aristas\n",
    "c={}\n",
    "for i,j in E:\n",
    "    c[i,j] = rm.randint(-10,10)\n",
    "\n",
    "try:\n",
    "    # Crear el objeto modelo\n",
    "    m = Model('mst')\n",
    "\n",
    "    # Crear las variables\n",
    "    x = m.addVars(E, name=\"x\", vtype=GRB.BINARY)\n",
    "\n",
    "    # Crear la funcion objetivo\n",
    "    m.setObjective(x.prod(c,'*'), GRB.MINIMIZE)\n",
    "\n",
    "    # Restriccion de cardinalidad\n",
    "    m.addConstr(x.sum('*','*')  <= n-1,  \"cardinalidad\")\n",
    "\n",
    "    # Restricciones de corte\n",
    "    PV = list(powerset(V))\n",
    "    for W in PV:\n",
    "        if W!=() and W!=tuple(V):\n",
    "            Wc = [i for i in V if i not in W]\n",
    "            m.addConstr(x.sum(W, Wc) + x.sum(Wc, W) >= 1, \n",
    "                        \"corte[{}]\".format(W))\n",
    "\n",
    "    # Escribir el modelo a un archivo\n",
    "    m.write('mst.lp')\n",
    "\n",
    "    # Calcular la solucion optima\n",
    "    m.optimize()\n",
    "\n",
    "    # Escribir la solucion\n",
    "    if m.status == GRB.Status.OPTIMAL:\n",
    "        # Recuperar los valores de las variables\n",
    "        vx = m.getAttr('x', x)\n",
    "        print('\\nArbol generado de peso minimo:')\n",
    "        for i,j in E:\n",
    "            if vx[i,j] > 0:\n",
    "                print('{} - {}'.format(i, j))\n",
    "                \n",
    "    # Graficar la solución\n",
    "    D = nx.Graph()\n",
    "    D.add_nodes_from(V)\n",
    "    for i in V:\n",
    "        D.nodes[i]['etiq']= str(i)\n",
    "    D.add_edges_from(E)\n",
    "    for i,j in E:\n",
    "        D.edges[i,j]['etiq'] = str(c[i,j])\n",
    "        D.edges[i,j]['color'] =  '#9dbaea' if vx[i,j]<=0.1 else '#ff007f'\n",
    "    grafo = ipycytoscape.CytoscapeWidget()\n",
    "    grafo.graph.add_graph_from_networkx(D, directed=False)\n",
    "    grafo.set_style([{'selector': 'node', 'style' : {'background-color': '#11479e', 'font-family': 'helvetica', 'font-size': '10px', 'color':'white', 'label': 'data(etiq)', 'text-wrap' : 'wrap', 'text-valign' : 'center'}}, \n",
    "                    {'selector': 'node:parent', 'css': {'background-opacity': 0.333}, 'style' : {'font-family': 'helvetica', 'font-size': '10px', 'label': 'data(etiq)'}}, \n",
    "                    {'selector': 'edge', 'style': {'width': 4, 'line-color': 'data(color)', 'font-size': '10px', 'label': 'data(etiq)', 'text-valign' : 'top', 'text-margin-y' : '-10px'}}, \n",
    "                    {'selector': 'edge.directed', 'style': {'curve-style': 'bezier', 'target-arrow-shape': 'triangle', 'target-arrow-color': 'data(color)'}}])\n",
    "                \n",
    "except GurobiError as e:\n",
    "    print('Se produjo un error de Gurobi: codigo: ' + str(e.errno) + \": \" + str(e))\n",
    "\n",
    "except AttributeError:\n",
    "    print('Se produjo un error de atributo')"
   ]
  },
  {
   "cell_type": "code",
   "execution_count": 14,
   "metadata": {},
   "outputs": [
    {
     "data": {
      "application/vnd.jupyter.widget-view+json": {
       "model_id": "d8285a1347ab42f4963a76848cbad932",
       "version_major": 2,
       "version_minor": 0
      },
      "text/plain": [
       "CytoscapeWidget(cytoscape_layout={'name': 'cola'}, cytoscape_style=[{'selector': 'node', 'style': {'background…"
      ]
     },
     "metadata": {},
     "output_type": "display_data"
    }
   ],
   "source": [
    "grafo"
   ]
  },
  {
   "cell_type": "code",
   "execution_count": null,
   "metadata": {},
   "outputs": [],
   "source": []
  }
 ],
 "metadata": {
  "kernelspec": {
   "display_name": "Python 3",
   "language": "python",
   "name": "python3"
  },
  "language_info": {
   "codemirror_mode": {
    "name": "ipython",
    "version": 3
   },
   "file_extension": ".py",
   "mimetype": "text/x-python",
   "name": "python",
   "nbconvert_exporter": "python",
   "pygments_lexer": "ipython3",
   "version": "3.7.6"
  }
 },
 "nbformat": 4,
 "nbformat_minor": 2
}
