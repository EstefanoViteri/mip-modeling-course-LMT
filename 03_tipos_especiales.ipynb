{
 "cells": [
  {
   "cell_type": "markdown",
   "metadata": {},
   "source": [
    "# Cuaderno 3: Clases y funciones especiales\n",
    "\n",
    "La interfaz Python de Gurobi define funciones y tipos de datos (clases) especialmente diseñados para la formulación de modelos de programación matemática. Revisaremos en este cuaderno los tipos `tuplelist` y `tupledict`, y la función `multidict`.\n",
    "\n",
    "Para utilizarlos es necesario importar el módulo de Gurobi:"
   ]
  },
  {
   "cell_type": "code",
   "execution_count": null,
   "metadata": {},
   "outputs": [],
   "source": [
    "import gurobipy as gp\n",
    "from gurobipy import GRB"
   ]
  },
  {
   "cell_type": "markdown",
   "metadata": {},
   "source": [
    "## La clase tuplelist\n",
    "\n",
    "La clase `tuplelist` es un tipo especial de lista cuyos elementos son tuplas de longitud constante. Está diseñada para almacenar y manipular de manera eficiente los índices en los modelos."
   ]
  },
  {
   "cell_type": "code",
   "execution_count": null,
   "metadata": {},
   "outputs": [],
   "source": [
    "L = gp.tuplelist([(1, 2), (1, 3), (1, 4), (2, 5), (3, 4), (4, 3)])\n",
    "print(L)"
   ]
  },
  {
   "cell_type": "markdown",
   "metadata": {},
   "source": [
    "Un objeto de tipo `tuplelist` puede acceder a todas las funciones y métodos de una lista común:"
   ]
  },
  {
   "cell_type": "code",
   "execution_count": null,
   "metadata": {},
   "outputs": [],
   "source": [
    "L.append((1,5))\n",
    "print(L)\n",
    "L.pop()\n",
    "print(L)\n",
    "L.insert(0, (1, 5))\n",
    "print(L)"
   ]
  },
  {
   "cell_type": "markdown",
   "metadata": {},
   "source": [
    "Adicionalmente, un objeto `tuplelist`tiene un método `select` que retorna una sublista con las tuplas que cumplan determinados criterios:"
   ]
  },
  {
   "cell_type": "code",
   "execution_count": null,
   "metadata": {},
   "outputs": [],
   "source": [
    "print(L)\n",
    "print(L.select('*','*'))\n",
    "print()\n",
    "print(L.select(1, '*'))  # primera componente igual a 1\n",
    "print()\n",
    "print(L.select([2,3], 4)) # primera componente igual a 2 ó 3, segunda componente igual a 4\n",
    "print()\n",
    "print(L.select('*', [3, 4])) # segunda componente igual a 3 ó 4"
   ]
  },
  {
   "cell_type": "markdown",
   "metadata": {},
   "source": [
    "Notar que la selección de tuplas del ejemplo anterior también podría hacerse con inclusiones de listas (*list comprehensions*). Sin embargo, el método `select` es computacionalmente mucho más eficiente."
   ]
  },
  {
   "cell_type": "code",
   "execution_count": null,
   "metadata": {},
   "outputs": [],
   "source": [
    "# primera componente igual a 1\n",
    "print([(i, j) for (i, j) in L if i==1])  \n",
    "# primera componente igual a 2 ó 3, segunda componente igual a 4\n",
    "print([(i, j) for (i, j) in L if i in [2,3] and j==4])  \n",
    "# segunda componente igual a 3 ó 4\n",
    "print([(i, j) for (i, j) in L if j in [3, 4]])  "
   ]
  },
  {
   "cell_type": "markdown",
   "metadata": {},
   "source": [
    "## La clase tupledict\n",
    "\n",
    "La clase `tupledict` representa un tipo especial de diccionarios cuyas claves son tuplas de longitud constante. Está diseñada para almacenar y manipular de manera eficiente los parámetros y variables en los modelos."
   ]
  },
  {
   "cell_type": "code",
   "execution_count": null,
   "metadata": {},
   "outputs": [],
   "source": [
    "# ejemplo capacidades de los arcos de un grafo\n",
    "u = gp.tupledict({(1,2) : 3, \n",
    "               (1,3) : 4.5, \n",
    "               (1,4) : 5,\n",
    "               (2,3) : 1.1,\n",
    "               (4,3) : 0.33})\n",
    "print(u)\n",
    "print(type(u))\n",
    "print(type(u.keys()))"
   ]
  },
  {
   "cell_type": "markdown",
   "metadata": {},
   "source": [
    "Pueden usarse todas las fuciones de un diccionario común. La lista de claves es un objeto del tipo `tuplelist`."
   ]
  },
  {
   "cell_type": "code",
   "execution_count": null,
   "metadata": {},
   "outputs": [],
   "source": [
    "print(u[2,3])\n",
    "print(u.keys())\n",
    "u[1,4] = 6  # notar que los paréntesis no son necesarios para referirse a la clave\n",
    "u[4,1] = 7  # es lo mismo que u[(4,1)] = 7\n",
    "print(u)"
   ]
  },
  {
   "cell_type": "markdown",
   "metadata": {},
   "source": [
    "Como la lista de claves es un `tuplelist` puede emplearse la función `select` para iterar sobre ella: "
   ]
  },
  {
   "cell_type": "code",
   "execution_count": null,
   "metadata": {},
   "outputs": [],
   "source": [
    "print('Nodos sucesores al 1 y sus capacidades:')\n",
    "for i, j in u.keys().select(1, '*'):\n",
    "    print('{}\\t\\t{}'.format(j, u[i,j]))\n"
   ]
  },
  {
   "cell_type": "markdown",
   "metadata": {},
   "source": [
    "Adicionalmente, la clase `tupledict` tienen dos métodos diseñados especialmente para facilitar la creación de expresiones lineales: `sum` y `prod`.\n",
    "\n",
    "El método `sum` suma aquellos valores del diccionario cuyas claves satisfagan un criterio de selección:"
   ]
  },
  {
   "cell_type": "code",
   "execution_count": null,
   "metadata": {},
   "outputs": [],
   "source": [
    "print(u)\n",
    "# sumar los valores indexados por tuplas donde la primera componente es 1\n",
    "print(u.sum(1, '*'))  \n",
    "# sumar los valores correspondientes a tuplas con primera componente 1, segunda componente 2 ó 3\n",
    "print(u.sum(1, [2,3])) \n",
    "print(type(u.sum(1, [2,3])))"
   ]
  },
  {
   "cell_type": "markdown",
   "metadata": {},
   "source": [
    "El método `prod` requiere de otro diccionario de coeficientes `c` que tenga las mismas claves que el diccionario actual `u`. Este método realiza las siguientes operaciones:\n",
    "1. Para cada clave que satisface un criterio de selección, se multiplican los valores correspondientes de ambos diccionarios\n",
    "2. Se suman los resultados de todos los productos\n"
   ]
  },
  {
   "cell_type": "code",
   "execution_count": null,
   "metadata": {},
   "outputs": [],
   "source": [
    "# construimos un diccionario u indexado por tuplas\n",
    "u = gp.tupledict({(1,2) : 3, \n",
    "               (1,3) : 4.5, \n",
    "               (1,4) : 5,\n",
    "               (2,3) : 1.1,\n",
    "               (4,3) : 4,\n",
    "               (4,1) : 5})\n",
    "# construimos un diccionario c indexado por las mismas tuplas\n",
    "c = gp.tupledict({(1,2) : 2, \n",
    "               (1,3) : 1, \n",
    "               (1,4) : 2,\n",
    "               (2,3) : 3,\n",
    "               (4,3) : 4,\n",
    "               (4,1) : 5})\n",
    "print(\"u = {}\".format(u))\n",
    "print(\"c = {}\".format(c))\n",
    "# calcular sum_{i,j} c(i,j)*u(i,j)\n",
    "print(u.prod(c, '*', '*'))\n",
    "print(c.prod(u, '*', '*'))\n",
    "# calcular c(1,2)*u(1,2) + c(1,3)*u(1,3) + c(1,4)*u(1,4)\n",
    "print(u.prod(c, 1, '*'))\n",
    "# calcular c(1,2)*u(1,2) + c(1,3)*u(1,3) \n",
    "print(u.prod(c, 1, [2,3]))"
   ]
  },
  {
   "cell_type": "markdown",
   "metadata": {},
   "source": [
    "Observar que las funciones `sum` y `prod` retornan valores del tipo `LinExpr` (expresión lineal). Esto ocurre porque las funciones pueden ser aplicadas a diccionarios que contengan variables del modelo, para construir expresiones lineales a ser utilizadas en la función objetivo o en las restricciones:"
   ]
  },
  {
   "cell_type": "code",
   "execution_count": null,
   "metadata": {
    "scrolled": false
   },
   "outputs": [],
   "source": [
    "import random as rd\n",
    "\n",
    "# definir listas con índices\n",
    "I = [i+1 for i in range(5)]\n",
    "J = [2*i for i in range(5)]\n",
    "print(I)\n",
    "print(J)\n",
    "print('---')\n",
    "\n",
    "# crear un objeto modelo\n",
    "m = gp.Model('ejemplo')\n",
    "# crear variables binarias x_i indexadas por I\n",
    "x = m.addVars(I, vtype=GRB.BINARY, name=\"x\")\n",
    "m.update()\n",
    "print(x)\n",
    "print(type(x))\n",
    "# construir la expresión lineal x2 + x3 + x4\n",
    "print(x.sum([2,3,4]))\n",
    "print('---')\n",
    "\n",
    "# crear variables enteras y_{ij} indexadas por I x J\n",
    "y = m.addVars(I, J, vtype=GRB.INTEGER, name='y')\n",
    "m.update()\n",
    "print(y)\n",
    "print()\n",
    "# construir un tupledict indexado por I x J con costos c_{ij}\n",
    "c = gp.tupledict({(i, j) : rd.randint(1,10) for i in I for j in J})\n",
    "print(c)\n",
    "print()\n",
    "# construir la expresión sum_{i in I} sum_{j in J} c_{ij} * y_{i,j}\n",
    "print(y.prod(c, '*', '*'))\n",
    "print()\n",
    "# construir la expresión sum_{j in J} c_{1,j} * y_{1,j}\n",
    "print(y.prod(c, 1, '*'))\n",
    "print()\n",
    "# construir la expresión sum_{i in I} sum_{j in {2,4}} c_{i,j} * y_{i,j}\n",
    "print(y.prod(c, '*', [2,4]))\n"
   ]
  },
  {
   "cell_type": "markdown",
   "metadata": {},
   "source": [
    "Al igual que lo que ocurre con la función `select`, las funciones `sum` y `prod` podrían implementarse usando lazos, pero su ventaja radica en que son computacionalmente más eficientes."
   ]
  },
  {
   "cell_type": "markdown",
   "metadata": {},
   "source": [
    "## La función multidict\n",
    "\n",
    "Suponer que se tiene un diccionario en el que los *valores* son siempre *tuplas de longitud constante* $k$:"
   ]
  },
  {
   "cell_type": "code",
   "execution_count": null,
   "metadata": {},
   "outputs": [],
   "source": [
    "D = {'a' : (1, 3, 5), \n",
    "     'b' : (2, 4, 6), \n",
    "     'c' : (1, -1, 0), \n",
    "     'd' : (4, 9, 8)} # cada valor es una tupla de longitud 3\n",
    "print(D)"
   ]
  },
  {
   "cell_type": "markdown",
   "metadata": {},
   "source": [
    "La función `multidict` se usa para separar este diccionario en una lista que contiene las claves de `D`, y $k$   diccionarios, cada uno formado por las claves y uno de los elementos de las tuplas:"
   ]
  },
  {
   "cell_type": "code",
   "execution_count": null,
   "metadata": {},
   "outputs": [],
   "source": [
    "(claves, primera, segunda, tercera) = gp.multidict(D)\n",
    "print(claves)\n",
    "print(primera)\n",
    "print(segunda)\n",
    "print(tercera)"
   ]
  },
  {
   "cell_type": "markdown",
   "metadata": {},
   "source": [
    "Las claves del diccionario original pueden ser a su vez tuplas. En este caso, la lista de claves es del tipo `tuplelist`. Esto es útil en la formulación de muchos modelos de optimización. "
   ]
  },
  {
   "cell_type": "code",
   "execution_count": null,
   "metadata": {},
   "outputs": [],
   "source": [
    "# Diccionario con datos de entrada:\n",
    "# arcos : capacidades, costos\n",
    "datos = {(1,2) : (3, 5), \n",
    "         (1,3) : (4, 4), \n",
    "         (1,4) : (5, 3),\n",
    "         (2,3) : (1, 1),\n",
    "         (4,3) : (0, 7)}\n",
    "arcos, capacidades, costos = gp.multidict(datos)\n",
    "print(arcos)\n",
    "print(capacidades)\n",
    "print(costos)"
   ]
  },
  {
   "cell_type": "markdown",
   "metadata": {},
   "source": [
    "## Construcción de expresiones generales con quicksum\n",
    "\n",
    "Algunas expresiones lineales más generales no pueden ser construidas empleando los métodos `prod` o `sum`. Considerar el siguiente ejemplo:"
   ]
  },
  {
   "cell_type": "code",
   "execution_count": null,
   "metadata": {},
   "outputs": [],
   "source": [
    "# Conjunto de instalaciones\n",
    "I = [i+1 for i in range(5)]\n",
    "\n",
    "# Conjunto de clientes\n",
    "J = [i+1 for i in range(10)]\n",
    "\n",
    "# Demandas de los clientes\n",
    "d = gp.tupledict({1 : 1, 2 : 2, 3 : 2, 4 : 3,  5 : 1,\n",
    "                  6 : 3, 7 : 2, 8 : 3, 9 : 1, 10 : 2})\n",
    "\n",
    "# Variables de asignación binarias\n",
    "m = gp.Model('ejemplo')\n",
    "x = m.addVars(I, J, vtype= GRB.BINARY, name= \"x\")\n",
    "m.update()\n",
    "\n",
    "print(\"Instalaciones: {}\".format(I))\n",
    "print(\"Clientes: {}\".format(J))\n",
    "print()\n",
    "print(\"Demandas: {}\\n\".format(d))\n",
    "print(\"Variables de asignación: {}\".format(x))"
   ]
  },
  {
   "cell_type": "markdown",
   "metadata": {},
   "source": [
    "Dados un conjunto $J$ de clientes y un conjunto $I$ de instalaciones donde estos pueden ser atendidos, las variables binarias $x_{ij}$ indican una posible asignación de clientes a instalaciones, mientras que los parámetros $d_j$ reflejan la demanda de los clientes.  Suponer que se requiere calcular la demanda total de los clientes atendidos en una determinada instalación $i \\in I$ (fija). Notar que este valor está dado por la expresión:\n",
    "\n",
    "$$\n",
    "\\sum_{j \\in J} d_j x_{ij}.\n",
    "$$\n",
    "\n",
    "Este valor no puede ser calculado llamando al método `prod`, porque los diccionarios `d` y `x` no están indexados por las mismas claves. En este caso, puede usarse una expresión generadora de Python para construir los términos de la suma y llamar a la función `quicksum` para agregarlos:"
   ]
  },
  {
   "cell_type": "code",
   "execution_count": null,
   "metadata": {},
   "outputs": [],
   "source": [
    "# Calcular la demanda total atendida por la instalación i=1\n",
    "i = 1\n",
    "print(gp.quicksum(d[j]*x[i,j] for j in J))"
   ]
  },
  {
   "cell_type": "markdown",
   "metadata": {},
   "source": [
    "A diferencia de la función `sum` de Python, la función `quicksum` definida en el API de Gurobi acepta solamente términos que sean expresiones lineales y está optimizada para calcular la suma eficientemente."
   ]
  },
  {
   "cell_type": "code",
   "execution_count": null,
   "metadata": {},
   "outputs": [],
   "source": []
  }
 ],
 "metadata": {
  "kernelspec": {
   "display_name": "Python 3 (ipykernel)",
   "language": "python",
   "name": "python3"
  },
  "language_info": {
   "codemirror_mode": {
    "name": "ipython",
    "version": 3
   },
   "file_extension": ".py",
   "mimetype": "text/x-python",
   "name": "python",
   "nbconvert_exporter": "python",
   "pygments_lexer": "ipython3",
   "version": "3.8.10"
  }
 },
 "nbformat": 4,
 "nbformat_minor": 2
}
