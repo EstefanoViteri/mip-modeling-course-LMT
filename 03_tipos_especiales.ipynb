{
 "cells": [
  {
   "cell_type": "markdown",
   "metadata": {},
   "source": [
    "# Cuaderno 11: Funciones y tipos de datos especiales\n",
    "\n",
    "La interfaz Python de Gurobi define funciones y tipos de datos (clases) especialmente diseñados para la formulación de modelos de programación matemática. Revisaremos en este cuaderno los tipos `tuplelist` y `tupledict`, y la función `multidict`.\n",
    "\n",
    "Para utilizarlos es necesario importar el módulo de Gurobi:"
   ]
  },
  {
   "cell_type": "code",
   "execution_count": 2,
   "metadata": {},
   "outputs": [],
   "source": [
    "from gurobipy import *"
   ]
  },
  {
   "cell_type": "markdown",
   "metadata": {},
   "source": [
    "## La clase tuplelist\n",
    "\n",
    "La clase `tuplelist` es un tipo especial de lista cuyos elementos son tuplas de longitud constante:"
   ]
  },
  {
   "cell_type": "code",
   "execution_count": 5,
   "metadata": {},
   "outputs": [
    {
     "name": "stdout",
     "output_type": "stream",
     "text": [
      "<gurobi.tuplelist (6 tuples, 2 values each):\n",
      " ( 1 , 2 )\n",
      " ( 1 , 3 )\n",
      " ( 1 , 4 )\n",
      " ( 2 , 5 )\n",
      " ( 3 , 4 )\n",
      " ( 4 , 3 )\n",
      ">\n"
     ]
    }
   ],
   "source": [
    "L = tuplelist([(1, 2), (1, 3), (1, 4), (2, 5), (3, 4), (4, 3)])\n",
    "print(L)"
   ]
  },
  {
   "cell_type": "markdown",
   "metadata": {},
   "source": [
    "Un objeto de tipo `tuplelist` puede acceder a todas las funciones y métodos de una lista común:"
   ]
  },
  {
   "cell_type": "code",
   "execution_count": 6,
   "metadata": {},
   "outputs": [
    {
     "name": "stdout",
     "output_type": "stream",
     "text": [
      "<gurobi.tuplelist (7 tuples, 2 values each):\n",
      " ( 1 , 2 )\n",
      " ( 1 , 3 )\n",
      " ( 1 , 4 )\n",
      " ( 2 , 5 )\n",
      " ( 3 , 4 )\n",
      " ( 4 , 3 )\n",
      " ( 3 , 1 )\n",
      ">\n",
      "<gurobi.tuplelist (6 tuples, 2 values each):\n",
      " ( 1 , 2 )\n",
      " ( 1 , 3 )\n",
      " ( 1 , 4 )\n",
      " ( 2 , 5 )\n",
      " ( 3 , 4 )\n",
      " ( 4 , 3 )\n",
      ">\n",
      "<gurobi.tuplelist (7 tuples, 2 values each):\n",
      " ( 1 , 5 )\n",
      " ( 1 , 2 )\n",
      " ( 1 , 3 )\n",
      " ( 1 , 4 )\n",
      " ( 2 , 5 )\n",
      " ( 3 , 4 )\n",
      " ( 4 , 3 )\n",
      ">\n"
     ]
    }
   ],
   "source": [
    "L.append((3, 1))\n",
    "print(L)\n",
    "L.pop()\n",
    "print(L)\n",
    "L.insert(0, (1, 5))\n",
    "print(L)"
   ]
  },
  {
   "cell_type": "markdown",
   "metadata": {},
   "source": [
    "Adicionalmente, un objeto `tuplelist`tiene un método `select` que retorna una sublista con las tuplas que cumplan determinados criterios:"
   ]
  },
  {
   "cell_type": "code",
   "execution_count": 7,
   "metadata": {},
   "outputs": [
    {
     "name": "stdout",
     "output_type": "stream",
     "text": [
      "<gurobi.tuplelist (7 tuples, 2 values each):\n",
      " ( 1 , 5 )\n",
      " ( 1 , 2 )\n",
      " ( 1 , 3 )\n",
      " ( 1 , 4 )\n",
      " ( 2 , 5 )\n",
      " ( 3 , 4 )\n",
      " ( 4 , 3 )\n",
      ">\n",
      "<gurobi.tuplelist (4 tuples, 2 values each):\n",
      " ( 1 , 5 )\n",
      " ( 1 , 2 )\n",
      " ( 1 , 3 )\n",
      " ( 1 , 4 )\n",
      ">\n",
      "<gurobi.tuplelist (1 tuples, 2 values each):\n",
      " ( 3 , 4 )\n",
      ">\n",
      "<gurobi.tuplelist (4 tuples, 2 values each):\n",
      " ( 1 , 3 )\n",
      " ( 4 , 3 )\n",
      " ( 1 , 4 )\n",
      " ( 3 , 4 )\n",
      ">\n"
     ]
    }
   ],
   "source": [
    "print(L)\n",
    "print(L.select(1, '*'))  # primera componente igual a 1\n",
    "print(L.select([2,3], 4)) # primera componente igual a 2 ó 3, segunda componente igual a 4\n",
    "print(L.select('*', [3, 4])) # segunda componente igual a 3 ó 4"
   ]
  },
  {
   "cell_type": "markdown",
   "metadata": {},
   "source": [
    "Notar que la selección de tuplas del ejemplo anterior también podría hacerse con inclusiones de listas (*list comprehensions*). Sin embargo, el método `select` es computacionalmente mucho más eficiente."
   ]
  },
  {
   "cell_type": "code",
   "execution_count": 8,
   "metadata": {},
   "outputs": [
    {
     "name": "stdout",
     "output_type": "stream",
     "text": [
      "[(1, 5), (1, 2), (1, 3), (1, 4)]\n",
      "[(3, 4)]\n",
      "[(1, 3), (1, 4), (3, 4), (4, 3)]\n"
     ]
    }
   ],
   "source": [
    "# primera componente igual a 1\n",
    "print([(i, j) for (i, j) in L if i==1])  \n",
    "# primera componente igual a 2 ó 3, segunda componente igual a 4\n",
    "print([(i, j) for (i, j) in L if i in [2,3] and j==4])  \n",
    "# segunda componente igual a 3 ó 4\n",
    "print([(i, j) for (i, j) in L if j in [3, 4]])  "
   ]
  },
  {
   "cell_type": "markdown",
   "metadata": {},
   "source": [
    "## La clase tupledict\n",
    "\n",
    "La clase `tupledict` representa un tipo especial de diccionarios cuyas claves son tuplas de longitud constante. "
   ]
  },
  {
   "cell_type": "code",
   "execution_count": 13,
   "metadata": {},
   "outputs": [
    {
     "name": "stdout",
     "output_type": "stream",
     "text": [
      "{(1, 2): 3, (1, 3): 4.5, (1, 4): 5, (2, 3): 1.1, (4, 3): 0.33}\n"
     ]
    }
   ],
   "source": [
    "# ejemplo capacidades de los arcos de un grafo\n",
    "u = tupledict({(1,2) : 3, \n",
    "               (1,3) : 4.5, \n",
    "               (1,4) : 5,\n",
    "               (2,3) : 1.1,\n",
    "               (4,3) : 0.33})\n",
    "print(u)"
   ]
  },
  {
   "cell_type": "markdown",
   "metadata": {},
   "source": [
    "Pueden usarse todas las fuciones de un diccionario común. La lista de claves es un objeto del tipo `tuplelist`."
   ]
  },
  {
   "cell_type": "code",
   "execution_count": 17,
   "metadata": {},
   "outputs": [
    {
     "name": "stdout",
     "output_type": "stream",
     "text": [
      "1.1\n",
      "<gurobi.tuplelist (6 tuples, 2 values each):\n",
      " ( 1 , 4 )\n",
      " ( 4 , 1 )\n",
      " ( 1 , 2 )\n",
      " ( 1 , 3 )\n",
      " ( 2 , 3 )\n",
      " ( 4 , 3 )\n",
      ">\n",
      "{(1, 2): 3, (1, 3): 4.5, (1, 4): 6, (2, 3): 1.1, (4, 3): 0.33, (4, 1): 7}\n"
     ]
    }
   ],
   "source": [
    "print(u[2,3])\n",
    "print(u.keys())\n",
    "u[1,4] = 6  # notar que los paréntesis no son necesarios para referirse a la clave\n",
    "u[4,1] = 7  # es lo mismo que u[(4,1)] = 7\n",
    "print(u)"
   ]
  },
  {
   "cell_type": "markdown",
   "metadata": {},
   "source": [
    "Como la lista de claves es un `tuplelist` puede emplearse la función `select` para iterar sobre ella: "
   ]
  },
  {
   "cell_type": "code",
   "execution_count": 26,
   "metadata": {},
   "outputs": [
    {
     "name": "stdout",
     "output_type": "stream",
     "text": [
      "Nodos sucesores al 1 y sus capacidades:\n",
      "4\t\t6\n",
      "2\t\t3\n",
      "3\t\t4.5\n"
     ]
    }
   ],
   "source": [
    "print('Nodos sucesores al 1 y sus capacidades:')\n",
    "for i, j in u.keys().select(1, '*'):\n",
    "    print('{}\\t\\t{}'.format(j, u[i,j]))\n"
   ]
  },
  {
   "cell_type": "markdown",
   "metadata": {},
   "source": [
    "Adicionalmente, la clase `tupledict` tienen dos métodos diseñados especialmente para facilitar la creación de expresiones lineales: `sum` y `prod`.\n",
    "\n",
    "El método `sum` suma aquellos valores del diccionario cuyas claves satisfagan un criterio de selección:"
   ]
  },
  {
   "cell_type": "code",
   "execution_count": 27,
   "metadata": {},
   "outputs": [
    {
     "name": "stdout",
     "output_type": "stream",
     "text": [
      "{(1, 2): 3, (1, 3): 4.5, (1, 4): 6, (2, 3): 1.1, (4, 3): 0.33, (4, 1): 7}\n",
      "<gurobi.LinExpr: 13.5>\n",
      "<gurobi.LinExpr: 7.5>\n"
     ]
    }
   ],
   "source": [
    "print(u)\n",
    "print(u.sum(1, '*'))  # sumar las capacidades de los arcos salientes de 1\n",
    "print(u.sum(1, [2,3])) # sumar las capacidades de los arcos que salen de 1, y van a 2 ó 3"
   ]
  },
  {
   "cell_type": "markdown",
   "metadata": {},
   "source": [
    "El método `prod` requiere de otro diccionario de coeficientes `c` que tenga las mismas claves que el diccionario actual `u`. Este método realiza las siguientes operaciones:\n",
    "1. Para cada clave que satisface un criterio de selección, se multiplican los valores correspondientes de ambos diccionarios\n",
    "2. Se suman los resultados de todos los productos\n"
   ]
  },
  {
   "cell_type": "code",
   "execution_count": 21,
   "metadata": {},
   "outputs": [
    {
     "name": "stdout",
     "output_type": "stream",
     "text": [
      "u = {(1, 2): 3, (1, 3): 4.5, (1, 4): 6, (2, 3): 1.1, (4, 3): 0.33, (4, 1): 7}\n",
      "c = {(1, 2): 2, (1, 3): 1, (1, 4): 2, (2, 3): 3, (4, 3): 4, (4, 1): 5}\n",
      "<gurobi.LinExpr: 22.5>\n",
      "<gurobi.LinExpr: 10.5>\n"
     ]
    }
   ],
   "source": [
    "# ejemplo capacidades de los arcos de un grafo\n",
    "c = tupledict({(1,2) : 2, \n",
    "               (1,3) : 1, \n",
    "               (1,4) : 2,\n",
    "               (2,3) : 3,\n",
    "               (4,3) : 4,\n",
    "               (4,1) : 5})\n",
    "# calcular c(1,2)*u(1,2) + c(1,3)*u(1,3) + c(1,4)*(1,4)\n",
    "print(\"u = {}\".format(u))\n",
    "print(\"c = {}\".format(c))\n",
    "print(u.prod(c, 1, '*'))\n",
    "# calcular c(1,2)*u(1,2) + c(1,3)*u(1,3) \n",
    "print(u.prod(c, 1, [2,3]))"
   ]
  },
  {
   "cell_type": "markdown",
   "metadata": {},
   "source": [
    "Al igual que lo que ocurre con la función `select`, las funciones `sum` y `prod` podrían implementarse usando lazos, pero su ventaja radica en que son computacionalmente más eficientes."
   ]
  },
  {
   "cell_type": "markdown",
   "metadata": {},
   "source": [
    "## La función multidict\n",
    "\n",
    "Suponer que se tiene un diccionario en el que los *valores* son siempre *tuplas de longitud constante* $k$:"
   ]
  },
  {
   "cell_type": "code",
   "execution_count": 22,
   "metadata": {},
   "outputs": [
    {
     "name": "stdout",
     "output_type": "stream",
     "text": [
      "{'a': (1, 3, 5), 'b': (2, 4, 6), 'c': (1, -1, 0), 'd': (4, 9, 8)}\n"
     ]
    }
   ],
   "source": [
    "D = {'a' : (1, 3, 5), 'b' : (2, 4, 6), 'c' : (1, -1, 0), 'd' : (4, 9, 8)} # cada valor es una tupla de longitud 3\n",
    "print(D)"
   ]
  },
  {
   "cell_type": "markdown",
   "metadata": {},
   "source": [
    "La función `multidict` se usa para separar este diccionario en una lista que contiene las claves de `D`, y $k$   diccionarios, cada uno formado por las claves y uno de los elementos de las tuplas:"
   ]
  },
  {
   "cell_type": "code",
   "execution_count": 24,
   "metadata": {},
   "outputs": [
    {
     "name": "stdout",
     "output_type": "stream",
     "text": [
      "['a', 'b', 'c', 'd']\n",
      "{'a': 1, 'b': 2, 'c': 1, 'd': 4}\n",
      "{'a': 3, 'b': 4, 'c': -1, 'd': 9}\n",
      "{'a': 5, 'b': 6, 'c': 0, 'd': 8}\n"
     ]
    }
   ],
   "source": [
    "(claves, primera, segunda, tercera) = multidict(D)\n",
    "print(claves)\n",
    "print(primera)\n",
    "print(segunda)\n",
    "print(tercera)"
   ]
  },
  {
   "cell_type": "markdown",
   "metadata": {},
   "source": [
    "Las claves del diccionario original pueden ser a su vez tuplas. En este caso, la lista de claves es del tipo `tuplelist` que se describe en la próxima sesión. Esto es útil en la formulación de muchos modelos de optimización. "
   ]
  },
  {
   "cell_type": "code",
   "execution_count": 25,
   "metadata": {},
   "outputs": [
    {
     "name": "stdout",
     "output_type": "stream",
     "text": [
      "<gurobi.tuplelist (5 tuples, 2 values each):\n",
      " ( 1 , 2 )\n",
      " ( 1 , 3 )\n",
      " ( 1 , 4 )\n",
      " ( 2 , 3 )\n",
      " ( 4 , 3 )\n",
      ">\n",
      "{(1, 2): 3, (1, 3): 4, (1, 4): 5, (2, 3): 1, (4, 3): 0}\n",
      "{(1, 2): 5, (1, 3): 4, (1, 4): 3, (2, 3): 1, (4, 3): 7}\n"
     ]
    }
   ],
   "source": [
    "# Diccionario con datos de entrada:\n",
    "# arcos : capacidades, costos\n",
    "datos = {(1,2) : (3, 5), \n",
    "         (1,3) : (4, 4), \n",
    "         (1,4) : (5, 3),\n",
    "         (2,3) : (1, 1),\n",
    "         (4,3) : (0, 7)}\n",
    "arcos, capacidades, costos = multidict(datos)\n",
    "print(arcos)\n",
    "print(capacidades)\n",
    "print(costos)"
   ]
  },
  {
   "cell_type": "markdown",
   "metadata": {},
   "source": [
    "## Recordatorio: Expresiones generadoras\n",
    "\n",
    "Las expresiones generadoras (o simplemente generadores) son parte de la sintaxis regular del lenguaje Python. Permiten construir listas (u otros iterables) \"sobre la marcha\", generalmente para utilizarlas en funciones. \n",
    "\n",
    "Los generadores emplean la misma sintaxis que las inclusiones (*list comprehensions*).\n",
    "\n",
    "Ejemplo: Dados"
   ]
  },
  {
   "cell_type": "code",
   "execution_count": 26,
   "metadata": {},
   "outputs": [
    {
     "name": "stdout",
     "output_type": "stream",
     "text": [
      "{1: 1, 2: 2, 3: 2, 4: 7}\n",
      "{(1, 2): 3, (1, 3): 4.5, (1, 4): 5, (2, 3): 1.1, (2, 4): 0.33}\n"
     ]
    }
   ],
   "source": [
    "u = tupledict({(1,2) : 3, \n",
    "               (1,3) : 4.5, \n",
    "               (1,4) : 5,\n",
    "               (2,3) : 1.1,\n",
    "               (2,4) : 0.33})\n",
    "d = tupledict({1 : 1, 2: 2, 3 : 2, 4 : 7})\n",
    "print(d)\n",
    "print(u)"
   ]
  },
  {
   "cell_type": "markdown",
   "metadata": {},
   "source": [
    "Suponer que queremos calcular el valor de $\\sum_{(2,j)} d_j u_{2,j} = d_3 u_{2,3} + d_4 u_{2,4}$. \n",
    "\n",
    "Una posibilidad es usar inclusiones para construir una lista con los términos del sumatorio, y luego llamar a la función `quicksum` para sumar los elementos de la lista:"
   ]
  },
  {
   "cell_type": "code",
   "execution_count": 33,
   "metadata": {},
   "outputs": [
    {
     "name": "stdout",
     "output_type": "stream",
     "text": [
      "[2.2, 2.31]\n",
      "<gurobi.LinExpr: 4.51>\n"
     ]
    }
   ],
   "source": [
    "L = [d[j]*u[i,j] for i,j in u.keys().select(2, '*')]\n",
    "print(L)\n",
    "print(quicksum(L))"
   ]
  },
  {
   "cell_type": "markdown",
   "metadata": {},
   "source": [
    "Otra posibilidad es usar directamente un generador como argumento de la función `quicksum`:"
   ]
  },
  {
   "cell_type": "code",
   "execution_count": 27,
   "metadata": {},
   "outputs": [
    {
     "name": "stdout",
     "output_type": "stream",
     "text": [
      "<gurobi.LinExpr: 4.51>\n"
     ]
    }
   ],
   "source": [
    "print(quicksum(d[j]*u[i,j] for i,j in u.keys().select(2, '*')))"
   ]
  },
  {
   "cell_type": "code",
   "execution_count": null,
   "metadata": {},
   "outputs": [],
   "source": []
  }
 ],
 "metadata": {
  "kernelspec": {
   "display_name": "Python 3",
   "language": "python",
   "name": "python3"
  },
  "language_info": {
   "codemirror_mode": {
    "name": "ipython",
    "version": 3
   },
   "file_extension": ".py",
   "mimetype": "text/x-python",
   "name": "python",
   "nbconvert_exporter": "python",
   "pygments_lexer": "ipython3",
   "version": "3.7.6"
  }
 },
 "nbformat": 4,
 "nbformat_minor": 2
}
