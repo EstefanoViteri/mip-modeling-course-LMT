{
 "cells": [
  {
   "cell_type": "markdown",
   "metadata": {},
   "source": [
    "# Cuaderno 19: Problema del conjunto estable de peso máximo\n",
    "\n",
    "$\\newcommand{\\card}[1]{\\left| #1 \\right|}$\n",
    "$\\newcommand{\\tabulatedset}[1]{\\left\\{ #1 \\right\\}}$\n",
    "$\\newcommand{\\ZZ}{\\mathbb{Z}}$\n",
    "$\\newcommand{\\RR}{\\mathbb{R}}$\n",
    "\n",
    "Dados: \n",
    "* un grafo no dirigido $G=(V,E)$; y,\n",
    "* un vector $w \\in \\ZZ^{V}$ de pesos asociados a los nodos de $G$.\n",
    "\n",
    "Un *conjunto estable* en G es un conjunto de nodos $S \\subset V$ mutuamente no adyacentes entre sí, es decir, con la propiedad de que ninguna arista del grafo tiene ambos extremos en $S$. El problema del conjunto estable de peso máximo consiste en encontrar un conjunto estable en G con el mayor peso posible, donde el peso de un conjunto $S$ se define como la suma de los pesos de los nodos contenidos en el mismo. \n",
    "\n",
    "Utilizando variables binarias $x_i$ para la selección de nodos, el problema del conjunto estable de peso máximo puede formularse como el siguiente programa lineal entero:\n",
    "\n",
    "\\begin{align*}\n",
    "\\max &\\sum_{i \\in V} w_{i} x_{i}\\\\ \n",
    "& \\mbox{s.r.}\\\\\n",
    "& x_i + x_j \\leq 1 , \\quad \\forall ij \\in E,\\\\\n",
    "& x_{i} \\in \\{0, 1\\}, \\quad \\forall i \\in V.\n",
    "\\end{align*}\n",
    "\n",
    "La función objetivo mide el peso del conjunto de nodos seleccionado.\n",
    "\n",
    "La primera familia de restricciones establece que ningún par de nodos conectados con una arista pueden ser seleccionados a la vez.\n",
    "\n",
    "Vamos a implementar este modelo usando la interfaz Python de Gurobi.\n",
    "\n"
   ]
  },
  {
   "cell_type": "markdown",
   "metadata": {},
   "source": [
    "Definimos primero los datos. Al tratarse de un grafo no dirigido, orientamos arbitrariamente cada arista de $E$ (por ejemplo, poniendo primero el nodo con el menor índice."
   ]
  },
  {
   "cell_type": "code",
   "execution_count": null,
   "metadata": {},
   "outputs": [],
   "source": [
    "from gurobipy import *\n",
    "# from random import randint, random\n",
    "\n",
    "# Nodos del grafo y sus pesos\n",
    "V, w = multidict(tupledict({\n",
    "     1 : 5, 2 : 6, 3 : 6,\n",
    "     4 : 5, 5 : 5, 6 : 4,\n",
    "     7 : 6, 8 : 5, 9 : 4, 10 : 6}))\n",
    "\n",
    "# Aristas del grafo\n",
    "E = tuplelist([(1, 2), (1, 3),\n",
    "               (2, 4), (2, 5),\n",
    "               (3, 4), (3, 6),\n",
    "               (5, 6), (1, 7),\n",
    "               (3, 7), (5, 7),\n",
    "               (2, 8), (4, 8),\n",
    "               (5, 8), (3, 9),\n",
    "               (6, 9), (7, 9),\n",
    "               (3, 10), (4, 10),\n",
    "               (8, 10)]) \n",
    "\n",
    "\n",
    "# El siguiente código genera un grafo aleatorio con n nodos\n",
    "# n = 1000\n",
    "# V = range(1, n+1)\n",
    "# w = {i : randint(6, 10) for i in V} \n",
    "# E = [(i,j) for i in V for j in V if i <j and random()<0.5]\n",
    "print(list(V))\n",
    "print(w)\n",
    "print(E)\n"
   ]
  },
  {
   "cell_type": "markdown",
   "metadata": {},
   "source": [
    "Podemos dibujar esta instancia del problema empleando los módulos `ipycytoscape` y `networkx`:"
   ]
  },
  {
   "cell_type": "code",
   "execution_count": null,
   "metadata": {
    "scrolled": true
   },
   "outputs": [],
   "source": [
    "import networkx as nx\n",
    "import ipycytoscape\n",
    "D = nx.Graph()\n",
    "D.add_nodes_from(V)\n",
    "for i in V:\n",
    "    D.nodes[i]['etiq']= '{}\\n{}'.format(i, w[i])\n",
    "    D.nodes[i]['color'] =  '#9dbaea' #if vx[i,j]<=0.1 else '#ff007f'\n",
    "D.add_edges_from(E)\n",
    "grafo = ipycytoscape.CytoscapeWidget()\n",
    "grafo.graph.add_graph_from_networkx(D, directed=False)\n",
    "grafo.set_style([{'selector': 'node', 'style' : {'background-color': 'data(color)', 'font-family': 'helvetica', 'font-size': '10px', 'color':'white', 'label': 'data(etiq)', 'text-wrap' : 'wrap', 'text-valign' : 'center'}}, \n",
    "                    {'selector': 'node:parent', 'css': {'background-opacity': 0.333}, 'style' : {'font-family': 'helvetica', 'font-size': '10px', 'label': 'data(etiq)'}}, \n",
    "                    {'selector': 'edge', 'style': {'width': 4, 'line-color': '#9dbaea', 'font-size': '10px', 'label': 'data(etiq)', 'text-valign' : 'top', 'text-margin-y' : '-10px'}}, \n",
    "                    {'selector': 'edge.directed', 'style': {'curve-style': 'bezier', 'target-arrow-shape': 'triangle', 'target-arrow-color': 'data(color)'}}])\n",
    "grafo"
   ]
  },
  {
   "cell_type": "markdown",
   "metadata": {},
   "source": [
    "Definimos ahora el objeto modelo, las variables y la función objetivo."
   ]
  },
  {
   "cell_type": "code",
   "execution_count": null,
   "metadata": {},
   "outputs": [],
   "source": [
    "# Crear el objeto modelo\n",
    "m = Model('maxstab')\n",
    "\n",
    "# Crear las variables de seleccion de nodos\n",
    "x = m.addVars(V, name=\"x\", vtype=GRB.BINARY)\n",
    "\n",
    "# Crear la funcion objetivo\n",
    "m.setObjective(x.prod(w,'*'), GRB.MAXIMIZE)\n"
   ]
  },
  {
   "cell_type": "markdown",
   "metadata": {},
   "source": [
    "Añadimos las restricciones de conflictos de aristas:"
   ]
  },
  {
   "cell_type": "code",
   "execution_count": null,
   "metadata": {},
   "outputs": [],
   "source": [
    "# Restricciones de aristas\n",
    "m.addConstrs((x[i] + x[j]  <= 1 for i,j in E), \n",
    "                 \"arista\")\n"
   ]
  },
  {
   "cell_type": "markdown",
   "metadata": {},
   "source": [
    "Escribimos el modelo a un archivo de texto:"
   ]
  },
  {
   "cell_type": "code",
   "execution_count": null,
   "metadata": {},
   "outputs": [],
   "source": [
    "# Escribir el modelo a un archivo\n",
    "m.write('maxstab.lp')\n"
   ]
  },
  {
   "cell_type": "markdown",
   "metadata": {},
   "source": [
    "Finalmente, resolvemos el modelo y mostramos la solución:"
   ]
  },
  {
   "cell_type": "code",
   "execution_count": null,
   "metadata": {},
   "outputs": [],
   "source": [
    "# Calcular la solucion optima\n",
    "m.optimize()\n",
    "\n",
    "# Escribir la solucion\n",
    "if m.status == GRB.Status.OPTIMAL:\n",
    "    # Recuperar los valores de las variables\n",
    "    vx = m.getAttr('x', x)\n",
    "    print('\\nConjunto estable de peso maximo:')\n",
    "    print([i for i in V if vx[i]>=0.9])\n"
   ]
  },
  {
   "cell_type": "markdown",
   "metadata": {},
   "source": [
    "Grafiquemos ahora esta solución empleando los módulos `networkx` y `ipycytoscape`:"
   ]
  },
  {
   "cell_type": "code",
   "execution_count": null,
   "metadata": {},
   "outputs": [],
   "source": [
    "import networkx as nx\n",
    "import ipycytoscape\n",
    "D = nx.Graph()\n",
    "D.add_nodes_from(V)\n",
    "for i in V:\n",
    "    D.nodes[i]['etiq']= '{}\\n{}'.format(i, w[i])\n",
    "    D.nodes[i]['color'] =  '#9dbaea' if vx[i]<=0.1 else '#ff007f'\n",
    "D.add_edges_from(E)\n",
    "grafo = ipycytoscape.CytoscapeWidget()\n",
    "grafo.graph.add_graph_from_networkx(D, directed=False)\n",
    "grafo.set_style([{'selector': 'node', 'style' : {'background-color': 'data(color)', 'font-family': 'helvetica', 'font-size': '10px', 'color':'white', 'label': 'data(etiq)', 'text-wrap' : 'wrap', 'text-valign' : 'center'}}, \n",
    "                    {'selector': 'node:parent', 'css': {'background-opacity': 0.333}, 'style' : {'font-family': 'helvetica', 'font-size': '10px', 'label': 'data(etiq)'}}, \n",
    "                    {'selector': 'edge', 'style': {'width': 4, 'line-color': '#9dbaea', 'font-size': '10px', 'label': 'data(etiq)', 'text-valign' : 'top', 'text-margin-y' : '-10px'}}, \n",
    "                    {'selector': 'edge.directed', 'style': {'curve-style': 'bezier', 'target-arrow-shape': 'triangle', 'target-arrow-color': 'data(color)'}}])\n",
    "grafo"
   ]
  },
  {
   "cell_type": "markdown",
   "metadata": {},
   "source": [
    "## Código completo\n",
    "\n",
    "Se reproduce a continuación el código completo del modelo anterior."
   ]
  },
  {
   "cell_type": "code",
   "execution_count": null,
   "metadata": {
    "scrolled": false
   },
   "outputs": [],
   "source": [
    "# Implementación de modelos lineales enteros\n",
    "# Problema del conjunto estable de peso maximo\n",
    "\n",
    "# Luis M. Torres (EPN 2021)\n",
    "\n",
    "from gurobipy import *\n",
    "import networkx as nx\n",
    "import ipycytoscape\n",
    "from random import randint,random\n",
    "\n",
    "# El siguiente código genera un grafo aleatorio con n nodos\n",
    "n = 400\n",
    "V = range(1, n+1)\n",
    "w = {i : randint(6, 10) for i in V} \n",
    "E = [(i,j) for i in V for j in V if i <j and random()<0.5]\n",
    "\n",
    "\n",
    "# Nodos del grafo y sus pesos\n",
    "# V, w = multidict(tupledict({\n",
    "#     1 : 5, 2 : 6, 3 : 6,\n",
    "#     4 : 5, 5 : 5, 6 : 4,\n",
    "#     7 : 6, 8 : 5, 9 : 4, 10 : 6}))\n",
    "\n",
    "# Aristas del grafo\n",
    "# E = tuplelist([(1, 2), (1, 3),\n",
    "#                (2, 4), (2, 5),\n",
    "#                (3, 4), (3, 6),\n",
    "#                (5, 6), (1, 7),\n",
    "#                (3, 7), (5, 7),\n",
    "#                (2, 8), (4, 8),\n",
    "#                (5, 8), (3, 9),\n",
    "#                (6, 9), (7, 9),\n",
    "#                (3, 10), (4, 10),\n",
    "#                (8, 10)]) \n",
    "\n",
    "try:\n",
    "    # Crear el objeto modelo\n",
    "    m = Model('maxstab')\n",
    "\n",
    "    # Crear las variables de seleccion de nodos\n",
    "    x = m.addVars(V, name=\"x\", vtype=GRB.BINARY)\n",
    "\n",
    "    # Crear la funcion objetivo\n",
    "    m.setObjective(x.prod(w,'*'), GRB.MAXIMIZE)\n",
    "\n",
    "    # Restricciones de aristas\n",
    "    m.addConstrs((x[i] + x[j]  <= 1 for i,j in E), \n",
    "                 \"arista\")\n",
    "\n",
    "    # Escribir el modelo a un archivo\n",
    "    m.write('maxstab.lp')\n",
    "\n",
    "    # Calcular la solucion optima\n",
    "    m.optimize()\n",
    "\n",
    "    # Escribir la solucion\n",
    "    if m.status == GRB.Status.OPTIMAL:\n",
    "        # Recuperar los valores de las variables\n",
    "        vx = m.getAttr('x', x)\n",
    "        print('\\nConjunto estable de peso maximo:')\n",
    "        print ([i for i in V if vx[i]>=0.9])\n",
    "        \n",
    "    # Graficar la solución\n",
    "    # D = nx.Graph()\n",
    "    # D.add_nodes_from(V)\n",
    "    # for i in V:\n",
    "    #     D.nodes[i]['etiq']= '{}\\n{}'.format(i, w[i])\n",
    "    #     D.nodes[i]['color'] =  '#9dbaea' if vx[i]<=0.1 else '#ff007f'\n",
    "    # D.add_edges_from(E)\n",
    "    # grafo = ipycytoscape.CytoscapeWidget()\n",
    "    # grafo.graph.add_graph_from_networkx(D, directed=False)\n",
    "    # grafo.set_style([{'selector': 'node', 'style' : {'background-color': 'data(color)', 'font-family': 'helvetica', 'font-size': '10px', 'color':'white', 'label': 'data(etiq)', 'text-wrap' : 'wrap', 'text-valign' : 'center'}}, \n",
    "    #                 {'selector': 'node:parent', 'css': {'background-opacity': 0.333}, 'style' : {'font-family': 'helvetica', 'font-size': '10px', 'label': 'data(etiq)'}}, \n",
    "    #                 {'selector': 'edge', 'style': {'width': 4, 'line-color': '#9dbaea', 'font-size': '10px', 'label': 'data(etiq)', 'text-valign' : 'top', 'text-margin-y' : '-10px'}}, \n",
    "    #                 {'selector': 'edge.directed', 'style': {'curve-style': 'bezier', 'target-arrow-shape': 'triangle', 'target-arrow-color': 'data(color)'}}])\n",
    "    \n",
    "except GurobiError as e:\n",
    "    print('Se produjo un error de Gurobi: codigo: ' + str(e.errno) + \": \" + str(e))\n",
    "\n",
    "except AttributeError:\n",
    "    print('Se produjo un error de atributo')"
   ]
  },
  {
   "cell_type": "code",
   "execution_count": null,
   "metadata": {},
   "outputs": [],
   "source": [
    "grafo"
   ]
  },
  {
   "cell_type": "code",
   "execution_count": null,
   "metadata": {},
   "outputs": [],
   "source": []
  }
 ],
 "metadata": {
  "kernelspec": {
   "display_name": "Python 3 (ipykernel)",
   "language": "python",
   "name": "python3"
  },
  "language_info": {
   "codemirror_mode": {
    "name": "ipython",
    "version": 3
   },
   "file_extension": ".py",
   "mimetype": "text/x-python",
   "name": "python",
   "nbconvert_exporter": "python",
   "pygments_lexer": "ipython3",
   "version": "3.8.12"
  }
 },
 "nbformat": 4,
 "nbformat_minor": 2
}
