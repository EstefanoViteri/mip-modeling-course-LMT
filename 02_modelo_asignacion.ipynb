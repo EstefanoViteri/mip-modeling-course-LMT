{
 "cells": [
  {
   "cell_type": "markdown",
   "metadata": {},
   "source": [
    "# Cuaderno 2: Problema de asignación óptima\n",
    "\n",
    "A menudo las variables y restricciones de un modelo de programación lineal (entera) dependen de índices que representan elementos de conjuntos finitos.\n",
    "\n",
    "Un ejemplo clásico de un problema que puede ser formulado como un programa lineal entero es el **problema de asignación óptima** (*assignment problem*).\n",
    "\n",
    "Se tienen dados un conjunto $I$ de personas y un conjunto $J$ de tareas. Se ha medido la afinidad de cada persona $i \\in I$ para desempeñar cada tarea $j \\in J$, expresando este valor a través de una calificación $c_{ij}$, donde una calificación más alta indica una mayor afinidad (es decir, una mayor destreza en el desempeño de la tarea por parte de la persona). Se desea asignar cada tarea a una persona, de tal forma que se maximice la suma de las calificaciones correspondientes a las asignaciones realizadas. Ninguna tarea puede ser asignada a más de una persona, y ninguna persona puede tener más de una tarea asignada.\n",
    "\n",
    "El problema de encontrar una asignación óptima puede ser formulado como el siguiente programa lineal entero.\n",
    "\n",
    "\\begin{align*}\n",
    "&\\max \\sum_{i \\in I} \\sum_{j \\in J} c_{ij} x_{ij} \\\\ \n",
    "&\\mbox{s.r.}\\\\\n",
    "& \\sum_{j \\in J} x_{ij} \\leq 1, \\quad \\forall i \\in I, \\\\\n",
    "& \\sum_{i \\in I} x_{ij} \\leq 1, \\quad \\forall j \\in J, \\\\\n",
    "& x_{ij} \\in \\{0, 1\\}, \\quad \\forall i \\in I, j \\in J.\n",
    "\\end{align*}\n",
    "\n",
    "Cada variable binaria de decisión $x_{ij}$ indica si una persona $i \\in I$ ha sido asignada a una tarea $j \\in J$. La función objetivo mide la calificación total de todas las asignaciones realizadas. \n",
    "\n",
    "La primera familia de restricciones expresa que ninguna persona puede tener más de una tarea asignada. Observar que existe una restricción por cada persona.\n",
    "\n",
    "La segunda familia de restricciones expresa que ninguna tarea puede ser asignada a más de una persona. Observar que existe una restricción por cada tarea.\n",
    "\n",
    "Vamos a implementar este modelo usando la interfaz Python de Gurobi. Primero es necesario importar módulo `gurobipy`:"
   ]
  },
  {
   "cell_type": "code",
   "execution_count": null,
   "metadata": {},
   "outputs": [],
   "source": [
    "import gurobipy as gp\n",
    "from gurobipy import GRB"
   ]
  },
  {
   "cell_type": "markdown",
   "metadata": {},
   "source": [
    "Consideraremos para este ejemplo un conjunto $I$ de cuatro personas y un conjunto $J$ de cuatro tareas. Definimos estos conjuntos como tuplas:"
   ]
  },
  {
   "cell_type": "code",
   "execution_count": null,
   "metadata": {},
   "outputs": [],
   "source": [
    "# tupla con el conjunto ordenado de personas\n",
    "I = ('Pablo', 'Carmen', 'Paula', 'Pedro', 'Jorge')\n",
    "# tupla con el conjunto ordenado de tareas\n",
    "J = ('base de datos', 'reportes', 'pruebas computacionales', \n",
    "     'formular modelo', 'conclusiones')\n",
    "\n",
    "print ('I:= {}'.format(I))\n",
    "print ('J:= {}'.format(J))"
   ]
  },
  {
   "cell_type": "markdown",
   "metadata": {},
   "source": [
    "Aunque en principio es posible utilizar directamente cadenas de caracteres como índices para variables y parámetros del modelo, pueden presentarse problemas con algunas funciones, sobre todo al si se utilizan caracteres especiales. Por ello, es una buena práctica de programación sustituir estos índices por números enteros y codificar las cadenas correspondientes dentro de diccionarios."
   ]
  },
  {
   "cell_type": "code",
   "execution_count": null,
   "metadata": {},
   "outputs": [],
   "source": [
    "# tuplas con los índices como enteros\n",
    "idxI = tuple(i+1 for i in range(len(I)))\n",
    "idxJ = tuple(i+1 for i in range(len(J)))\n",
    "\n",
    "# diccionarios para recuperar nombres\n",
    "nomI = {i : I[i-1] for i in idxI}\n",
    "nomJ = {i : J[i-1] for i in idxJ}\n",
    "\n",
    "print ('idxI:= {}'.format(idxI))\n",
    "print ('idxJ:= {}'.format(idxJ))\n",
    "print ('nomI:= {}'.format(nomI))\n",
    "print ('nomJ:= {}'.format(nomJ))"
   ]
  },
  {
   "cell_type": "markdown",
   "metadata": {},
   "source": [
    "Las calificaciones de todas las posibles asignaciones se almacenan en un diccionario `calif` indexado por los pares ordenados `(i,j)`  $\\in$ `idxI` $\\times$ `idxJ`: "
   ]
  },
  {
   "cell_type": "code",
   "execution_count": null,
   "metadata": {},
   "outputs": [],
   "source": [
    "# puntajes de afinidad persona-tarea\n",
    "calif = { \n",
    "    (1, 1) : 9, \n",
    "    (1, 2) : 10, \n",
    "    (1, 3) : 8, \n",
    "    (1, 4) : 9, \n",
    "    (1, 5) : 7, \n",
    "    (2, 1) : 10, \n",
    "    (2, 2) : 9, \n",
    "    (2, 3) : 8, \n",
    "    (2, 4) : 8, \n",
    "    (2, 5) : 10, \n",
    "    (3, 1) : 10, \n",
    "    (3, 2) : 8, \n",
    "    (3, 3) : 10, \n",
    "    (3, 4) : 9, \n",
    "    (3, 5) : 9, \n",
    "    (4, 1) : 9, \n",
    "    (4, 2) : 8, \n",
    "    (4, 3) : 8, \n",
    "    (4, 4) : 10,\n",
    "    (4, 5) : 9, \n",
    "    (5, 1) : 10, \n",
    "    (5, 2) : 9, \n",
    "    (5, 3) : 7, \n",
    "    (5, 4) : 9,\n",
    "    (5, 5) : 8} \n",
    "\n",
    "print('calif[{},{}]= {}'.format(nomI[1],nomJ[4],calif[1,4]))"
   ]
  },
  {
   "cell_type": "markdown",
   "metadata": {},
   "source": [
    "El siguiente paso es crear el objeto modelo:"
   ]
  },
  {
   "cell_type": "code",
   "execution_count": null,
   "metadata": {
    "scrolled": true
   },
   "outputs": [],
   "source": [
    "m = gp.Model('problema-asignacion')"
   ]
  },
  {
   "cell_type": "markdown",
   "metadata": {},
   "source": [
    "Para crear las variables del modelo, podemos llamar a la función `addVar` dentro de dos lazos anidados que recorran sobre todos elementos de las tuplas `I` y `J`. Los objetos retornados por la función pueden almacenarse en un diccionario indexado por por tuplas $(i,j)$, de tal forma que `x[i,j]` corresponda a la variable $x_{ij}$, para todo $i \\in I$ y $j \\in J$."
   ]
  },
  {
   "cell_type": "code",
   "execution_count": null,
   "metadata": {},
   "outputs": [],
   "source": [
    "# Creación de variables\n",
    "# Opción 1: Usar un lazo for \n",
    "# (no tomaremos esta opción)\n",
    "# x = {}\n",
    "# for i in I:\n",
    "#     for j in J:\n",
    "#         x[i,j]= m.addVar(vtype=GRB.BINARY, name=\"x[{},{}]\".format(i,j))"
   ]
  },
  {
   "cell_type": "markdown",
   "metadata": {},
   "source": [
    "Sin embargo, resulta más conveniente usar el método `addVars` de la clase `Model`. Este método permite crear una familia de variables indexadas por uno o más conjuntos iterables. En nuestro caso, las variables $x_{ij}$ están indexadas por todas las combinaciones de personas $i \\in I$ y tareas $j \\in J$. Por lo tanto, los dos primeros argumentos de la función serán `I` y `J`. El método `addVars` retorna un objeto de la clase `tupledict`, que es similar al diccionario de variables propuesto en la opción anterior, pero con funcionalidad adicional que resulta útil en la formulación del modelo.\n",
    "\n",
    "Estudiaremos la clase `tupledict` con mayor detalle en el [Cuaderno 3](https://epnecuador-my.sharepoint.com/:u:/g/personal/luis_torres_epn_edu_ec/EYfkOmOZV9xFuAK72sdprKIB5RQUskS495OKbL5LDeAj_A?e=FsMpy4)."
   ]
  },
  {
   "cell_type": "code",
   "execution_count": null,
   "metadata": {},
   "outputs": [],
   "source": [
    "# creamos variables x indexadas por I x J\n",
    "x = m.addVars(idxI, idxJ, vtype = GRB.BINARY, name=\"x\")\n",
    "m.update()\n",
    "print(x)\n",
    "print('---')\n",
    "print(type(x))\n",
    "print('---')\n",
    "for key, val in x.items():\n",
    "    print('{} : {}, {}'.format(key, val.varName, type(val)))\n",
    "print('---')\n",
    "print([x[i,j].varName for i in idxI for j in idxJ])"
   ]
  },
  {
   "cell_type": "markdown",
   "metadata": {},
   "source": [
    "Los demás argumentos de la función son los mismos que los argumentos de `addVar`. El argumento `name` en este caso no fija el nombre de la variable, sino un prefijo que es completado con las posibles combinaciones de los índices."
   ]
  },
  {
   "cell_type": "markdown",
   "metadata": {},
   "source": [
    "Definimos ahora la función objetivo. Notar que debemos llamar al método `setObjective` del objeto modelo, y debemos pasarle como primer parámetro al sumatorio $\\sum_{i \\in I} \\sum_{j \\in J} c_{ij} x_{ij}$. Para implementar este sumatorio, podríamos usar una expresión generadora (*list comprehension*) para construir una lista con los términos de la suma, y llamar luego a la función `sum`: "
   ]
  },
  {
   "cell_type": "code",
   "execution_count": null,
   "metadata": {},
   "outputs": [],
   "source": [
    "# Construcción del sumatorio en la función objetivo\n",
    "# Opción 1: Usar list comprehensions \n",
    "# (no tomaremos esta opción)\n",
    "# m.setObjective(sum([calif[i,j]*x[i,j] for i in I for j in J]), GRB.MAXIMIZE)"
   ]
  },
  {
   "cell_type": "markdown",
   "metadata": {},
   "source": [
    "Sin embargo, también podemos emplear una alternativa más concisa para definir el sumatorio, que consiste en llamar al método `prod` de la clase `tupledict` a la que pertenece el objeto `x`. (Estudiaremos con más detalle la clase `tupledict` en un próximo cuaderno)."
   ]
  },
  {
   "cell_type": "code",
   "execution_count": null,
   "metadata": {},
   "outputs": [],
   "source": [
    "# la función objetivo es la suma de c_ij x_ij sobre i en I y j en J\n",
    "m.setObjective(x.prod(calif, '*', '*'), GRB.MAXIMIZE)"
   ]
  },
  {
   "cell_type": "markdown",
   "metadata": {},
   "source": [
    "Para definir cada una de las familias de restricciones, podríamos llamar al método `addConstr` desde dentro de un lazo. En su lugar, emplearemos el método `addConstrs` que permite crear una familia completa de restricciones utilizando una expresión generadora.\n",
    "\n",
    "1. Cada persona puede tener asignada máximo una tarea: el primer parámetro de `addConstrs` es una expresión generadora que depende de la variable `i`, la misma que toma los valores de la tupla `I`. Para cada valor específico de `i`, el método `sum` de la clase `tupledict` se encarga de calcular la suma $\\sum_{j \\in J} x_{ij}$. El parámetro `asig_i` fija un nombre para la familia de restricciones. El nombre de cada restricción individual se genera automáticamente apendizando un sufijo con los elementos de `I`."
   ]
  },
  {
   "cell_type": "code",
   "execution_count": null,
   "metadata": {},
   "outputs": [],
   "source": [
    "# Cada persona puede tener asignada máximo una tarea\n",
    "cI = m.addConstrs((x.sum(i, '*') <= 1 for i in idxI), \"asig_i\") \n",
    "m.update()\n",
    "print(type(cI))\n",
    "print()\n",
    "print(cI)\n",
    "print()\n",
    "print([cI[i].getAttr('ConstrName') for i in idxI]) "
   ]
  },
  {
   "cell_type": "markdown",
   "metadata": {},
   "source": [
    "2. Cada tarea puede estar asignada máximo a una persona: utilizamos nuevamente el método `addConstrs`, cuyo primer parámetro es una expresión generadora que depende de la variable `j`, la misma que toma los valores de la tupla `J`. Para cada valor específico de `j`, el método `sum` de la clase `tupledict` se encarga de calcular la suma $\\sum_{i \\in I} x_{ij}$. El parámetro `asig_j` fija un nombre para la familia de restricciones."
   ]
  },
  {
   "cell_type": "code",
   "execution_count": null,
   "metadata": {},
   "outputs": [],
   "source": [
    "# Cada tarea puede estar asignada máximo a una persona\n",
    "cJ = m.addConstrs((x.sum('*', j) <= 1 for j in idxJ), \"asig_j\") \n",
    "m.update()\n",
    "print(cJ)"
   ]
  },
  {
   "cell_type": "markdown",
   "metadata": {},
   "source": [
    "Finalmente, resolvemos el modelo:"
   ]
  },
  {
   "cell_type": "code",
   "execution_count": null,
   "metadata": {},
   "outputs": [],
   "source": [
    "m.optimize()"
   ]
  },
  {
   "cell_type": "markdown",
   "metadata": {},
   "source": [
    "Terminada la optimización, podemos mostrar las soluciones. Notar que se usa la sintaxis `x[i,j]` para acceder a la variable $x_{ij}$, pues `x` es un diccionario cuyas claves son pares ordenados del conjunto $I \\times J$. Por otra parte, recordar que la propiedad `x` de un objeto tipo `gurobipy.Var`almacena el valor de una variable en la mejor solución encontrada durante el proceso de solución.\n",
    "\n",
    "Finalmente, notar que aunque las variables de asignación son enteras, no se usa la comparación `x[i, j].x == 1` sino la comparación más segura `x[i, j].x >= 0.99`. Esto debido a que internamente Gurobi maneja tipos de datos de punto flotante para almacenar los valores de todas las variables, por lo que estos valores pueden estar sujetos a errores de aproximación dentro de ciertos rangos de tolerancia. Para conocer más acerca de los rangos de tolerancia empleados en Gurobi, se puede consultar el siguiente [enlace](https://www.gurobi.com/documentation/10.0/refman/tolerances_and_user_scalin.html)."
   ]
  },
  {
   "cell_type": "code",
   "execution_count": null,
   "metadata": {},
   "outputs": [],
   "source": [
    "for i in idxI:\n",
    "    for j in idxJ:\n",
    "        if x[i, j].x >= 0.99:\n",
    "            print(\"Tarea {}: asignada a {}.\".format(nomJ[j], nomI[i]))"
   ]
  },
  {
   "cell_type": "markdown",
   "metadata": {},
   "source": [
    "## Código completo\n",
    "\n",
    "Reproducimos a continuación el código completo del ejemplo:"
   ]
  },
  {
   "cell_type": "code",
   "execution_count": null,
   "metadata": {},
   "outputs": [],
   "source": [
    "# Curso de implementación de programas lineales enteros\n",
    "# Ejemplo: Modelo de asignación óptima\n",
    "# EPN (2023)\n",
    "\n",
    "import gurobipy as gp\n",
    "from gurobipy import GRB\n",
    "try:\n",
    "    # tupla con el conjunto ordenado de personas\n",
    "    I = ('Pablo', 'Carmen', 'Paula', 'Pedro', 'Jorge')\n",
    "    # tupla con el conjunto ordenado de tareas\n",
    "    J = ('base de datos', 'reportes', 'pruebas computacionales', 'formular modelo', 'conclusiones')\n",
    "\n",
    "    # tuplas con los índices como enteros\n",
    "    idxI = tuple(i+1 for i in range(len(I)))\n",
    "    idxJ = tuple(i+1 for i in range(len(J)))\n",
    "\n",
    "    # diccionarios para recuperar nombres\n",
    "    nomI = {i : I[i-1] for i in idxI}\n",
    "    nomJ = {i : J[i-1] for i in idxJ}\n",
    "    \n",
    "    # puntajes de afinidad persona-tarea\n",
    "    calif = { \n",
    "        (1, 1) :  9, (1, 2) : 10, (1, 3) :  8, (1, 4) :  9, (1, 5) :  7, \n",
    "        (2, 1) : 10, (2, 2) :  9, (2, 3) :  8, (2, 4) :  8, (2, 5) : 10, \n",
    "        (3, 1) : 10, (3, 2) :  8, (3, 3) : 10, (3, 4) :  9, (3, 5) :  9, \n",
    "        (4, 1) :  9, (4, 2) :  8, (4, 3) :  8, (4, 4) : 10, (4, 5) :  9, \n",
    "        (5, 1) : 10, (5, 2) :  9, (5, 3) :  7, (5, 4) :  9, (5, 5) :  8} \n",
    "\n",
    "    m = gp.Model('problema-asignacion')\n",
    "\n",
    "    # creamos variables x indexadas por I x J\n",
    "    x = m.addVars(idxI, idxJ, vtype = GRB.BINARY, name=\"x\")\n",
    "    \n",
    "    # la función objetivo es la suma de c_ij x_ij sobre i en I y j en J\n",
    "    m.setObjective(x.prod(calif, '*', '*'), GRB.MAXIMIZE)\n",
    "\n",
    "    # Restricciones\n",
    "    # Cada persona puede tener asignada máximo una tarea\n",
    "    m.addConstrs((x.sum(i, '*') <= 1 for i in idxI), \"asig_i\") \n",
    "\n",
    "    # Cada tarea puede estar asignada máximo a una persona\n",
    "    m.addConstrs((x.sum('*', j) <= 1 for j in idxJ), \"asig_j\") \n",
    "\n",
    "    # Resolver el modelo\n",
    "    m.optimize()\n",
    "\n",
    "    # Mostrar la solución\n",
    "    for i in idxI:\n",
    "        for j in idxJ:\n",
    "            if x[i, j].x >= 0.99:\n",
    "                print(\"Tarea {}: asignada a {}.\".format(nomJ[j], nomI[i]))\n",
    "            \n",
    "except GurobiError as e:\n",
    "    print('Código de error ' + str(e.errno) + \": \" + str(e))\n",
    "\n",
    "except AttributeError:\n",
    "    print('Se encontró un error de atributo')"
   ]
  },
  {
   "cell_type": "code",
   "execution_count": null,
   "metadata": {},
   "outputs": [],
   "source": []
  }
 ],
 "metadata": {
  "kernelspec": {
   "display_name": "Python 3",
   "language": "python",
   "name": "python3"
  },
  "language_info": {
   "codemirror_mode": {
    "name": "ipython",
    "version": 3
   },
   "file_extension": ".py",
   "mimetype": "text/x-python",
   "name": "python",
   "nbconvert_exporter": "python",
   "pygments_lexer": "ipython3",
   "version": "3.8.10"
  }
 },
 "nbformat": 4,
 "nbformat_minor": 2
}
