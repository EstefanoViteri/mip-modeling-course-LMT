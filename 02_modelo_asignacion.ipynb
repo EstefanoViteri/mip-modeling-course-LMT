{
 "cells": [
  {
   "cell_type": "markdown",
   "metadata": {},
   "source": [
    "# Cuaderno 10: Problema de asignación óptima\n",
    "\n",
    "A menudo las variables y restricciones de un modelo de programación lineal (entera) dependen de índices que representan elementos de conjuntos finitos.\n",
    "\n",
    "Un ejemplo clásico de un problema que puede ser formulado como un programa lineal entero es el **problema de asignación óptima** (*assignment problem*).\n",
    "\n",
    "Se tienen dados un conjunto $I$ de personas y un conjunto $J$ de tareas. Se ha medido la afinidad de cada persona $i \\in I$ para desempeñar cada tarea $j \\in J$, expresando este valor a través de una calificación $c_{ij}$, donde una calificación más alta indica una mayor afinidad (es decir, una mayor destreza en el desempeño de la tarea por parte de la persona). Se desea asignar cada tarea a una persona, de tal forma que se maximice la suma de las calificaciones correspondientes a las asignaciones realizadas. Ninguna tarea puede ser asignada a más de una persona, y ninguna persona puede tener más de una tarea asignada.\n",
    "\n",
    "El problema de encontrar una asignación óptima puede ser formulado como el siguiente programa lineal entero.\n",
    "\n",
    "\\begin{align*}\n",
    "&\\max \\sum_{i \\in I} \\sum_{j \\in J} c_{ij} x_{ij} \\\\ \n",
    "&\\mbox{s.r.}\\\\\n",
    "& \\sum_{j \\in J} x_{ij} \\leq 1, \\quad \\forall i \\in I, \\\\\n",
    "& \\sum_{i \\in I} x_{ij} \\leq 1, \\quad \\forall j \\in J, \\\\\n",
    "& x_{ij} \\in \\{0, 1\\}, \\quad \\forall i \\in I, j \\in J.\n",
    "\\end{align*}\n",
    "\n",
    "Cada variable binaria de decisión $x_{ij}$ indica si una persona $i \\in I$ ha sido asignada a una tarea $j \\in J$. La función objetivo mide la calificación total de todas las asignaciones realizadas. \n",
    "\n",
    "La primera familia de restricciones expresa que ninguna persona puede tener más de una tarea asignada. Observar que existe una restricción por cada persona.\n",
    "\n",
    "La segunda familia de restricciones expresa que ninguna tarea puede ser asignada a más de una persona. Observar que existe una restricción por cada tarea.\n",
    "\n",
    "Vas a implementar este modelo usando la interfaz Python de Gurobi. Primero es necesario importar módulo `gurobipy`:"
   ]
  },
  {
   "cell_type": "code",
   "execution_count": 14,
   "metadata": {},
   "outputs": [],
   "source": [
    "from gurobipy import *"
   ]
  },
  {
   "cell_type": "markdown",
   "metadata": {},
   "source": [
    "Consideraremos para este ejemplo un conjunto $I$ de cuatro personas y un conjunto $J$ de cuatro tareas. Definimos estos conjuntos como tuplas:"
   ]
  },
  {
   "cell_type": "code",
   "execution_count": 15,
   "metadata": {},
   "outputs": [
    {
     "name": "stdout",
     "output_type": "stream",
     "text": [
      "I:= ('Pablo', 'Carmen', 'Sofía', 'Pedro')\n",
      "J:= ('base de datos', 'módulo de reportes', 'análisis estadístico', 'modelo de optimización')\n"
     ]
    }
   ],
   "source": [
    "# tupla con el conjunto ordenado de personas\n",
    "I = ('Pablo', 'Carmen', 'Sofía', 'Pedro')\n",
    "# tupla con el conjunto ordenado de tareas\n",
    "J = ('base de datos', 'módulo de reportes', 'análisis estadístico', 'modelo de optimización')\n",
    "\n",
    "print ('I:= {}'.format(I))\n",
    "print ('J:= {}'.format(J))"
   ]
  },
  {
   "cell_type": "markdown",
   "metadata": {},
   "source": [
    "Las calificaciones de todas las posibles asignaciones se almacenan en un diccionario `calif` indexado por los pares ordenados $(i,j) \\in I \\times J$: "
   ]
  },
  {
   "cell_type": "code",
   "execution_count": 16,
   "metadata": {},
   "outputs": [],
   "source": [
    "# puntajes de afinidad persona-tarea\n",
    "calif = { \n",
    "    ('Pablo', 'base de datos') : 9, \n",
    "    ('Pablo', 'módulo de reportes') : 10, \n",
    "    ('Pablo', 'análisis estadístico') : 8, \n",
    "    ('Pablo', 'modelo de optimización') : 9, \n",
    "    ('Carmen', 'base de datos') : 10, \n",
    "    ('Carmen', 'módulo de reportes') : 9, \n",
    "    ('Carmen', 'análisis estadístico') : 8, \n",
    "    ('Carmen', 'modelo de optimización') : 8, \n",
    "    ('Sofía', 'base de datos') : 10, \n",
    "    ('Sofía', 'módulo de reportes') : 8, \n",
    "    ('Sofía', 'análisis estadístico') : 10, \n",
    "    ('Sofía', 'modelo de optimización') : 9, \n",
    "    ('Pedro', 'base de datos') : 9, \n",
    "    ('Pedro', 'módulo de reportes') : 8, \n",
    "    ('Pedro', 'análisis estadístico') : 8, \n",
    "    ('Pedro', 'modelo de optimización') : 10} \n"
   ]
  },
  {
   "cell_type": "markdown",
   "metadata": {},
   "source": [
    "El siguiente paso es crear el objeto modelo:"
   ]
  },
  {
   "cell_type": "code",
   "execution_count": 17,
   "metadata": {
    "scrolled": true
   },
   "outputs": [],
   "source": [
    "m = Model('problema-asignacion')"
   ]
  },
  {
   "cell_type": "markdown",
   "metadata": {},
   "source": [
    "Para crear las variables, podemos usar el método `addVars`. Este método permite crear una familia de variables indexadas por uno o más conjuntos iterables. En nuestro caso, las variables $x_{ij}$ están indexadas por todas las combinaciones de personas $i \\in I$ y tareas $j \\in J$. Por lo tanto, los dos primeros argumentos de la función serán `I` y `J`:"
   ]
  },
  {
   "cell_type": "code",
   "execution_count": 21,
   "metadata": {},
   "outputs": [
    {
     "name": "stdout",
     "output_type": "stream",
     "text": [
      "<class 'gurobipy.tupledict'>\n"
     ]
    }
   ],
   "source": [
    "# creamos variables x indexadas por I x J\n",
    "x = m.addVars(I, J, vtype = GRB.BINARY, name=\"x\")\n",
    "print(type(x))\n",
    "m.update()\n",
    "#print(x)\n",
    "#print([x[i,j].varName for i in I for j in J])"
   ]
  },
  {
   "cell_type": "markdown",
   "metadata": {},
   "source": [
    "Los demás argumentos de la función son los mismos que los argumentos de `addVar`. El argumento `name` en este caso no fija el nombre de la variable, sino un prefijo que es completado con las posibles combinaciones de los índices."
   ]
  },
  {
   "cell_type": "markdown",
   "metadata": {},
   "source": [
    "Definimos ahora la función objetivo. El método `prod` del objeto `x` se usa implementar el sumatorio $\\sum_{i \\in I} \\sum_{j \\in J} c_{ij} x_{ij}$:"
   ]
  },
  {
   "cell_type": "code",
   "execution_count": 22,
   "metadata": {},
   "outputs": [],
   "source": [
    "# la función objetivo es la suma de c_ij x_ij sobre i en I y j en J\n",
    "m.setObjective(x.prod(calif, '*', '*'), GRB.MAXIMIZE)"
   ]
  },
  {
   "cell_type": "markdown",
   "metadata": {},
   "source": [
    "Definimos ahora cada una de las familias de restricciones empleando el método `addConstrs`:\n",
    "\n",
    "1. Cada persona puede tener asignada máximo una tarea: el primer parámetro de `addConstrs` es una expresión generadora que depende de la variable `i`, la misma que toma los valores de la tupla `I`. Para cada valor específico de `i`, el método `sum` de `x` se encarga de calcular la suma $\\sum_{j \\in J} x_{ij}$. El parámetro `asig_i` fija un nombre para la familia de restricciones. El nombre de cada restricción individual se genera automáticamente apendizando un sufijo con los elementos de `I`."
   ]
  },
  {
   "cell_type": "code",
   "execution_count": 24,
   "metadata": {},
   "outputs": [
    {
     "name": "stdout",
     "output_type": "stream",
     "text": [
      "<class 'gurobipy.tupledict'>\n",
      "['asig_i[Pablo]', 'asig_i[Carmen]', 'asig_i[Sofía]', 'asig_i[Pedro]']\n"
     ]
    }
   ],
   "source": [
    "# Cada persona puede tener asignada máximo una tarea\n",
    "cI = m.addConstrs((x.sum(i, '*') <= 1 for i in I), \"asig_i\") \n",
    "m.update()\n",
    "print(type(cI))\n",
    "print([cI[i].getAttr('ConstrName') for i in I]) "
   ]
  },
  {
   "cell_type": "markdown",
   "metadata": {},
   "source": [
    "2. Cada tarea puede estar asignada máximo a una persona: utilizamos nuevamente el método `addConstrs`, cuyo primer parámetro es una expresión generadora que depende de la variable `j`, la misma que toma los valores de la tupla `J`. Para cada valor específico de `j`, el método `sum` de `x` se encarga de calcular la suma $\\sum_{i \\in I} x_{ij}$. El parámetro `asig_j` fija un nombre para la familia de restricciones."
   ]
  },
  {
   "cell_type": "code",
   "execution_count": 26,
   "metadata": {},
   "outputs": [
    {
     "data": {
      "text/plain": [
       "{'base de datos': <gurobi.Constr *Awaiting Model Update*>,\n",
       " 'módulo de reportes': <gurobi.Constr *Awaiting Model Update*>,\n",
       " 'análisis estadístico': <gurobi.Constr *Awaiting Model Update*>,\n",
       " 'modelo de optimización': <gurobi.Constr *Awaiting Model Update*>}"
      ]
     },
     "execution_count": 26,
     "metadata": {},
     "output_type": "execute_result"
    }
   ],
   "source": [
    "# Cada tarea puede estar asignada máximo a una persona\n",
    "m.addConstrs((x.sum('*', j) <= 1 for j in J), \"asig_j\") "
   ]
  },
  {
   "cell_type": "markdown",
   "metadata": {},
   "source": [
    "Finalmente, resolvemos el modelo:"
   ]
  },
  {
   "cell_type": "code",
   "execution_count": 9,
   "metadata": {},
   "outputs": [
    {
     "name": "stdout",
     "output_type": "stream",
     "text": [
      "Gurobi Optimizer version 9.0.2 build v9.0.2rc0 (mac64)\n",
      "Optimize a model with 8 rows, 16 columns and 32 nonzeros\n",
      "Model fingerprint: 0x359e125e\n",
      "Variable types: 0 continuous, 16 integer (16 binary)\n",
      "Coefficient statistics:\n",
      "  Matrix range     [1e+00, 1e+00]\n",
      "  Objective range  [8e+00, 1e+01]\n",
      "  Bounds range     [1e+00, 1e+00]\n",
      "  RHS range        [1e+00, 1e+00]\n",
      "Found heuristic solution: objective 38.0000000\n",
      "Presolve time: 0.02s\n",
      "Presolved: 8 rows, 16 columns, 32 nonzeros\n",
      "Variable types: 0 continuous, 16 integer (16 binary)\n",
      "\n",
      "Root relaxation: objective 4.000000e+01, 1 iterations, 0.01 seconds\n",
      "\n",
      "    Nodes    |    Current Node    |     Objective Bounds      |     Work\n",
      " Expl Unexpl |  Obj  Depth IntInf | Incumbent    BestBd   Gap | It/Node Time\n",
      "\n",
      "*    0     0               0      40.0000000   40.00000  0.00%     -    0s\n",
      "\n",
      "Explored 0 nodes (1 simplex iterations) in 0.24 seconds\n",
      "Thread count was 4 (of 4 available processors)\n",
      "\n",
      "Solution count 2: 40 38 \n",
      "\n",
      "Optimal solution found (tolerance 1.00e-04)\n",
      "Best objective 4.000000000000e+01, best bound 4.000000000000e+01, gap 0.0000%\n"
     ]
    }
   ],
   "source": [
    "m.optimize()"
   ]
  },
  {
   "cell_type": "markdown",
   "metadata": {},
   "source": [
    "Terminada la optimización, podemos mostrar las soluciones. Notar que se usa la sintaxis `x[i,j]` para acceder a la variable $x_{ij}$, pues `x` es un diccionario cuyas claves son pares ordenados del conjunto $I \\times J$:"
   ]
  },
  {
   "cell_type": "code",
   "execution_count": 10,
   "metadata": {},
   "outputs": [
    {
     "name": "stdout",
     "output_type": "stream",
     "text": [
      "Tarea módulo de reportes: asignada a Pablo.\n",
      "Tarea base de datos: asignada a Carmen.\n",
      "Tarea análisis estadístico: asignada a Sofía.\n",
      "Tarea modelo de optimización: asignada a Pedro.\n"
     ]
    }
   ],
   "source": [
    "for i in I:\n",
    "    for j in J:\n",
    "        if x[i, j].x >= 0.99:\n",
    "            print(\"Tarea {}: asignada a {}.\".format(j, i))"
   ]
  },
  {
   "cell_type": "markdown",
   "metadata": {},
   "source": [
    "## Código completo\n",
    "\n",
    "Reproducimos a continuación el código completo del ejemplo:"
   ]
  },
  {
   "cell_type": "code",
   "execution_count": 1,
   "metadata": {},
   "outputs": [
    {
     "name": "stdout",
     "output_type": "stream",
     "text": [
      "Using license file /Users/ltorres/gurobi.lic\n",
      "Academic license - for non-commercial use only\n",
      "Gurobi Optimizer version 9.0.2 build v9.0.2rc0 (mac64)\n",
      "Optimize a model with 8 rows, 16 columns and 32 nonzeros\n",
      "Model fingerprint: 0x359e125e\n",
      "Variable types: 0 continuous, 16 integer (16 binary)\n",
      "Coefficient statistics:\n",
      "  Matrix range     [1e+00, 1e+00]\n",
      "  Objective range  [8e+00, 1e+01]\n",
      "  Bounds range     [1e+00, 1e+00]\n",
      "  RHS range        [1e+00, 1e+00]\n",
      "Found heuristic solution: objective 38.0000000\n",
      "Presolve time: 0.01s\n",
      "Presolved: 8 rows, 16 columns, 32 nonzeros\n",
      "Variable types: 0 continuous, 16 integer (16 binary)\n",
      "\n",
      "Root relaxation: objective 4.000000e+01, 1 iterations, 0.01 seconds\n",
      "\n",
      "    Nodes    |    Current Node    |     Objective Bounds      |     Work\n",
      " Expl Unexpl |  Obj  Depth IntInf | Incumbent    BestBd   Gap | It/Node Time\n",
      "\n",
      "*    0     0               0      40.0000000   40.00000  0.00%     -    0s\n",
      "\n",
      "Explored 0 nodes (1 simplex iterations) in 0.10 seconds\n",
      "Thread count was 4 (of 4 available processors)\n",
      "\n",
      "Solution count 2: 40 38 \n",
      "\n",
      "Optimal solution found (tolerance 1.00e-04)\n",
      "Best objective 4.000000000000e+01, best bound 4.000000000000e+01, gap 0.0000%\n",
      "Tarea módulo de reportes: asignada a Pablo.\n",
      "Tarea base de datos: asignada a Carmen.\n",
      "Tarea análisis estadístico: asignada a Sofía.\n",
      "Tarea modelo de optimización: asignada a Pedro.\n"
     ]
    }
   ],
   "source": [
    "# Curso de implementación de programas lineales enteros\n",
    "# Ejemplo: Modelo de asignación óptima\n",
    "# EPN (2020)\n",
    "\n",
    "from gurobipy import *\n",
    "try:\n",
    "    # tupla con el conjunto ordenado de personas\n",
    "    I = ('Pablo', 'Carmen', 'Sofía', 'Pedro')\n",
    "    # tupla con el conjunto ordenado de tareas\n",
    "    J = ('base de datos', 'módulo de reportes', 'análisis estadístico', 'modelo de optimización')\n",
    "\n",
    "    # puntajes de afinidad persona-tarea\n",
    "    calif = { \n",
    "        ('Pablo', 'base de datos') : 9, \n",
    "        ('Pablo', 'módulo de reportes') : 10, \n",
    "        ('Pablo', 'análisis estadístico') : 8, \n",
    "        ('Pablo', 'modelo de optimización') : 9, \n",
    "        ('Carmen', 'base de datos') : 10, \n",
    "        ('Carmen', 'módulo de reportes') : 9, \n",
    "        ('Carmen', 'análisis estadístico') : 8, \n",
    "        ('Carmen', 'modelo de optimización') : 8, \n",
    "        ('Sofía', 'base de datos') : 10, \n",
    "        ('Sofía', 'módulo de reportes') : 8, \n",
    "        ('Sofía', 'análisis estadístico') : 10, \n",
    "        ('Sofía', 'modelo de optimización') : 9, \n",
    "        ('Pedro', 'base de datos') : 9, \n",
    "        ('Pedro', 'módulo de reportes') : 8, \n",
    "        ('Pedro', 'análisis estadístico') : 8, \n",
    "        ('Pedro', 'modelo de optimización') : 10} \n",
    "\n",
    "    m = Model('problema-asignacion')\n",
    "\n",
    "    # creamos variables x indexadas por I x J\n",
    "    x = m.addVars(I, J, vtype = GRB.BINARY, name=\"x\")\n",
    "    \n",
    "    # la función objetivo es la suma de c_ij x_ij sobre i en I y j en J\n",
    "    m.setObjective(x.prod(calif, '*', '*'), GRB.MAXIMIZE)\n",
    "\n",
    "    # Restricciones\n",
    "    # Cada persona puede tener asignada máximo una tarea\n",
    "    cI = m.addConstrs((x.sum(i, '*') <= 1 for i in I), \"asig_i\") \n",
    "\n",
    "    # Cada tarea puede estar asignada máximo a una persona\n",
    "    m.addConstrs((x.sum('*', j) <= 1 for j in J), \"asig_j\") \n",
    "\n",
    "    # Resolver el modelo\n",
    "    m.optimize()\n",
    "\n",
    "    # Mostrar la solución\n",
    "    for i in I:\n",
    "        for j in J:\n",
    "            if x[i, j].x >= 0.99:\n",
    "                print(\"Tarea {}: asignada a {}.\".format(j, i))\n",
    "            \n",
    "except GurobiError as e:\n",
    "    print('Código de error ' + str(e.errno) + \": \" + str(e))\n",
    "\n",
    "except AttributeError:\n",
    "    print('Se encontró un error de atributo')"
   ]
  },
  {
   "cell_type": "code",
   "execution_count": null,
   "metadata": {},
   "outputs": [],
   "source": []
  }
 ],
 "metadata": {
  "kernelspec": {
   "display_name": "Python 3",
   "language": "python",
   "name": "python3"
  },
  "language_info": {
   "codemirror_mode": {
    "name": "ipython",
    "version": 3
   },
   "file_extension": ".py",
   "mimetype": "text/x-python",
   "name": "python",
   "nbconvert_exporter": "python",
   "pygments_lexer": "ipython3",
   "version": "3.7.6"
  }
 },
 "nbformat": 4,
 "nbformat_minor": 2
}
