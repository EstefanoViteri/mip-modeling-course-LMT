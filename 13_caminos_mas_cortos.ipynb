{
 "cells": [
  {
   "cell_type": "markdown",
   "metadata": {},
   "source": [
    "# Cuaderno 13: Problemas de caminos más cortos \n",
    "# (shortest path problems)\n",
    "\n",
    "$\\newcommand{\\card}[1]{\\left| #1 \\right|}$\n",
    "$\\newcommand{\\tabulatedset}[1]{\\left\\{ #1 \\right\\}}$\n",
    "$\\newcommand{\\ZZ}{\\mathbb{Z}}$\n",
    "$\\newcommand{\\RR}{\\mathbb{R}}$\n",
    "\n",
    "Dados: \n",
    "* un grafo dirigido $D=(V,A)$; \n",
    "* un vector de costos $c \\in \\ZZ^{A}$  asociados a los arcos de $D$; \n",
    "* un nodo de salida $s$; y,\n",
    "* un nodo de llegada $t$.\n",
    "\n",
    "El *problema del camino más corto (shortest path problem, SPP)* consiste en encontrar un camino desde $s$ hasta $t$ cuyo costo sea mínimo. El costo de un camino se calcula sumando de los costos de sus arcos.\n",
    "\n",
    "Suponer que $D$ no contiene circuitos de costo negativo. Utilizando variables binarias $x_{ij}$ para indicar si los arcos de $A$ son seleccionados o no para formar parte del camino, este problema puede formularse como el siguiente programa lineal entero:\n",
    "\n",
    "\\begin{align*}\n",
    "\\min &\\sum_{(i,j) \\in A} c_{ij} x_{ij}\\\\ \n",
    "& \\mbox{s.r.}\\\\\n",
    "&\\sum_{(s, i) \\in A} x_{si} = 1,\\\\\n",
    "&\\sum_{(i, t) \\in A} x_{it} = 1,\\\\\n",
    "& \\sum_{(j, i) \\in A} x_{ji} - \\sum_{(i, j) \\in A} x_{ij} = 0, \\quad \\forall i \\in V \\setminus \\tabulatedset{s,t},\\\\\n",
    "& x_{ij} \\in \\tabulatedset{0, 1}, \\quad \\forall (i, j) \\in A.\n",
    "\\end{align*}\n",
    "\n",
    "La función objetivo mide la suma de los costos de los arcos seleccionados.\n",
    "\n",
    "La primera restricción especifica que debe seleccionarse exactamente un arco saliente del nodo $s$. \n",
    "\n",
    "De manera similar, la segunda restricción indica que debe seleccionarse exactamente un arco entrante a $t$.\n",
    "\n",
    "Por último, la tercera familia de restricciones requiere que la cantidad de arcos entrantes a un nodo $i \\in V \\setminus \\tabulatedset{s,t}$ que sean seleccionados dentro de la solución debe coincidir con la cantidad de arcos salientes del mismo nodo.\n",
    "\n",
    "Notar que todo camino de $s$ a $t$ satisface las tres restricciones del modelo. Por otra parte, existen otras clases de grafos que satisfacen estas restricciones. (Pensar en algún ejemplo.) Sin embargo, puede demostrarse que si $D$ no contiene *circuitos de costo negativo* entonces la solución óptima del modelo corresponde al camino de costo mínimo de $s$ a $t$.\n",
    "\n",
    "Vamos a implementar este modelo usando la interfaz Python de Gurobi.\n",
    "\n"
   ]
  },
  {
   "cell_type": "markdown",
   "metadata": {},
   "source": [
    "Definimos primero los conjuntos y parámetros del modelo:"
   ]
  },
  {
   "cell_type": "code",
   "execution_count": null,
   "metadata": {},
   "outputs": [],
   "source": [
    "from gurobipy import *\n",
    "\n",
    "# Nodos del grafo\n",
    "V = tuplelist(range(1,7))\n",
    "\n",
    "# Arcos y sus costos \n",
    "A, c = multidict({\n",
    "  (1, 2):  3,\n",
    "  (1, 3):  20,\n",
    "  (2, 3):  10,\n",
    "  (2, 4):  5,\n",
    "  (4, 3):  2,\n",
    "  (3, 5):  2,\n",
    "  (4, 5):  5,\n",
    "  (4, 6):  5,\n",
    "  (5, 6):  2})\n",
    "\n",
    "# Nodo de salida\n",
    "s = 1\n",
    "\n",
    "# Nodo de llegada\n",
    "t = 6\n",
    "\n",
    "# --- los valores a partir de aqui se calculan automaticamente ---\n",
    "# nodos internos: Vi := V \\ {s, t}\n",
    "Vi = tuplelist([i for i in V if i!=s and i!=t])"
   ]
  },
  {
   "cell_type": "markdown",
   "metadata": {},
   "source": [
    "La siguiente celda utiliza los módulos `NetworkX` y `matplotlib` para graficar esta instancia:"
   ]
  },
  {
   "cell_type": "code",
   "execution_count": null,
   "metadata": {
    "scrolled": true
   },
   "outputs": [],
   "source": [
    "import networkx as nx\n",
    "import matplotlib.pyplot as plt\n",
    "D = nx.DiGraph()\n",
    "D.add_nodes_from(V)\n",
    "node_labels= {i : str(i) for i in V}\n",
    "D.add_edges_from(A)\n",
    "edge_labels = {(i,j) : str(c[i,j]) for (i,j) in A}\n",
    "plt.figure(figsize=(10,5))\n",
    "pos = {1 : (1,2), 2 : (2,3), 3 : (2,1), 4 : (3,3), 5 : (3,1), 6:(4,2)}\n",
    "nx.draw_networkx_edge_labels(D, pos, edge_labels)\n",
    "nx.draw_networkx(D, pos, labels= node_labels, node_color='cyan', node_size=500)\n"
   ]
  },
  {
   "cell_type": "markdown",
   "metadata": {},
   "source": [
    "Creamos ahora el objeto modelo y las variables de binarias de selección de arcos $x_{ij}$. Observar que las variables están indexadas por los conjuntos de arcos."
   ]
  },
  {
   "cell_type": "code",
   "execution_count": null,
   "metadata": {},
   "outputs": [],
   "source": [
    "# Crear el objeto modelo\n",
    "m = Model('shortest-path')\n",
    "\n",
    "# Crear las variables\n",
    "x = m.addVars(A, name=\"x\", vtype=GRB.BINARY)"
   ]
  },
  {
   "cell_type": "markdown",
   "metadata": {},
   "source": [
    "Definimos la función objetivo a minimizar:"
   ]
  },
  {
   "cell_type": "code",
   "execution_count": null,
   "metadata": {},
   "outputs": [],
   "source": [
    "m.setObjective(x.prod(c, '*'), GRB.MINIMIZE)"
   ]
  },
  {
   "cell_type": "markdown",
   "metadata": {},
   "source": [
    "Definimos las restricciones del modelo:"
   ]
  },
  {
   "cell_type": "code",
   "execution_count": null,
   "metadata": {},
   "outputs": [],
   "source": [
    "# Arcos salientes de s\n",
    "m.addConstr(x.sum(s,'*')  == 1, \"grado_s\")\n",
    "\n",
    "# Arcos entrantes a t\n",
    "m.addConstr(x.sum('*', t)  == 1, \"grado_t\")\n",
    "\n",
    "# Balance de grados en los demas nodos\n",
    "m.addConstrs(\n",
    "    (x.sum('*',i) - x.sum(i,'*')  == 0 for i in Vi), \"grado\")"
   ]
  },
  {
   "cell_type": "markdown",
   "metadata": {},
   "source": [
    "Finalmente, resolvemos el modelo y mostramos la solución. Notar que los valores de las variables pueden recuperarse también empleando el método `getAttr`:"
   ]
  },
  {
   "cell_type": "code",
   "execution_count": null,
   "metadata": {},
   "outputs": [],
   "source": [
    "# Calcular la solucion optima\n",
    "m.optimize()\n",
    "\n",
    "# Escribir la solucion\n",
    "if m.status == GRB.Status.OPTIMAL:\n",
    "    # Recuperar los valores de las variables\n",
    "    vx = m.getAttr('x', x)\n",
    "    print('Arcos seleccionados:')\n",
    "    for i,j in A:\n",
    "        if vx[i,j] >= 0.99:\n",
    "            print('{} -> {}'.format(i, j))"
   ]
  },
  {
   "cell_type": "markdown",
   "metadata": {},
   "source": [
    "En la siguiente celda graficamos la solución empleando `networkx` y `ipycytoscape`:"
   ]
  },
  {
   "cell_type": "code",
   "execution_count": null,
   "metadata": {},
   "outputs": [],
   "source": [
    "import networkx as nx\n",
    "import ipycytoscape\n",
    "D = nx.DiGraph()\n",
    "D.add_nodes_from(V)\n",
    "for i in V:\n",
    "    D.nodes[i]['etiq']= str(i)\n",
    "D.add_edges_from(A)\n",
    "for i,j in A:\n",
    "    D.edges[i,j]['etiq'] = str(c[i,j])\n",
    "    D.edges[i,j]['color'] =  '#9dbaea' if vx[i,j]<=0.1 else '#ff007f'\n",
    "grafo = ipycytoscape.CytoscapeWidget()\n",
    "grafo.graph.add_graph_from_networkx(D, directed=True)\n",
    "grafo.set_style([{'selector': 'node', 'style' : {'background-color': '#11479e', 'font-family': 'helvetica', 'font-size': '10px', 'color':'white', 'label': 'data(etiq)', 'text-wrap' : 'wrap', 'text-valign' : 'center'}}, \n",
    "                    {'selector': 'node:parent', 'css': {'background-opacity': 0.333}, 'style' : {'font-family': 'helvetica', 'font-size': '10px', 'label': 'data(etiq)'}}, \n",
    "                    {'selector': 'edge', 'style': {'width': 4, 'line-color': 'data(color)', 'font-size': '10px', 'label': 'data(etiq)', 'text-valign' : 'top', 'text-margin-y' : '-10px'}}, \n",
    "                    {'selector': 'edge.directed', 'style': {'curve-style': 'bezier', 'target-arrow-shape': 'triangle', 'target-arrow-color': 'data(color)'}}])\n",
    "grafo"
   ]
  },
  {
   "cell_type": "markdown",
   "metadata": {},
   "source": [
    "## Código completo\n",
    "\n",
    "Se reproduce a continuación el código completo del modelo anterior."
   ]
  },
  {
   "cell_type": "code",
   "execution_count": null,
   "metadata": {},
   "outputs": [],
   "source": [
    "# Implementacion de modelos de programacion lineal entera\n",
    "# Problema de caminos mas cortos (shortest path problem, SPP)\n",
    "# Luis M. Torres (EPN 2021)\n",
    "\n",
    "from gurobipy import *\n",
    "\n",
    "# Nodos del grafo\n",
    "V = tuplelist(range(1,7))\n",
    "\n",
    "# Arcos y sus costos \n",
    "A, c = multidict({\n",
    "  (1, 2):  3,\n",
    "  (1, 3):  20,\n",
    "  (2, 3):  10,\n",
    "  (2, 4):  5,\n",
    "  (4, 3):  2,\n",
    "  (3, 5):  2,\n",
    "  (4, 5):  5,\n",
    "  (4, 6):  10,\n",
    "  (5, 6):  2})\n",
    "\n",
    "# Nodo de salida\n",
    "s = 1\n",
    "\n",
    "# Nodo de llegada\n",
    "t = 6\n",
    "\n",
    "# --- los valores a partir de aqui se calculan automaticamente ---\n",
    "# nodos internos: Vi := V \\ {s, t}\n",
    "Vi = tuplelist([i for i in V if i!=s and i!=t])\n",
    "\n",
    "try:\n",
    "    # Crear el objeto modelo\n",
    "    m = Model('shortest-path')\n",
    "\n",
    "    # Crear las variables\n",
    "    x = m.addVars(A, name=\"x\", vtype=GRB.BINARY)\n",
    "\n",
    "    # Definir la funcion objetivo\n",
    "    m.setObjective(x.prod(c, '*'), GRB.MINIMIZE)\n",
    "\n",
    "    # Arcos salientes de s\n",
    "    m.addConstr(x.sum(s,'*')  == 1, \"grado_s\")\n",
    "\n",
    "    # Arcos entrantes a t\n",
    "    m.addConstr(x.sum('*', t)  == 1, \"grado_t\")\n",
    "\n",
    "    # Balance de grados en los demas nodos\n",
    "    m.addConstrs(\n",
    "        (x.sum('*',i) - x.sum(i,'*')  == 0 for i in Vi), \"grado\")\n",
    "\n",
    "    # Calcular la solucion optima\n",
    "    m.optimize()\n",
    "\n",
    "    # Escribir la solucion\n",
    "    if m.status == GRB.Status.OPTIMAL:\n",
    "        # Recuperar los valores de las variables\n",
    "        vx = m.getAttr('x', x)\n",
    "        print('Arcos seleccionados:')\n",
    "        for i,j in A:\n",
    "            if vx[i,j] > 0:\n",
    "                print('{} -> {}'.format(i, j))\n",
    "            \n",
    "except GurobiError as e:\n",
    "    print('Se produjo un error de Gurobi: codigo: ' + str(e.errno) + \": \" + str(e))\n",
    "\n",
    "except AttributeError:\n",
    "    print('Se produjo un error de atributo')"
   ]
  },
  {
   "cell_type": "code",
   "execution_count": null,
   "metadata": {},
   "outputs": [],
   "source": [
    "m.write('caminos.lp')"
   ]
  },
  {
   "cell_type": "code",
   "execution_count": null,
   "metadata": {},
   "outputs": [],
   "source": []
  }
 ],
 "metadata": {
  "kernelspec": {
   "display_name": "Python 3 (ipykernel)",
   "language": "python",
   "name": "python3"
  },
  "language_info": {
   "codemirror_mode": {
    "name": "ipython",
    "version": 3
   },
   "file_extension": ".py",
   "mimetype": "text/x-python",
   "name": "python",
   "nbconvert_exporter": "python",
   "pygments_lexer": "ipython3",
   "version": "3.8.12"
  }
 },
 "nbformat": 4,
 "nbformat_minor": 2
}
