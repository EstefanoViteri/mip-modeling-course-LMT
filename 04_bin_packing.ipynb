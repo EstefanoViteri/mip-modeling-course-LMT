{
 "cells": [
  {
   "cell_type": "markdown",
   "metadata": {},
   "source": [
    "# Cuaderno 12: Problema del bin packing\n",
    "\n",
    "En el problema del *bin packing* (*empacamiento de recipientes*), se tienen dados $n$ objetos, con pesos $w_1, \\ldots, w_n$. Se quiere empacar estos objetos empleando la menor cantidad de recipientes de capacidad $b$, de tal forma que los objetos empacados en un recipiente no superen nunca la capacidad de este.\n",
    "\n",
    "Si suponemos que $I$ es el conjunto de objetos y $J$ el conjunto de recipientes. Utilizaremos dos familias de variables de decisión binarias: \n",
    "\n",
    "1. Variables $x_{ij}$, con $i \\in I$ y $j \\in J$, para indicar si el objeto $i$ es empacado en el recipiente $j$. \n",
    "2. Variables $y_j$, con $j \\in J$, para indicar si el recipiente $j$ es utilizado en la solución.\n",
    "\n",
    "El problema puede formularse como el siguiente programa lineal entero:\n",
    "\n",
    "\n",
    "\\begin{align*}\n",
    "&\\min \\sum_{j \\in J} y_j \\\\ \n",
    "&\\mbox{s.r.}\\\\\n",
    "& \\sum_{j \\in J} x_{ij} = 1, \\quad \\forall i \\in I, \\\\\n",
    "& \\sum_{i \\in I} w_i x_{ij} \\leq b y_j, \\quad \\forall j \\in J, \\\\\n",
    "& x_{ij} \\in \\{0, 1\\}, \\quad \\forall i \\in I, j \\in J,\\\\\n",
    "& y_{j} \\in \\{0, 1\\}, \\quad \\forall j \\in J.\n",
    "\\end{align*}\n",
    "\n",
    "Vamos a formular este modelo empleando el API Python de Gurobi. Empezamos por definir los conjuntos de índices, que en este caso serán del tipo `tuplelist`. Para usar este tipo es necesario importar primero el módulo de Gurobi:"
   ]
  },
  {
   "cell_type": "code",
   "execution_count": 11,
   "metadata": {},
   "outputs": [
    {
     "name": "stdout",
     "output_type": "stream",
     "text": [
      "I:= [1, 2, 3, 4, 5]\n",
      "J:= [1, 2, 3, 4, 5]\n"
     ]
    }
   ],
   "source": [
    "from gurobipy import *\n",
    "n = 5\n",
    "I = tuplelist(range(1, n+1)) # indexamos los objetos como {1, ..., n}\n",
    "J = tuplelist(range(1, n+1)) # indexamos los recipientes como {1, ..., n}\n",
    "\n",
    "print ('I:= {}'.format(I))\n",
    "print ('J:= {}'.format(J))"
   ]
  },
  {
   "cell_type": "markdown",
   "metadata": {},
   "source": [
    "Luego definimos los parámetros del modelo. Aquellos parámetros que dependen de índices se definen como diccionarios:"
   ]
  },
  {
   "cell_type": "code",
   "execution_count": 12,
   "metadata": {},
   "outputs": [],
   "source": [
    "# los pesos están dados por un diccionario cuyas claves son elementos de I\n",
    "w = tupledict({ 1 : 50, \n",
    "      2 : 45, \n",
    "      3 : 55, \n",
    "      4 : 40, \n",
    "      5 : 48})\n",
    "b = 100 # capacidad de los recipientes"
   ]
  },
  {
   "cell_type": "markdown",
   "metadata": {},
   "source": [
    "El siguiente paso es crear el objeto modelo:"
   ]
  },
  {
   "cell_type": "code",
   "execution_count": 13,
   "metadata": {
    "scrolled": true
   },
   "outputs": [],
   "source": [
    "m = Model('bin-packing')"
   ]
  },
  {
   "cell_type": "markdown",
   "metadata": {},
   "source": [
    "Para crear las variables, podemos usar el método `addVars`. Este método permite crear una familia de variables indexadas por uno o más objetos del tipo `tuplelist`. En nuestro caso, las variables $x_{ij}$ están indexadas por todas las combinaciones de objetos $i \\in I$ y recipientes $j \\in J$. Por lo tanto, los dos primeros argumentos de la función serán `I` y `J`:"
   ]
  },
  {
   "cell_type": "code",
   "execution_count": 14,
   "metadata": {},
   "outputs": [],
   "source": [
    "# creamos variables x indexadas por I x J\n",
    "x = m.addVars(I, J, vtype = GRB.BINARY, name=\"x\")"
   ]
  },
  {
   "cell_type": "markdown",
   "metadata": {},
   "source": [
    "Los demás argumentos de la función son los mismos que los argumentos de `addVar`. Recordar que el argumento `name` en este caso no fija el nombre de una variable, sino un nombre genérico que se utilizará como prefijo para el nombre de cada variable individual, y que será completado con los valores de los índices.\n",
    "\n",
    "Notar que la función `addVars` retorna un objeto del tipo `tupledict` con todas las variables:"
   ]
  },
  {
   "cell_type": "code",
   "execution_count": 16,
   "metadata": {},
   "outputs": [
    {
     "name": "stdout",
     "output_type": "stream",
     "text": [
      "<class 'gurobipy.tupledict'>\n",
      "{(1, 1): <gurobi.Var x[1,1]>, (1, 2): <gurobi.Var x[1,2]>, (1, 3): <gurobi.Var x[1,3]>, (1, 4): <gurobi.Var x[1,4]>, (1, 5): <gurobi.Var x[1,5]>, (2, 1): <gurobi.Var x[2,1]>, (2, 2): <gurobi.Var x[2,2]>, (2, 3): <gurobi.Var x[2,3]>, (2, 4): <gurobi.Var x[2,4]>, (2, 5): <gurobi.Var x[2,5]>, (3, 1): <gurobi.Var x[3,1]>, (3, 2): <gurobi.Var x[3,2]>, (3, 3): <gurobi.Var x[3,3]>, (3, 4): <gurobi.Var x[3,4]>, (3, 5): <gurobi.Var x[3,5]>, (4, 1): <gurobi.Var x[4,1]>, (4, 2): <gurobi.Var x[4,2]>, (4, 3): <gurobi.Var x[4,3]>, (4, 4): <gurobi.Var x[4,4]>, (4, 5): <gurobi.Var x[4,5]>, (5, 1): <gurobi.Var x[5,1]>, (5, 2): <gurobi.Var x[5,2]>, (5, 3): <gurobi.Var x[5,3]>, (5, 4): <gurobi.Var x[5,4]>, (5, 5): <gurobi.Var x[5,5]>}\n",
      "<gurobi.tuplelist (25 tuples, 2 values each):\n",
      " ( 1 , 1 )\n",
      " ( 1 , 2 )\n",
      " ( 1 , 3 )\n",
      " ( 1 , 4 )\n",
      " ( 1 , 5 )\n",
      " ( 2 , 1 )\n",
      " ( 2 , 2 )\n",
      " ( 2 , 3 )\n",
      " ( 2 , 4 )\n",
      " ( 2 , 5 )\n",
      " ( 3 , 1 )\n",
      " ( 3 , 2 )\n",
      " ( 3 , 3 )\n",
      " ( 3 , 4 )\n",
      " ( 3 , 5 )\n",
      " ( 4 , 1 )\n",
      " ( 4 , 2 )\n",
      " ( 4 , 3 )\n",
      " ( 4 , 4 )\n",
      " ( 4 , 5 )\n",
      " ( 5 , 1 )\n",
      " ( 5 , 2 )\n",
      " ( 5 , 3 )\n",
      " ( 5 , 4 )\n",
      " ( 5 , 5 )\n",
      ">\n",
      "x[1,2]\n",
      "x[5,4]\n"
     ]
    }
   ],
   "source": [
    "# x es del tipo tupledict\n",
    "print (type(x))\n",
    "# antes de consultar el contenido de cualquier variable, es necesario llamar a update()\n",
    "m.update()\n",
    "print (x)\n",
    "# las claves de x forman un tuplelist\n",
    "print (x.keys())\n",
    "# para acceder a un elemento, hay que usar su tupla como índice; los paréntesis pueden obviarse\n",
    "# \"x\" se usa como prefijo para el nombre de la variable\n",
    "print(x[(1,2)].varName)\n",
    "# recordar que los paréntesis alrededor de una tupla pueden omitirse si no hay riesgo de confusión:\n",
    "print(x[5,4].varName)"
   ]
  },
  {
   "cell_type": "markdown",
   "metadata": {},
   "source": [
    "De manera similar, creamos las variables $y_j$ indexadas por J:"
   ]
  },
  {
   "cell_type": "code",
   "execution_count": 17,
   "metadata": {},
   "outputs": [],
   "source": [
    "y = m.addVars(J, vtype = GRB.BINARY, name=\"y\")"
   ]
  },
  {
   "cell_type": "markdown",
   "metadata": {},
   "source": [
    "Para construir la función objetivo, podemos usar el método `sum` de la clase `tupledict`:"
   ]
  },
  {
   "cell_type": "code",
   "execution_count": 18,
   "metadata": {},
   "outputs": [],
   "source": [
    "# la función objetivo es la suma de las variables\n",
    "m.setObjective(y.sum('*'), GRB.MINIMIZE)"
   ]
  },
  {
   "cell_type": "markdown",
   "metadata": {},
   "source": [
    "Definimos ahora las restricciones:\n",
    "\n",
    "1. Cada objeto es empacado en un recipiente: para expresar esta restricción, podemos emplear el método `sum` de la clase `tupledict`, con un criterio de selección `(i, '*')`. Notar que hay una restricción para cada $i \\in I$, por lo que empleamos el método `addConstrs` con un generador que depende de `i`:"
   ]
  },
  {
   "cell_type": "code",
   "execution_count": 19,
   "metadata": {},
   "outputs": [
    {
     "data": {
      "text/plain": [
       "{1: <gurobi.Constr *Awaiting Model Update*>,\n",
       " 2: <gurobi.Constr *Awaiting Model Update*>,\n",
       " 3: <gurobi.Constr *Awaiting Model Update*>,\n",
       " 4: <gurobi.Constr *Awaiting Model Update*>,\n",
       " 5: <gurobi.Constr *Awaiting Model Update*>}"
      ]
     },
     "execution_count": 19,
     "metadata": {},
     "output_type": "execute_result"
    }
   ],
   "source": [
    "# Cada objeto es asignado a un recipiente\n",
    "m.addConstrs((x.sum(i, '*') == 1 for i in I), \"asig\") "
   ]
  },
  {
   "cell_type": "markdown",
   "metadata": {},
   "source": [
    "2. Se asignan objetos únicamente a recipientes utilizados, y respetando su capacidad: En este caso utilizamos la función `quicksum`, conjuntamente con un generador que depende de `i`, para construir la expresión $\\sum_i w_i x_{ij}$. Notar además que hay una restricción para cada $j \\in J$, por lo que empleamos el método `addConstrs` y anidamos la expresión generadora anterior en una nueva expresión que depende de `j`:"
   ]
  },
  {
   "cell_type": "code",
   "execution_count": 20,
   "metadata": {},
   "outputs": [
    {
     "data": {
      "text/plain": [
       "{1: <gurobi.Constr *Awaiting Model Update*>,\n",
       " 2: <gurobi.Constr *Awaiting Model Update*>,\n",
       " 3: <gurobi.Constr *Awaiting Model Update*>,\n",
       " 4: <gurobi.Constr *Awaiting Model Update*>,\n",
       " 5: <gurobi.Constr *Awaiting Model Update*>}"
      ]
     },
     "execution_count": 20,
     "metadata": {},
     "output_type": "execute_result"
    }
   ],
   "source": [
    "# Se asignan objetos únicamente a recipientes utilizados, y respetando su capacidad\n",
    "m.addConstrs((quicksum(w[i] * x[i, j] for i in I) <= b * y[j] for j in J), \"capac\")"
   ]
  },
  {
   "cell_type": "markdown",
   "metadata": {},
   "source": [
    "Finalmente, optimizamos el modelo:"
   ]
  },
  {
   "cell_type": "code",
   "execution_count": 21,
   "metadata": {},
   "outputs": [
    {
     "name": "stdout",
     "output_type": "stream",
     "text": [
      "Gurobi Optimizer version 9.0.2 build v9.0.2rc0 (mac64)\n",
      "Optimize a model with 10 rows, 30 columns and 55 nonzeros\n",
      "Model fingerprint: 0x893a42ca\n",
      "Variable types: 0 continuous, 30 integer (30 binary)\n",
      "Coefficient statistics:\n",
      "  Matrix range     [1e+00, 1e+02]\n",
      "  Objective range  [1e+00, 1e+00]\n",
      "  Bounds range     [1e+00, 1e+00]\n",
      "  RHS range        [1e+00, 1e+00]\n",
      "Found heuristic solution: objective 4.0000000\n",
      "Presolve time: 0.03s\n",
      "Presolved: 10 rows, 30 columns, 55 nonzeros\n",
      "Variable types: 0 continuous, 30 integer (30 binary)\n",
      "\n",
      "Root relaxation: objective 2.450000e+00, 15 iterations, 0.03 seconds\n",
      "\n",
      "    Nodes    |    Current Node    |     Objective Bounds      |     Work\n",
      " Expl Unexpl |  Obj  Depth IntInf | Incumbent    BestBd   Gap | It/Node Time\n",
      "\n",
      "     0     0    2.45000    0    1    4.00000    2.45000  38.7%     -    0s\n",
      "H    0     0                       3.0000000    2.45000  18.3%     -    0s\n",
      "     0     0    2.45000    0    1    3.00000    2.45000  18.3%     -    0s\n",
      "\n",
      "Explored 1 nodes (15 simplex iterations) in 0.24 seconds\n",
      "Thread count was 4 (of 4 available processors)\n",
      "\n",
      "Solution count 2: 3 4 \n",
      "\n",
      "Optimal solution found (tolerance 1.00e-04)\n",
      "Best objective 3.000000000000e+00, best bound 3.000000000000e+00, gap 0.0000%\n"
     ]
    }
   ],
   "source": [
    "m.optimize()"
   ]
  },
  {
   "cell_type": "markdown",
   "metadata": {},
   "source": [
    "Terminada la optimización, podemos mostrar las soluciones. Notar que se usa la sintaxis `x[i, j]` para acceder a la variable $x_{ij}$, pues `x` es un diccionario cuyas claves son pares ordenados del conjunto $I \\times J$. Recordar que la propiedad `x` de un objeto variable nos permite acceder a su valor en la solución, indistintamente del nombre del objeto.\n",
    "\n",
    "Notar que al comparar si los valores de las variables binarias son iguales a 1 usamos la condición `>=0.99 ` en lugar de la condición `== 1`, pese que se trata de variables enteras. El motivo es que Gurobi (al igual que otros solvers) trabaja internamente con valores de punto flotante (decimales) para todas las variables del modelo, debido a que debe resolver relajaciones lineales del programa entero. Gurobi asume que una variable tiene un valor entero cuando su valor está dentro de un rango de tolerancia del entero más próximo. Este rango está fijado en el parámetro `IntFeasTol` y su valor por defecto es $10^{-5}$. Más información puede consultarse en [este artículo](https://support.gurobi.com/hc/en-us/articles/360012237872-Why-does-Gurobi-sometimes-return-values-for-integer-variables-that-are-not-integers-)."
   ]
  },
  {
   "cell_type": "code",
   "execution_count": 22,
   "metadata": {},
   "outputs": [
    {
     "name": "stdout",
     "output_type": "stream",
     "text": [
      "Se usó el recipiente 1.\n",
      "Se usó el recipiente 4.\n",
      "Se usó el recipiente 5.\n",
      "Objeto 1 asignado al recipiente 5.\n",
      "Objeto 2 asignado al recipiente 1.\n",
      "Objeto 3 asignado al recipiente 4.\n",
      "Objeto 4 asignado al recipiente 4.\n",
      "Objeto 5 asignado al recipiente 5.\n"
     ]
    }
   ],
   "source": [
    "for j in J:\n",
    "    # y[j].x es el valor de la variable y_j en la solución\n",
    "    if y[j].x >= 0.99:\n",
    "        print(\"Se usó el recipiente {}.\".format(j))\n",
    "        \n",
    "for i in I:\n",
    "    for j in J:\n",
    "        # y[j].x es el valor de la variable y_j en la solución\n",
    "        if x[i, j].x >= 0.99:\n",
    "            print(\"Objeto {} asignado al recipiente {}.\".format(i, j))"
   ]
  },
  {
   "cell_type": "markdown",
   "metadata": {},
   "source": [
    "## Código completo\n",
    "\n",
    "Reproducimos a continuación el código completo del ejemplo:"
   ]
  },
  {
   "cell_type": "code",
   "execution_count": 26,
   "metadata": {},
   "outputs": [
    {
     "name": "stdout",
     "output_type": "stream",
     "text": [
      "Gurobi Optimizer version 9.0.2 build v9.0.2rc0 (mac64)\n",
      "Optimize a model with 10 rows, 30 columns and 55 nonzeros\n",
      "Model fingerprint: 0x893a42ca\n",
      "Variable types: 0 continuous, 30 integer (30 binary)\n",
      "Coefficient statistics:\n",
      "  Matrix range     [1e+00, 1e+02]\n",
      "  Objective range  [1e+00, 1e+00]\n",
      "  Bounds range     [1e+00, 1e+00]\n",
      "  RHS range        [1e+00, 1e+00]\n",
      "Found heuristic solution: objective 4.0000000\n",
      "Presolve time: 0.00s\n",
      "Presolved: 10 rows, 30 columns, 55 nonzeros\n",
      "Variable types: 0 continuous, 30 integer (30 binary)\n",
      "\n",
      "Root relaxation: objective 2.450000e+00, 15 iterations, 0.00 seconds\n",
      "\n",
      "    Nodes    |    Current Node    |     Objective Bounds      |     Work\n",
      " Expl Unexpl |  Obj  Depth IntInf | Incumbent    BestBd   Gap | It/Node Time\n",
      "\n",
      "     0     0    2.45000    0    1    4.00000    2.45000  38.7%     -    0s\n",
      "H    0     0                       3.0000000    2.45000  18.3%     -    0s\n",
      "     0     0    2.45000    0    1    3.00000    2.45000  18.3%     -    0s\n",
      "\n",
      "Explored 1 nodes (15 simplex iterations) in 0.09 seconds\n",
      "Thread count was 4 (of 4 available processors)\n",
      "\n",
      "Solution count 2: 3 4 \n",
      "\n",
      "Optimal solution found (tolerance 1.00e-04)\n",
      "Best objective 3.000000000000e+00, best bound 3.000000000000e+00, gap 0.0000%\n",
      "Se usó el recipiente 1.\n",
      "Se usó el recipiente 4.\n",
      "Se usó el recipiente 5.\n",
      "Objeto 1 asignado al recipiente 5.\n",
      "Objeto 2 asignado al recipiente 1.\n",
      "Objeto 3 asignado al recipiente 4.\n",
      "Objeto 4 asignado al recipiente 4.\n",
      "Objeto 5 asignado al recipiente 5.\n"
     ]
    }
   ],
   "source": [
    "# Curso de implementación de programas lineales enteros\n",
    "# Ejemplo: Modelo de bin packing\n",
    "# EPN (2019)\n",
    "\n",
    "from gurobipy import *\n",
    "try:\n",
    "    n = 5\n",
    "    I = tuplelist(range(1, n+1)) # indexamos los objetos como {1, ..., n}\n",
    "    J = tuplelist(range(1, n+1)) # indexamos los recipientes como {1, ..., n}\n",
    "\n",
    "    # los pesos están dados por un diccionario cuyas claves son elementos de I\n",
    "    w = { 1 : 50, \n",
    "          2 : 45, \n",
    "          3 : 55, \n",
    "          4 : 40, \n",
    "          5 : 48}\n",
    "    b = 100 # capacidad de los recipientes\n",
    "\n",
    "    m = Model('bin-packing')\n",
    "\n",
    "    # creamos variables x indexadas por I x J\n",
    "    x = m.addVars(I, J, vtype = GRB.BINARY, name=\"x\")\n",
    "\n",
    "    # creamos variables y indexadas por J\n",
    "    y = m.addVars(J, vtype = GRB.BINARY, name=\"y\")\n",
    "\n",
    "    # la función objetivo es la suma de las variables\n",
    "    m.setObjective(y.sum('*'), GRB.MINIMIZE)\n",
    "\n",
    "    # Restricciones\n",
    "    # Cada objeto es asignado a un recipiente\n",
    "    m.addConstrs((x.sum(i, '*') == 1 for i in I), \"asig\") \n",
    "\n",
    "    # Se asignan objetos únicamente a recipientes utilizados, y respetando su capacidad\n",
    "    m.addConstrs((quicksum(w[i] * x[i, j] for i in I) <= b * y[j] for j in J), \"capac\")\n",
    "    \n",
    "    # Resolver el modelo\n",
    "    m.optimize()\n",
    "\n",
    "    # Mostrar la solución\n",
    "    for j in J:\n",
    "        if y[j].x >= 0.99:\n",
    "            print(\"Se usó el recipiente {}.\".format(j))\n",
    "        \n",
    "    for i in I:\n",
    "        for j in J:\n",
    "            if x[i, j].x >= 0.99:\n",
    "                print(\"Objeto {} asignado al recipiente {}.\".format(i, j))\n",
    "\n",
    "except GurobiError as e:\n",
    "    print('Error code ' + str(e.errno) + \": \" + str(e))\n",
    "\n",
    "except AttributeError:\n",
    "    print('Encountered an attribute error')"
   ]
  },
  {
   "cell_type": "code",
   "execution_count": null,
   "metadata": {},
   "outputs": [],
   "source": []
  }
 ],
 "metadata": {
  "kernelspec": {
   "display_name": "Python 3",
   "language": "python",
   "name": "python3"
  },
  "language_info": {
   "codemirror_mode": {
    "name": "ipython",
    "version": 3
   },
   "file_extension": ".py",
   "mimetype": "text/x-python",
   "name": "python",
   "nbconvert_exporter": "python",
   "pygments_lexer": "ipython3",
   "version": "3.7.6"
  }
 },
 "nbformat": 4,
 "nbformat_minor": 2
}
