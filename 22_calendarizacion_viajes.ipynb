{
 "cells": [
  {
   "cell_type": "markdown",
   "id": "7ac31837",
   "metadata": {},
   "source": [
    "# Cuaderno 23: Modelo PESP para la calendarización de viajes"
   ]
  },
  {
   "cell_type": "markdown",
   "id": "3a60184f",
   "metadata": {},
   "source": [
    "*Este cuaderno contiene material tomado del Trabajo de Integración Curricular de Liseth Recalde, en la carrera de Ingeniería Matemática en la Escuela Politécnica Nacional (Quito, 2022).*"
   ]
  },
  {
   "cell_type": "markdown",
   "id": "0e69da19",
   "metadata": {},
   "source": [
    "En los problemas de calendarización de viajes se busca determinar horarios exactos de llegada y salida en las estaciones, para cada uno de los viajes de las diferentes líneas dentro de un sistema de transporte público, tomando en cuenta restricciones de duración para cada una de las actividades a realizar durante el recorrido. La calendarización puede ser *aperiódica*, si se establecen horarios para cada uno de los eventos de todos los viajes a lo largo del día, o *periódica*, si los horarios se establecen para un horizonte de tiempo menor (es decir, para un \"período\") y luego se repiten a lo largo del día.\n",
    "\n",
    "Vamos a considerar un ejemplo de planificación periódica de horarios, bajo las siguientes condiciones:\n",
    "\n",
    "* El horizonte de tiempo para la planificación es de $T=30$ minutos.\n",
    "* El sistema de transporte público se representa mediante una Red de Transporte Público (*Public Transportation Network*, PTN), que es un grafo dirigido $(V,A)$, donde el conjunto de nodos $V$ representa a las estaciones del sistema, y el conjunto de arcos $A$ representa a las conexiones directas entre las diferentes estaciones.\n",
    "* El sistema de transporte cuenta con líneas, cada una de las cuales se representa como un camino dirigido en la red de transporte, desde una estación de salida hasta una estación llegada. Asociada a cada línea está su frecuencia, es decir, la cantidad de viajes de esa línea que deben realizarse dentro del horizonte de tiempo. El conjunto de líneas se denota con $\\mathscr{L}$. Para este ejemplo, asumiremos que la PTN contiene dos líneas, cada una con frecuencia igual a 1.\n",
    "* Asumimos que la demanda de transporte ha sido previamente enrutada sobre la PTN y se expresa como un vector $\\bar{w} \\in \\mathbb{Z}^A$ que indica el número de pasajeros que deben ser transportados sobre cada arco de la red dentro del horizonte de tiempo $T$.\n",
    "\n",
    "Para formular el problema de calendarización de viajes, se define la Red Evento-Actividad (*Event-Activity Network*, EAN), $\\mathscr{N}^0=(\\mathscr{E}^0,\\mathscr{A}^0)$ de la siguiente manera:\n",
    "\n",
    "* El conjunto $\\mathscr{E}^0$ de nodos de la red representa los __eventos__ del sistema de transporte: Para cada línea $l \\in \\mathscr{L}$ y para cada estación $v$ dentro del conjunto $V(l)$ de estaciones visitadas por $l$, se definen dos nodos $(v,\\text{arr},l)$ y $(v,\\text{dep},l)$, que representan los eventos de la llegada y la salida de $l$ a la estación $v$, respectivamente. Si la frecuencia de $l$ es mayor a 1, se define un par de nodos por cada viaje de $l$ programado dentro del horizonte de tiempo. Denotaremos por $ \\mathscr{E}_{\\text{arr}}= \\left\\{ \\left ( v,\\text{arr},l \\right ): v\\in V(l), l\\in \\mathscr{L} \\right\\}$ al conjunto de todos los eventos de llegada y por $\\mathscr{E}_{\\text{dep}}= \\left\\{ \\left ( v,\\text{dep},l \\right ): v\\in V(l), l \\in \\mathscr{L} \\right\\}$ al conjunto de todos los eventos de salida. Se tiene que $\\mathscr{E}^0= \\mathscr{E}_{\\text{arr}}\\cup \\mathscr{E}_{\\text{dep}}$.\n",
    "\n",
    "* El conjunto $\\mathscr{A}^0$ de los arcos de la red representa __actividades__ que los usuarios realizan durante su viaje en el sistema de transporte. Identificamos tres tipos distintos de actividades:\n",
    "     * _Actividades de conducción_: Corresponden a los desplazamientos entre estaciones consecutivas dentro de una línea. Cada una de estas actividades se representa en la EAN por medio de un arco $( \\left ( v_1,\\text{dep},l \\right ), \\left ( v_2, \\text{arr},l \\right ))$ que conecta el nodo de salida de una línea $l \\in \\mathscr{L}$ desde una estación $v_1 \\in V(l)$ con el nodo de llegada de $l$ a la siguiente estación $v_2 \\in V(l)$ dentro de su recorrido. Denotaremos el conjunto de actividades (arcos) de conducción por $\\mathscr{A}_{\\text{drive}}= \\left\\{ \\left ( \\left ( v_1,\\text{dep},l \\right ), \\left ( v_2, \\text{arr},l \\right ) \\right ): \\left ( v_1,v_2 \\right ) \\in A(l), l\\in  \\mathscr{L} \\right\\}$, donde $A(l)$ es el conjunto de arcos de la red de transporte que pertenecen a $l$.\n",
    "     * _Actividades de espera_: Corresponden a las esperas dentro de un vehículo desde la llegada hasta la salida en cada una de las estaciones intermedias de un viaje. Cada una de estas actividades se representa por medio de un arco $( \\left ( v,\\text{arr},l\\right ), \\left ( v, \\text{dep},l \\right ))$ que conecta el nodo de llegada de una línea $l \\in \\mathscr{L}$ a una estación $v \\in V(l)$ con el nodo de salida de $l$ desde la misma estación $v$. Denotaremos por $\\mathscr{A}_{\\text{wait}}= \\left\\{ \\left ( \\left ( v,\\text{arr},l \\right ), \\left ( v, \\text{dep},l \\right ) \\right ): v\\in V(l), l\\in\\mathscr{L} \\right\\}$ al conjunto de actividades (arcos) de espera. \n",
    "     * _Actividades de transferencia_: Corresponden a los cambios de línea que los pasajeros pueden realizar durante sus viajes. Cada una de estas actividades se representa por medio de un arco $( \\left ( v,\\text{arr},l_1 \\right ), \\left ( v, \\text{dep},l_2 \\right ) )$ que conecta el nodo de llegada a una de una línea $l_1 \\in \\mathscr{L}$ a una estación $v \\in V(l_1) \\cap V(l_2)$ con el nodo de salida de otra línea $l_2 \\in \\mathscr{L}$ desde esa misma estación $v$.  Denotaremos por $\\mathscr{A}_{\\text{trans}}= \\left\\{ \\left ( \\left ( v,\\text{arr},l_1 \\right ), \\left ( v, \\text{dep},l_2 \\right ) \\right ): v \\in V(l_1) \\cap V(l_2), l_1,l_2 \\in \\mathscr{L}, l_1\\neq l_2 \\right\\}$ al conjunto de actividades (arcos) de transferencia.\n",
    "     * Finalmente, se define $\\mathscr{A}^0 := \\mathscr{A}_{\\text{drive}}\\cup\\mathscr{A}_{\\text{wait}}\\cup\\mathscr{A}_{\\text{trans}}$.\n",
    "     \n",
    "En el problema de calendarización de viajes, se tienen definidos tres parámetros sobre la Red Evento-Actividad:\n",
    "\n",
    "* Una cota inferior $L_a$ y una cota superior $U_a$ para la duración de cada actividad $a \\in \\mathscr{A}^0$; y,\n",
    "* la cantidad $w_a$ de pasajeros que participan en cada actividad $a \\in \\mathscr{A}^0$ (también llamada *peso por pasajeros de la actividad $a$*). El vector $w \\in \\mathbb{Z}^{\\mathscr{A}^0}$ puede obtenerse a partir del vector de demandas $\\bar{w}$ de la PTN, distribuyendo los flujos de pasajeros sobre las distintas líneas.\n",
    "\n",
    "El problema de calendarización periódica de viajes consiste en determinar, para cada evento $i \\in \\mathscr{E}^0$ un horario (es decir, un instante de tiempo) $\\pi_i \\in \\{0, \\ldots T-1\\}$ de tal forma que la duración de cada actividad se encuentre entre de sus cotas inferior y superior. Los horarios se consideran expresados en módulo $T$, por lo que la condición anterior puede formularse como:\n",
    "$$\n",
    "L_a \\leq \\pi_j - \\pi_i \\mod T \\leq U_a, \\quad \\forall a=(i,j) \\in  \\mathscr{A}^0.\n",
    "$$\n",
    "El objetivo es minimizar la suma de las duraciones de todas las actividades de la EAN, ponderada por sus pesos por pasajeros.\n",
    "\n",
    "Para formular este problema como un programa lineal entero, definimos las siguientes variables de decisión:\n",
    "\n",
    "- Variables enteras $\\pi_i \\in \\{0, \\ldots T-1\\}, \\, i \\in \\mathscr{E}^0$ que indican los horarios de los eventos; y, \n",
    "- Variables enteras $z_a, \\, a\\in \\mathscr{A}^0$ que modelan la periodicidad del horario (es decir, las relaciones \"módulo T\").\n",
    "\n",
    "Con esto, el modelo PESP (*Periodic Event Scheduling Problem*) para la calendarización de eventos, puede ser formulado de la siguiente manera:\n",
    "\n",
    "\\begin{align*}\n",
    "  \\min & \\sum_{a=(i,j)\\in \\mathscr{A}^0}w_a \\left( \\pi_j - \\pi_i + T z_a \\right)\\\\\n",
    "    \\text{s.r.} \\\\\n",
    "    &  \\pi_j-\\pi_i + T z_a \\geq L_a, & \\forall a=(i,j) \\in \\mathscr{A}^0,\\\\\n",
    "     &\\pi_j-\\pi_i + T z_a \\leq U_a, & \\forall a=(i,j) \\in \\mathscr{A}^0,\\\\\n",
    "     &\\pi_i\\in \\left\\{0, ..., T-1\\right\\}, & \\forall i\\in \\mathscr{E}^0,\\\\\n",
    "     &z_a\\in \\mathbb{Z}, & \\forall a\\in \\mathscr{A}^0.\n",
    "\\end{align*}\n",
    "\n",
    "La función objetivo mide el tiempo de duración de las actividades, ponderado por el número de pasajeros que participan en ellas. La primera familia de restricciones establece que la duración de cada actividad debe \n",
    "ser mayor o igual a su cota inferior, mientras que la segunda familia de restricciones establece que esta duración debe ser menor o igual a su cota superior.\n",
    "\n",
    "Vamos a implementar este programa utilizando la interfaz Python de Gurobi."
   ]
  },
  {
   "cell_type": "code",
   "execution_count": null,
   "id": "4b181157",
   "metadata": {
    "scrolled": false
   },
   "outputs": [],
   "source": [
    "# D A T O S   D E L   E J E M P L O\n",
    "import gurobipy as gp\n",
    "from gurobipy import *\n",
    "    \n",
    "# Actividades, cotas inferiores, cotas superiores y pesos por pasajeros\n",
    "AA, L, U, w = gp.multidict({\n",
    "  ((1,\"arr\",\"l1\"),(1,\"dep\",\"l1\")):  (1, 3,45), #espera l1\n",
    "  ((2,\"arr\",\"l1\"),(2,\"dep\",\"l1\")):  (2, 4,50), \n",
    "  ((3,\"arr\",\"l1\"),(3,\"dep\",\"l1\")):  (2, 4,60), \n",
    "  ((4,\"arr\",\"l1\"),(4,\"dep\",\"l1\")):  (1, 3,55), \n",
    "  ((5,\"arr\",\"l1\"),(5,\"dep\",\"l1\")):  (1, 3, 55), \n",
    "  ((6,\"arr\",\"l2\"),(6,\"dep\",\"l2\")):  (2, 4,30),  #espera l2\n",
    "  ((7,\"arr\",\"l2\"),(7,\"dep\",\"l2\")):  (1, 3,50), \n",
    "  ((2,\"arr\",\"l2\"),(2,\"dep\",\"l2\")):  (2, 4,80), \n",
    "  ((3,\"arr\",\"l2\"),(3,\"dep\",\"l2\")):  (2, 4,40), \n",
    "  ((8,\"arr\",\"l2\"),(8,\"dep\",\"l2\")):  (2, 4, 45),     \n",
    "  ((1,\"dep\",\"l1\"),(2,\"arr\",\"l1\")):  (5, 8,45), #conducción l1\n",
    "  ((2,\"dep\",\"l1\"),(3,\"arr\",\"l1\")):  (6, 10,65), \n",
    "  ((3,\"dep\",\"l1\"),(4,\"arr\",\"l1\")):  (4, 6,85), \n",
    "  ((4,\"dep\",\"l1\"),(5,\"arr\",\"l1\")):  (7, 11,55), \n",
    "  ((6,\"dep\",\"l2\"),(7,\"arr\",\"l2\")):  (3, 5,30), #conducción l2\n",
    "  ((7,\"dep\",\"l2\"),(2,\"arr\",\"l2\")):  (4, 6,50), \n",
    "  ((2,\"dep\",\"l2\"),(3,\"arr\",\"l2\")):  (6, 10,90), \n",
    "  ((3,\"dep\",\"l2\"),(8,\"arr\",\"l2\")):  (6, 9,45), \n",
    "  ((2,\"arr\",\"l1\"),(2,\"dep\",\"l2\")):  (3, 4,10), #transferencia \n",
    "  ((2,\"arr\",\"l2\"),(2,\"dep\",\"l1\")):  (3, 4,15),     \n",
    "  ((3,\"arr\",\"l1\"),(3,\"dep\",\"l2\")):  (3, 4,5), \n",
    "  ((3,\"arr\",\"l2\"),(3,\"dep\",\"l1\")):  (3, 4,25),         \n",
    "  })\n",
    "\n",
    "# Horizonte de tiempo\n",
    "T=30\n",
    "\n",
    "# --- A PARTIR DE AQUÍ LOS DATOS SE CALCULAN EN FUNCIÓN DE LOS ANTERIORES --- \n",
    "\n",
    "# Eventos\n",
    "EE = gp.tuplelist(set([e1 for (e1,e2) in AA] + [e2 for (e1,e2) in AA]))\n",
    "\n",
    "# Lista de líneas\n",
    "LL = gp.tuplelist(set([l for (i, s, l) in EE]))\n",
    "\n",
    "# Diccionario de arcos de conducción por línea\n",
    "Adrive = {l : [(e1, e2) for (e1, e2) in AA if e1[1]==\"dep\" and e2[1]==\"arr\" \n",
    "              and e1[2]==l and e2[2]==l] for l in LL}\n",
    "\n",
    "# Diccionario de estaciones visitadas por línea\n",
    "Vl = {}\n",
    "for l in LL:\n",
    "    # reconstruir arcos de conducción como pares entre estaciones\n",
    "    Laux = tuplelist([(e1[0], e2[0]) for (e1, e2) in Adrive[l]])\n",
    "    # seleccionar primera estación visitada por l\n",
    "    i = [(i1, i2) for (i1, i2) in Laux if len(Laux.select('*', i1))==0][0][0] \n",
    "    ruta = [i]\n",
    "    while len(Laux.select(i,'*'))>0:\n",
    "        i = Laux.select(i,'*')[0][1]\n",
    "        ruta.append(i)\n",
    "    Vl[l] = ruta\n",
    "\n",
    "    \n",
    "# Arcos de la PTN\n",
    "A = gp.tuplelist(set([(e1[0],e2[0]) for (e1,e2) in AA if e1[1]==\"dep\" and e2[1]==\"arr\" and e1[2]==e2[2]]))\n",
    "\n",
    "# Nodos de la PTN\n",
    "V = gp.tuplelist(set([v1 for (v1,v2) in A] + [v2 for (v1,v2) in A]))\n",
    "\n",
    "# Verificación de datos procesados\n",
    "print(LL)\n",
    "print(Adrive)\n",
    "print(Vl)\n",
    "print(A)\n",
    "print(V)"
   ]
  },
  {
   "cell_type": "markdown",
   "id": "6ab9ef4f",
   "metadata": {},
   "source": [
    "Podemos visualizar la red de transporte (PTN) empleando las bibliotecas `matplotlib` y `networkx`:"
   ]
  },
  {
   "cell_type": "code",
   "execution_count": null,
   "id": "c0543f94",
   "metadata": {},
   "outputs": [],
   "source": [
    "# Visualización de la red PTN\n",
    "import networkx as nx\n",
    "import matplotlib.pyplot as plt\n",
    "D = nx.DiGraph()\n",
    "D.add_nodes_from(V)\n",
    "node_labels= {i : str(i) for i in V}\n",
    "D.add_edges_from(A)\n",
    "plt.figure(figsize=(12,4))\n",
    "pos = {1 : (1,6), 2 : (3.5,5), 3 : (6.5,5), 4 : (8.75,6), 5 : (8.75,4.5), 6:(1,5), 7 : (1,3), 8 : (8.75,3)}\n",
    "nx.draw_networkx(D, pos, labels= node_labels, node_color='cyan', node_size=500)\n",
    "#nx.draw_networkx_edge_labels(D, pos, edge_labels)\n",
    "plt.show()\n",
    "print('*** Se tienen definidas {} líneas: ***'.format(len(LL)))\n",
    "for l in LL:\n",
    "    print('{} : {}'.format(l, Vl[l]))"
   ]
  },
  {
   "cell_type": "markdown",
   "id": "e67fadb7",
   "metadata": {},
   "source": [
    "Adicionalmente, podemos visualizar la red evento-actividad (EAN):"
   ]
  },
  {
   "cell_type": "code",
   "execution_count": null,
   "id": "9aad24be",
   "metadata": {
    "scrolled": true
   },
   "outputs": [],
   "source": [
    "#Visualización de la red EAN\n",
    "D = nx.DiGraph() #crea grafos dirigidos\n",
    "D.add_nodes_from(EE) #Añadimos eventos\n",
    "node_labels= {i : str(i[0]) for i in EE} #Etiquetas de nodos\n",
    "# Separamos listas de nodos dep y arr para darles diferente forma.\n",
    "nodos_dep= [v for v in D if v[1]=='dep']\n",
    "nodos_arr= [v for v in D if v[1]=='arr']\n",
    "# Lista de colores para usar en las líneas:\n",
    "lista_color = ['lime', 'm','y', 'g',  'b', 'c', 'saddlebrown','indigo', 'orange', 'gray']\n",
    "# Crear diccionario de colores para las lineas\n",
    "color_lin = {LL[k] : lista_color[k % 10] for k in range(len(LL))} # a cada línea asigna un color de la lista de colores (hasta 10 líneas)\n",
    "nodos_dep_color= [color_lin[v[2]] for v in nodos_dep] #v[2] indica la línea a la que pertenecen los nodos, color_lin[v[2]] indica el color de la línea según el diccionario color_lin\n",
    "nodos_arr_color= [color_lin[v[2]] for v in nodos_arr]\n",
    "D.add_edges_from(AA) #agregamos las actividades\n",
    "edge_labels = {(i,j) :'w='+str(w[i,j]) + ', \\n L=' + str(L[i,j])+', U=' + str(U[i,j]) for (i,j) in AA} \n",
    "plt.figure(figsize=(22,10)) #tamaño de la figura (20) ancho, (10) de alto.\n",
    "#Posición de los eventos\n",
    "pos={(1, 'arr', 'l1'): (0.5,6),   (1, 'dep', 'l1'): (2,6),   (2, 'arr', 'l1'): (3,5), \n",
    "     (2, 'dep', 'l1'): (4,5),     (3, 'arr', 'l1'): (6,5),   (3, 'dep', 'l1'): (7,5), \n",
    "     (4, 'arr', 'l1'): (8,6),     (4, 'dep', 'l1'): (9.5,6), (5, 'arr', 'l1'): (8,4.5), \n",
    "     (5, 'dep', 'l1'): (9.5,4.5), (6, 'arr', 'l2'): (0.5,3), (6, 'dep', 'l2'): (2,3), \n",
    "     (7, 'arr', 'l2'): (0.5,1),   (7, 'dep', 'l2'): (2,1),   (2, 'arr', 'l2'): (3,3), \n",
    "     (2, 'dep', 'l2'): (4,3),     (3, 'arr', 'l2'): (6,3),   (3, 'dep', 'l2'): (7,3), \n",
    "     (8, 'arr', 'l2'): (8.2,3),   (8, 'dep', 'l2'): (9.5,3)}\n",
    "\n",
    "nx.draw_networkx_edge_labels(D, pos, edge_labels) # es para las etiquetas de los arcos. \n",
    "nx.draw_networkx_edges(D, pos, min_target_margin=30) #tamaño de las flechas de los arcos \n",
    "nx.draw_networkx_labels(D, pos, labels= node_labels)\n",
    "nx.draw_networkx_nodes(D, pos, nodelist= nodos_dep, node_color=nodos_dep_color, node_shape='s', node_size=3000 ) #asigna forma a nodos dep\n",
    "nx.draw_networkx_nodes(D, pos, nodelist= nodos_arr, node_color=nodos_arr_color, node_shape='o', node_size=3000 ) #asigna forma a nodos arr\n",
    "plt.show()"
   ]
  },
  {
   "cell_type": "markdown",
   "id": "249419c8",
   "metadata": {},
   "source": [
    "La red anterior representa un sistema de transporte público que consta de:\n",
    "- 2 líneas de transporte, identificadas con colores;\n",
    "- estaciones identificadas con números del 1 al 8; \n",
    "- eventos de llegada de cada línea $l$ a cada estación $v \\in V(l)$ (nodos círculos);\n",
    "- eventos de salida de cada línea $l$ desde cada estación $v \\in V(l)$ (nodos cuadrados);\n",
    "- actividades de conducción, espera y transferencia, cada una marcada con su respectivo:\n",
    "    - peso por pasajeros, $w$;\n",
    "    - cota inferior de duración, $L$; y,\n",
    "    - cota superior de duración, $U$."
   ]
  },
  {
   "cell_type": "markdown",
   "id": "22f24767",
   "metadata": {},
   "source": [
    "Con estos datos, implementamos a continuación el modelo PESP:"
   ]
  },
  {
   "cell_type": "code",
   "execution_count": null,
   "id": "1aab5885",
   "metadata": {
    "scrolled": true
   },
   "outputs": [],
   "source": [
    "# I M P L E M E N T A C I Ó N   D E L   M O D E L O\n",
    "\n",
    "# Crear el objeto modelo\n",
    "m = Model('PESP')\n",
    "\n",
    "# Crear las variables de asignación de horarios\n",
    "pi = m.addVars(EE, name=\"pi\", vtype=GRB.INTEGER, lb=0, ub=T-1)\n",
    "\n",
    "# Crear las variables de periodicidad del horario\n",
    "z = m.addVars(AA, name=\"z\", vtype=GRB.INTEGER) \n",
    "\n",
    "# Crear la función objetivo\n",
    "m.setObjective((quicksum(w[i,j]*(pi[j]-pi[i]+z[i,j]*T) for i,j in AA)), GRB.MINIMIZE)\n",
    "\n",
    "# Añadir las restricciones\n",
    "m.addConstrs((pi[j]-pi[i]+z[i,j]*T>=L[i,j] for i,j in AA), \"Cota_inferior\")\n",
    "m.addConstrs((pi[j]-pi[i]+z[i,j]*T<=U[i,j] for i,j in AA), \"Cota_superior\")\n",
    "# Esta restricción fija (arbitrariamente) el horario de un evento de referencia en 0. \n",
    "# el evento (6,\"arr\",\"l2\") es tomado como referencia\n",
    "m.addConstr((pi[(6,\"arr\",\"l2\")]==0), \"Comienzo 0\") "
   ]
  },
  {
   "cell_type": "markdown",
   "id": "9abb30e2",
   "metadata": {},
   "source": [
    "Resolvemos ahora el modelo:"
   ]
  },
  {
   "cell_type": "code",
   "execution_count": null,
   "id": "030ecec3",
   "metadata": {
    "scrolled": false
   },
   "outputs": [],
   "source": [
    "# O P T I M I Z A C I Ó N\n",
    "m.optimize()"
   ]
  },
  {
   "cell_type": "markdown",
   "id": "4c184be2",
   "metadata": {},
   "source": [
    "Mostramos los horarios de cada evento obtenidos en la solución:"
   ]
  },
  {
   "cell_type": "code",
   "execution_count": null,
   "id": "7462b0a3",
   "metadata": {
    "scrolled": true
   },
   "outputs": [],
   "source": [
    "#R E S P U E S T A\n",
    "for e in EE:\n",
    "    print('{}= {}'.format(pi[e].varName, int(pi[e].x)))"
   ]
  },
  {
   "cell_type": "markdown",
   "id": "f1188471",
   "metadata": {},
   "source": [
    "Finalmente, graficamos la solución sobre la red EAN:"
   ]
  },
  {
   "cell_type": "code",
   "execution_count": null,
   "id": "5511838b",
   "metadata": {
    "scrolled": true
   },
   "outputs": [],
   "source": [
    "D = nx.DiGraph() #crea grafos dirigidos\n",
    "D.add_nodes_from(EE) #Añadimos eventos\n",
    "node_labels= {i : '\\u03C0 = ' + str(int(pi[i].x)) +'\\n'+ str(i[0]) for i in EE} \n",
    "nodos_dep= [v for v in D if v[1]=='dep']\n",
    "nodos_arr= [v for v in D if v[1]=='arr']\n",
    "# lista de colores para usar en las líneas:\n",
    "lista_color = ['lime', 'm','y', 'g',  'b', 'c', 'saddlebrown', \n",
    "               'indigo', 'orange', 'gray']\n",
    "# crear diccionario de colores para las lineas\n",
    "color_lin = {LL[k] : lista_color[k % 10] for k in range(len(LL))}\n",
    "nodos_dep_color= [color_lin[v[2]] for v in nodos_dep]\n",
    "nodos_arr_color= [color_lin[v[2]] for v in nodos_arr]\n",
    "D.add_edges_from(AA) #agregamos las actividades\n",
    "#agregamos las etiquetas a las actividades\n",
    "edge_labels = {(i,j) : \"z=\"+ str(int(z[(i,j)].x))+'\\n'+'w='+str(w[i,j]) \n",
    "               + ', \\n L=' + str(L[i,j])+', U=' + str(U[i,j]) for (i,j) in AA} \n",
    "plt.figure(figsize=(23,10)) #tamaño de la figura (20) ancho, (10) de alto.\n",
    "\n",
    "#Posición de los eventos\n",
    "pos={(1, 'arr', 'l1'): (0.5,6),   (1, 'dep', 'l1'): (2,6),   (2, 'arr', 'l1'): (3,5), \n",
    "     (2, 'dep', 'l1'): (4,5),     (3, 'arr', 'l1'): (6,5),   (3, 'dep', 'l1'): (7,5), \n",
    "     (4, 'arr', 'l1'): (8,6),     (4, 'dep', 'l1'): (9.5,6), (5, 'arr', 'l1'): (8,4.5), \n",
    "     (5, 'dep', 'l1'): (9.5,4.5), (6, 'arr', 'l2'): (0.5,3), (6, 'dep', 'l2'): (2,3), \n",
    "     (7, 'arr', 'l2'): (0.5,1),   (7, 'dep', 'l2'): (2,1),   (2, 'arr', 'l2'): (3,3), \n",
    "     (2, 'dep', 'l2'): (4,3),     (3, 'arr', 'l2'): (6,3),   (3, 'dep', 'l2'): (7,3), \n",
    "     (8, 'arr', 'l2'): (8.2,3),   (8, 'dep', 'l2'): (9.5,3)}\n",
    "\n",
    "nx.draw_networkx_edges(D, pos, min_target_margin=30) #tamaño de las flechas de los arcos \n",
    "nx.draw_networkx_labels(D, pos, labels= node_labels)\n",
    "nx.draw_networkx_nodes(D, pos, nodelist= nodos_dep, node_color=nodos_dep_color, node_shape='s', node_size=3000 )\n",
    "nx.draw_networkx_nodes(D, pos, nodelist= nodos_arr, node_color=nodos_arr_color, node_shape='o', node_size=3000 )\n",
    "nx.draw_networkx_edge_labels(D, pos, edge_labels) # es para las etiquetas de los arcos\n",
    "plt.show()"
   ]
  },
  {
   "cell_type": "code",
   "execution_count": null,
   "id": "25752bb0",
   "metadata": {},
   "outputs": [],
   "source": []
  }
 ],
 "metadata": {
  "kernelspec": {
   "display_name": "Python 3 (ipykernel)",
   "language": "python",
   "name": "python3"
  },
  "language_info": {
   "codemirror_mode": {
    "name": "ipython",
    "version": 3
   },
   "file_extension": ".py",
   "mimetype": "text/x-python",
   "name": "python",
   "nbconvert_exporter": "python",
   "pygments_lexer": "ipython3",
   "version": "3.8.10"
  }
 },
 "nbformat": 4,
 "nbformat_minor": 5
}
