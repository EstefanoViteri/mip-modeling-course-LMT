{
 "cells": [
  {
   "cell_type": "markdown",
   "metadata": {},
   "source": [
    "# Cuaderno 14: Planificación de la producción (Lot Sizing)\n",
    "\n",
    "$\\newcommand{\\card}[1]{\\left| #1 \\right|}$\n",
    "$\\newcommand{\\ZZ}{\\mathbb{Z}_+}$\n",
    "$\\newcommand{\\tabulatedset}[1]{\\left\\{ #1 \\right\\}}$\n",
    "\n",
    "En los problemas de planificación de la producción (*lot sizing*) se busca determinar los niveles óptimos de producción de uno o varios bienes dentro de un ciclo productivo, considerando restricciones como la demanda, la capacidad, los costos de producción, los costos de almacenamiento, entre otras.\n",
    "\n",
    "Consideraremos, a manera de ejemplo, la planificación de los niveles óptimos de producción de una empresa dedicada a la producción de alimento balanceado, sujeta a las siguientes condiciones:\n",
    "\n",
    "* El plan de producción se organiza sobre un horizonte de tiempo de un año, dividido en un conjunto $T= \\tabulatedset{1, \\ldots, 12}$ de períodos mensuales. \n",
    "* Si en un período $t \\in T$ se toma la decisión de producir, se incurre en un\n",
    "  costo fijo igual a $c_t$ (en USD). \n",
    "* Para cada período $t \\in T$, se conocen además la demanda estimada de balanceado en el mercado $d_t$ (en toneladas) y el costo unitario de su producción $p_t$ (en USD / tonelada). \n",
    "* En cada período se debe satisfacer toda la demanda estimada. Si en un período el nivel de producción supera a la demanda, es posible almacenar el producto excedente a un costo unitario igual a $h_t$ (USD/tonelada). \n",
    "* La producción se realiza por lotes de una tonelada de alimento balanceado. No es posible producir fracciones de un lote.\n",
    "  \n",
    "El problema consiste en determinar los niveles de producción mensuales que permitan satisfacer toda la demanda al menor costo posible. Para formular este problema como un programa lineal entero, definimos las siguientes variables de decisión:\n",
    "\n",
    "* variables enteras $x_t, \\, t \\in T,$ que indiquen la cantidad de lotes a producir en el período $t$;\n",
    "* variables binarias $y_t, \\, t \\in T,$ tales que $y_t = 1$ si y solamente si se toma la decisión producir en el período $t$;\n",
    "* variables enteras $z_t, \\, t \\in T,$ que indiquen la cantidad de lotes de producto a almacenar del período $t$ al período $t+1$.\n",
    "\n",
    "Con estas definiciones, el problema puede ser formulado como el siguiente programa lineal entero:\n",
    "\n",
    "\\begin{align*}\n",
    "\\min &\\sum_{t \\in T} (p_t x_t + c_t y_t + h_t z_t)\\\\ \n",
    "& \\mbox{s.r.}\\\\\n",
    "& x_1 = d_1 + z_1,\\\\\n",
    "& x_t + z_{t-1} = d_t + z_t, \\quad \\forall t \\in T \\setminus \\{1\\}, \\\\\n",
    "& x_t \\leq M y_t, \\quad \\forall t \\in T, \\\\\n",
    "& x_t, z_t \\in \\ZZ, y_t \\in \\{0, 1\\}, \\quad \\forall t \\in T.\n",
    "\\end{align*}\n",
    "\n",
    "\n",
    "Donde $M$ es una constante suficientemente grande como para que $x_t \\leq M$ se cumpla en cualquier solución factible. Podemos fijar, por ejemplo, $M:= \\sum_{t \\in T} d_t$.\n",
    "\n",
    "Vamos a implementar este programa utilizando la interfaz Python de Gurobi."
   ]
  },
  {
   "cell_type": "markdown",
   "metadata": {},
   "source": [
    "Definimos primero el conjunto $T$ y los parámetros $p$, $c$, $h$, $d$ y $M$:"
   ]
  },
  {
   "cell_type": "code",
   "execution_count": 1,
   "metadata": {},
   "outputs": [
    {
     "name": "stdout",
     "output_type": "stream",
     "text": [
      "T= [1, 2, 3, 4, 5, 6, 7, 8, 9, 10, 11, 12]\n",
      "T2= [2, 3, 4, 5, 6, 7, 8, 9, 10, 11, 12]\n",
      "c= {1: 400, 2: 450, 3: 400, 4: 470, 5: 450, 6: 400, 7: 350, 8: 400, 9: 450, 10: 450, 11: 500, 12: 500}\n",
      "p= {1: 40, 2: 47, 3: 38, 4: 45, 5: 47, 6: 42, 7: 33, 8: 39, 9: 45, 10: 47, 11: 50, 12: 55}\n",
      "h= {1: 10, 2: 12, 3: 10, 4: 9, 5: 12, 6: 10, 7: 10, 8: 12, 9: 10, 10: 12, 11: 15, 12: 15}\n",
      "d= {1: 20, 2: 20, 3: 25, 4: 25, 5: 25, 6: 20, 7: 20, 8: 18, 9: 18, 10: 20, 11: 25, 12: 27}\n",
      "M= <gurobi.LinExpr: 263.0>\n"
     ]
    }
   ],
   "source": [
    "from gurobipy import *\n",
    "\n",
    "# Conjuntos y parametros del modelo\n",
    "# El diccionario con los datos tiene el formato {t : (c_t, p_t, h_t, d_t)}\n",
    "# Costos fijos, costos de produccion, costos de almacenamiento y demandas:\n",
    "T, c, p, h, d = multidict({\n",
    "    1 : (400, 40, 10, 20),   2 : (450, 47, 12, 20),  3 : (400, 38, 10, 25),\n",
    "    4 : (470, 45,  9, 25),   5 : (450, 47, 12, 25),  6 : (400, 42, 10, 20),\n",
    "    7 : (350, 33, 10, 20),   8 : (400, 39, 12, 18),  9 : (450, 45, 10, 18),\n",
    "   10 : (450, 47, 12, 20),  11 : (500, 50, 15, 25), 12 : (500, 55, 15, 27)})\n",
    "\n",
    "    \n",
    "# Constante igual a la suma de todas las demandas\n",
    "M = quicksum(d)\n",
    "\n",
    "# Conjunto T \\ {1}\n",
    "T2 = [t for t in T if not t==1]\n",
    "\n",
    "print(\"T= {}\".format(T))\n",
    "print(\"T2= {}\".format(T2))\n",
    "print(\"c= {}\".format(c))\n",
    "print(\"p= {}\".format(p))\n",
    "print(\"h= {}\".format(h))\n",
    "print(\"d= {}\".format(d))\n",
    "print(\"M= {}\".format(M))"
   ]
  },
  {
   "cell_type": "markdown",
   "metadata": {},
   "source": [
    "Definimos ahora el objeto modelo y las variables del modelo:"
   ]
  },
  {
   "cell_type": "code",
   "execution_count": 2,
   "metadata": {},
   "outputs": [
    {
     "name": "stdout",
     "output_type": "stream",
     "text": [
      "\n",
      "--------------------------------------------\n",
      "Warning: your license will expire in 2 days\n",
      "--------------------------------------------\n",
      "\n",
      "Using license file /Users/ltorres/gurobi.lic\n",
      "Academic license - for non-commercial use only\n"
     ]
    }
   ],
   "source": [
    "m = Model('lot-sizing')\n",
    "\n",
    "# lotes a producir\n",
    "x = m.addVars(T, vtype = GRB.INTEGER, name=\"x\")\n",
    "\n",
    "# se produce / no se produce en cada periodo\n",
    "y = m.addVars(T, vtype = GRB.BINARY, name=\"y\")\n",
    "\n",
    "# lotes a almacenar\n",
    "z = m.addVars(T, vtype = GRB.INTEGER, name=\"z\")"
   ]
  },
  {
   "cell_type": "markdown",
   "metadata": {},
   "source": [
    "Construimos la función objetivo a partir de sus tres términos:"
   ]
  },
  {
   "cell_type": "code",
   "execution_count": 3,
   "metadata": {},
   "outputs": [],
   "source": [
    "# costos variables de produccion\n",
    "c_produccion = x.prod(p, '*')\n",
    "\n",
    "# costos fijos de produccion\n",
    "c_fijo = y.prod(c, '*')\n",
    "\n",
    "# costos de almacenamiento\n",
    "almacenamiento = z.prod(h, '*')\n",
    "\n",
    "m.setObjective(c_produccion + c_fijo + almacenamiento, GRB.MINIMIZE)"
   ]
  },
  {
   "cell_type": "markdown",
   "metadata": {},
   "source": [
    "Finalmente, implementamos las restricciones del modelo:\n",
    "1. Balance entre produccion, almacenamiento y demanda."
   ]
  },
  {
   "cell_type": "code",
   "execution_count": 4,
   "metadata": {},
   "outputs": [
    {
     "data": {
      "text/plain": [
       "{2: <gurobi.Constr *Awaiting Model Update*>,\n",
       " 3: <gurobi.Constr *Awaiting Model Update*>,\n",
       " 4: <gurobi.Constr *Awaiting Model Update*>,\n",
       " 5: <gurobi.Constr *Awaiting Model Update*>,\n",
       " 6: <gurobi.Constr *Awaiting Model Update*>,\n",
       " 7: <gurobi.Constr *Awaiting Model Update*>,\n",
       " 8: <gurobi.Constr *Awaiting Model Update*>,\n",
       " 9: <gurobi.Constr *Awaiting Model Update*>,\n",
       " 10: <gurobi.Constr *Awaiting Model Update*>,\n",
       " 11: <gurobi.Constr *Awaiting Model Update*>,\n",
       " 12: <gurobi.Constr *Awaiting Model Update*>}"
      ]
     },
     "execution_count": 4,
     "metadata": {},
     "output_type": "execute_result"
    }
   ],
   "source": [
    "# Balance primer periodo\n",
    "m.addConstr(x[1] - z[1] == d[1], \"balance[1]\")\n",
    "\n",
    "# Balance periodos siguientes\n",
    "m.addConstrs((x[t] + z[t-1] - z[t] == d[t] for t in T2), \"balance\")"
   ]
  },
  {
   "cell_type": "markdown",
   "metadata": {},
   "source": [
    "2. Solamente puede producirse cuando $y_t =1$."
   ]
  },
  {
   "cell_type": "code",
   "execution_count": 5,
   "metadata": {},
   "outputs": [
    {
     "data": {
      "text/plain": [
       "{1: <gurobi.Constr *Awaiting Model Update*>,\n",
       " 2: <gurobi.Constr *Awaiting Model Update*>,\n",
       " 3: <gurobi.Constr *Awaiting Model Update*>,\n",
       " 4: <gurobi.Constr *Awaiting Model Update*>,\n",
       " 5: <gurobi.Constr *Awaiting Model Update*>,\n",
       " 6: <gurobi.Constr *Awaiting Model Update*>,\n",
       " 7: <gurobi.Constr *Awaiting Model Update*>,\n",
       " 8: <gurobi.Constr *Awaiting Model Update*>,\n",
       " 9: <gurobi.Constr *Awaiting Model Update*>,\n",
       " 10: <gurobi.Constr *Awaiting Model Update*>,\n",
       " 11: <gurobi.Constr *Awaiting Model Update*>,\n",
       " 12: <gurobi.Constr *Awaiting Model Update*>}"
      ]
     },
     "execution_count": 5,
     "metadata": {},
     "output_type": "execute_result"
    }
   ],
   "source": [
    "# y[t]=0 => x[t]=0\n",
    "m.addConstrs((x[t] <= M*y[t] for t in T), \"sinc_xy\")"
   ]
  },
  {
   "cell_type": "markdown",
   "metadata": {},
   "source": [
    "Optimizar el modelo:"
   ]
  },
  {
   "cell_type": "code",
   "execution_count": 6,
   "metadata": {},
   "outputs": [
    {
     "name": "stdout",
     "output_type": "stream",
     "text": [
      "Gurobi Optimizer version 9.0.2 build v9.0.2rc0 (mac64)\n",
      "Optimize a model with 24 rows, 36 columns and 59 nonzeros\n",
      "Model fingerprint: 0x46236843\n",
      "Variable types: 0 continuous, 36 integer (12 binary)\n",
      "Coefficient statistics:\n",
      "  Matrix range     [1e+00, 3e+02]\n",
      "  Objective range  [9e+00, 5e+02]\n",
      "  Bounds range     [1e+00, 1e+00]\n",
      "  RHS range        [2e+01, 3e+01]\n",
      "Found heuristic solution: objective 16897.000000\n",
      "Presolve removed 3 rows and 4 columns\n",
      "Presolve time: 0.07s\n",
      "Presolved: 21 rows, 32 columns, 52 nonzeros\n",
      "Variable types: 0 continuous, 32 integer (11 binary)\n",
      "\n",
      "Root relaxation: objective 1.312651e+04, 29 iterations, 0.00 seconds\n",
      "\n",
      "    Nodes    |    Current Node    |     Objective Bounds      |     Work\n",
      " Expl Unexpl |  Obj  Depth IntInf | Incumbent    BestBd   Gap | It/Node Time\n",
      "\n",
      "     0     0 13126.5101    0   10 16897.0000 13126.5101  22.3%     -    0s\n",
      "H    0     0                    16837.000000 13126.5101  22.0%     -    0s\n",
      "H    0     0                    16562.000000 13126.5101  20.7%     -    0s\n",
      "     0     0 14753.9232    0   14 16562.0000 14753.9232  10.9%     -    0s\n",
      "H    0     0                    16281.000000 14753.9232  9.38%     -    0s\n",
      "H    0     0                    15896.000000 14753.9232  7.18%     -    0s\n",
      "H    0     0                    15682.000000 14753.9232  5.92%     -    0s\n",
      "H    0     0                    15134.000000 14753.9232  2.51%     -    0s\n",
      "     0     0 14844.4783    0   23 15134.0000 14844.4783  1.91%     -    0s\n",
      "     0     0 14955.0638    0    8 15134.0000 14955.0638  1.18%     -    0s\n",
      "     0     0 14969.7414    0   13 15134.0000 14969.7414  1.09%     -    0s\n",
      "H    0     0                    15039.000000 14969.7414  0.46%     -    0s\n",
      "     0     0 14969.9634    0   13 15039.0000 14969.9634  0.46%     -    0s\n",
      "*    0     0               0    14994.000000 14994.0000  0.00%     -    0s\n",
      "\n",
      "Cutting planes:\n",
      "  Gomory: 7\n",
      "  Implied bound: 15\n",
      "  MIR: 6\n",
      "  Flow cover: 3\n",
      "  Flow path: 1\n",
      "\n",
      "Explored 1 nodes (62 simplex iterations) in 0.48 seconds\n",
      "Thread count was 4 (of 4 available processors)\n",
      "\n",
      "Solution count 9: 14994 15039 15134 ... 16897\n",
      "\n",
      "Optimal solution found (tolerance 1.00e-04)\n",
      "Best objective 1.499400000000e+04, best bound 1.499400000000e+04, gap 0.0000%\n"
     ]
    }
   ],
   "source": [
    "m.optimize()"
   ]
  },
  {
   "cell_type": "markdown",
   "metadata": {},
   "source": [
    "Mostrar la solución: producción, demanda y almacenamiento en cada período."
   ]
  },
  {
   "cell_type": "code",
   "execution_count": 7,
   "metadata": {},
   "outputs": [
    {
     "name": "stdout",
     "output_type": "stream",
     "text": [
      "t\t\tx_t\t\ty_t\t\tz_t\t\td_t\n",
      "1\t\t40.0\t\t1.0\t\t20.0\t\t20\n",
      "2\t\t0.0\t\t0.0\t\t-0.0\t\t20\n",
      "3\t\t75.0\t\t1.0\t\t50.0\t\t25\n",
      "4\t\t0.0\t\t0.0\t\t25.0\t\t25\n",
      "5\t\t0.0\t\t0.0\t\t0.0\t\t25\n",
      "6\t\t20.0\t\t1.0\t\t0.0\t\t20\n",
      "7\t\t76.0\t\t1.0\t\t56.0\t\t20\n",
      "8\t\t0.0\t\t0.0\t\t38.0\t\t18\n",
      "9\t\t0.0\t\t0.0\t\t20.0\t\t18\n",
      "10\t\t0.0\t\t0.0\t\t0.0\t\t20\n",
      "11\t\t52.0\t\t1.0\t\t27.0\t\t25\n",
      "12\t\t0.0\t\t0.0\t\t0.0\t\t27\n"
     ]
    }
   ],
   "source": [
    "# Extraer valores de las soluciones\n",
    "vx = m.getAttr('x', x)\n",
    "vy = m.getAttr('x', y)\n",
    "vz = m.getAttr('x', z)\n",
    "\n",
    "# Mostrar tabla con los valores\n",
    "print('t\\t\\tx_t\\t\\ty_t\\t\\tz_t\\t\\td_t')\n",
    "for t in T:\n",
    "    print('{}\\t\\t{}\\t\\t{}\\t\\t{}\\t\\t{}'.format(t, vx[t], vy[t], vz[t], d[t]))"
   ]
  },
  {
   "cell_type": "markdown",
   "metadata": {},
   "source": [
    "## Código completo\n",
    "\n",
    "Se reproduce a continuación el código completo del modelo anterior."
   ]
  },
  {
   "cell_type": "code",
   "execution_count": 17,
   "metadata": {},
   "outputs": [
    {
     "name": "stdout",
     "output_type": "stream",
     "text": [
      "Gurobi Optimizer version 9.0.2 build v9.0.2rc0 (mac64)\n",
      "Optimize a model with 24 rows, 36 columns and 59 nonzeros\n",
      "Model fingerprint: 0x46236843\n",
      "Variable types: 0 continuous, 36 integer (12 binary)\n",
      "Coefficient statistics:\n",
      "  Matrix range     [1e+00, 3e+02]\n",
      "  Objective range  [9e+00, 5e+02]\n",
      "  Bounds range     [1e+00, 1e+00]\n",
      "  RHS range        [2e+01, 3e+01]\n",
      "Found heuristic solution: objective 16897.000000\n",
      "Presolve removed 3 rows and 4 columns\n",
      "Presolve time: 0.00s\n",
      "Presolved: 21 rows, 32 columns, 52 nonzeros\n",
      "Variable types: 0 continuous, 32 integer (11 binary)\n",
      "\n",
      "Root relaxation: objective 1.312651e+04, 29 iterations, 0.00 seconds\n",
      "\n",
      "    Nodes    |    Current Node    |     Objective Bounds      |     Work\n",
      " Expl Unexpl |  Obj  Depth IntInf | Incumbent    BestBd   Gap | It/Node Time\n",
      "\n",
      "     0     0 13126.5101    0   10 16897.0000 13126.5101  22.3%     -    0s\n",
      "H    0     0                    16837.000000 13126.5101  22.0%     -    0s\n",
      "H    0     0                    16562.000000 13126.5101  20.7%     -    0s\n",
      "     0     0 14753.9232    0   14 16562.0000 14753.9232  10.9%     -    0s\n",
      "H    0     0                    16281.000000 14753.9232  9.38%     -    0s\n",
      "H    0     0                    15896.000000 14753.9232  7.18%     -    0s\n",
      "H    0     0                    15682.000000 14753.9232  5.92%     -    0s\n",
      "H    0     0                    15134.000000 14753.9232  2.51%     -    0s\n",
      "     0     0 14844.4783    0   23 15134.0000 14844.4783  1.91%     -    0s\n",
      "     0     0 14955.0638    0    8 15134.0000 14955.0638  1.18%     -    0s\n",
      "     0     0 14969.7414    0   13 15134.0000 14969.7414  1.09%     -    0s\n",
      "H    0     0                    15039.000000 14969.7414  0.46%     -    0s\n",
      "     0     0 14969.9634    0   13 15039.0000 14969.9634  0.46%     -    0s\n",
      "*    0     0               0    14994.000000 14994.0000  0.00%     -    0s\n",
      "\n",
      "Cutting planes:\n",
      "  Gomory: 7\n",
      "  Implied bound: 15\n",
      "  MIR: 6\n",
      "  Flow cover: 3\n",
      "  Flow path: 1\n",
      "\n",
      "Explored 1 nodes (62 simplex iterations) in 0.15 seconds\n",
      "Thread count was 4 (of 4 available processors)\n",
      "\n",
      "Solution count 9: 14994 15039 15134 ... 16897\n",
      "\n",
      "Optimal solution found (tolerance 1.00e-04)\n",
      "Best objective 1.499400000000e+04, best bound 1.499400000000e+04, gap 0.0000%\n",
      "t\t\tx_t\t\ty_t\t\tz_t\t\td_t\n",
      "1\t\t40.0\t\t1.0\t\t20.0\t\t20\n",
      "2\t\t0.0\t\t0.0\t\t-0.0\t\t20\n",
      "3\t\t75.0\t\t1.0\t\t50.0\t\t25\n",
      "4\t\t0.0\t\t0.0\t\t25.0\t\t25\n",
      "5\t\t0.0\t\t0.0\t\t0.0\t\t25\n",
      "6\t\t20.0\t\t1.0\t\t0.0\t\t20\n",
      "7\t\t76.0\t\t1.0\t\t56.0\t\t20\n",
      "8\t\t0.0\t\t0.0\t\t38.0\t\t18\n",
      "9\t\t0.0\t\t0.0\t\t20.0\t\t18\n",
      "10\t\t0.0\t\t0.0\t\t0.0\t\t20\n",
      "11\t\t52.0\t\t1.0\t\t27.0\t\t25\n",
      "12\t\t0.0\t\t0.0\t\t0.0\t\t27\n"
     ]
    }
   ],
   "source": [
    "# Curso de implementación de programas lineales enteros\n",
    "# Ejemplo: Modelo de planificación de la producción (lot sizing)\n",
    "# EPN (2020)\n",
    "\n",
    "from gurobipy import *\n",
    "try:\n",
    "    # Conjuntos y parametros del modelo\n",
    "    # Costos fijos, costos de produccion, costos de almacenamiento y demandas:\n",
    "    T, c, p, h, d = multidict({\n",
    "        1 : (400, 40, 10, 20),   2 : (450, 47, 12, 20),  3 : (400, 38, 10, 25),\n",
    "        4 : (470, 45,  9, 25),   5 : (450, 47, 12, 25),  6 : (400, 42, 10, 20),\n",
    "        7 : (350, 33, 10, 20),   8 : (400, 39, 12, 18),  9 : (450, 45, 10, 18),\n",
    "       10 : (450, 47, 12, 20),  11 : (500, 50, 15, 25), 12 : (500, 55, 15, 27)})\n",
    "\n",
    "    \n",
    "    # Constante igual a la suma de todas las demandas\n",
    "    M = quicksum(d)\n",
    "\n",
    "    # Conjunto T \\ {1}\n",
    "    T2 = [t for t in T if not t==1]    \n",
    "    \n",
    "    # Crear el objeto modelo\n",
    "    m = Model('lot-sizing')\n",
    "\n",
    "    # Variables de decision\n",
    "    # lotes a producir\n",
    "    x = m.addVars(T, vtype = GRB.INTEGER, name=\"x\")\n",
    "\n",
    "    # se produce / no se produce en cada periodo\n",
    "    y = m.addVars(T, vtype = GRB.BINARY, name=\"y\")\n",
    "\n",
    "    # lotes a almacenar\n",
    "    z = m.addVars(T, vtype = GRB.INTEGER, name=\"z\")    \n",
    "\n",
    "    # Funcion objetivo\n",
    "    # costos variables de produccion\n",
    "    c_produccion = x.prod(p, '*')\n",
    "\n",
    "    # costos fijos de produccion\n",
    "    c_fijo = y.prod(c, '*')\n",
    "\n",
    "    # costos de almacenamiento\n",
    "    almacenamiento = z.prod(h, '*')\n",
    "\n",
    "    m.setObjective(c_produccion + c_fijo + almacenamiento, GRB.MINIMIZE)\n",
    "\n",
    "    # Restricciones\n",
    "    # Balance primer periodo\n",
    "    m.addConstr(x[1] - z[1] == d[1], \"balance[1]\")\n",
    "\n",
    "    # Balance periodos siguientes\n",
    "    m.addConstrs((x[t] + z[t-1] - z[t] == d[t] for t in T2), \"balance\")\n",
    "    \n",
    "    # y[t]=0 => x[t]=0\n",
    "    m.addConstrs((x[t] <= M*y[t] for t in T), \"sinc_xy\")    \n",
    "    \n",
    "    # Resolver el modelo\n",
    "    m.optimize()\n",
    "    \n",
    "    # Mostrar solucion\n",
    "    # Extraer valores de las soluciones\n",
    "    vx = m.getAttr('x', x)\n",
    "    vy = m.getAttr('x', y)\n",
    "    vz = m.getAttr('x', z)\n",
    "\n",
    "    # Mostrar tabla con los valores\n",
    "    print('t\\t\\tx_t\\t\\ty_t\\t\\tz_t\\t\\td_t')\n",
    "    for t in T:\n",
    "        print('{}\\t\\t{}\\t\\t{}\\t\\t{}\\t\\t{}'.format(t, vx[t], vy[t], vz[t], d[t]))        \n",
    "except GurobiError as e:\n",
    "    print('Se produjo un error de Gurobi: codigo: ' + str(e.errno) + \": \" + str(e))\n",
    "\n",
    "except AttributeError:\n",
    "    print('Se produjo un error de atributo')"
   ]
  },
  {
   "cell_type": "code",
   "execution_count": null,
   "metadata": {},
   "outputs": [],
   "source": []
  }
 ],
 "metadata": {
  "kernelspec": {
   "display_name": "Python 3",
   "language": "python",
   "name": "python3"
  },
  "language_info": {
   "codemirror_mode": {
    "name": "ipython",
    "version": 3
   },
   "file_extension": ".py",
   "mimetype": "text/x-python",
   "name": "python",
   "nbconvert_exporter": "python",
   "pygments_lexer": "ipython3",
   "version": "3.7.6"
  }
 },
 "nbformat": 4,
 "nbformat_minor": 2
}
