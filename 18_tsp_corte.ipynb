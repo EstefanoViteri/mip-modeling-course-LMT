{
 "cells": [
  {
   "cell_type": "markdown",
   "metadata": {},
   "source": [
    "# Cuaderno 26: Modelo para el TSP con desigualdades de corte\n",
    "\n",
    "$\\newcommand{\\card}[1]{\\left| #1 \\right|}$\n",
    "$\\newcommand{\\tabulatedset}[1]{\\left\\{ #1 \\right\\}}$\n",
    "$\\newcommand{\\ZZ}{\\mathbb{Z}}$\n",
    "$\\newcommand{\\RR}{\\mathbb{R}}$\n",
    "\n",
    "Dados: \n",
    "* un grafo no dirigido **completo** $G=(V,E)$; y,\n",
    "* un vector $c \\in \\ZZ^{E}$ de costos asociados a las aristas de $G$.\n",
    "\n",
    "El *problema del agente viajero (Traveling Salesman Problem, TSP)* consiste en encontrar un ciclo que visite **todos** los nodos de $G$ y que tenga el menor costo posible.\n",
    "\n",
    "Al tratarse de una versión no dirigida del problema, las restricciones de grado entrante y saliente se reemplazan por una única restricción de grado para cada nodo: cada nodo debe ser incidente a dos aristas del tour.\n",
    "\n",
    "Por otra parte, notar que para impedir subciclos en una solución es suficiente con requerir que la misma sea conexa,\n",
    "lo cual puede hacerse a través de desigualdades de corte, similares al caso del árbol generador de peso mínimo. En el TSP, estas desigualdades pueden ser mejoradas al observar que, para cualquier conjunto $W \\subset V$ con $\\emptyset \\neq W \\neq V$, todo tour factible debe contener al menos *dos* aristas del corte $\\delta(W)$.\n",
    "\n",
    "Utilizando variables binarias $x_{ij}$ para indicar la selección de aristas, el problema del agente viajero puede formularse como el siguiente programa lineal entero:\n",
    "\n",
    "\\begin{align*}\n",
    "\\min &\\sum_{ij \\in E} c_{ij} x_{ij}\\\\ \n",
    "& \\mbox{s.r.}\\\\\n",
    "&\\sum_{ij \\in \\delta(i) } x_{ij} = 2, \\quad \\forall i \\in V,\\\\\n",
    "&\\sum_{ij \\in \\delta(W)} x_{ij} \\geq 2, \\quad \\forall W \\subset V, \\emptyset \\neq W \\neq V,\\\\\n",
    "& x_{ij} \\in \\{0, 1\\}, \\quad \\forall ij \\in E,\n",
    "\\end{align*}\n",
    "donde $\\delta(W) := \\{ ij \\in E \\, : \\, i \\in W, j \\not\\in W\\}$.\n",
    "\n",
    "Vamos a implementar este modelo usando la interfaz Python de Gurobi.\n",
    "\n"
   ]
  },
  {
   "cell_type": "markdown",
   "metadata": {},
   "source": [
    "Definimos primero los datos. Usaremos la función `randint` del módulo random para generar valores aleatorios en el rango {0,..,100} para las coordenadas de cada nodo. Los costos de las aristas serán iguales a las distancias euclideanas entre sus nodos extremos. Notar que el diccionario `c` contiene cada arista una sola vez, debido a la condición `if i < j`."
   ]
  },
  {
   "cell_type": "code",
   "execution_count": 1,
   "metadata": {},
   "outputs": [],
   "source": [
    "from gurobipy import *\n",
    "import random as rm\n",
    "import math \n",
    "\n",
    "# Numero de nodos del grafo\n",
    "n = 10\n",
    "\n",
    "# Nodos del grafo\n",
    "V = tuplelist(range(1,n+1))\n",
    "\n",
    "# Posiciones de los nodos en un plano euclideano entre (0,0) y (100, 100)\n",
    "coordx={i : rm.randint(0,100) for i in V}\n",
    "coordy={i : rm.randint(0,100) for i in V}\n",
    "\n",
    "# los costos son las distancias eculideanas\n",
    "c = tupledict({(i,j) : math.sqrt((coordx[i] - coordx[j])**2 + (coordy[i] - coordy[j])**2)\n",
    "              for i in V for j in V if i < j})\n",
    " \n",
    "E = c.keys()\n"
   ]
  },
  {
   "cell_type": "markdown",
   "metadata": {},
   "source": [
    "Vamos a necesitar construir una restricción de corte para cada subconjunto de nodos $W \\subset V$ tal que $\\emptyset \\neq W \\neq V$. Con esta finalidad, definimos una función `powerset` empleando las funciones `chain` y `combinations` del módulo `itertools`."
   ]
  },
  {
   "cell_type": "code",
   "execution_count": 2,
   "metadata": {},
   "outputs": [],
   "source": [
    "from itertools import chain, combinations\n",
    "\n",
    "def powerset(iterable):\n",
    "    \"powerset([1,2,3]) --> () (1,) (2,) (3,) (1,2) (1,3) (2,3) (1,2,3)\"\n",
    "    s = list(iterable)\n",
    "    return chain.from_iterable(combinations(s, r) for r in range(len(s)+1))\n"
   ]
  },
  {
   "cell_type": "markdown",
   "metadata": {},
   "source": [
    "Emplearemos el módulo `matplotlib` para graficar el tour de la solución. Definiremos para ello la función `dibujarTour` que recibe tres argumentos: una lista `coordx` con las coordenadas horizontales de los nodos, una lista `coordy` con las coordenadas verticales y un vector `tour` con una permutación de los nodos indicando el orden de visita en la solución."
   ]
  },
  {
   "cell_type": "code",
   "execution_count": 3,
   "metadata": {},
   "outputs": [],
   "source": [
    "import matplotlib.pyplot as plt\n",
    "import random\n",
    "\n",
    "def dibujarTour(coordx, coordy, tour):\n",
    "    x = [coordx[i] for i in tour]\n",
    "    y = [coordy[i] for i in tour]\n",
    "    plt.plot(x, y, 'ro')\n",
    "    Tx = [coordx[i] for i in tour]\n",
    "    Ty = [coordy[i] for i in tour]\n",
    "    Tx.append(coordx[tour[0]])\n",
    "    Ty.append(coordy[tour[0]])\n",
    "    plt.plot(Tx, Ty, 'b-')\n",
    "    plt.show()"
   ]
  },
  {
   "cell_type": "markdown",
   "metadata": {},
   "source": [
    "Definimos ahora el objeto modelo, las variables y la función objetivo:"
   ]
  },
  {
   "cell_type": "code",
   "execution_count": 4,
   "metadata": {},
   "outputs": [
    {
     "name": "stdout",
     "output_type": "stream",
     "text": [
      "Using license file /Users/ltorres/gurobi.lic\n",
      "Academic license - for non-commercial use only\n"
     ]
    }
   ],
   "source": [
    "# Crear el objeto modelo\n",
    "m = Model('tsp-corte')\n",
    "\n",
    "# Crear las variables\n",
    "x = m.addVars(E, name=\"x\", vtype=GRB.BINARY)\n",
    "\n",
    "# Crear la funcion objetivo\n",
    "m.setObjective(x.prod(c,'*'), GRB.MINIMIZE)\n"
   ]
  },
  {
   "cell_type": "markdown",
   "metadata": {},
   "source": [
    "Añadimos las restricciones de grado. Observar que son necesarias **dos sumas** en cada restricción para cubrir todas las aristas del corte $\\delta(i)$: "
   ]
  },
  {
   "cell_type": "code",
   "execution_count": 5,
   "metadata": {},
   "outputs": [
    {
     "data": {
      "text/plain": [
       "{1: <gurobi.Constr *Awaiting Model Update*>,\n",
       " 2: <gurobi.Constr *Awaiting Model Update*>,\n",
       " 3: <gurobi.Constr *Awaiting Model Update*>,\n",
       " 4: <gurobi.Constr *Awaiting Model Update*>,\n",
       " 5: <gurobi.Constr *Awaiting Model Update*>,\n",
       " 6: <gurobi.Constr *Awaiting Model Update*>,\n",
       " 7: <gurobi.Constr *Awaiting Model Update*>,\n",
       " 8: <gurobi.Constr *Awaiting Model Update*>,\n",
       " 9: <gurobi.Constr *Awaiting Model Update*>,\n",
       " 10: <gurobi.Constr *Awaiting Model Update*>}"
      ]
     },
     "execution_count": 5,
     "metadata": {},
     "output_type": "execute_result"
    }
   ],
   "source": [
    "# Restricciones de grado\n",
    "m.addConstrs((x.sum(i,'*') + x.sum('*', i) == 2 for i in V), \n",
    "                 \"grado\")"
   ]
  },
  {
   "cell_type": "markdown",
   "metadata": {},
   "source": [
    "Para construir las restricciones de corte, usamos la función `powerset` para iterar sobre todos los subconjuntos de nodos $W$ tales que $\\emptyset \\neq W \\neq V$. Para cada subconjunto, se construye primero el conjunto `Wc` con su \n",
    "complemento, es decir, con los nodos de $V$ que no están en $W$. La expresión `x.sum(W, Wc)` construye la suma de las variables asociadas a aristas que tienen el \"primer\" extremo en $W$ y el otro extremo fuera de $W$. De manera similar, `x.sum(Wc, W)` construye la suma de las variables asociadas a aristas que tienen el \"primer\" extremo fuera de $W$ y el otro extremo en $W$. La suma de ambas expresiones es igual a la suma de todas las aristas del corte."
   ]
  },
  {
   "cell_type": "code",
   "execution_count": 6,
   "metadata": {},
   "outputs": [],
   "source": [
    "# Restricciones de corte\n",
    "PV = list(powerset(V))\n",
    "for W in PV:\n",
    "    if W!=() and W!=tuple(V):\n",
    "        Wc = [i for i in V if i not in W]\n",
    "        m.addConstr(x.sum(W, Wc) + x.sum(Wc, W) >= 2, \n",
    "                        \"corte[{}]\".format(W))\n"
   ]
  },
  {
   "cell_type": "markdown",
   "metadata": {},
   "source": [
    "Escribimos el modelo a un archivo de texto:"
   ]
  },
  {
   "cell_type": "code",
   "execution_count": 7,
   "metadata": {},
   "outputs": [
    {
     "name": "stdout",
     "output_type": "stream",
     "text": [
      "Warning: constraint name \"corte[(1, 2)]\" has a space\n"
     ]
    }
   ],
   "source": [
    "# Escribir el modelo a un archivo\n",
    "m.write('tsp-corte.lp')\n"
   ]
  },
  {
   "cell_type": "markdown",
   "metadata": {},
   "source": [
    "Finalmente, resolvemos el modelo y mostramos la solución:"
   ]
  },
  {
   "cell_type": "code",
   "execution_count": 8,
   "metadata": {},
   "outputs": [
    {
     "name": "stdout",
     "output_type": "stream",
     "text": [
      "Gurobi Optimizer version 9.0.2 build v9.0.2rc0 (mac64)\n",
      "Optimize a model with 1032 rows, 45 columns and 23130 nonzeros\n",
      "Model fingerprint: 0x5ca9d7a9\n",
      "Variable types: 0 continuous, 45 integer (45 binary)\n",
      "Coefficient statistics:\n",
      "  Matrix range     [1e+00, 1e+00]\n",
      "  Objective range  [3e+00, 1e+02]\n",
      "  Bounds range     [1e+00, 1e+00]\n",
      "  RHS range        [2e+00, 2e+00]\n",
      "Found heuristic solution: objective 635.2680724\n",
      "Presolve removed 521 rows and 0 columns\n",
      "Presolve time: 0.11s\n",
      "Presolved: 511 rows, 45 columns, 11520 nonzeros\n",
      "Variable types: 0 continuous, 45 integer (45 binary)\n",
      "\n",
      "Root relaxation: objective 3.201380e+02, 18 iterations, 0.02 seconds\n",
      "\n",
      "    Nodes    |    Current Node    |     Objective Bounds      |     Work\n",
      " Expl Unexpl |  Obj  Depth IntInf | Incumbent    BestBd   Gap | It/Node Time\n",
      "\n",
      "*    0     0               0     320.1380145  320.13801  0.00%     -    0s\n",
      "\n",
      "Explored 0 nodes (18 simplex iterations) in 0.29 seconds\n",
      "Thread count was 4 (of 4 available processors)\n",
      "\n",
      "Solution count 2: 320.138 635.268 \n",
      "\n",
      "Optimal solution found (tolerance 1.00e-04)\n",
      "Best objective 3.201380145273e+02, best bound 3.201380145273e+02, gap 0.0000%\n",
      "\n",
      "Tour optimo:\n",
      "1 -- 2\n",
      "1 -- 8\n",
      "2 -- 5\n",
      "3 -- 5\n",
      "3 -- 10\n",
      "4 -- 7\n",
      "4 -- 9\n",
      "6 -- 7\n",
      "6 -- 10\n",
      "8 -- 9\n"
     ]
    }
   ],
   "source": [
    "# Calcular la solucion optima\n",
    "m.optimize()\n",
    "\n",
    "# Escribir la solucion\n",
    "if m.status == GRB.Status.OPTIMAL:\n",
    "    # Recuperar los valores de las variables\n",
    "    vx = m.getAttr('x', x)\n",
    "    print('\\nTour optimo:')\n",
    "    for i,j in E:\n",
    "        if vx[i,j] >= 0.9:\n",
    "            print('{} -- {}'.format(i, j))\n"
   ]
  },
  {
   "cell_type": "code",
   "execution_count": 9,
   "metadata": {},
   "outputs": [
    {
     "data": {
      "image/png": "[encoded data removed]",
      "text/plain": [
       "<Figure size 432x288 with 1 Axes>"
      ]
     },
     "metadata": {
      "needs_background": "light"
     },
     "output_type": "display_data"
    }
   ],
   "source": [
    "# Crear lista con arcos seleccionados en la solucion\n",
    "L = [(i,j) for i,j in E if vx[i,j]>0]\n",
    "\n",
    "# Recuperar el tour como un ordenamiento de los nodos\n",
    "T = [1]\n",
    "# nodo actual:\n",
    "i = 1\n",
    "while True:\n",
    "    # Determinar sucesor de i\n",
    "    N = [j for j in V if (i,j) in L] + [j for j in V if (j,i) in L] \n",
    "    j = N.pop()\n",
    "    a = (i,j) if (i,j) in L else (j,i)\n",
    "    L.remove(a)\n",
    "    # Colocar sucesor en la lista del tour y actualizar i\n",
    "    T.append(j)\n",
    "    i = j\n",
    "    # Terminar cuando el nodo colocado sea 1\n",
    "    if i==1: break;\n",
    "        \n",
    "# Graficar el tour\n",
    "dibujarTour(coordx, coordy, T)    "
   ]
  },
  {
   "cell_type": "markdown",
   "metadata": {},
   "source": [
    "## Código completo\n",
    "\n",
    "Se reproduce a continuación el código completo del modelo anterior."
   ]
  },
  {
   "cell_type": "code",
   "execution_count": 12,
   "metadata": {},
   "outputs": [
    {
     "name": "stdout",
     "output_type": "stream",
     "text": [
      "Gurobi Optimizer version 9.0.2 build v9.0.2rc0 (mac64)\n",
      "Optimize a model with 1032 rows, 45 columns and 23130 nonzeros\n",
      "Model fingerprint: 0x905542c4\n",
      "Variable types: 0 continuous, 45 integer (45 binary)\n",
      "Coefficient statistics:\n",
      "  Matrix range     [1e+00, 1e+00]\n",
      "  Objective range  [1e+01, 1e+02]\n",
      "  Bounds range     [1e+00, 1e+00]\n",
      "  RHS range        [1e+00, 2e+00]\n",
      "Found heuristic solution: objective 413.1578879\n",
      "Presolve removed 521 rows and 0 columns\n",
      "Presolve time: 0.06s\n",
      "Presolved: 511 rows, 45 columns, 11520 nonzeros\n",
      "Variable types: 0 continuous, 45 integer (45 binary)\n",
      "\n",
      "Root relaxation: objective 2.311489e+02, 15 iterations, 0.01 seconds\n",
      "\n",
      "    Nodes    |    Current Node    |     Objective Bounds      |     Work\n",
      " Expl Unexpl |  Obj  Depth IntInf | Incumbent    BestBd   Gap | It/Node Time\n",
      "\n",
      "*    0     0               0     231.1488505  231.14885  0.00%     -    0s\n",
      "\n",
      "Explored 0 nodes (15 simplex iterations) in 0.15 seconds\n",
      "Thread count was 4 (of 4 available processors)\n",
      "\n",
      "Solution count 2: 231.149 413.158 \n",
      "\n",
      "Optimal solution found (tolerance 1.00e-04)\n",
      "Best objective 2.311488504932e+02, best bound 2.311488504932e+02, gap 0.0000%\n",
      "\n",
      "Tour optimo:\n",
      "1 -> 4\n",
      "1 -> 5\n",
      "2 -> 6\n",
      "2 -> 8\n",
      "3 -> 6\n",
      "3 -> 10\n",
      "4 -> 10\n",
      "5 -> 7\n",
      "7 -> 9\n",
      "8 -> 9\n"
     ]
    },
    {
     "data": {
      "image/png": "[encoded data removed]",
      "text/plain": [
       "<Figure size 432x288 with 1 Axes>"
      ]
     },
     "metadata": {
      "needs_background": "light"
     },
     "output_type": "display_data"
    }
   ],
   "source": [
    "# Implementación de modelos lineales enteros\n",
    "# Problema del agente viajero (TSP)\n",
    "\n",
    "# Luis M. Torres (EPN 2020)\n",
    "\n",
    "from gurobipy import *\n",
    "import random as rm\n",
    "import matplotlib.pyplot as plt\n",
    "from itertools import chain, combinations\n",
    "\n",
    "def powerset(iterable):\n",
    "    \"powerset([1,2,3]) --> () (1,) (2,) (3,) (1,2) (1,3) (2,3) (1,2,3)\"\n",
    "    s = list(iterable)\n",
    "    return chain.from_iterable(combinations(s, r) for r in range(len(s)+1))\n",
    "\n",
    "def dibujarTour(coordx, coordy, tour):\n",
    "    x = [coordx[i] for i in tour]\n",
    "    y = [coordy[i] for i in tour]\n",
    "    plt.plot(x, y, 'ro')\n",
    "    Tx = [coordx[i] for i in tour]\n",
    "    Ty = [coordy[i] for i in tour]\n",
    "    Tx.append(coordx[tour[0]])\n",
    "    Ty.append(coordy[tour[0]])\n",
    "    plt.plot(Tx, Ty, 'b-')\n",
    "    plt.show()\n",
    "\n",
    "# Numero de nodos del grafo\n",
    "n = 10\n",
    "\n",
    "# Nodos del grafo\n",
    "V = tuplelist(range(1,n+1))\n",
    "\n",
    "# Posiciones de los nodos en un plano euclideano entre (0,0) y (100, 100)\n",
    "coordx={i : rm.randint(0,100) for i in V}\n",
    "coordy={i : rm.randint(0,100) for i in V}\n",
    "\n",
    "# los costos son las distancias eculideanas\n",
    "c = tupledict({(i,j) : math.sqrt((coordx[i] - coordx[j])**2 + (coordy[i] - coordy[j])**2)\n",
    "              for i in V for j in V if i < j})\n",
    " \n",
    "E = c.keys()\n",
    "\n",
    "try:\n",
    "    # Crear el objeto modelo\n",
    "    m = Model('tsp-corte')\n",
    "\n",
    "    # Crear las variables\n",
    "    x = m.addVars(E, name=\"x\", vtype=GRB.BINARY)\n",
    "\n",
    "    # Crear la funcion objetivo\n",
    "    m.setObjective(x.prod(c,'*'), GRB.MINIMIZE)\n",
    "\n",
    "    # Restricciones de grado\n",
    "    m.addConstrs((x.sum(i,'*') + x.sum('*', i) == 2 for i in V), \n",
    "                 \"grado\")\n",
    "\n",
    "    # Restricciones de corte\n",
    "    PV = list(powerset(V))\n",
    "    for W in PV:\n",
    "        if W!=() and W!=tuple(V):\n",
    "            Wc = [i for i in V if i not in W]\n",
    "            m.addConstr(x.sum(W, Wc) + x.sum(Wc, W) >= 1, \n",
    "                            \"corte[{}]\".format(W))\n",
    "\n",
    "    # Escribir el modelo a un archivo\n",
    "    # m.write('tsp-corte.lp')\n",
    "\n",
    "    # Calcular la solucion optima\n",
    "    m.optimize()\n",
    "\n",
    "    # Escribir la solucion\n",
    "    if m.status == GRB.Status.OPTIMAL:\n",
    "        # Recuperar los valores de las variables\n",
    "        vx = m.getAttr('x', x)\n",
    "        print('\\nTour optimo:')\n",
    "        for i,j in E:\n",
    "            if vx[i,j] >= 0.9:\n",
    "                print('{} -> {}'.format(i, j))\n",
    "                \n",
    "    # Crear lista con arcos seleccionados en la solucion\n",
    "    L = [(i,j) for i,j in E if vx[i,j]>0]\n",
    "\n",
    "    # Recuperar el tour como un ordenamiento de los nodos\n",
    "    T = [1]\n",
    "    # nodo actual:\n",
    "    i = 1\n",
    "    while True:\n",
    "        # Determinar sucesor de i\n",
    "        N = [j for j in V if (i,j) in L] + [j for j in V if (j,i) in L] \n",
    "        j = N.pop()\n",
    "        a = (i,j) if (i,j) in L else (j,i)\n",
    "        L.remove(a)\n",
    "        # Colocar sucesor en la lista del tour y actualizar i\n",
    "        T.append(j)\n",
    "        i = j\n",
    "        # Terminar cuando el nodo colocado sea 1\n",
    "        if i==1: break;\n",
    "        \n",
    "    # Graficar el tour\n",
    "    dibujarTour(coordx, coordy, T)    \n",
    "    \n",
    "except GurobiError as e:\n",
    "    print('Se produjo un error de Gurobi: codigo: ' + str(e.errno) + \": \" + str(e))\n",
    "\n",
    "except AttributeError:\n",
    "    print('Se produjo un error de atributo')"
   ]
  },
  {
   "cell_type": "code",
   "execution_count": null,
   "metadata": {},
   "outputs": [],
   "source": []
  }
 ],
 "metadata": {
  "kernelspec": {
   "display_name": "Python 3",
   "language": "python",
   "name": "python3"
  },
  "language_info": {
   "codemirror_mode": {
    "name": "ipython",
    "version": 3
   },
   "file_extension": ".py",
   "mimetype": "text/x-python",
   "name": "python",
   "nbconvert_exporter": "python",
   "pygments_lexer": "ipython3",
   "version": "3.7.6"
  }
 },
 "nbformat": 4,
 "nbformat_minor": 2
}
