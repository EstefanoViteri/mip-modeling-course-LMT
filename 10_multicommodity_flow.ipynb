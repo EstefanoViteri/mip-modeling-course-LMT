{
 "cells": [
  {
   "cell_type": "markdown",
   "metadata": {},
   "source": [
    "# Cuaderno 18: Flujo multiproducto (multicommodity flow)\n",
    "\n",
    "$\\newcommand{\\card}[1]{\\left| #1 \\right|}$\n",
    "$\\newcommand{\\tabulatedset}[1]{\\left\\{ #1 \\right\\}}$\n",
    "$\\newcommand{\\ZZ}{\\mathbb{Z}}$\n",
    "$\\newcommand{\\RR}{\\mathbb{R}}$\n",
    "\n",
    "Dados: \n",
    "* un grafo dirigido $D=(V,A)$; \n",
    "* un conjunto $K$ de productos; \n",
    "* un vector de capacidades $u \\in \\ZZ^{A}_+$  asociadas a los arcos de $D$; \n",
    "* un vector $c \\in \\ZZ^{A \\times K}$ de costos de transporte unitarios asociados a los arcos de $D$ y a los productos de $K$; y, \n",
    "* un vector $b \\in \\ZZ^{V \\times K}$ de demandas asociadas a los nodos de $D$ y a los productos de $K$.\n",
    "\n",
    "El *problema de flujo multiproducto de costo mínimo* consiste en encontrar un flujo $x \\in \\RR^{A \\times K}$  que satisfaga las siguientes condiciones:\n",
    "\n",
    "* para cada producto $k \\in K$ y cada nodo $i \\in V$, el flujo neto de $k$ en $i$ (es decir, el flujo total de $k$ sobre los arcos que entran a $i$ menos el flujo total de $k$ sobre los arcos qe salen de $i$) debe ser igual a la demanda $b_i^k$ de $k$ en $i$;  \n",
    "* para cada arco $(i,j) \\in A$, el flujo agregado de todos los productos sobre $(i,j)$ debe ser menor o igual a su capacidad $u_{ij}$;\n",
    "* el costo total del flujo debe ser mínimo. Este costo se calcula al multiplicar el flujo de cada producto $k \\in K$ sobre cada arco $(i,j) \\in A$ por su correspondiente costo unitario de transportación $c_{ij}^k$, y sumar estos valores sobre todos los arcos de la red y sobre todos los productos.\n",
    "\n",
    "Utilizando variables continuas no negativas $x_{ij}^k$ para representar el flujo del producto $k \\in K$ sobre el arco $(i, j) \\in A$, el problema de flujo multiproducto de costo mínimo puede formularse como el siguiente programa lineal entero:\n",
    "\n",
    "\\begin{align*}\n",
    "\\min &\\sum_{k \\in K} \\sum_{(i,j) \\in A} c_{ij}^k x_{ij}^k\\\\ \n",
    "& \\mbox{s.r.}\\\\\n",
    "&\\sum_{(j, i) \\in A} x_{ji}^k - \\sum_{(i, j) \\in A} x_{ij}^k = b_i^k, \\quad \\forall i \\in V, k \\in K\\\\\n",
    "&\\sum_{k \\in K} x_{ij}^k \\leq u_{ij}, \\quad \\forall (i, j) \\in A, \\\\\n",
    "& x_{ij}^k \\geq 0, \\quad \\forall (i, j) \\in A, k \\in K.\n",
    "\\end{align*}\n",
    "\n",
    "\n",
    "Vamos a implementar este modelo usando la interfaz Python de Gurobi.\n",
    "\n"
   ]
  },
  {
   "cell_type": "markdown",
   "metadata": {},
   "source": [
    "Definimos primero los conjuntos y parámetros del modelo. Nuestro ejemplo está basado en la instancia [netflow.py](https://www.gurobi.com/documentation/9.0/examples/netflow_py.html) provista como parte de la documentación de Gurobi."
   ]
  },
  {
   "cell_type": "code",
   "execution_count": 1,
   "metadata": {},
   "outputs": [],
   "source": [
    "from gurobipy import *\n",
    "\n",
    "# Productos y nodos del grafo\n",
    "commodities = tuplelist(['Pencils', 'Pens'])\n",
    "nodes = tuplelist(['Detroit', 'Denver', 'Boston', 'New York', 'Seattle'])\n",
    "\n",
    "# Arcos y sus capacidades\n",
    "arcs, capacity = multidict({\n",
    "  ('Detroit', 'Boston'):   100,\n",
    "  ('Detroit', 'New York'):  80,\n",
    "  ('Detroit', 'Seattle'):  120,\n",
    "  ('Denver',  'Boston'):   120,\n",
    "  ('Denver',  'New York'): 120,\n",
    "  ('Denver',  'Seattle'):  120 })\n",
    "\n",
    "# Costos unitarios c_{ij}^k asociados a arcos y productos\n",
    "cost = tupledict({\n",
    "  ('Pencils', 'Detroit', 'Boston'):   10,\n",
    "  ('Pencils', 'Detroit', 'New York'): 20,\n",
    "  ('Pencils', 'Detroit', 'Seattle'):  60,\n",
    "  ('Pencils', 'Denver',  'Boston'):   40,\n",
    "  ('Pencils', 'Denver',  'New York'): 40,\n",
    "  ('Pencils', 'Denver',  'Seattle'):  30,\n",
    "  ('Pens',    'Detroit', 'Boston'):   20,\n",
    "  ('Pens',    'Detroit', 'New York'): 20,\n",
    "  ('Pens',    'Detroit', 'Seattle'):  80,\n",
    "  ('Pens',    'Denver',  'Boston'):   60,\n",
    "  ('Pens',    'Denver',  'New York'): 70,\n",
    "  ('Pens',    'Denver',  'Seattle'):  30 })\n",
    "\n",
    "# Demandas asociadas a nodos y productos\n",
    "inflow = tupledict({\n",
    "  ('Pencils', 'Detroit'):  -50,\n",
    "  ('Pencils', 'Denver'):   -60,\n",
    "  ('Pencils', 'Boston'):    50,\n",
    "  ('Pencils', 'New York'):  50,\n",
    "  ('Pencils', 'Seattle'):   10,\n",
    "  ('Pens',    'Detroit'):  -60,\n",
    "  ('Pens',    'Denver'):   -40,\n",
    "  ('Pens',    'Boston'):    40,\n",
    "  ('Pens',    'New York'):  30,\n",
    "  ('Pens',    'Seattle'):   30 })"
   ]
  },
  {
   "cell_type": "markdown",
   "metadata": {},
   "source": [
    "Creamos ahora el objeto modelo y las variables $x_{ij}^k$ del flujo multiproducto. Observar que las variables están indexadas por los conjuntos de productos y de arcos.\n",
    "\n",
    "Si no se especifica el argumento `vtype` en la llamada a la función `addVars`, por defecto las variables creadas son continuas y no negativas.\n",
    "\n",
    "Notar por último que se especifica un argumento `obj` en la llamada a `addVars`. El mismo indica el coeficiente de la variable en la función objetivo, con lo cual ya no es necesario llamar al método `setObjective`; por defecto el problema es de minimización."
   ]
  },
  {
   "cell_type": "code",
   "execution_count": 2,
   "metadata": {},
   "outputs": [
    {
     "name": "stdout",
     "output_type": "stream",
     "text": [
      "Using license file /Users/ltorres/gurobi.lic\n",
      "Academic license - for non-commercial use only\n"
     ]
    }
   ],
   "source": [
    "# Crear el objeto modelo\n",
    "m = Model('netflow')\n",
    "\n",
    "# Crear las variables\n",
    "flow = m.addVars(commodities, arcs, obj=cost, name=\"flow\")"
   ]
  },
  {
   "cell_type": "markdown",
   "metadata": {},
   "source": [
    "Definimos las restricciones del modelo:\n",
    "\n",
    "1. Restricciones de satisfacción de la demanda en cada nodo y para cada producto:"
   ]
  },
  {
   "cell_type": "code",
   "execution_count": 3,
   "metadata": {},
   "outputs": [
    {
     "data": {
      "text/plain": [
       "{('Pencils', 'Detroit'): <gurobi.Constr *Awaiting Model Update*>,\n",
       " ('Pencils', 'Denver'): <gurobi.Constr *Awaiting Model Update*>,\n",
       " ('Pencils', 'Boston'): <gurobi.Constr *Awaiting Model Update*>,\n",
       " ('Pencils', 'New York'): <gurobi.Constr *Awaiting Model Update*>,\n",
       " ('Pencils', 'Seattle'): <gurobi.Constr *Awaiting Model Update*>,\n",
       " ('Pens', 'Detroit'): <gurobi.Constr *Awaiting Model Update*>,\n",
       " ('Pens', 'Denver'): <gurobi.Constr *Awaiting Model Update*>,\n",
       " ('Pens', 'Boston'): <gurobi.Constr *Awaiting Model Update*>,\n",
       " ('Pens', 'New York'): <gurobi.Constr *Awaiting Model Update*>,\n",
       " ('Pens', 'Seattle'): <gurobi.Constr *Awaiting Model Update*>}"
      ]
     },
     "execution_count": 3,
     "metadata": {},
     "output_type": "execute_result"
    }
   ],
   "source": [
    "# Restricciones de demenda en los nodos\n",
    "m.addConstrs(\n",
    "    (flow.sum(h,'*',j) - flow.sum(h,j,'*')  == inflow[h,j]\n",
    "    for h in commodities for j in nodes), \"node\")"
   ]
  },
  {
   "cell_type": "markdown",
   "metadata": {},
   "source": [
    "2. Restricciones de capacidad de los arcos, agregadas para todos los productos:"
   ]
  },
  {
   "cell_type": "code",
   "execution_count": 4,
   "metadata": {},
   "outputs": [
    {
     "data": {
      "text/plain": [
       "{('Detroit', 'Boston'): <gurobi.Constr *Awaiting Model Update*>,\n",
       " ('Detroit', 'New York'): <gurobi.Constr *Awaiting Model Update*>,\n",
       " ('Detroit', 'Seattle'): <gurobi.Constr *Awaiting Model Update*>,\n",
       " ('Denver', 'Boston'): <gurobi.Constr *Awaiting Model Update*>,\n",
       " ('Denver', 'New York'): <gurobi.Constr *Awaiting Model Update*>,\n",
       " ('Denver', 'Seattle'): <gurobi.Constr *Awaiting Model Update*>}"
      ]
     },
     "execution_count": 4,
     "metadata": {},
     "output_type": "execute_result"
    }
   ],
   "source": [
    "# Restricciones de capacidades en los arcos\n",
    "m.addConstrs(\n",
    "    (flow.sum('*',i,j) <= capacity[i,j] for (i,j) in arcs), \"cap\")"
   ]
  },
  {
   "cell_type": "markdown",
   "metadata": {},
   "source": [
    "Finalmente, resolvemos el modelo y mostramos la solución. Notar que los valores de las variables pueden recuperarse también empleando el método `getAttr`:"
   ]
  },
  {
   "cell_type": "code",
   "execution_count": 5,
   "metadata": {},
   "outputs": [
    {
     "name": "stdout",
     "output_type": "stream",
     "text": [
      "Gurobi Optimizer version 9.0.2 build v9.0.2rc0 (mac64)\n",
      "Optimize a model with 16 rows, 12 columns and 36 nonzeros\n",
      "Model fingerprint: 0x83306cb2\n",
      "Coefficient statistics:\n",
      "  Matrix range     [1e+00, 1e+00]\n",
      "  Objective range  [1e+01, 8e+01]\n",
      "  Bounds range     [0e+00, 0e+00]\n",
      "  RHS range        [1e+01, 1e+02]\n",
      "Presolve removed 16 rows and 12 columns\n",
      "Presolve time: 0.07s\n",
      "Presolve: All rows and columns removed\n",
      "Iteration    Objective       Primal Inf.    Dual Inf.      Time\n",
      "       0    5.5000000e+03   0.000000e+00   2.000000e+01      0s\n",
      "Extra one simplex iteration after uncrush\n",
      "       1    5.5000000e+03   0.000000e+00   0.000000e+00      0s\n",
      "\n",
      "Solved in 1 iterations and 0.12 seconds\n",
      "Optimal objective  5.500000000e+03\n",
      "\n",
      "Flujos optimos para Pencils:\n",
      "Detroit -> Boston: 50\n",
      "Denver -> New York: 50\n",
      "Denver -> Seattle: 10\n",
      "\n",
      "Flujos optimos para Pens:\n",
      "Detroit -> Boston: 30\n",
      "Detroit -> New York: 30\n",
      "Denver -> Boston: 10\n",
      "Denver -> Seattle: 30\n"
     ]
    }
   ],
   "source": [
    "# Calcular la solucion optima\n",
    "m.optimize()\n",
    "\n",
    "# Escribir la solucion\n",
    "if m.status == GRB.Status.OPTIMAL:\n",
    "    # Recuperar los valores de las variables\n",
    "    solution = m.getAttr('x', flow)\n",
    "    for h in commodities:\n",
    "        print('\\nFlujos optimos para {}:'.format(h))\n",
    "        for i,j in arcs:\n",
    "            if solution[h,i,j] >= 0.1:\n",
    "                print('{} -> {}: {}'.format(i, j, int(solution[h,i,j])))"
   ]
  },
  {
   "cell_type": "markdown",
   "metadata": {},
   "source": [
    "### Visualización\n",
    "\n",
    "Finalmente, podemos visualizar las demandas de los productos, las capacidades de los arcos y los flujos de cada producto empleando los módulos `NetworkX` y `ipycytoscape`:"
   ]
  },
  {
   "cell_type": "code",
   "execution_count": 6,
   "metadata": {},
   "outputs": [
    {
     "data": {
      "application/vnd.jupyter.widget-view+json": {
       "model_id": "41077941fbb94995aa4abe348262ffd6",
       "version_major": 2,
       "version_minor": 0
      },
      "text/plain": [
       "CytoscapeWidget(cytoscape_layout={'name': 'cola'}, cytoscape_style=[{'selector': 'node', 'style': {'shape': 's…"
      ]
     },
     "metadata": {},
     "output_type": "display_data"
    }
   ],
   "source": [
    "import networkx as nx\n",
    "import ipycytoscape\n",
    "D = nx.DiGraph()\n",
    "D.add_nodes_from(nodes)\n",
    "for i in nodes:\n",
    "    D.nodes[i]['etiq']= '{} ({}, {})'.format(i, inflow['Pencils', i], inflow['Pens', i])\n",
    "D.add_edges_from(arcs)\n",
    "for i,j in arcs:\n",
    "    D.edges[i,j]['cap_flujo'] = '({},{})/{}'.format(int(solution['Pencils',i,j]), int(solution['Pens',i,j]), capacity[i,j])\n",
    "grafo = ipycytoscape.CytoscapeWidget()\n",
    "grafo.graph.add_graph_from_networkx(D, directed=True)\n",
    "grafo.set_style([{'selector': 'node', 'style' : {'shape': 'square', 'width': '100px','background-color': '#11479e', 'font-family': 'helvetica', 'font-size': '10px', 'color':'white', 'label': 'data(etiq)', 'text-wrap' : 'wrap', 'text-valign' : 'center'}}, \n",
    "                    {'selector': 'node:parent', 'css': {'background-opacity': 0.333}, 'style' : {'font-family': 'helvetica', 'font-size': '10px', 'label': 'data(etiq)'}}, \n",
    "                    {'selector': 'edge', 'style': {'width': 4, 'line-color': '#9dbaea', 'font-size': '10px', 'label': 'data(cap_flujo)', 'text-valign' : 'top', 'text-margin-y' : '-10px'}}, \n",
    "                    {'selector': 'edge.directed', 'style': {'curve-style': 'bezier', 'target-arrow-shape': 'triangle', 'target-arrow-color': '#9dbaea'}}])\n",
    "grafo"
   ]
  },
  {
   "cell_type": "markdown",
   "metadata": {},
   "source": [
    "## Código completo\n",
    "\n",
    "Se reproduce a continuación el código completo del modelo anterior, tomado del manual de Gurobi y adaptado a nuestra notación."
   ]
  },
  {
   "cell_type": "code",
   "execution_count": 6,
   "metadata": {},
   "outputs": [
    {
     "name": "stdout",
     "output_type": "stream",
     "text": [
      "Gurobi Optimizer version 9.0.2 build v9.0.2rc0 (mac64)\n",
      "Optimize a model with 16 rows, 12 columns and 36 nonzeros\n",
      "Model fingerprint: 0xc43e5943\n",
      "Coefficient statistics:\n",
      "  Matrix range     [1e+00, 1e+00]\n",
      "  Objective range  [1e+01, 8e+01]\n",
      "  Bounds range     [0e+00, 0e+00]\n",
      "  RHS range        [1e+01, 1e+02]\n",
      "Presolve removed 16 rows and 12 columns\n",
      "Presolve time: 0.02s\n",
      "Presolve: All rows and columns removed\n",
      "Iteration    Objective       Primal Inf.    Dual Inf.      Time\n",
      "       0    5.5000000e+03   0.000000e+00   2.000000e+01      0s\n",
      "Extra one simplex iteration after uncrush\n",
      "       1    5.5000000e+03   0.000000e+00   0.000000e+00      0s\n",
      "\n",
      "Solved in 1 iterations and 0.03 seconds\n",
      "Optimal objective  5.500000000e+03\n",
      "\n",
      "Optimal flows for Pencils:\n",
      "Detroit -> Boston: 50\n",
      "Denver -> New York: 50\n",
      "Denver -> Seattle: 10\n",
      "\n",
      "Optimal flows for Pens:\n",
      "Detroit -> Boston: 30\n",
      "Detroit -> New York: 30\n",
      "Denver -> Boston: 10\n",
      "Denver -> Seattle: 30\n"
     ]
    }
   ],
   "source": [
    "#!/usr/bin/env python3.7\n",
    "\n",
    "# Copyright 2020, Gurobi Optimization, LLC\n",
    "\n",
    "# Solve a multi-commodity flow problem.  Two products ('Pencils' and 'Pens')\n",
    "# are produced in 2 cities ('Detroit' and 'Denver') and must be sent to\n",
    "# warehouses in 3 cities ('Boston', 'New York', and 'Seattle') to\n",
    "# satisfy demand ('inflow[h,i]').\n",
    "#\n",
    "# Flows on the transportation network must respect arc capacity constraints\n",
    "# ('capacity[i,j]'). The objective is to minimize the sum of the arc\n",
    "# transportation costs ('cost[i,j]').\n",
    "\n",
    "import gurobipy as gp\n",
    "from gurobipy import GRB\n",
    "\n",
    "# Base data\n",
    "commodities = ['Pencils', 'Pens']\n",
    "nodes = ['Detroit', 'Denver', 'Boston', 'New York', 'Seattle']\n",
    "\n",
    "arcs, capacity = gp.multidict({\n",
    "    ('Detroit', 'Boston'):   100,\n",
    "    ('Detroit', 'New York'):  80,\n",
    "    ('Detroit', 'Seattle'):  120,\n",
    "    ('Denver',  'Boston'):   120,\n",
    "    ('Denver',  'New York'): 120,\n",
    "    ('Denver',  'Seattle'):  120})\n",
    "\n",
    "# Cost for triplets commodity-source-destination\n",
    "cost = {\n",
    "    ('Pencils', 'Detroit', 'Boston'):   10,\n",
    "    ('Pencils', 'Detroit', 'New York'): 20,\n",
    "    ('Pencils', 'Detroit', 'Seattle'):  60,\n",
    "    ('Pencils', 'Denver',  'Boston'):   40,\n",
    "    ('Pencils', 'Denver',  'New York'): 40,\n",
    "    ('Pencils', 'Denver',  'Seattle'):  30,\n",
    "    ('Pens',    'Detroit', 'Boston'):   20,\n",
    "    ('Pens',    'Detroit', 'New York'): 20,\n",
    "    ('Pens',    'Detroit', 'Seattle'):  80,\n",
    "    ('Pens',    'Denver',  'Boston'):   60,\n",
    "    ('Pens',    'Denver',  'New York'): 70,\n",
    "    ('Pens',    'Denver',  'Seattle'):  30}\n",
    "\n",
    "# Demand for pairs of commodity-city\n",
    "inflow = {\n",
    "    ('Pencils', 'Detroit'):   50,\n",
    "    ('Pencils', 'Denver'):    60,\n",
    "    ('Pencils', 'Boston'):   -50,\n",
    "    ('Pencils', 'New York'): -50,\n",
    "    ('Pencils', 'Seattle'):  -10,\n",
    "    ('Pens',    'Detroit'):   60,\n",
    "    ('Pens',    'Denver'):    40,\n",
    "    ('Pens',    'Boston'):   -40,\n",
    "    ('Pens',    'New York'): -30,\n",
    "    ('Pens',    'Seattle'):  -30}\n",
    "\n",
    "# Create optimization model\n",
    "m = gp.Model('netflow')\n",
    "\n",
    "# Create variables\n",
    "flow = m.addVars(commodities, arcs, obj=cost, name=\"flow\")\n",
    "\n",
    "# Arc-capacity constraints\n",
    "m.addConstrs(\n",
    "    (flow.sum('*', i, j) <= capacity[i, j] for i, j in arcs), \"cap\")\n",
    "\n",
    "# Equivalent version using Python looping\n",
    "# for i, j in arcs:\n",
    "#   m.addConstr(sum(flow[h, i, j] for h in commodities) <= capacity[i, j],\n",
    "#               \"cap[%s, %s]\" % (i, j))\n",
    "\n",
    "\n",
    "# Flow-conservation constraints\n",
    "m.addConstrs(\n",
    "    (flow.sum(h, '*', j) + inflow[h, j] == flow.sum(h, j, '*')\n",
    "        for h in commodities for j in nodes), \"node\")\n",
    "\n",
    "# Alternate version:\n",
    "# m.addConstrs(\n",
    "#   (gp.quicksum(flow[h, i, j] for i, j in arcs.select('*', j)) + inflow[h, j] ==\n",
    "#     gp.quicksum(flow[h, j, k] for j, k in arcs.select(j, '*'))\n",
    "#     for h in commodities for j in nodes), \"node\")\n",
    "\n",
    "# Compute optimal solution\n",
    "m.optimize()\n",
    "\n",
    "# Print solution\n",
    "if m.status == GRB.OPTIMAL:\n",
    "    solution = m.getAttr('x', flow)\n",
    "    for h in commodities:\n",
    "        print('\\nOptimal flows for %s:' % h)\n",
    "        for i, j in arcs:\n",
    "            if solution[h, i, j] > 0:\n",
    "                print('%s -> %s: %g' % (i, j, solution[h, i, j]))"
   ]
  },
  {
   "cell_type": "code",
   "execution_count": null,
   "metadata": {},
   "outputs": [],
   "source": []
  }
 ],
 "metadata": {
  "kernelspec": {
   "display_name": "Python 3",
   "language": "python",
   "name": "python3"
  },
  "language_info": {
   "codemirror_mode": {
    "name": "ipython",
    "version": 3
   },
   "file_extension": ".py",
   "mimetype": "text/x-python",
   "name": "python",
   "nbconvert_exporter": "python",
   "pygments_lexer": "ipython3",
   "version": "3.7.6"
  }
 },
 "nbformat": 4,
 "nbformat_minor": 2
}
