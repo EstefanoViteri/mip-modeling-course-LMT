{
 "cells": [
  {
   "cell_type": "markdown",
   "metadata": {},
   "source": [
    "# Cuaderno 31: Problema de corte de material \n",
    "# (Cutting Stock Problem) \n",
    "\n",
    "$\\newcommand{\\card}[1]{\\left| #1 \\right|}$\n",
    "$\\newcommand{\\tabulatedset}[1]{\\left\\{ #1 \\right\\}}$\n",
    "$\\newcommand{\\ZZ}{\\mathbb{Z}}$\n",
    "$\\newcommand{\\RR}{\\mathbb{R}}$\n",
    "$\\newcommand{\\S}{\\mathcal{S}}$\n",
    "\n",
    "\n",
    "Dados: \n",
    "* un conjunto de rollos, cada uno de longitud $L$; y,\n",
    "* $m$ órdenes de corte, cada una de las cuales consiste en cortar de los rollos disponibles $b_i$ items de longitud $w_i$, con $w_i < L$, $i \\in \\{1, \\ldots, m\\}$.\n",
    "\n",
    "El problema del corte de material (*Cutting Stock Problem*) consiste en determinar la manera de satisfacer todas las órdenes de corte empleando la menor cantidad posible de rollos. \n",
    "\n",
    "Para formular este problema como un programa lineal entero, determinaremos primero una cota superior $N$ al número de rollos necesarios para cumplir con todas las órdenes. Notar que si cortamos cada item de un rollo distinto, necesitamos como máximo $\\sum_{i=1}^m b_i$ rollos. Otra cota más ajustada consiste en determinar la cantidad de rollos necesaria para satisfacer cada pedido de manera independiente, en cuyo caso se tiene: \n",
    "$$\n",
    "N:= \\sum_{i=1}^m \\left\\lceil \\frac{b_i}{\\lfloor \\frac{L}{w_i} \\rfloor} \\right\\rceil \n",
    "\\leq \\sum_{i=1}^m \\left\\lceil \\frac{b_i}{\\frac{L - w_i}{w_i}} \\right\\rceil = \\sum_{i=1}^m \\left\\lceil \\frac{b_i w_i}{L - w_i} \\right\\rceil\n",
    "$$\n",
    "\n",
    "Definimos ahora dos conjuntos de variables de decisión: las variables binarias $y_j$, con $j \\in \\{1, \\ldots, N\\}$,\n",
    "indican si se usa o no el rollo $j$ en la solución. Las variables enteras $x_{ij}$, por su parte, indican la cantidad de items de la orden $i$ que serán cortados del rollo $j$. Con estas variables, el problema de corte de material puede formularse como el siguiente programa lineal entero:\n",
    "\\begin{align*}\n",
    "\\min &\\sum_{j \\in J} y_j\\\\ \n",
    "& \\mbox{s.r.}\\\\\n",
    "&\\sum_{j \\in J} x_{ij} \\geq b_i, \\quad \\forall i \\in I,\\\\\n",
    "&\\sum_{i \\in I} w_i x_{ij} \\leq L y_j, \\quad \\forall j \\in J,\\\\\n",
    "& x_{ij} \\in \\ZZ, \\quad \\forall i \\in I, j \\in J,\\\\\n",
    "& y_j \\in \\{0, 1\\}, \\forall j \\in J,\n",
    "\\end{align*}\n",
    "donde $I:= \\{1, \\ldots, m \\}$ es el conjunto de órdenes de corte y $J:= \\{1, \\ldots, N \\}$ es el conjunto de rollos disponibles.\n",
    "\n",
    "\n",
    "Implementaremos a continuación este modelo utilizando la interfaz Python del solver Gurobi.\n"
   ]
  },
  {
   "cell_type": "markdown",
   "metadata": {},
   "source": [
    "Definimos primero los datos. Generaremos $m$ órdenes de corte, consistentes en cortar items de longitud entera aleatoria entre 1 y 9. La cantidad de items a cortar de cada tipo estará dada por un número aleatorio entre 10 y 50. La longitud de los rollos será $L := 10$."
   ]
  },
  {
   "cell_type": "code",
   "execution_count": null,
   "metadata": {},
   "outputs": [],
   "source": [
    "import gurobipy as gp\n",
    "from gurobipy import GRB\n",
    "import random as rm\n",
    "import math\n",
    "\n",
    "# iniciar generador de numeros aleatorios\n",
    "rm.seed(0)\n",
    "\n",
    "# número de órdenes\n",
    "m = 100\n",
    "\n",
    "# lista con los índices de las órdenes,\n",
    "# diccionarios con las longitudes y demandas de cada item\n",
    "I, w, b = gp.multidict({\n",
    "    i : (rm.randint(1, 9), rm.randint(10, 50)) \n",
    "        for i in range(1, m+1)}\n",
    ")\n",
    "    \n",
    "L = 10\n",
    "\n",
    "# cantidad maxima de rollos a utilizar\n",
    "N = sum(int(math.ceil(w[i]*b[i]/(L - w[i]))) for i in I)\n",
    "\n",
    "# conjuntos de índices de rollos\n",
    "J = range(1, N+1)\n",
    "\n",
    "print(w)\n",
    "print(b)\n",
    "print(N)"
   ]
  },
  {
   "cell_type": "markdown",
   "metadata": {},
   "source": [
    "Definimos ahora el modelo , sus variables y la función objetivo. \n"
   ]
  },
  {
   "cell_type": "code",
   "execution_count": null,
   "metadata": {},
   "outputs": [],
   "source": [
    "# crear el objeto modelo\n",
    "m = gp.Model('cutting-stock')\n",
    "\n",
    "# crear las variables asociadas a cantidad de items cortados de cada rollo\n",
    "x = m.addVars(I, J, name=\"x\", vtype=GRB.INTEGER)\n",
    "\n",
    "# crear las variables asociadas al uso de rollos\n",
    "y = m.addVars(J, name=\"y\", vtype=GRB.BINARY)\n",
    "\n",
    "# crear la función objetivo\n",
    "m.setObjective(y.sum('*'), GRB.MINIMIZE)\n"
   ]
  },
  {
   "cell_type": "markdown",
   "metadata": {},
   "source": [
    "Añadimos las restricciones de satisfacción de la demanda. "
   ]
  },
  {
   "cell_type": "code",
   "execution_count": null,
   "metadata": {},
   "outputs": [],
   "source": [
    "# restricciones de demanda\n",
    "m.addConstrs((x.sum(i,'*') >= b[i] for i in I), \"demanda\");\n"
   ]
  },
  {
   "cell_type": "markdown",
   "metadata": {},
   "source": [
    "Añadimos las restricciones de enforzamiento que impiden asignar items a rollos sin utilizar, y garantizan además que la longitud de los rollos sea respetada al cortar los items:"
   ]
  },
  {
   "cell_type": "code",
   "execution_count": null,
   "metadata": {},
   "outputs": [],
   "source": [
    "# restricciones de tamaño de rollos\n",
    "m.addConstrs((sum([w[i]*x[i,j] for i in I]) <= L*y[j] for j in J), \"tam_rollo\");\n"
   ]
  },
  {
   "cell_type": "markdown",
   "metadata": {},
   "source": [
    "Para encontrar una solución inicial, implementamos una heurística sencilla que consiste en atender los pedidos secuencialmente, es decir, sin mezclar pedidos en un mismo rollo:"
   ]
  },
  {
   "cell_type": "code",
   "execution_count": null,
   "metadata": {},
   "outputs": [],
   "source": [
    "# diccionario con valores de x y y (inicializar en cero)\n",
    "vx = {(i,j) : 0 for i in I for j in J} \n",
    "vy = {j : 0 for j in J}\n",
    "\n",
    "ind = 0\n",
    "# satisfacer pedidos secuencialmente\n",
    "for i in I:\n",
    "    # print(ind)\n",
    "    # cantidad de items producidos del pedido i\n",
    "    producidos = 0\n",
    "    # cantidad de items que pueden cortarse de un rollo\n",
    "    cant = int(L // w[i]) \n",
    "    # asignar rollos al pedido i hasta saitsfacer la demanda\n",
    "    while producidos < b[i]:\n",
    "        j = J[ind]\n",
    "        vy[j]= 1\n",
    "        vx[i,j] = cant\n",
    "        producidos += cant\n",
    "        ind += 1\n"
   ]
  },
  {
   "cell_type": "markdown",
   "metadata": {},
   "source": [
    "Ahora asignamos los valores de la solución heurística (almacenados en los diccionarios `vx` y `vy`) como valores iniciales para las variables del modelo, fijando el atributo `Start`:"
   ]
  },
  {
   "cell_type": "code",
   "execution_count": null,
   "metadata": {},
   "outputs": [],
   "source": [
    "# cargar valores iniciales de x\n",
    "for i in I:\n",
    "    for j in J:\n",
    "        x[i,j].Start = vx[i,j]\n",
    "        \n",
    "# cargar valores iniciales de y\n",
    "for j in J:\n",
    "    y[j].Start = vy[j]\n",
    "        "
   ]
  },
  {
   "cell_type": "markdown",
   "metadata": {},
   "source": [
    "Finalmente, resolvemos el modelo. Fijamos un límite para el tiempo de cálculo y una tolerancia para la brecha de optimalidad:"
   ]
  },
  {
   "cell_type": "code",
   "execution_count": null,
   "metadata": {},
   "outputs": [],
   "source": [
    "# terminar al alcanzar un gap del 10%\n",
    "m.Params.MIPGap = 0.01\n",
    "\n",
    "# terminar luego de 180 segundos\n",
    "m.Params.TimeLimit = 180\n",
    "\n",
    "# resolver el modelo\n",
    "m.optimize()"
   ]
  },
  {
   "cell_type": "markdown",
   "metadata": {},
   "source": [
    "Escribir la solución óptima:"
   ]
  },
  {
   "cell_type": "code",
   "execution_count": null,
   "metadata": {},
   "outputs": [],
   "source": [
    "# recuperar variables y_j cuyo valor sea 1:\n",
    "for j in J:\n",
    "    if y[j].getAttr('X') > 0.1:\n",
    "        # recuperar valores x_ij asociados al rollo j y ponerlos en una lista\n",
    "        L =[(int(x[i,j].getAttr('X')),i) for i in I if x[i,j].getAttr('X')>=0.9]\n",
    "        # transformar la lista en una cadena de caracteres e imprimirla\n",
    "        S = ['{:2}x{} '.format(k,i) for k,i in L]\n",
    "        print ('[{}]'.format(''.join(S)))\n"
   ]
  },
  {
   "cell_type": "markdown",
   "metadata": {},
   "source": [
    "## Código completo\n",
    "\n",
    "Se reproduce a continuación el código completo del modelo anterior. "
   ]
  },
  {
   "cell_type": "code",
   "execution_count": null,
   "metadata": {},
   "outputs": [],
   "source": [
    "# Implementación de modelos lineales enteros\n",
    "# Problema del corte de material (Cutting-Stock)\n",
    "# Luis M. Torres (EPN 2022)\n",
    "\n",
    "import gurobipy as gp\n",
    "from gurobipy import GRB\n",
    "import random as rm\n",
    "import math\n",
    "\n",
    "# iniciar generador de numeros aleatorios\n",
    "rm.seed(0)\n",
    "\n",
    "# número de órdenes\n",
    "m = 100\n",
    "\n",
    "# lista con los índices de las órdenes,\n",
    "# diccionarios con las longitudes y demandas de cada item\n",
    "I, w, b = gp.multidict({\n",
    "    i : (rm.randint(1, 9), rm.randint(10, 50)) \n",
    "        for i in range(1, m+1)}\n",
    ")\n",
    "    \n",
    "L = 10\n",
    "\n",
    "# cantidad maxima de rollos a utilizar\n",
    "N = sum(int(math.ceil(w[i]*b[i]/(L - w[i]))) for i in I)\n",
    "\n",
    "# conjuntos de índices de rollos\n",
    "J = range(1, N+1)\n",
    "\n",
    "try:\n",
    "    # crear el objeto modelo\n",
    "    m = gp.Model('cutting-stock')\n",
    "\n",
    "    # crear las variables asociadas a cantidad de items cortados de cada rollo\n",
    "    x = m.addVars(I, J, name=\"x\", vtype=GRB.INTEGER)\n",
    "\n",
    "    # crear las variables asociadas al uso de rollos\n",
    "    y = m.addVars(J, name=\"y\", vtype=GRB.BINARY)\n",
    "\n",
    "    # crear la función objetivo\n",
    "    m.setObjective(y.sum('*'), GRB.MINIMIZE)\n",
    "\n",
    "    # restricciones de demanda\n",
    "    m.addConstrs((x.sum(i,'*') >= b[i] for i in I), \"demanda\");\n",
    "\n",
    "    # restricciones de tamaño de rollos\n",
    "    m.addConstrs((sum([w[i]*x[i,j] for i in I]) <= L*y[j] for j in J), \"tam_rollo\");\n",
    "\n",
    "    # escribir el modelo a un archivo\n",
    "    # m.write('cutting-stock.lp')\n",
    "\n",
    "    # heurística para construir solución inicial\n",
    "    # diccionario con valores de x y y (inicializar en cero)\n",
    "    vx = {(i,j) : 0 for i in I for j in J} \n",
    "    vy = {j : 0 for j in J}\n",
    "\n",
    "    ind = 0\n",
    "    # satisfacer pedidos secuencialmente\n",
    "    for i in I:\n",
    "        # print(ind)\n",
    "        # cantidad de items producidos del pedido i\n",
    "        producidos = 0\n",
    "        # cantidad de items que pueden cortarse de un rollo\n",
    "        cant = int(L // w[i]) \n",
    "        # asignar rollos al pedido i hasta saitsfacer la demanda\n",
    "        while producidos < b[i]:\n",
    "            j = J[ind]\n",
    "            vy[j]= 1\n",
    "            vx[i,j] = cant\n",
    "            producidos += cant\n",
    "            ind += 1\n",
    "\n",
    "    # cargar valores iniciales de x\n",
    "    for i in I:\n",
    "        for j in J:\n",
    "            x[i,j].Start = vx[i,j]\n",
    "            \n",
    "    # cargar valores iniciales de y\n",
    "    for j in J:\n",
    "        y[j].Start = vy[j]\n",
    "\n",
    "    # terminar al alcanzar un gap del 10%\n",
    "    m.Params.MIPGap = 0.01\n",
    "    \n",
    "    # terminar luego de 180 segundos\n",
    "    m.Params.TimeLimit = 180\n",
    "    \n",
    "    # resolver el modelo\n",
    "    m.optimize()\n",
    "\n",
    "    # # recuperar variables y_j cuyo valor sea 1:\n",
    "    # for j in J:\n",
    "    #    if y[j].getAttr('X') > 0.1:\n",
    "    #        # recuperar valores x_ij asociados al rollo j y ponerlos en una lista\n",
    "    #        L =[(int(x[i,j].getAttr('X')),i) for i in I if x[i,j].getAttr('X')>=0.9]\n",
    "    #        # transformar la lista en una cadena de caracteres e imprimirla\n",
    "    #        S = ['{:2}x{} '.format(k,i) for k,i in L]\n",
    "    #        print ('[{}]'.format(''.join(S)))\n",
    "        \n",
    "except GurobiError as e:\n",
    "    print('Se produjo un error de Gurobi: código: ' + str(e.errno) + \": \" + str(e))\n",
    "\n",
    "except AttributeError:\n",
    "    print('Se produjo un error de atributo')"
   ]
  },
  {
   "cell_type": "code",
   "execution_count": null,
   "metadata": {},
   "outputs": [],
   "source": []
  }
 ],
 "metadata": {
  "kernelspec": {
   "display_name": "Python 3 (ipykernel)",
   "language": "python",
   "name": "python3"
  },
  "language_info": {
   "codemirror_mode": {
    "name": "ipython",
    "version": 3
   },
   "file_extension": ".py",
   "mimetype": "text/x-python",
   "name": "python",
   "nbconvert_exporter": "python",
   "pygments_lexer": "ipython3",
   "version": "3.8.10"
  }
 },
 "nbformat": 4,
 "nbformat_minor": 2
}
