{
 "cells": [
  {
   "cell_type": "markdown",
   "metadata": {},
   "source": [
    "# Cuaderno 22: Modelo con restricciones de corte para el ATSP\n",
    "\n",
    "$\\newcommand{\\card}[1]{\\left| #1 \\right|}$\n",
    "$\\newcommand{\\tabulatedset}[1]{\\left\\{ #1 \\right\\}}$\n",
    "$\\newcommand{\\ZZ}{\\mathbb{Z}}$\n",
    "$\\newcommand{\\RR}{\\mathbb{R}}$\n",
    "\n",
    "Recordar que, dados: \n",
    "* un grafo dirigido **completo** $D=(V,A)$; y,\n",
    "* un vector $c \\in \\ZZ^{A}$ de costos asociados a los arcos de $D$;\n",
    "\n",
    "el *problema del agente viajero asimétrico (Asymmetric Traveling Salesman Problem, ATSP)* consiste en encontrar un circuito que visite **todos** los nodos de $D$ y que tenga el menor costo posible.\n",
    "\n",
    "En el Cuaderno 21 revisamos un modelo de programación lineal entera para este problema. Un aspecto importante a considerar en el modelo fueron las restricciones de eliminación de subtoures, las cuales consisitían en requerir que, para cualquier subconjunto de nodos $W \\subset V$, con $\\emptyset \\neq W \\neq V$, el número de arcos seleccionados en la solución que tengan sus dos extremos dentro de $W$ sea menor o igual a $\\card{W} - 1$.\n",
    "\n",
    "Una manera alternativa de eliminar subciclos consiste en requerir que la solución contenga siempre un arco del corte entrante $\\delta^{-}(W)$ o un arco del corte saliente $\\delta^{+}(W)$ para cada $W \\subset V$ con $\\emptyset \\neq W \\neq V$. Estas restricciones se conocen como *restricciones de corte*. Los conjuntos de corte están definidos por:\n",
    "\n",
    "\\begin{align*}\n",
    "\\delta^{-}(W) &:= \\{ (i,j) \\in A \\, : \\, i \\not\\in W, j \\in W\\}, \\\\\n",
    "\\delta^{+}(W) &:= \\{ (i,j) \\in A \\, : \\, i \\in W, j \\not\\in W\\}. \\\\\n",
    "\\end{align*}\n",
    "\n",
    "\n",
    "De esta manera, el problema del agente viajero asimétrico puede formularse como el siguiente programa lineal entero:\n",
    "\n",
    "\\begin{align*} \n",
    "\\min &\\sum_{(i,j) \\in A} c_{ij} x_{ij}\\\\ \n",
    "& \\mbox{s.r.}\\\\\n",
    "&\\sum_{(j, i) \\in A} x_{ji} = 1, \\quad \\forall i \\in V,\\\\\n",
    "&\\sum_{(i, j) \\in A} x_{ij} = 1, \\quad \\forall i \\in V,\\\\ \n",
    "&\\sum_{(i,j) \\in \\delta^{-}(W)} x_{ij} \\geq 1, \\quad \\forall W \\subset V, \\emptyset \\neq W \\neq V,\\\\\n",
    "& x_{ij} \\in \\{0, 1\\}, \\quad \\forall (i, j) \\in A.\n",
    "\\end{align*}\n",
    "\n",
    "Vamos a implementar este modelo usando la interfaz Python de Gurobi.\n",
    "\n"
   ]
  },
  {
   "cell_type": "markdown",
   "metadata": {},
   "source": [
    "Definimos primero los datos. Usaremos la función `randint` para generar puntos con coordenadas aleatorias en el rango {0,..,100}. El costo de un arco $(i,j)$ será igual a la distancia euclideana entre $i$ y $j$:"
   ]
  },
  {
   "cell_type": "code",
   "execution_count": 1,
   "metadata": {},
   "outputs": [],
   "source": [
    "from gurobipy import *\n",
    "import random as rm\n",
    "import math \n",
    "\n",
    "# Numero de nodos del grafo\n",
    "n = 10\n",
    "\n",
    "# Nodos del grafo\n",
    "V = tuplelist(range(1,n+1))\n",
    "\n",
    "# Posiciones de los nodos en un plano euclideano entre (0,0) y (100, 100)\n",
    "coordx={i : rm.randint(0,100) for i in V}\n",
    "coordy={i : rm.randint(0,100) for i in V}\n",
    "\n",
    "# los costos son las distancias eculideanas\n",
    "c = tupledict({\n",
    "    (i,j) : math.sqrt((coordx[i] - coordx[j])**2 + (coordy[i] - coordy[j])**2)\n",
    "    for i in V for j in V if i!=j\n",
    "})\n",
    " \n",
    "A = c.keys()\n"
   ]
  },
  {
   "cell_type": "markdown",
   "metadata": {},
   "source": [
    "Vamos a necesitar construir una restricción de corte para cada subconjunto de nodos $W \\subset V$ tal que $\\emptyset \\neq W \\neq V$. Con esta finalidad, definimos una función `powerset` empleando las funciones `chain` y `combinations` del módulo `itertools`."
   ]
  },
  {
   "cell_type": "code",
   "execution_count": 2,
   "metadata": {},
   "outputs": [],
   "source": [
    "from itertools import chain, combinations\n",
    "\n",
    "def powerset(iterable):\n",
    "    \"powerset([1,2,3]) --> () (1,) (2,) (3,) (1,2) (1,3) (2,3) (1,2,3)\"\n",
    "    s = list(iterable)\n",
    "    return chain.from_iterable(combinations(s, r) for r in range(len(s)+1))\n"
   ]
  },
  {
   "cell_type": "markdown",
   "metadata": {},
   "source": [
    "Definimos ahora el objeto modelo, las variables y la función objetivo:"
   ]
  },
  {
   "cell_type": "code",
   "execution_count": 3,
   "metadata": {},
   "outputs": [
    {
     "name": "stdout",
     "output_type": "stream",
     "text": [
      "Using license file /Users/ltorres/gurobi.lic\n",
      "Academic license - for non-commercial use only\n"
     ]
    }
   ],
   "source": [
    "# Crear el objeto modelo\n",
    "m = Model('atsp-corte')\n",
    "\n",
    "# Crear las variables\n",
    "x = m.addVars(A, name=\"x\", vtype=GRB.BINARY)\n",
    "\n",
    "# Crear la funcion objetivo\n",
    "m.setObjective(x.prod(c,'*'), GRB.MINIMIZE)\n"
   ]
  },
  {
   "cell_type": "markdown",
   "metadata": {},
   "source": [
    "Añadimos las restricciones de grado:"
   ]
  },
  {
   "cell_type": "code",
   "execution_count": 4,
   "metadata": {},
   "outputs": [
    {
     "data": {
      "text/plain": [
       "{1: <gurobi.Constr *Awaiting Model Update*>,\n",
       " 2: <gurobi.Constr *Awaiting Model Update*>,\n",
       " 3: <gurobi.Constr *Awaiting Model Update*>,\n",
       " 4: <gurobi.Constr *Awaiting Model Update*>,\n",
       " 5: <gurobi.Constr *Awaiting Model Update*>,\n",
       " 6: <gurobi.Constr *Awaiting Model Update*>,\n",
       " 7: <gurobi.Constr *Awaiting Model Update*>,\n",
       " 8: <gurobi.Constr *Awaiting Model Update*>,\n",
       " 9: <gurobi.Constr *Awaiting Model Update*>,\n",
       " 10: <gurobi.Constr *Awaiting Model Update*>}"
      ]
     },
     "execution_count": 4,
     "metadata": {},
     "output_type": "execute_result"
    }
   ],
   "source": [
    "# Restricciones de grado saliente\n",
    "m.addConstrs((x.sum(i,'*')  == 1 for i in V), \n",
    "                 \"g_saliente\")\n",
    "    \n",
    "# Restricciones de grado entrante\n",
    "m.addConstrs((x.sum('*', i)  == 1 for i in V), \n",
    "                 \"g_entrante\")"
   ]
  },
  {
   "cell_type": "markdown",
   "metadata": {},
   "source": [
    "Para construir las restricciones de corte, usamos la función `powerset` para iterar sobre todos los subconjuntos de vértices $W$ tales que $\\emptyset \\neq W \\neq V$. Para cada subconjunto, determinamos su complemento $W_c:= V \\setminus W$. La expresión `x.sum(Wc, W)` construye la suma de las variables asociadas a arcos del corte entrante de $W$."
   ]
  },
  {
   "cell_type": "code",
   "execution_count": 5,
   "metadata": {},
   "outputs": [],
   "source": [
    "# Restricciones de corte para eliminar subtoures\n",
    "for W in powerset(V):\n",
    "    if W!=() and W!=tuple(V):\n",
    "        Wc = [i for i in V if i not in W]\n",
    "        m.addConstr(x.sum(Wc, W) >= 1, \"subciclo[{}]\".format(W))\n"
   ]
  },
  {
   "cell_type": "markdown",
   "metadata": {},
   "source": [
    "Escribimos el modelo a un archivo de texto:"
   ]
  },
  {
   "cell_type": "code",
   "execution_count": 6,
   "metadata": {},
   "outputs": [
    {
     "name": "stdout",
     "output_type": "stream",
     "text": [
      "Warning: constraint name \"subciclo[(1, 2)]\" has a space\n"
     ]
    }
   ],
   "source": [
    "# Escribir el modelo a un archivo\n",
    "m.write('atsp.lp')\n"
   ]
  },
  {
   "cell_type": "markdown",
   "metadata": {},
   "source": [
    "Finalmente, resolvemos el modelo y mostramos la solución:"
   ]
  },
  {
   "cell_type": "code",
   "execution_count": 7,
   "metadata": {},
   "outputs": [
    {
     "name": "stdout",
     "output_type": "stream",
     "text": [
      "Gurobi Optimizer version 9.0.2 build v9.0.2rc0 (mac64)\n",
      "Optimize a model with 1042 rows, 90 columns and 23220 nonzeros\n",
      "Model fingerprint: 0xebae7d76\n",
      "Variable types: 0 continuous, 90 integer (90 binary)\n",
      "Coefficient statistics:\n",
      "  Matrix range     [1e+00, 1e+00]\n",
      "  Objective range  [1e+00, 1e+02]\n",
      "  Bounds range     [1e+00, 1e+00]\n",
      "  RHS range        [1e+00, 1e+00]\n",
      "Found heuristic solution: objective 466.3704025\n",
      "Presolve removed 20 rows and 0 columns\n",
      "Presolve time: 0.13s\n",
      "Presolved: 1022 rows, 90 columns, 23040 nonzeros\n",
      "Variable types: 0 continuous, 90 integer (90 binary)\n",
      "\n",
      "Root relaxation: objective 2.967912e+02, 36 iterations, 0.06 seconds\n",
      "\n",
      "    Nodes    |    Current Node    |     Objective Bounds      |     Work\n",
      " Expl Unexpl |  Obj  Depth IntInf | Incumbent    BestBd   Gap | It/Node Time\n",
      "\n",
      "*    0     0               0     296.7911600  296.79116  0.00%     -    0s\n",
      "\n",
      "Explored 0 nodes (36 simplex iterations) in 0.55 seconds\n",
      "Thread count was 4 (of 4 available processors)\n",
      "\n",
      "Solution count 2: 296.791 466.37 \n",
      "\n",
      "Optimal solution found (tolerance 1.00e-04)\n",
      "Best objective 2.967911599569e+02, best bound 2.967911599569e+02, gap 0.0000%\n",
      "\n",
      "Tour optimo:\n",
      "1 -> 10\n",
      "2 -> 4\n",
      "3 -> 1\n",
      "4 -> 3\n",
      "5 -> 2\n",
      "6 -> 8\n",
      "7 -> 9\n",
      "8 -> 7\n",
      "9 -> 5\n",
      "10 -> 6\n"
     ]
    }
   ],
   "source": [
    "# Calcular la solucion optima\n",
    "m.optimize()\n",
    "\n",
    "# Escribir la solucion\n",
    "if m.status == GRB.Status.OPTIMAL:\n",
    "    # Recuperar los valores de las variables\n",
    "    vx = m.getAttr('x', x)\n",
    "    print('\\nTour optimo:')\n",
    "    for i,j in A:\n",
    "        if vx[i,j] >= 0.99:\n",
    "            print('{} -> {}'.format(i, j))\n"
   ]
  },
  {
   "cell_type": "markdown",
   "metadata": {},
   "source": [
    "Por último, empleamos el módulo `matplotlib` y la función `dibujarTour` del Cuaderno 21 para graficar el tour de la solución.\n"
   ]
  },
  {
   "cell_type": "code",
   "execution_count": 8,
   "metadata": {},
   "outputs": [
    {
     "data": {
      "image/png": "[encoded data removed]",
      "text/plain": [
       "<Figure size 432x288 with 1 Axes>"
      ]
     },
     "metadata": {
      "needs_background": "light"
     },
     "output_type": "display_data"
    }
   ],
   "source": [
    "import matplotlib.pyplot as plt\n",
    "import random\n",
    "\n",
    "def dibujarTour(coordx, coordy, tour):\n",
    "    x = [coordx[i] for i in tour]\n",
    "    y = [coordy[i] for i in tour]\n",
    "    plt.plot(x, y, 'ro')\n",
    "    Tx = [coordx[i] for i in tour]\n",
    "    Ty = [coordy[i] for i in tour]\n",
    "    Tx.append(coordx[tour[0]])\n",
    "    Ty.append(coordy[tour[0]])\n",
    "    plt.plot(Tx, Ty, 'b-')\n",
    "    plt.show()\n",
    "    \n",
    "# Crear lista con arcos seleccionados en la solucion\n",
    "L = [(i,j) for i,j in A if vx[i,j]>0]\n",
    "\n",
    "# Recuperar el tour como un ordenamiento de los nodos\n",
    "T = [1]\n",
    "# nodo actual:\n",
    "i = 1\n",
    "while True:\n",
    "    # Determinar sucesor de i\n",
    "    j = [j for j in V if (i,j) in L].pop()\n",
    "    # Colocar sucesor en la lista del tour y actualizar i\n",
    "    T.append(j)\n",
    "    i = j\n",
    "    # Terminar cuando el nodo colocado sea 1\n",
    "    if i==1: break;\n",
    "        \n",
    "# Graficar el tour\n",
    "dibujarTour(coordx, coordy, T)    "
   ]
  },
  {
   "cell_type": "markdown",
   "metadata": {},
   "source": [
    "## Código completo\n",
    "\n",
    "Se reproduce a continuación el código completo del modelo anterior."
   ]
  },
  {
   "cell_type": "code",
   "execution_count": 10,
   "metadata": {},
   "outputs": [
    {
     "name": "stdout",
     "output_type": "stream",
     "text": [
      "Gurobi Optimizer version 9.0.2 build v9.0.2rc0 (mac64)\n",
      "Optimize a model with 131104 rows, 272 columns and 8913440 nonzeros\n",
      "Model fingerprint: 0x5f4537f3\n",
      "Variable types: 0 continuous, 272 integer (272 binary)\n",
      "Coefficient statistics:\n",
      "  Matrix range     [1e+00, 1e+00]\n",
      "  Objective range  [5e+00, 1e+02]\n",
      "  Bounds range     [1e+00, 1e+00]\n",
      "  RHS range        [1e+00, 1e+00]\n",
      "Found heuristic solution: objective 946.4546961\n",
      "Presolve removed 34 rows and 0 columns (presolve time = 7s) ...\n",
      "Presolve removed 34 rows and 0 columns (presolve time = 15s) ...\n",
      "Presolve removed 34 rows and 0 columns (presolve time = 28s) ...\n",
      "Presolve removed 34 rows and 0 columns (presolve time = 31s) ...\n",
      "Presolve removed 34 rows and 0 columns\n",
      "Presolve time: 30.95s\n",
      "Presolved: 131070 rows, 272 columns, 8912896 nonzeros\n",
      "Variable types: 0 continuous, 272 integer (272 binary)\n",
      "\n",
      "Root simplex log...\n",
      "\n",
      "Iteration    Objective       Primal Inf.    Dual Inf.      Time\n",
      "       0   -0.0000000e+00   0.000000e+00   1.310700e+05     35s\n",
      "      53    3.4883025e+02   0.000000e+00   0.000000e+00     35s\n",
      "      53    3.4883025e+02   0.000000e+00   0.000000e+00     36s\n",
      "\n",
      "Root relaxation: objective 3.488302e+02, 53 iterations, 3.78 seconds\n",
      "\n",
      "    Nodes    |    Current Node    |     Objective Bounds      |     Work\n",
      " Expl Unexpl |  Obj  Depth IntInf | Incumbent    BestBd   Gap | It/Node Time\n",
      "\n",
      "*    0     0               0     348.8302474  348.83025  0.00%     -   36s\n",
      "\n",
      "Explored 0 nodes (53 simplex iterations) in 36.14 seconds\n",
      "Thread count was 4 (of 4 available processors)\n",
      "\n",
      "Solution count 2: 348.83 946.455 \n",
      "\n",
      "Optimal solution found (tolerance 1.00e-04)\n",
      "Best objective 3.488302474471e+02, best bound 3.488302474471e+02, gap 0.0000%\n",
      "\n",
      "Tour optimo:\n",
      "1 -> 17\n",
      "2 -> 12\n",
      "3 -> 7\n",
      "4 -> 15\n",
      "5 -> 1\n",
      "6 -> 14\n",
      "7 -> 8\n",
      "8 -> 4\n",
      "9 -> 3\n",
      "10 -> 6\n",
      "11 -> 9\n",
      "12 -> 10\n",
      "13 -> 2\n",
      "14 -> 16\n",
      "15 -> 5\n",
      "16 -> 11\n",
      "17 -> 13\n"
     ]
    },
    {
     "data": {
      "image/png": "[encoded data removed]",
      "text/plain": [
       "<Figure size 432x288 with 1 Axes>"
      ]
     },
     "metadata": {
      "needs_background": "light"
     },
     "output_type": "display_data"
    }
   ],
   "source": [
    "# Implementación de modelos lineales enteros\n",
    "# Problema del agente viajero asimétrico (TSP)\n",
    "\n",
    "# Luis M. Torres (EPN 2020)\n",
    "\n",
    "from gurobipy import *\n",
    "import random as rm\n",
    "import matplotlib.pyplot as plt\n",
    "from itertools import chain, combinations\n",
    "\n",
    "def powerset(iterable):\n",
    "    \"powerset([1,2,3]) --> () (1,) (2,) (3,) (1,2) (1,3) (2,3) (1,2,3)\"\n",
    "    s = list(iterable)\n",
    "    return chain.from_iterable(combinations(s, r) for r in range(len(s)+1))\n",
    "\n",
    "def dibujarTour(coordx, coordy, tour):\n",
    "    x = [coordx[i] for i in tour]\n",
    "    y = [coordy[i] for i in tour]\n",
    "    plt.plot(x, y, 'ro')\n",
    "    Tx = [coordx[i] for i in tour]\n",
    "    Ty = [coordy[i] for i in tour]\n",
    "    Tx.append(coordx[tour[0]])\n",
    "    Ty.append(coordy[tour[0]])\n",
    "    plt.plot(Tx, Ty, 'b-')\n",
    "    plt.show()\n",
    "\n",
    "# Numero de nodos del grafo\n",
    "n = 17\n",
    "\n",
    "# Nodos del grafo\n",
    "V = tuplelist(range(1,n+1))\n",
    "\n",
    "# Posiciones de los nodos en un plano euclideano entre (0,0) y (100, 100)\n",
    "coordx={i : rm.randint(0,100) for i in V}\n",
    "coordy={i : rm.randint(0,100) for i in V}\n",
    "\n",
    "# los costos son las distancias eculideanas\n",
    "c = tupledict({\n",
    "    (i,j) : math.sqrt((coordx[i] - coordx[j])**2 + (coordy[i] - coordy[j])**2)\n",
    "    for i in V for j in V if i!=j\n",
    "})\n",
    " \n",
    "A = c.keys()\n",
    "\n",
    "try:\n",
    "    # Crear el objeto modelo\n",
    "    m = Model('tsp')\n",
    "\n",
    "    # Crear las variables\n",
    "    x = m.addVars(A, name=\"x\", vtype=GRB.BINARY)\n",
    "\n",
    "    # Crear la funcion objetivo\n",
    "    m.setObjective(x.prod(c,'*'), GRB.MINIMIZE)\n",
    "\n",
    "    # Restricciones de grado saliente\n",
    "    m.addConstrs((x.sum(i,'*')  == 1 for i in V), \n",
    "                 \"g_saliente\")\n",
    "    \n",
    "    # Restricciones de grado entrante\n",
    "    m.addConstrs((x.sum('*', i)  == 1 for i in V), \n",
    "                 \"g_entrante\")\n",
    "\n",
    "    # Restricciones de corte para eliminar subtoures\n",
    "    for W in powerset(V):\n",
    "        if W!=() and W!=tuple(V):\n",
    "            Wc = [i for i in V if i not in W]\n",
    "            m.addConstr(x.sum(Wc, W) >= 1, \"subciclo[{}]\".format(W))\n",
    "\n",
    "    # Escribir el modelo a un archivo\n",
    "    # m.write('tsp.lp')\n",
    "\n",
    "    # Calcular la solucion optima\n",
    "    m.optimize()\n",
    "\n",
    "    # Escribir la solucion\n",
    "    if m.status == GRB.Status.OPTIMAL:\n",
    "        # Recuperar los valores de las variables\n",
    "        vx = m.getAttr('x', x)\n",
    "        print('\\nTour optimo:')\n",
    "        for i,j in A:\n",
    "            if vx[i,j] > 0:\n",
    "                print('{} -> {}'.format(i, j))\n",
    "                \n",
    "    # Crear lista con arcos seleccionados en la solucion\n",
    "    L = [(i,j) for i,j in A if vx[i,j]>0]\n",
    "\n",
    "    # Recuperar el tour como un ordenamiento de los nodos\n",
    "    T = [1]\n",
    "    # nodo actual:\n",
    "    i = 1\n",
    "    while True:\n",
    "        # Determinar sucesor de i\n",
    "        j = [j for j in V if (i,j) in L].pop()\n",
    "        # Colocar sucesor en la lista del tour y actualizar i\n",
    "        T.append(j)\n",
    "        i = j\n",
    "        # Terminar cuando el nodo colocado sea 1\n",
    "        if i==1: break;\n",
    "        \n",
    "    # Graficar el tour\n",
    "    dibujarTour(coordx, coordy, T)    \n",
    "    \n",
    "except GurobiError as e:\n",
    "    print('Se produjo un error de Gurobi: codigo: ' + str(e.errno) + \": \" + str(e))\n",
    "\n",
    "except AttributeError:\n",
    "    print('Se produjo un error de atributo')"
   ]
  },
  {
   "cell_type": "code",
   "execution_count": null,
   "metadata": {},
   "outputs": [],
   "source": []
  }
 ],
 "metadata": {
  "kernelspec": {
   "display_name": "Python 3",
   "language": "python",
   "name": "python3"
  },
  "language_info": {
   "codemirror_mode": {
    "name": "ipython",
    "version": 3
   },
   "file_extension": ".py",
   "mimetype": "text/x-python",
   "name": "python",
   "nbconvert_exporter": "python",
   "pygments_lexer": "ipython3",
   "version": "3.7.6"
  }
 },
 "nbformat": 4,
 "nbformat_minor": 2
}
