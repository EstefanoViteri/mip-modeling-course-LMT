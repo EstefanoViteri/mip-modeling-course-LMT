{
 "cells": [
  {
   "cell_type": "markdown",
   "metadata": {},
   "source": [
    "# Cuaderno 27: Formulación de planos cortantes para el ATSP\n",
    "## Implementación con planos cortantes\n",
    "\n",
    "$\\newcommand{\\card}[1]{\\left| #1 \\right|}$\n",
    "$\\newcommand{\\tabulatedset}[1]{\\left\\{ #1 \\right\\}}$\n",
    "$\\newcommand{\\ZZ}{\\mathbb{Z}}$\n",
    "$\\newcommand{\\RR}{\\mathbb{R}}$\n",
    "\n",
    "Dados: \n",
    "* un grafo dirigido **completo** $D=(V,A)$; y,\n",
    "* un vector $c \\in \\ZZ^{A}$ de costos asociados a los arcos de $D$.\n",
    "\n",
    "El *problema del agente viajero asimétrico (Asymmetric Traveling Salesman Problem, ATSP)* consiste en encontrar un circuito dirigido que visite **todos** los nodos de $G$ y que tenga el menor costo posible.\n",
    "\n",
    "Vamos a considerar la formulación como programa lineal entero para el ATSP que emplea desigualdades de cortes para eliminar subciclos (ver Cuaderno 22):\n",
    "\n",
    "\\begin{align*}\n",
    "\\min &\\sum_{(i,j) \\in A} c_{ij} x_{ij}\\\\ \n",
    "& \\mbox{s.r.}\\\\\n",
    "&\\sum_{(i,j) \\in \\delta^{+}(i) } x_{ij} = 1, \\quad \\forall i \\in V,\\\\\n",
    "&\\sum_{(j,i) \\in \\delta^{-}(i) } x_{ji} = 1, \\quad \\forall i \\in V,\\\\\n",
    "&\\sum_{ij \\in \\delta^{+}(W)} x_{ij} \\geq 1, \\quad \\forall W \\subset V, \\emptyset \\neq W \\neq V,\\\\\n",
    "& x_{ij} \\in \\{0, 1\\}, \\quad \\forall (i,j) \\in A,\n",
    "\\end{align*}\n",
    "donde $\\delta^{+}(W) := \\{ (i,j) \\in A \\, : \\, i \\in W, j \\not\\in W\\}$.\n",
    "\n",
    "El problema de esta formulación es la gran cantidad de desigualdades de corte requeridas. Sin embargo, este modelo puede resolverse eficientemente utilizando un **algoritmo de planos cortantes**, el mismo que consiste en generar dinámicamente las desigualdades de corte, conforme sean requeridas en la solución del modelo.\n",
    "\n",
    "En este cuaderno vamos a revisar cómo implementar un algoritmo de planos cortantes empleando la interfaz Python de Gurobi.\n",
    "\n"
   ]
  },
  {
   "cell_type": "markdown",
   "metadata": {},
   "source": [
    "Definimos primero los datos. Usaremos la función `randint` del módulo random para generar valores aleatorios en el rango {0,..,100} para las coordenadas de cada nodo. Los costos de los arcos serán iguales a las distancias euclideanas entre sus nodos extremos. "
   ]
  },
  {
   "cell_type": "code",
   "execution_count": 11,
   "metadata": {},
   "outputs": [],
   "source": [
    "from gurobipy import *\n",
    "import random as rm\n",
    "import math \n",
    "\n",
    "# iniciar generador de numeros aleatorios\n",
    "rm.seed(0)\n",
    "\n",
    "# Numero de nodos del grafo\n",
    "n = 70\n",
    "\n",
    "# Nodos del grafo\n",
    "V = tuplelist(range(1,n+1))\n",
    "\n",
    "# Posiciones de los nodos en un plano euclideano entre (0,0) y (100, 100)\n",
    "coordx={i : rm.randint(0,100) for i in V}\n",
    "coordy={i : rm.randint(0,100) for i in V}\n",
    "\n",
    "# los costos son las distancias eculideanas\n",
    "c = tupledict({\n",
    "    (i,j) : math.sqrt((coordx[i] - coordx[j])**2 + (coordy[i] - coordy[j])**2)\n",
    "    for i in V for j in V if i!=j\n",
    "})\n",
    "A = c.keys()\n"
   ]
  },
  {
   "cell_type": "markdown",
   "metadata": {},
   "source": [
    "Emplearemos el módulo `matplotlib` para graficar el tour de la solución. Definiremos para ello la función `dibujarTour` que recibe tres argumentos: una lista `coordx` con las coordenadas horizontales de los nodos, una lista `coordy` con las coordenadas verticales y un vector `tour` con una permutación de los nodos indicando el orden de visita en la solución."
   ]
  },
  {
   "cell_type": "code",
   "execution_count": 12,
   "metadata": {},
   "outputs": [],
   "source": [
    "import matplotlib.pyplot as plt\n",
    "import random\n",
    "\n",
    "def dibujarTour(coordx, coordy, tour):\n",
    "    x = [coordx[i] for i in tour]\n",
    "    y = [coordy[i] for i in tour]\n",
    "    plt.figure(figsize=(15, 15))\n",
    "    plt.plot(x, y, 'ro')\n",
    "    Tx = [coordx[i] for i in tour]\n",
    "    Ty = [coordy[i] for i in tour]\n",
    "    Tx.append(coordx[tour[0]])\n",
    "    Ty.append(coordy[tour[0]])\n",
    "    plt.plot(Tx, Ty, 'b-')\n",
    "    plt.show()"
   ]
  },
  {
   "cell_type": "markdown",
   "metadata": {},
   "source": [
    "Definimos ahora el objeto modelo, las variables y la función objetivo. \n",
    "\n",
    "Definimos las variables miembro `_x`, `_V` y `_A` dentro del objeto modelo para tener acceso a las variables de selección de arcos, la lista de nodos y la lista de arcos desde la función que se encargará de generar las restricciones de corte. "
   ]
  },
  {
   "cell_type": "code",
   "execution_count": 13,
   "metadata": {},
   "outputs": [],
   "source": [
    "# Crear el objeto modelo\n",
    "m = Model('atsp-corte-lazy')\n",
    "\n",
    "# Crear las variables\n",
    "x = m.addVars(A, name=\"x\", vtype=GRB.BINARY)\n",
    "\n",
    "# Crear la funcion objetivo\n",
    "m.setObjective(x.prod(c,'*'), GRB.MINIMIZE)\n",
    "\n",
    "# Crear variables en el objeto modelo para tener acceso a x, V y A\n",
    "m._x = x\n",
    "m._V = V\n",
    "m._A = A"
   ]
  },
  {
   "cell_type": "markdown",
   "metadata": {},
   "source": [
    "Añadimos las restricciones de grado. "
   ]
  },
  {
   "cell_type": "code",
   "execution_count": 14,
   "metadata": {},
   "outputs": [
    {
     "data": {
      "text/plain": [
       "{1: <gurobi.Constr *Awaiting Model Update*>,\n",
       " 2: <gurobi.Constr *Awaiting Model Update*>,\n",
       " 3: <gurobi.Constr *Awaiting Model Update*>,\n",
       " 4: <gurobi.Constr *Awaiting Model Update*>,\n",
       " 5: <gurobi.Constr *Awaiting Model Update*>,\n",
       " 6: <gurobi.Constr *Awaiting Model Update*>,\n",
       " 7: <gurobi.Constr *Awaiting Model Update*>,\n",
       " 8: <gurobi.Constr *Awaiting Model Update*>,\n",
       " 9: <gurobi.Constr *Awaiting Model Update*>,\n",
       " 10: <gurobi.Constr *Awaiting Model Update*>,\n",
       " 11: <gurobi.Constr *Awaiting Model Update*>,\n",
       " 12: <gurobi.Constr *Awaiting Model Update*>,\n",
       " 13: <gurobi.Constr *Awaiting Model Update*>,\n",
       " 14: <gurobi.Constr *Awaiting Model Update*>,\n",
       " 15: <gurobi.Constr *Awaiting Model Update*>,\n",
       " 16: <gurobi.Constr *Awaiting Model Update*>,\n",
       " 17: <gurobi.Constr *Awaiting Model Update*>,\n",
       " 18: <gurobi.Constr *Awaiting Model Update*>,\n",
       " 19: <gurobi.Constr *Awaiting Model Update*>,\n",
       " 20: <gurobi.Constr *Awaiting Model Update*>,\n",
       " 21: <gurobi.Constr *Awaiting Model Update*>,\n",
       " 22: <gurobi.Constr *Awaiting Model Update*>,\n",
       " 23: <gurobi.Constr *Awaiting Model Update*>,\n",
       " 24: <gurobi.Constr *Awaiting Model Update*>,\n",
       " 25: <gurobi.Constr *Awaiting Model Update*>,\n",
       " 26: <gurobi.Constr *Awaiting Model Update*>,\n",
       " 27: <gurobi.Constr *Awaiting Model Update*>,\n",
       " 28: <gurobi.Constr *Awaiting Model Update*>,\n",
       " 29: <gurobi.Constr *Awaiting Model Update*>,\n",
       " 30: <gurobi.Constr *Awaiting Model Update*>,\n",
       " 31: <gurobi.Constr *Awaiting Model Update*>,\n",
       " 32: <gurobi.Constr *Awaiting Model Update*>,\n",
       " 33: <gurobi.Constr *Awaiting Model Update*>,\n",
       " 34: <gurobi.Constr *Awaiting Model Update*>,\n",
       " 35: <gurobi.Constr *Awaiting Model Update*>,\n",
       " 36: <gurobi.Constr *Awaiting Model Update*>,\n",
       " 37: <gurobi.Constr *Awaiting Model Update*>,\n",
       " 38: <gurobi.Constr *Awaiting Model Update*>,\n",
       " 39: <gurobi.Constr *Awaiting Model Update*>,\n",
       " 40: <gurobi.Constr *Awaiting Model Update*>,\n",
       " 41: <gurobi.Constr *Awaiting Model Update*>,\n",
       " 42: <gurobi.Constr *Awaiting Model Update*>,\n",
       " 43: <gurobi.Constr *Awaiting Model Update*>,\n",
       " 44: <gurobi.Constr *Awaiting Model Update*>,\n",
       " 45: <gurobi.Constr *Awaiting Model Update*>,\n",
       " 46: <gurobi.Constr *Awaiting Model Update*>,\n",
       " 47: <gurobi.Constr *Awaiting Model Update*>,\n",
       " 48: <gurobi.Constr *Awaiting Model Update*>,\n",
       " 49: <gurobi.Constr *Awaiting Model Update*>,\n",
       " 50: <gurobi.Constr *Awaiting Model Update*>,\n",
       " 51: <gurobi.Constr *Awaiting Model Update*>,\n",
       " 52: <gurobi.Constr *Awaiting Model Update*>,\n",
       " 53: <gurobi.Constr *Awaiting Model Update*>,\n",
       " 54: <gurobi.Constr *Awaiting Model Update*>,\n",
       " 55: <gurobi.Constr *Awaiting Model Update*>,\n",
       " 56: <gurobi.Constr *Awaiting Model Update*>,\n",
       " 57: <gurobi.Constr *Awaiting Model Update*>,\n",
       " 58: <gurobi.Constr *Awaiting Model Update*>,\n",
       " 59: <gurobi.Constr *Awaiting Model Update*>,\n",
       " 60: <gurobi.Constr *Awaiting Model Update*>,\n",
       " 61: <gurobi.Constr *Awaiting Model Update*>,\n",
       " 62: <gurobi.Constr *Awaiting Model Update*>,\n",
       " 63: <gurobi.Constr *Awaiting Model Update*>,\n",
       " 64: <gurobi.Constr *Awaiting Model Update*>,\n",
       " 65: <gurobi.Constr *Awaiting Model Update*>,\n",
       " 66: <gurobi.Constr *Awaiting Model Update*>,\n",
       " 67: <gurobi.Constr *Awaiting Model Update*>,\n",
       " 68: <gurobi.Constr *Awaiting Model Update*>,\n",
       " 69: <gurobi.Constr *Awaiting Model Update*>,\n",
       " 70: <gurobi.Constr *Awaiting Model Update*>}"
      ]
     },
     "execution_count": 14,
     "metadata": {},
     "output_type": "execute_result"
    }
   ],
   "source": [
    "# Restricciones de grado saliente\n",
    "m.addConstrs((x.sum(i,'*') == 1 for i in V), \"g_saliente\")\n",
    "\n",
    "# Restricciones de grado entrante\n",
    "m.addConstrs((x.sum('*', i) == 1 for i in V), \"g_entrante\")\n",
    "\n"
   ]
  },
  {
   "cell_type": "markdown",
   "metadata": {},
   "source": [
    "Definimos una función callback para separar dinámicamente las restricciones de corte. Esta función es invocada automáticamente por Gurobi cada vez que el solver encuentra una nueva solución entera que satisface las restricciones de grado (`where == GRB.Callback.MIPSOL`). \n",
    "\n",
    "La función implementa un algoritmo de marcaje para determinar el conjunto W de todos los nodos que pueden ser alcanzados desde el nodo 1. Si este conjunto es distinto de V, el mismo está asociado a una desigualdad de corte violada por `x`. \n",
    "\n",
    "Un algoritmo con estas características se conoce en general como un **algoritmo de separación**: se encarga de verificar que una solución satisfaga todas las desigualdades de una familia o encontrar una desigualdad que sea violada por la solución.\n",
    "\n",
    "Notar que para acceder a las variables de selección de arcos, la lista de nodos y la lista de arcos, es necesario emplear las variables miembro `_x`, `_V`y `_A` de la clase modelo."
   ]
  },
  {
   "cell_type": "code",
   "execution_count": 15,
   "metadata": {},
   "outputs": [],
   "source": [
    "# Funcion callback para separar desigualdades de corte\n",
    "def mycallback(model, where):\n",
    "    # Esta funcion se activara cuando se encuentre una nueva solucion entera\n",
    "    if where == GRB.Callback.MIPSOL:\n",
    "        # Recuperar los valores de la solucion actual\n",
    "        vx = model.cbGetSolution(model._x)\n",
    "        # Determinar los arcos seleccionados en la solucion\n",
    "        L = [(i,j) for (i,j) in model._A if vx[i,j]>=0.9]\n",
    "        # Construir la lista W de nodos que pueden ser alcanzados desde 1\n",
    "        W = [1]\n",
    "        i = 1\n",
    "        while True :\n",
    "            N = [k for k in model._V if (i,k) in L]\n",
    "            if len(N)>1:\n",
    "                print(\"Error en desigualdad de grado:\")\n",
    "                for k in N:\n",
    "                    print(\"{}-->{}: {}\".format(i,k, vx[i,k]))\n",
    "            j = N.pop()\n",
    "            a = (i,j) \n",
    "            L.remove(a)\n",
    "            if j==1: break\n",
    "            W.append(j)\n",
    "            i = j\n",
    "        # Si W!=V, agregar la desigualdad de corte asociada a W\n",
    "        if len(W)!=len(model._V):\n",
    "            Wc = [i for i in model._V if i not in W]\n",
    "            model.cbLazy(model._x.sum(W, Wc) >= 1)\n"
   ]
  },
  {
   "cell_type": "markdown",
   "metadata": {},
   "source": [
    "Escribimos el modelo a un archivo de texto:"
   ]
  },
  {
   "cell_type": "code",
   "execution_count": 6,
   "metadata": {},
   "outputs": [],
   "source": [
    "# Escribir el modelo a un archivo\n",
    "m.write('atsp-corte-lazy.lp')\n"
   ]
  },
  {
   "cell_type": "markdown",
   "metadata": {},
   "source": [
    "Para poder utilizar restricciones tipo *lazy* en un modelo, debe fijarse el parámetro `LazyConstraints` al valor de 1."
   ]
  },
  {
   "cell_type": "code",
   "execution_count": 16,
   "metadata": {},
   "outputs": [
    {
     "name": "stdout",
     "output_type": "stream",
     "text": [
      "Changed value of parameter LazyConstraints to 1\n",
      "   Prev: 0  Min: 0  Max: 1  Default: 0\n"
     ]
    }
   ],
   "source": [
    "# Configurar Gurobi para usar restricciones lazy\n",
    "m.Params.LazyConstraints = 1\n"
   ]
  },
  {
   "cell_type": "markdown",
   "metadata": {},
   "source": [
    "Fijamos un límite para el tiempo de cálculo y una tolerancia para la brecha de optimalidad:"
   ]
  },
  {
   "cell_type": "code",
   "execution_count": 17,
   "metadata": {},
   "outputs": [
    {
     "name": "stdout",
     "output_type": "stream",
     "text": [
      "Changed value of parameter MIPGap to 0.05\n",
      "   Prev: 0.0001  Min: 0.0  Max: inf  Default: 0.0001\n",
      "Changed value of parameter TimeLimit to 300.0\n",
      "   Prev: inf  Min: 0.0  Max: inf  Default: inf\n"
     ]
    }
   ],
   "source": [
    "# Terminar al alcanzar un Gap del 10%\n",
    "m.Params.MIPGap = 0.05\n",
    "\n",
    "# Terminar luego de 180 segundos\n",
    "m.Params.TimeLimit = 300"
   ]
  },
  {
   "cell_type": "markdown",
   "metadata": {},
   "source": [
    "Finalmente, resolvemos el modelo y mostramos la solución, en caso de que se haya encontrado una solución factible (si `m.status` es `GRB.Status.OPTIMAL` o `GRB.Status.SUBOPTIMAL`)."
   ]
  },
  {
   "cell_type": "code",
   "execution_count": 18,
   "metadata": {},
   "outputs": [
    {
     "name": "stdout",
     "output_type": "stream",
     "text": [
      "Gurobi Optimizer version 9.0.2 build v9.0.2rc0 (mac64)\n",
      "Optimize a model with 140 rows, 4830 columns and 9660 nonzeros\n",
      "Model fingerprint: 0x82286084\n",
      "Variable types: 0 continuous, 4830 integer (4830 binary)\n",
      "Coefficient statistics:\n",
      "  Matrix range     [1e+00, 1e+00]\n",
      "  Objective range  [1e+00, 1e+02]\n",
      "  Bounds range     [1e+00, 1e+00]\n",
      "  RHS range        [1e+00, 1e+00]\n",
      "Presolve time: 0.10s\n",
      "Presolved: 140 rows, 4830 columns, 9660 nonzeros\n",
      "Variable types: 0 continuous, 4830 integer (4830 binary)\n",
      "\n",
      "Root relaxation: objective 5.064430e+02, 116 iterations, 0.01 seconds\n",
      "\n",
      "    Nodes    |    Current Node    |     Objective Bounds      |     Work\n",
      " Expl Unexpl |  Obj  Depth IntInf | Incumbent    BestBd   Gap | It/Node Time\n",
      "\n",
      "     0     0  508.23046    0   14          -  508.23046      -     -    0s\n",
      "     0     0  516.55819    0   17          -  516.55819      -     -    1s\n",
      "     0     2  517.13851    0   34          -  517.13851      -     -    1s\n",
      "   358   238  540.89963   98   59          -  525.81135      -   6.1    5s\n",
      "   733   492  549.06287   25   34          -  530.43386      -   6.4   10s\n",
      "  1084   672  563.94165   21    -          -  531.32365      -   6.8   15s\n",
      "  1349   868  560.93470   66    -          -  531.97344      -   7.0   20s\n",
      "  1454   935  543.03088   45   17          -  531.99322      -   6.9   29s\n",
      "  1456   936  536.30521   66  105          -  534.66595      -   6.9   30s\n",
      "  1459   938  537.42549   16  183          -  537.42549      -   6.9   36s\n",
      "  1461   940  570.98230   42  183          -  538.20242      -   6.9   41s\n",
      "  1709  1019  556.84762   26    -          -  538.56968      -   7.9   45s\n",
      "  2230  1240  551.74454   36    -          -  539.15902      -   8.8   50s\n",
      "  2647  1392  545.41979   29   55          -  540.26716      -   8.9   55s\n",
      "  3045  1511  559.89837   30    -          -  540.53077      -   9.0   60s\n",
      "  3460  1619  556.24648   24   67          -  540.72976      -   9.0   65s\n",
      "  3948  1880  545.32929   24   72          -  540.99087      -   9.3   70s\n",
      "  4310  2010  555.54318   30   71          -  541.19450      -   9.3   75s\n",
      "  4644  2213  560.06467   31   27          -  541.61125      -   9.5   80s\n",
      "  4897  2386  552.63175   29    -          -  541.79895      -   9.6   85s\n",
      "  5213  2614  552.58131   29  152          -  542.03570      -   9.7   90s\n",
      "  5512  2860  557.19689   31   35          -  542.25712      -   9.9   95s\n",
      "  5757  3034  544.44798   26  105          -  542.33749      -   9.9  100s\n",
      "  5978  3199  556.19945   32   40          -  542.39855      -  10.0  105s\n",
      "  6185  3302  554.15848   31    -          -  542.44106      -  10.0  110s\n",
      "  6415  3468  555.27319   31   11          -  542.48793      -  10.0  116s\n",
      "  6669  3633  548.63201   25  159          -  542.65929      -  10.0  122s\n",
      "  6816  3732  562.69567   28    -          -  542.79387      -  10.0  125s\n",
      "  7051  3909  552.82770   25   55          -  542.91797      -  10.1  131s\n",
      "  7261  4043  553.62553   25    -          -  542.96279      -  10.1  135s\n",
      "  7442  4191  553.82721   34    -          -  543.02274      -  10.1  141s\n",
      "  7684  4347  556.55570   34   41          -  543.04593      -  10.1  147s\n",
      "  7801  4457  561.63993   37  108          -  543.05734      -  10.1  151s\n",
      "  8028  4601  557.72944   36    -          -  543.13133      -  10.2  157s\n",
      "  8148  4663  559.84016   36    -          -  543.18757      -  10.2  161s\n",
      "  8254  4756  562.64262   45    -          -  543.19786      -  10.2  165s\n",
      "  8483  4895  564.11964   45  173          -  543.27696      -  10.2  172s\n",
      "  8592  4974  571.18732   51    -          -  543.32660      -  10.3  176s\n",
      "  8833  5125  561.20405   30   13          -  543.46593      -  10.3  183s\n",
      "  8946  5194  561.47003   28   16          -  543.47673      -  10.3  187s\n",
      "  9073  5275  562.28004   31    -          -  543.50057      -  10.4  191s\n",
      "  9181  5347  565.32930   31   79          -  543.56523      -  10.4  195s\n",
      "  9403  5462  561.85137   27    -          -  543.56523      -  10.4  204s\n",
      "  9521  5526  562.31901   27   70          -  543.56523      -  10.4  208s\n",
      "  9630  5608  562.56758   32    -          -  543.56523      -  10.4  212s\n",
      "  9733  5647  562.62818   32   49          -  543.56523      -  10.4  216s\n",
      "  9854  5730  562.98537   32    -          -  543.67787      -  10.3  221s\n",
      "  9950  5822  563.30229   32    -          -  543.78044      -  10.4  225s\n",
      " 10189  5959  563.78993   32  109          -  543.87169      -  10.4  234s\n",
      " 10297  6055  551.13923   28    -          -  543.91276      -  10.4  238s\n",
      " 10404  6126  551.23699   28  202          -  543.96472      -  10.4  242s\n",
      " 10511  6192  558.30244   36   55          -  544.01848      -  10.5  247s\n",
      " 10624  6267  558.11473   37    -          -  544.03129      -  10.5  251s\n",
      " 10726  6346  558.30040   37   92          -  544.06188      -  10.5  256s\n",
      " 10854  6427  562.28895   42    -          -  544.10131      -  10.5  260s\n",
      " 10954  6473  562.38626   42    -          -  544.13570      -  10.5  267s\n",
      " 11054  6550  563.94814   42    -          -  544.21589      -  10.6  273s\n",
      " 11175  6626  565.04224   42   57          -  544.25950      -  10.6  278s\n",
      " 11282  6720  555.47870   31    -          -  544.26624      -  10.6  283s\n",
      " 11395  6778  556.21750   31    -          -  544.28131      -  10.6  288s\n",
      " 11509  6863  558.17931   31   67          -  544.34632      -  10.6  293s\n",
      " 11632  6914  561.85682   28    -          -  544.39679      -  10.6  298s\n",
      " 11699  6943  556.91753   30   39          -  544.43909      -  10.6  300s\n",
      "\n",
      "Cutting planes:\n",
      "  Gomory: 3\n",
      "  Lazy constraints: 2457\n",
      "\n",
      "Explored 11734 nodes (124805 simplex iterations) in 300.49 seconds\n",
      "Thread count was 4 (of 4 available processors)\n",
      "\n",
      "Solution count 0\n",
      "\n",
      "Time limit reached\n",
      "Best objective -, best bound 5.444390877451e+02, gap -\n",
      "\n",
      "User-callback calls 37273, time in user-callback 69.32 sec\n"
     ]
    }
   ],
   "source": [
    "# Se recomienda llamar a update() antes de resolver un modelo que usa restricciones lazy\n",
    "m.update()\n",
    "\n",
    "# Calcular la solucion optima\n",
    "m.optimize(mycallback)\n",
    "\n",
    "# Escribir la solucion\n",
    "if ((m.status == GRB.Status.OPTIMAL) or \n",
    "   (m.status == GRB.Status.SUBOPTIMAL)):\n",
    "    # Recuperar los valores de las variables\n",
    "    vx = m.getAttr('x', x)\n",
    "    print('\\nTour optimo:')\n",
    "    for i,j in A:\n",
    "        if vx[i,j] >= 0.9:\n",
    "            print('{} --> {}'.format(i, j))\n"
   ]
  },
  {
   "cell_type": "markdown",
   "metadata": {},
   "source": [
    "Si encontramos alguna solución factible, el siguiente fragmento de código nos permite graficarla."
   ]
  },
  {
   "cell_type": "code",
   "execution_count": 10,
   "metadata": {
    "scrolled": true
   },
   "outputs": [
    {
     "name": "stdout",
     "output_type": "stream",
     "text": [
      "[(1, 3), (2, 13), (3, 5), (4, 16), (5, 14), (6, 2), (7, 10), (8, 15), (9, 11), (10, 8), (11, 1), (12, 7), (13, 19), (14, 20), (15, 6), (16, 18), (17, 12), (18, 17), (19, 9), (20, 4)]\n"
     ]
    },
    {
     "data": {
      "image/png": "[encoded data removed]",
      "text/plain": [
       "<Figure size 1080x1080 with 1 Axes>"
      ]
     },
     "metadata": {
      "needs_background": "light"
     },
     "output_type": "display_data"
    }
   ],
   "source": [
    "# Crear lista con arcos seleccionados en la solucion\n",
    "vx = m.getAttr('x', x)\n",
    "L = [(i,j) for i,j in A if vx[i,j]>0.1]\n",
    "print(L)\n",
    "\n",
    "# Recuperar el tour como un ordenamiento de los nodos\n",
    "T = [1]\n",
    "# nodo actual:\n",
    "i = 1\n",
    "while True:\n",
    "    # Determinar sucesor de i\n",
    "    N = [j for j in V if (i,j) in L]\n",
    "    j = N.pop()\n",
    "    a = (i,j) \n",
    "    L.remove(a)\n",
    "    # Colocar sucesor en la lista del tour y actualizar i\n",
    "    T.append(j)\n",
    "    i = j\n",
    "    # Terminar cuando el nodo colocado sea 1\n",
    "    if i==1: break;\n",
    "        \n",
    "# Graficar el tour\n",
    "dibujarTour(coordx, coordy, T)    "
   ]
  },
  {
   "cell_type": "markdown",
   "metadata": {},
   "source": [
    "### Limitaciones:\n",
    "\n",
    "Como los planos cortantes se generan solamente cuando hay una solución entera, este método no consigue actualizar con suficiente frecuencia las cotas inferiores y la exploración del árbol de branch-and-bound se torna ineficiente. Necesitamos un método que nos permita separar restricciones de corte a partir de una solución fraccionaria, para poder aplicarlo en cada nodo del árbol de branch-and-bound.\n",
    "\n",
    "El problema de separar restricciones de corte a partir de una solución fraccionaria no es tan sencillo, pero puede reducirse a un problema de optimización combinatoria conocido: encontrar un corte de capacidad mínima en un grafo. El siguiente ejemplo ilustra una idea."
   ]
  },
  {
   "cell_type": "code",
   "execution_count": 19,
   "metadata": {},
   "outputs": [
    {
     "data": {
      "application/vnd.jupyter.widget-view+json": {
       "model_id": "f957f876b3c349ea85afc911041377f1",
       "version_major": 2,
       "version_minor": 0
      },
      "text/plain": [
       "CytoscapeWidget(cytoscape_layout={'name': 'cola'}, cytoscape_style=[{'selector': 'node', 'style': {'width': 15…"
      ]
     },
     "metadata": {},
     "output_type": "display_data"
    }
   ],
   "source": [
    "import networkx as nx\n",
    "import ipycytoscape\n",
    "\n",
    "# Ejemplo de solución fraccionaria del TSP\n",
    "# Nodos del grafo\n",
    "V = tuplelist(range(1,7))\n",
    "\n",
    "# Arcos (grafo completo)\n",
    "A = [(i,j) for i in V for j in V if i!=j]\n",
    "\n",
    "# Valores de las variables en la solución fraccionaria\n",
    "A1 = [(1,2), (3,1), (6,4), (5,6)]\n",
    "A2 = [(2,3), (2,5), (4,3), (4,5)]\n",
    "A3 = [(i,j) for (i,j) in A if (i,j) not in A1+A2 and (j,i) not in A1+A2]\n",
    "A = A1+A2+A3\n",
    "x={(i,j) : 1 if (i,j) in A1 else (0.5 if (i,j) in A2 else 0) for (i,j) in A}\n",
    "\n",
    "D = nx.DiGraph()\n",
    "D.add_nodes_from(V)\n",
    "for i in V:\n",
    "    D.nodes[i]['etiq']= str(i)\n",
    "D.add_edges_from(A)\n",
    "for i,j in A:\n",
    "    D.edges[i,j]['etiq'] = str(x[i,j]) if x[i,j]>0.1 else ''\n",
    "    D.edges[i,j]['color'] =  '#0000ff' if x[i,j]>=0.9 else ('#ff007f' if x[i,j]>=0.4 else '#e0e0e0')\n",
    "grafo = ipycytoscape.CytoscapeWidget()\n",
    "grafo.graph.add_graph_from_networkx(D, directed=True)\n",
    "grafo.set_style([{'selector': 'node', 'style' : {'width': 15, 'height' : 15, 'background-color': '#11479e', 'font-family': 'helvetica', 'font-size': '10px', 'color':'white', 'label': 'data(etiq)', 'text-wrap' : 'wrap', 'text-valign' : 'center'}}, \n",
    "                    {'selector': 'node:parent', 'css': {'background-opacity': 0.333}, 'style' : {'font-family': 'helvetica', 'font-size': '10px', 'label': 'data(etiq)'}}, \n",
    "                    {'selector': 'edge', 'style': {'width': 1, 'line-color': 'data(color)', 'font-size': '10px', 'label': 'data(etiq)', 'text-valign' : 'top', 'text-margin-y' : '-10px'}}, \n",
    "                    {'selector': 'edge.directed', 'style': {'curve-style': 'bezier', 'target-arrow-shape': 'triangle', 'target-arrow-color': 'data(color)'}}])\n",
    "grafo"
   ]
  },
  {
   "cell_type": "markdown",
   "metadata": {},
   "source": [
    "## Código completo\n",
    "\n",
    "Se reproduce a continuación el código completo del modelo anterior."
   ]
  },
  {
   "cell_type": "code",
   "execution_count": 24,
   "metadata": {},
   "outputs": [
    {
     "name": "stdout",
     "output_type": "stream",
     "text": [
      "Changed value of parameter LazyConstraints to 1\n",
      "   Prev: 0  Min: 0  Max: 1  Default: 0\n",
      "Changed value of parameter MIPGap to 0.1\n",
      "   Prev: 0.0001  Min: 0.0  Max: inf  Default: 0.0001\n",
      "Changed value of parameter TimeLimit to 180.0\n",
      "   Prev: inf  Min: 0.0  Max: inf  Default: inf\n",
      "Gurobi Optimizer version 9.0.2 build v9.0.2rc0 (mac64)\n",
      "Optimize a model with 40 rows, 380 columns and 760 nonzeros\n",
      "Model fingerprint: 0xcb500b63\n",
      "Variable types: 0 continuous, 380 integer (380 binary)\n",
      "Coefficient statistics:\n",
      "  Matrix range     [1e+00, 1e+00]\n",
      "  Objective range  [4e+00, 1e+02]\n",
      "  Bounds range     [1e+00, 1e+00]\n",
      "  RHS range        [1e+00, 1e+00]\n",
      "Presolve time: 0.01s\n",
      "Presolved: 40 rows, 380 columns, 760 nonzeros\n",
      "Variable types: 0 continuous, 380 integer (380 binary)\n",
      "\n",
      "Root relaxation: objective 2.572960e+02, 30 iterations, 0.00 seconds\n",
      "\n",
      "    Nodes    |    Current Node    |     Objective Bounds      |     Work\n",
      " Expl Unexpl |  Obj  Depth IntInf | Incumbent    BestBd   Gap | It/Node Time\n",
      "\n",
      "     0     0  315.18775    0   10          -  315.18775      -     -    0s\n",
      "H    0     0                     315.5153791  315.18775  0.10%     -    0s\n",
      "\n",
      "Cutting planes:\n",
      "  Lazy constraints: 14\n",
      "\n",
      "Explored 1 nodes (81 simplex iterations) in 0.18 seconds\n",
      "Thread count was 4 (of 4 available processors)\n",
      "\n",
      "Solution count 1: 315.515 \n",
      "\n",
      "Optimal solution found (tolerance 1.00e-01)\n",
      "Best objective 3.155153791301e+02, best bound 3.151877507825e+02, gap 0.1038%\n",
      "\n",
      "User-callback calls 79, time in user-callback 0.07 sec\n",
      "\n",
      "Tour optimo:\n",
      "1 --> 12\n",
      "2 --> 17\n",
      "3 --> 8\n",
      "4 --> 10\n",
      "5 --> 4\n",
      "6 --> 13\n",
      "7 --> 19\n",
      "8 --> 2\n",
      "9 --> 1\n",
      "10 --> 18\n",
      "11 --> 7\n",
      "12 --> 3\n",
      "13 --> 15\n",
      "14 --> 9\n",
      "15 --> 14\n",
      "16 --> 11\n",
      "17 --> 20\n",
      "18 --> 16\n",
      "19 --> 6\n",
      "20 --> 5\n"
     ]
    },
    {
     "data": {
      "image/png": "[encoded data removed]",
      "text/plain": [
       "<Figure size 1080x1080 with 1 Axes>"
      ]
     },
     "metadata": {
      "needs_background": "light"
     },
     "output_type": "display_data"
    }
   ],
   "source": [
    "# Implementación de modelos lineales enteros\n",
    "# Problema del agente viajero asimétrico (ATSP)\n",
    "# Implementación con desigualdades lazy\n",
    "\n",
    "# Luis M. Torres (EPN 2020)\n",
    "\n",
    "from gurobipy import *\n",
    "import random as rm\n",
    "import matplotlib.pyplot as plt\n",
    "\n",
    "def dibujarTour(coordx, coordy, tour):\n",
    "    x = [coordx[i] for i in tour]\n",
    "    y = [coordy[i] for i in tour]\n",
    "    plt.figure(figsize=(15, 15))\n",
    "    plt.plot(x, y, 'ro')\n",
    "    Tx = [coordx[i] for i in tour]\n",
    "    Ty = [coordy[i] for i in tour]\n",
    "    Tx.append(coordx[tour[0]])\n",
    "    Ty.append(coordy[tour[0]])\n",
    "    plt.plot(Tx, Ty, 'b-')\n",
    "    plt.show()\n",
    "\n",
    "# Funcion callback para la separacion de restricciones de corte\n",
    "def mycallback(model, where):\n",
    "    # Esta funcion se activara cuando se encuentre una nueva solucion entera\n",
    "    if where == GRB.Callback.MIPSOL:\n",
    "        # Recuperar los valores de la solucion actual\n",
    "        vx = model.cbGetSolution(model._x)\n",
    "        # Determinar los arcos seleccionados en la solucion\n",
    "        L = [(i,j) for (i,j) in model._A if vx[i,j]>=0.9]\n",
    "        # Construir la lista W de nodos que pueden ser alcanzados desde 1\n",
    "        W = [1]\n",
    "        i = 1\n",
    "        while True :\n",
    "            N = [k for k in model._V if (i,k) in L]\n",
    "            if len(N)>1:\n",
    "                print(\"Error en desigualdad de grado:\")\n",
    "                for k in N:\n",
    "                    print(\"{}-->{}: {}\".format(i,k, vx[i,k]))\n",
    "            j = N.pop()\n",
    "            a = (i,j) \n",
    "            L.remove(a)\n",
    "            if j==1: break\n",
    "            W.append(j)\n",
    "            i = j\n",
    "        # Si W!=V, agregar la desigualdad de corte asociada a W\n",
    "        if len(W)!=len(model._V):\n",
    "            Wc = [i for i in model._V if i not in W]\n",
    "            model.cbLazy(model._x.sum(W, Wc) >= 1)\n",
    "    \n",
    "# Numero de nodos del grafo\n",
    "n = 20\n",
    "\n",
    "# Nodos del grafo\n",
    "V = tuplelist(range(1,n+1))\n",
    "\n",
    "# Posiciones de los nodos en un plano euclideano entre (0,0) y (100, 100)\n",
    "coordx={i : rm.randint(0,100) for i in V}\n",
    "coordy={i : rm.randint(0,100) for i in V}\n",
    "\n",
    "# los costos son las distancias eculideanas\n",
    "c = tupledict({\n",
    "    (i,j) : math.sqrt((coordx[i] - coordx[j])**2 + (coordy[i] - coordy[j])**2)\n",
    "    for i in V for j in V if i!=j\n",
    "})\n",
    "A = c.keys()\n",
    "\n",
    "try:\n",
    "    # Crear el objeto modelo\n",
    "    m = Model('atsp-corte-lazy')\n",
    "\n",
    "    # Crear las variables\n",
    "    x = m.addVars(A, name=\"x\", vtype=GRB.BINARY)\n",
    "\n",
    "    # Crear la funcion objetivo\n",
    "    m.setObjective(x.prod(c,'*'), GRB.MINIMIZE)\n",
    "\n",
    "    # Crear variables en el objeto modelo para tener acceso a x, V y A\n",
    "    m._x = x\n",
    "    m._V = V\n",
    "    m._A = A\n",
    "\n",
    "    # Restricciones de grado saliente\n",
    "    m.addConstrs((x.sum(i,'*') == 1 for i in V), \"g_saliente\")\n",
    "\n",
    "    # Restricciones de grado entrante\n",
    "    m.addConstrs((x.sum('*', i) == 1 for i in V), \"g_entrante\")\n",
    "\n",
    "    # Escribir el modelo a un archivo\n",
    "    # m.write('atsp-corte-lazy.lp')\n",
    "\n",
    "    # Configurar Gurobi para usar restricciones lazy\n",
    "    m.Params.LazyConstraints = 1\n",
    "\n",
    "    # Terminar al alcanzar un Gap del 10%\n",
    "    m.Params.MIPGap = 0.1\n",
    "\n",
    "    # Terminar luego de 180 segundos\n",
    "    m.Params.TimeLimit = 180\n",
    "\n",
    "    # Se recomienda llamar a update() antes de resolver un modelo que usa restricciones lazy\n",
    "    m.update()\n",
    "\n",
    "    # Calcular la solucion optima\n",
    "    m.optimize(mycallback)\n",
    "\n",
    "    # Escribir la solucion\n",
    "    if ((m.status == GRB.Status.OPTIMAL) or \n",
    "       (m.status == GRB.Status.SUBOPTIMAL)):\n",
    "        # Recuperar los valores de las variables\n",
    "        vx = m.getAttr('x', x)\n",
    "        print('\\nTour optimo:')\n",
    "        for i,j in A:\n",
    "            if vx[i,j] > 0:\n",
    "                print('{} --> {}'.format(i, j))\n",
    "\n",
    "        # Recuperar el tour como un ordenamiento de los nodos\n",
    "        L = [(i,j) for i,j in A if vx[i,j]>=0.9]\n",
    "        T = [1]\n",
    "        i = 1\n",
    "        while True:\n",
    "            # Determinar sucesor de i\n",
    "            N = [j for j in V if (i,j) in L]\n",
    "            j = N.pop()\n",
    "            a = (i,j) \n",
    "            L.remove(a)\n",
    "            # Colocar sucesor en la lista del tour y actualizar i\n",
    "            T.append(j)\n",
    "            i = j\n",
    "            # Terminar cuando el nodo colocado sea 1\n",
    "            if i==1: break;\n",
    "        # Graficar el tour\n",
    "        dibujarTour(coordx, coordy, T)        \n",
    "        \n",
    "except GurobiError as e:\n",
    "    print('Se produjo un error de Gurobi: codigo: ' + str(e.errno) + \": \" + str(e))\n",
    "\n",
    "except AttributeError:\n",
    "    print('Se produjo un error de atributo')"
   ]
  },
  {
   "cell_type": "code",
   "execution_count": null,
   "metadata": {},
   "outputs": [],
   "source": []
  }
 ],
 "metadata": {
  "kernelspec": {
   "display_name": "Python 3",
   "language": "python",
   "name": "python3"
  },
  "language_info": {
   "codemirror_mode": {
    "name": "ipython",
    "version": 3
   },
   "file_extension": ".py",
   "mimetype": "text/x-python",
   "name": "python",
   "nbconvert_exporter": "python",
   "pygments_lexer": "ipython3",
   "version": "3.7.6"
  }
 },
 "nbformat": 4,
 "nbformat_minor": 2
}
