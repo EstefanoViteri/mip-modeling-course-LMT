{
 "cells": [
  {
   "cell_type": "markdown",
   "metadata": {},
   "source": [
    "# Cuaderno 9: Planificación de horarios de clase (Timetabling)\n",
    "\n",
    "$\\newcommand{\\card}[1]{\\left| #1 \\right|}$\n",
    "$\\newcommand{\\ZZ}{\\mathbb{Z}_+}$\n",
    "$\\newcommand{\\tabulatedset}[1]{\\left\\{ #1 \\right\\}}$\n",
    "\n",
    "El problema de planificación de horarios de clase es parte de las tareas periódicas que realizan las instituciones educativas para programar sus actividades de docencia. Este problema consiste en asignar sesiones de clase a períodos en la semana y a aulas, de tal forma que se eviten cruces de horario para profesores y alumnos, y se respeten restricciones adicionales como el número de aulas disponibles, su capacidad, la disponibilidad de horario de los profesores, criterios de precedencia entre algunas materias, disponibilidad de instalaciones especiales como laboratorios y canchas deportivas, entre otras. Generalmente, el número de restricciones es grande y varía mucho entre las diferentes instituciones educativas. Se distinguen en la literatura dos clases de problemas: el problema de generación de horarios para colegios y el problema de generación de horarios para universidades.\n",
    "\n",
    "En ambas casos, se ha adoptado una forma estándar de modelar los problemas de planificación de horarios de clase a través de *restricciones fuertes* y *restricciones débiles*. Las restricciones fuertes son aquellas que deben cumplirse en toda solución factible del problema, mientras que las restricciones débiles pueden ser violadas, aunque se busca construir soluciones que las satisfagan en el mayor grado posible. Al formular este problema como un modelo de programación lineal entera, las restricciones fuertes corresponden a restricciones del modelo, mientras que las restricciones débiles deben ser expresadas en la función objetivo del mismo.\n",
    "\n",
    "Como ejemplo, vamos a considerar el siguiente problema de planificación de horarios en un colegio:\n",
    "\n",
    "**Restricciones fuertes**\n",
    "\n",
    "* El horario de clases debe programarse para los niveles II y III de bachillerato. \n",
    "\n",
    "* Cada sesión de clase debe programarse para ser dictada en algún día entre lunes y viernes, en uno de cuatro períodos diarios posibles:  07:00-08:30, 08:30-10:00, 10:00-11:30 ó 11:30-13:00.\n",
    "\n",
    "* La siguiente tabla muestra las asignaturas que deben programarse, indicando para cada asignatura el nivel al que corresponde, el número de sesiones de clases semanales que deben programarse y el profesor que la dictará:\n",
    "\n",
    "| Asignatura            | Nivel | Núm. sesiones | Profesor |\n",
    "|-----------------------|-------|---------------|----------|\n",
    "| Matemáticas II        | II    | 5             | Luis     |\n",
    "| Literatura II         | II    | 5             | Carla    |\n",
    "| Ciencias sociales II  | II    | 3             | Alberto  |\n",
    "| Biología II           | II    | 3             | Paula    |\n",
    "| Artes II              | II    | 3             | Daniel   |\n",
    "| Matemáticas III       | III   | 5             | Luis     |\n",
    "| Literatura III        | III   | 5             | Carla    |\n",
    "| Ciencias sociales III | III   | 3             | Alberto  |\n",
    "| Biología III          | III   | 3             | Paula    |\n",
    "| Artes III             | III   | 3             | Daniel   |\n",
    "\n",
    "* Dos clases asignadas a un mismo profesor no pueden programarse en el mismo día y en el mismo período (evitar cruces para profesores). \n",
    "\n",
    "* Dos clases correspondientes al mismo nivel no pueden programarse en el mismo día y en el mismo período (evitar cruces para niveles). \n",
    "\n",
    "* No es posible programar más de una sesión de clases de una misma asignatura en un mismo día.\n",
    "\n",
    "* No es necesario programar la asignación de aulas en el modelo, pues se dispone de dos aulas, cada una de las cuales se utilizará para todas las clases de un nivel.\n",
    "\n",
    "**Restricciones débiles**\n",
    "\n",
    "Consideraremos una única restricción débil:\n",
    "\n",
    "* Las materias de artes deberían dictarse únicamente en los tres últimos días de la semana; las materias de biología deberían dictarse únicamente en los tres primeros días de la semana.\n",
    "\n",
    "### Formulación del modelo\n",
    "\n",
    "**Conjuntos y parámetros**\n",
    "\n",
    "* Denotaremos por $L:=\\{II, III\\}$ al conjunto de niveles. \n",
    "* Denotaremos por $D$ y por $P$ al conjunto de días hábiles para la programación y conjunto de períodos diarios, respectivamente. Adicionalmente, los conjuntos $D_1, D_2 \\subset D$ están formados por los dos primeros y los dos últimos días de la semana, respectivamente.\n",
    "* Llamaremos $S$ al conjunto de todas las asignaturas. Los conjuntos $S_A$ y $S_B$ contienen las asignaturas de artes y biología, respectivamente.\n",
    "* Emplearemos $T$ para designar al conjunto de los profesores. \n",
    "* Para cada asignatura $s \\in S$, el parámetro $n_s \\in \\ZZ$ denotará el número de sesiones que deben dictarse de esa asignatura cada semana.\n",
    "* El parámetro binario $a_{st}$, con $s \\in S$ y $t \\in T$, indica si el profesor $t$ está asignado para dictar las clases de la asignatura $s$ ($a_{st}=1$).\n",
    "* El parámetro binario $b_{sl}$, con $s \\in S$ y $l \\in L$, indica si la asignatura $s$ pertenece al nivel $l$ ($b_{sl}=1$).\n",
    "\n",
    "**Variables de decisión**\n",
    "\n",
    "Emplearemos variables de decisión binarias $x_{spd}$ que indican si una sesión de clase correspondiente a la asignatura $s \\in S$ es programada para dictarse en el período $p \\in P$ en el día $d \\in D$.\n",
    "\n",
    "Con estas definiciones, el problema puede ser formulado como el siguiente programa lineal entero:\n",
    "\n",
    "\\begin{align*}\n",
    "\\min &\\sum_{p \\in P} \\sum_{s \\in S_A} \\sum_{d \\in D_1} x_{spd}  + \\sum_{p \\in P} \\sum_{s \\in S_B} \\sum_{d \\in D_2} x_{spd}\\\\ \n",
    "& \\mbox{s.r.}\\\\\n",
    "& \\sum_{p \\in P} \\sum_{d \\in D} x_{spd} = n_s, \\quad \\forall s \\in S, \\\\\n",
    "& \\sum_{p \\in P} x_{spd} \\leq 1, \\quad \\forall s \\in S, d \\in D, \\\\\n",
    "& \\sum_{s \\in S} a_{st} x_{spd} \\leq 1, \\quad \\forall t \\in T, p \\in P, d \\in D,\\\\\n",
    "& \\sum_{s \\in S} b_{sl} x_{spd} \\leq 1, \\quad \\forall l \\in L, p \\in P, d \\in D,\\\\\n",
    "&x_{spd} \\in \\{0, 1\\}, \\quad \\forall s \\in S, p \\in P, d \\in D.\n",
    "\\end{align*}\n",
    "\n",
    "La función objetivo mide las violaciones de la restricción débil. El primer término contabiliza el número de sesiones de las materias de artes que se dictan en los dos primeros días de la semana, mientras que el segundo término cuenta el número de sesiones de las asignaturas de biología que se dictan en los dos últimos días de la semana.\n",
    "\n",
    "La primera familia de restricciones requiere que para cada asignatura $s \\in S$ se programen exactamente $n_s$ sesiones de clase a la semana.\n",
    "\n",
    "La segunda familia de restricciones estipula que para ninguna asignatura pueden programarse más de una sesión en un mismo día.\n",
    "\n",
    "La tercera familia de restricciones evita los cruces de horario de materias dictadas por el mismo profesor.\n",
    "\n",
    "La cuarta familia de restricciones evita los cruces de horario de materias correspondientes a un mismo nivel.\n",
    "\n",
    "Vamos a implementar este programa utilizando la interfaz Python de Gurobi."
   ]
  },
  {
   "cell_type": "markdown",
   "metadata": {},
   "source": [
    "Definimos primero los conjuntos de entidades del ejemplo:"
   ]
  },
  {
   "cell_type": "code",
   "execution_count": null,
   "metadata": {},
   "outputs": [],
   "source": [
    "import gurobipy as gp\n",
    "from gurobipy import GRB\n",
    "\n",
    "# Conjuntos del modelo\n",
    "\n",
    "# Conjunto de niveles\n",
    "L = ['II', 'III']\n",
    "# Conjunto de días\n",
    "D = ['Lunes', 'Martes', 'Miércoles', 'Jueves', 'Viernes']\n",
    "# Conjunto de períodos\n",
    "P = ['07:00-8:30', '08:30-10:00', '10:00-11:30', '11:30-13:00']\n",
    "# Conjunto de asignaturas\n",
    "S = ['Matemáticas II', 'Literatura II', 'Ciencias sociales II', \n",
    "     'Biología II', 'Artes II', 'Matemáticas III', 'Literatura III',\n",
    "     'Ciencias sociales III', 'Biología III', 'Artes III']\n",
    "# Conjunto de profesores\n",
    "T = ['Luis', 'Carla', 'Alberto', 'Paula', 'Daniel']\n"
   ]
  },
  {
   "cell_type": "markdown",
   "metadata": {},
   "source": [
    "Aunque el API Python de Gurobi permite usar listas con elementos de cualquier tipo para indexar parámetros y variables en el modelo, a menudo esto trae consigo efectos no deseados, como errores al llamar a ciertas funciones cuando los elementos de las listas incluyen caracteres especiales. \n",
    "\n",
    "Por este motivo, en lugar de indexar los parámetros y variables de nuestro modelo directamente con los conjuntos definidos arriba, vamos a crear conjuntos de índices asociados a los mismos, los cuales contienen valores eneteros no negativos correspondientes a los índices de los elementos de cada lista. Denotaremos por `ixA` al conjunto de índices asociado al conjunto `A`."
   ]
  },
  {
   "cell_type": "code",
   "execution_count": null,
   "metadata": {},
   "outputs": [],
   "source": [
    "# Conjuntos de índices\n",
    "ixL = range(len(L))\n",
    "ixD = range(len(D))\n",
    "ixP = range(len(P))\n",
    "ixS = range(len(S))\n",
    "ixT = range(len(T))\n",
    "\n",
    "# índices correspondientes a los dos primeros y dos últimos días de la semana\n",
    "ixD1 = [0, 1]\n",
    "ixD2 = [3, 4]\n",
    "\n",
    "# índices correspondientes a las materias de arte\n",
    "ixSA = [4, 9]\n",
    "# índices correspondientes a las materias de biología\n",
    "ixSB = [3, 8]\n"
   ]
  },
  {
   "cell_type": "markdown",
   "metadata": {},
   "source": [
    "Definimos ahora los parámetros del modelo:"
   ]
  },
  {
   "cell_type": "code",
   "execution_count": null,
   "metadata": {},
   "outputs": [],
   "source": [
    "# Parámetros del modelo\n",
    "# Número de clases semanales por materia\n",
    "n = {0 : 5, 1 : 5, 2 : 3, 3 : 3, 4 : 3,\n",
    "     5 : 5, 6 : 5, 7 : 3, 8 : 3, 9 : 3}\n",
    "\n",
    "# Asignación de profesores a materias\n",
    "a = {(0, 0) : 1, (0, 1) : 0, (0, 2) : 0, (0, 3) :0, (0, 4) : 0,\n",
    "     (1, 0) : 0, (1, 1) : 1, (1, 2) : 0, (1, 3) :0, (1, 4) : 0,\n",
    "     (2, 0) : 0, (2, 1) : 0, (2, 2) : 1, (2, 3) :0, (2, 4) : 0,\n",
    "     (3, 0) : 0, (3, 1) : 0, (3, 2) : 0, (3, 3) :1, (3, 4) : 0,\n",
    "     (4, 0) : 0, (4, 1) : 0, (4, 2) : 0, (4, 3) :0, (4, 4) : 1,\n",
    "     (5, 0) : 1, (5, 1) : 0, (5, 2) : 0, (5, 3) :0, (5, 4) : 0,\n",
    "     (6, 0) : 0, (6, 1) : 1, (6, 2) : 0, (6, 3) :0, (6, 4) : 0,\n",
    "     (7, 0) : 0, (7, 1) : 0, (7, 2) : 1, (7, 3) :0, (7, 4) : 0,\n",
    "     (8, 0) : 0, (8, 1) : 0, (8, 2) : 0, (8, 3) :1, (8, 4) : 0,\n",
    "     (9, 0) : 0, (9, 1) : 0, (9, 2) : 0, (9, 3) :0, (9, 4) : 1}\n",
    "\n",
    "# Correspondencia de materias a niveles\n",
    "b = {(0, 0) : 1, (0, 1) : 0,\n",
    "     (1, 0) : 1, (1, 1) : 0,\n",
    "     (2, 0) : 1, (2, 1) : 0,\n",
    "     (3, 0) : 1, (3, 1) : 0,\n",
    "     (4, 0) : 1, (4, 1) : 0,\n",
    "     (5, 0) : 0, (5, 1) : 1,\n",
    "     (6, 0) : 0, (6, 1) : 1,\n",
    "     (7, 0) : 0, (7, 1) : 1,\n",
    "     (8, 0) : 0, (8, 1) : 1,\n",
    "     (9, 0) : 0, (9, 1) : 1}\n"
   ]
  },
  {
   "cell_type": "markdown",
   "metadata": {},
   "source": [
    "Definimos ahora el objeto modelo y las variables del modelo:"
   ]
  },
  {
   "cell_type": "code",
   "execution_count": null,
   "metadata": {},
   "outputs": [],
   "source": [
    "m = gp.Model('timetabling')\n",
    "\n",
    "# variables de asignación de asignatura a período y día\n",
    "x = m.addVars(ixS, ixP, ixD, vtype = GRB.BINARY, name=\"x\")\n"
   ]
  },
  {
   "cell_type": "markdown",
   "metadata": {},
   "source": [
    "Construimos la función objetivo a partir de sus dos términos:"
   ]
  },
  {
   "cell_type": "code",
   "execution_count": null,
   "metadata": {},
   "outputs": [],
   "source": [
    "# violación de la restricción débil de materias de artes\n",
    "c_artes = x.sum(ixSA, '*', ixD1)\n",
    "\n",
    "# violación de la restricción débil de materias de biología\n",
    "c_biologia = x.sum(ixSB, '*', ixD2)\n",
    "\n",
    "m.setObjective(c_artes + c_biologia, GRB.MINIMIZE)"
   ]
  },
  {
   "cell_type": "markdown",
   "metadata": {},
   "source": [
    "Finalmente, implementamos las restricciones del modelo:\n",
    "1. Asignar el número de sesiones de clase estipuladas para cada materia:"
   ]
  },
  {
   "cell_type": "code",
   "execution_count": null,
   "metadata": {},
   "outputs": [],
   "source": [
    "# Sesiones de clase por materia\n",
    "m.addConstrs((x.sum(s,'*','*')==n[s] for s in ixS), \"num_sesiones\")\n"
   ]
  },
  {
   "cell_type": "markdown",
   "metadata": {},
   "source": [
    "2. No asignar más de una sesión de clase diaria por cada materia:"
   ]
  },
  {
   "cell_type": "code",
   "execution_count": null,
   "metadata": {},
   "outputs": [],
   "source": [
    "# Sesiones de clase diarias por materia\n",
    "m.addConstrs((x.sum(s,'*',d)<=1 for s in ixS for d in ixD), \"sesiones_diarias\")\n"
   ]
  },
  {
   "cell_type": "markdown",
   "metadata": {},
   "source": [
    "3. Evitar cruces de horario para profesores: "
   ]
  },
  {
   "cell_type": "code",
   "execution_count": null,
   "metadata": {},
   "outputs": [],
   "source": [
    "# Evitar cruces de horario de profesores\n",
    "m.addConstrs((gp.quicksum(a[s,t]*x[s,p,d] for s in ixS)<=1 for t in ixT for p in ixP for d in ixD), \"cruce_prof\")\n"
   ]
  },
  {
   "cell_type": "markdown",
   "metadata": {},
   "source": [
    "4. Evitar cruces de horario para materias de un mismo nivel:"
   ]
  },
  {
   "cell_type": "code",
   "execution_count": null,
   "metadata": {},
   "outputs": [],
   "source": [
    "# Evitar cruces de horario de niveles\n",
    "m.addConstrs((gp.quicksum(b[s,l]*x[s,p,d] for s in ixS)<=1 for l in ixL for p in ixP for d in ixD), \"cruce_nivel\")\n"
   ]
  },
  {
   "cell_type": "markdown",
   "metadata": {},
   "source": [
    "Resolvemos el modelo:"
   ]
  },
  {
   "cell_type": "code",
   "execution_count": null,
   "metadata": {},
   "outputs": [],
   "source": [
    "m.optimize()"
   ]
  },
  {
   "cell_type": "markdown",
   "metadata": {},
   "source": [
    "Mostramos la solución: horarios para cada nivel"
   ]
  },
  {
   "cell_type": "code",
   "execution_count": null,
   "metadata": {},
   "outputs": [],
   "source": [
    "from tabulate import tabulate\n",
    "\n",
    "# Extraer valores de las variables\n",
    "vx = m.getAttr('x', x)\n",
    "\n",
    "\n",
    "# Mostrar tabla con los horarios de cada nivel\n",
    "print('*** Horarios ***')\n",
    "for l in ixL:\n",
    "    tabla = []\n",
    "    for p in ixP:\n",
    "        fila = [P[p]]\n",
    "        for d in ixD:\n",
    "            materia = ''\n",
    "            for s in ixS:\n",
    "                if vx[s,p,d]>=0.9 and b[s,l]==1:\n",
    "                    materia = S[s]\n",
    "            fila.append(materia)\n",
    "        tabla.append(fila)\n",
    "    print('\\nNivel {}'.format(L[l]))\n",
    "    encab = ['Horas'] + [D[d] for d in ixD]\n",
    "    print(tabulate(tabla, headers=encab))\n",
    "    # print(encab)\n",
    "    # print(tabla)\n"
   ]
  },
  {
   "cell_type": "markdown",
   "metadata": {},
   "source": [
    "Alternativamente, es posible mostrar los horarios de cada profesor:"
   ]
  },
  {
   "cell_type": "code",
   "execution_count": null,
   "metadata": {},
   "outputs": [],
   "source": [
    "# Mostrar tabla con los horarios de cada profesor\n",
    "print('*** Horarios ***')\n",
    "for t in ixT:\n",
    "    tabla = []\n",
    "    for p in ixP:\n",
    "        fila = [P[p]]\n",
    "        for d in ixD:\n",
    "            materia = ''\n",
    "            for s in ixS:\n",
    "                if vx[s,p,d]>=0.9 and a[s,t]==1:\n",
    "                    materia = S[s]\n",
    "            fila.append(materia)\n",
    "        tabla.append(fila)\n",
    "    print('\\nProfesor: {}'.format(T[t]))\n",
    "    encab = ['Horas'] + [D[d] for d in ixD]\n",
    "    print(tabulate(tabla, headers=encab))\n"
   ]
  },
  {
   "cell_type": "markdown",
   "metadata": {},
   "source": [
    "### Más información: Estudio de caso EPN\n",
    "\n",
    "Un modelo de programación lineal entera para el cálculo de horarios de clase bajo las condiciones particulares de la Escuela Politécnica Nacional, y su aplicación a la Facultad de Ciencias y a la Facultad de Ingeniería Química e Agroindustria está descrito en [este reporte técnico](https://storage.googleapis.com/reportes_tecnicos/TorresTorresTimeTable.pdf). "
   ]
  },
  {
   "cell_type": "markdown",
   "metadata": {},
   "source": [
    "## Código completo\n",
    "\n",
    "Se reproduce a continuación el código completo del modelo anterior."
   ]
  },
  {
   "cell_type": "code",
   "execution_count": null,
   "metadata": {},
   "outputs": [],
   "source": [
    "# Curso de implementación de programas lineales enteros\n",
    "# Ejemplo: Modelo de planificación de horarios de clase\n",
    "# EPN (2022)\n",
    "\n",
    "from tabulate import tabulate\n",
    "import gurobipy as gp\n",
    "from gurobipy import GRB\n",
    "try:\n",
    "    # Conjuntos del modelo\n",
    "    # Conjunto de niveles\n",
    "    L = ['I', 'II']\n",
    "    # Conjunto de días\n",
    "    D = ['Lunes', 'Martes', 'Miércoles', 'Jueves', 'Viernes']\n",
    "    # Conjunto de períodos\n",
    "    P = ['07:00-8:30', '08:30-10:00', '10:00-11:30', '11:30-13:00']\n",
    "    # Conjunto de asignaturas\n",
    "    S = ['Matemáticas II', 'Literatura II', 'Ciencias sociales II', \n",
    "         'Biología II', 'Artes II', 'Matemáticas III', 'Literatura III',\n",
    "         'Ciencias sociales III', 'Biología III', 'Artes III']\n",
    "    # Conjunto de profesores\n",
    "    T = ['Luis', 'Carla', 'Alberto', 'Paula', 'Daniel']\n",
    "    \n",
    "    # Conjuntos de índices\n",
    "    ixL = range(len(L))\n",
    "    ixD = range(len(D))\n",
    "    ixP = range(len(P))\n",
    "    ixS = range(len(S))\n",
    "    ixT = range(len(T))\n",
    "\n",
    "    # índices correspondientes a los dos primeros y dos últimos días de la semana\n",
    "    ixD1 = [0, 1]\n",
    "    ixD2 = [3, 4]\n",
    "\n",
    "    # índices correspondientes a las materias de arte\n",
    "    ixSA = [4, 9]\n",
    "    # índices correspondientes a las materias de biología\n",
    "    ixSB = [3, 8]\n",
    "\n",
    "    # Parámetros del modelo\n",
    "    # Número de clases semanales por materia\n",
    "    n = {0 : 5, 1 : 5, 2 : 3, 3 : 3, 4 : 3,\n",
    "         5 : 5, 6 : 5, 7 : 3, 8 : 3, 9 : 3}\n",
    "\n",
    "    # Asignación de profesores a materias\n",
    "    a = {(0, 0) : 1, (0, 1) : 0, (0, 2) : 0, (0, 3) :0, (0, 4) : 0,\n",
    "         (1, 0) : 0, (1, 1) : 1, (1, 2) : 0, (1, 3) :0, (1, 4) : 0,\n",
    "         (2, 0) : 0, (2, 1) : 0, (2, 2) : 1, (2, 3) :0, (2, 4) : 0,\n",
    "         (3, 0) : 0, (3, 1) : 0, (3, 2) : 0, (3, 3) :1, (3, 4) : 0,\n",
    "         (4, 0) : 0, (4, 1) : 0, (4, 2) : 0, (4, 3) :0, (4, 4) : 1,\n",
    "         (5, 0) : 1, (5, 1) : 0, (5, 2) : 0, (5, 3) :0, (5, 4) : 0,\n",
    "         (6, 0) : 0, (6, 1) : 1, (6, 2) : 0, (6, 3) :0, (6, 4) : 0,\n",
    "         (7, 0) : 0, (7, 1) : 0, (7, 2) : 1, (7, 3) :0, (7, 4) : 0,\n",
    "         (8, 0) : 0, (8, 1) : 0, (8, 2) : 0, (8, 3) :1, (8, 4) : 0,\n",
    "         (9, 0) : 0, (9, 1) : 0, (9, 2) : 0, (9, 3) :0, (9, 4) : 1}\n",
    "\n",
    "    # Correspondencia de materias a niveles\n",
    "    b = {(0, 0) : 1, (0, 1) : 0,\n",
    "         (1, 0) : 1, (1, 1) : 0,\n",
    "         (2, 0) : 1, (2, 1) : 0,\n",
    "         (3, 0) : 1, (3, 1) : 0,\n",
    "         (4, 0) : 1, (4, 1) : 0,\n",
    "         (5, 0) : 0, (5, 1) : 1,\n",
    "         (6, 0) : 0, (6, 1) : 1,\n",
    "         (7, 0) : 0, (7, 1) : 1,\n",
    "         (8, 0) : 0, (8, 1) : 1,\n",
    "         (9, 0) : 0, (9, 1) : 1}\n",
    "\n",
    "    # Objeto modelo\n",
    "    m = gp.Model('timetabling')\n",
    "    \n",
    "    # variables de asignación de asignatura a período y día\n",
    "    x = m.addVars(ixS, ixP, ixD, vtype = GRB.BINARY, name=\"x\")\n",
    "    \n",
    "    # Función objetivo\n",
    "    # violación de la restricción débil de materias de artes\n",
    "    c_artes = x.sum(ixSA, '*', ixD1)\n",
    "    # violación de la restricción débil de materias de biología\n",
    "    c_biologia = x.sum(ixSB, '*', ixD2)\n",
    "    m.setObjective(c_artes + c_biologia, GRB.MINIMIZE)\n",
    "\n",
    "    # Restricciones\n",
    "    # Sesiones de clase por materia\n",
    "    m.addConstrs((x.sum(s,'*','*')==n[s] for s in ixS), \"num_sesiones\")\n",
    "    \n",
    "    # Sesiones de clase diarias por materia\n",
    "    m.addConstrs((x.sum(s,'*',d)<=1 for s in ixS for d in ixD), \"sesiones_diarias\")\n",
    "\n",
    "    # Evitar cruces de horario de profesores\n",
    "    m.addConstrs((gp.quicksum(a[s,t]*x[s,p,d] for s in ixS)<=1 for t in ixT for p in ixP for d in ixD), \"cruce_prof\")\n",
    "\n",
    "    # Evitar cruces de horario de niveles\n",
    "    m.addConstrs((gp.quicksum(b[s,l]*x[s,p,d] for s in ixS)<=1 for l in ixL for p in ixP for d in ixD), \"cruce_nivel\")\n",
    "    \n",
    "    m.optimize()\n",
    "    \n",
    "     # Extraer valores de las variables\n",
    "    vx = m.getAttr('x', x)\n",
    "\n",
    "    # Mostrar tabla con los horarios de cada nivel\n",
    "    print('*** Horarios por nivel ***')\n",
    "    for l in ixL:\n",
    "        tabla = []\n",
    "        for p in ixP:\n",
    "            fila = [P[p]]\n",
    "            for d in ixD:\n",
    "                materia = ''\n",
    "                for s in ixS:\n",
    "                    if vx[s,p,d]>=0.9 and b[s,l]==1:\n",
    "                        materia = S[s]\n",
    "                fila.append(materia)\n",
    "            tabla.append(fila)\n",
    "        print('\\nNivel {}'.format(L[l]))\n",
    "        encab = ['Horas'] + [D[d] for d in ixD]\n",
    "        print(tabulate(tabla, headers=encab))\n",
    "\n",
    "     # Mostrar tabla con los horarios de cada profesor\n",
    "    print('*** Horarios por profesor ***')\n",
    "    for t in ixT:\n",
    "        tabla = []\n",
    "        for p in ixP:\n",
    "            fila = [P[p]]\n",
    "            for d in ixD:\n",
    "                materia = ''\n",
    "                for s in ixS:\n",
    "                    if vx[s,p,d]>=0.9 and a[s,t]==1:\n",
    "                        materia = S[s]\n",
    "                fila.append(materia)\n",
    "            tabla.append(fila)\n",
    "        print('\\nProfesor: {}'.format(T[t]))\n",
    "        encab = ['Horas'] + [D[d] for d in ixD]\n",
    "        print(tabulate(tabla, headers=encab))\n",
    "\n",
    "except GurobiError as e:\n",
    "    print('Se produjo un error de Gurobi: codigo: ' + str(e.errno) + \": \" + str(e))\n",
    "\n",
    "except AttributeError:\n",
    "    print('Se produjo un error de atributo')"
   ]
  },
  {
   "cell_type": "code",
   "execution_count": null,
   "metadata": {},
   "outputs": [],
   "source": []
  }
 ],
 "metadata": {
  "kernelspec": {
   "display_name": "Python 3",
   "language": "python",
   "name": "python3"
  },
  "language_info": {
   "codemirror_mode": {
    "name": "ipython",
    "version": 3
   },
   "file_extension": ".py",
   "mimetype": "text/x-python",
   "name": "python",
   "nbconvert_exporter": "python",
   "pygments_lexer": "ipython3",
   "version": "3.8.5"
  }
 },
 "nbformat": 4,
 "nbformat_minor": 2
}
