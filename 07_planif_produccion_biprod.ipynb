{
 "cells": [
  {
   "cell_type": "markdown",
   "metadata": {},
   "source": [
    "# Cuaderno 15: Planificación de la producción (2)\n",
    "# (Varios productos, capacidad de producción)\n",
    "\n",
    "$\\newcommand{\\card}[1]{\\left| #1 \\right|}$\n",
    "$\\newcommand{\\ZZ}{\\mathbb{Z}_+}$\n",
    "$\\newcommand{\\tabulatedset}[1]{\\left\\{ #1 \\right\\}}$\n",
    "\n",
    "Existen numerosas variantes del problema de planificación de la producción (*lot sizing*). Presentamos aquí una variante donde se planifica la producción de dos bienes, tomando en cuenta la capacidad de producción instalada.\n",
    "\n",
    "Como ejemplo, consideremos la planificación de los niveles óptimos de producción de una empresa dedicada a la producción de dos tipos de barras de cereales, sujeta a las siguientes condiciones:\n",
    "\n",
    "* El plan de producción se organiza sobre un horizonte de tiempo de un año, dividido en un conjunto $T= \\tabulatedset{1, \\ldots, 12}$ de períodos mensuales. \n",
    "* Si en un período $t \\in T$ se toma la decisión de producir (cualquiera de los dos productos), se incurre en un\n",
    "  costo fijo igual a $c_t$ (en USD). \n",
    "* Denotaremos por $I:=\\{1,2\\}$ al conjunto que representa los dos tipos de barras de cereales a producir. Para cada período $t \\in T$ y cada tipo de barra $i \\in I$, se conocen la demanda estimada de cada en el mercado $d_{it}$ (en lotes de barras) y el costo unitario de su producción $p_{it}$ (en USD / lote). \n",
    "* En cada período se debe satisfacer toda la demanda estimada de cada tipo de barra. Si en un período el nivel de producción supera a la demanda, es posible almacenar el producto excedente a un costo unitario igual a $h_t$ (USD/lote). Este costo es el mismo para ambos tipos de barras. \n",
    "* La capacidad de producción de la empresa es constante y está limitada a un total de $C$ lotes por período, entre los dos tipos de barras.\n",
    "* La producción se realiza por lotes. No es posible producir fracciones de un lote.\n",
    "  \n",
    "Se requiere determinar los niveles de producción mensuales para cada tipo de barras, para satisfacer toda la demanda al menor costo posible. Definimos las siguientes variables de decisión:\n",
    "\n",
    "* variables enteras $x_{it}, \\, i \\in I, \\, t \\in T,$ que indican la cantidad de lotes del tipo $i$ a producir en el período $t$;\n",
    "* variables binarias $y_t, \\, t \\in T,$ tales que $y_t = 1$ si y solamente si se toma la decisión producir al menos un tipo de barra en el período $t$;\n",
    "* variables enteras $z_{it}, \\, i \\in I, \\, t \\in T,$ que indican la cantidad de lotes de barras del tipo $i$ a almacenar del período $t$ al período $t+1$.\n",
    "\n",
    "Con estas definiciones, el problema puede ser formulado como el siguiente programa lineal entero:\n",
    "\n",
    "\\begin{align*}\n",
    "\\min &\\sum_{t \\in T} c_t y_t  + \\sum_{i \\in I} \\sum_{t \\in T} (p_{it} x_{it} + h_t z_{it})\\\\ \n",
    "& \\mbox{s.r.}\\\\\n",
    "& x_{i1} = d_{i1} + z_{i1}, \\quad \\forall i \\in I, \\\\\n",
    "& x_{it} + z_{i,t-1} = d_{it} + z_{it}, \\quad \\forall i \\in I,  t \\in T \\setminus \\{1\\}, \\\\\n",
    "& \\sum_{i \\in I} x_{it} \\leq C y_t, \\quad \\forall t \\in T, \\\\\n",
    "& y_t \\in \\{0, 1\\}, \\quad \\forall t \\in T, \\\\\n",
    "&x_{it}, z_{it} \\in \\ZZ, \\quad \\forall i \\in I, t \\in T.\n",
    "\\end{align*}\n",
    "\n",
    "\n",
    "Vamos a implementar este programa utilizando la interfaz Python de Gurobi."
   ]
  },
  {
   "cell_type": "markdown",
   "metadata": {},
   "source": [
    "Definimos primero los conjuntos $I$ y $T$, y los parámetros $p$, $c$, $h$, $d$ y $C$:"
   ]
  },
  {
   "cell_type": "code",
   "execution_count": 2,
   "metadata": {},
   "outputs": [
    {
     "name": "stdout",
     "output_type": "stream",
     "text": [
      "T= [1, 2, 3, 4, 5, 6, 7, 8, 9, 10, 11, 12]\n",
      "I= [1, 2]\n",
      "T2= [2, 3, 4, 5, 6, 7, 8, 9, 10, 11, 12]\n",
      "c= {1: 400, 2: 450, 3: 400, 4: 470, 5: 450, 6: 400, 7: 350, 8: 400, 9: 450, 10: 450, 11: 500, 12: 500}\n",
      "h= {1: 10, 2: 12, 3: 10, 4: 9, 5: 12, 6: 10, 7: 10, 8: 12, 9: 10, 10: 12, 11: 15, 12: 5}\n",
      "p= {(1, 1): 48, (1, 2): 47, (1, 3): 38, (1, 4): 45, (1, 5): 47, (1, 6): 42, (1, 7): 33, (1, 8): 39, (1, 9): 45, (1, 10): 47, (1, 11): 50, (1, 12): 55, (2, 1): 44, (2, 2): 42, (2, 3): 35, (2, 4): 41, (2, 5): 42, (2, 6): 38, (2, 7): 33, (2, 8): 36, (2, 9): 41, (2, 10): 42, (2, 11): 45, (2, 12): 47}\n",
      "d= {(1, 1): 20, (1, 2): 20, (1, 3): 25, (1, 4): 25, (1, 5): 25, (1, 6): 20, (1, 7): 20, (1, 8): 18, (1, 9): 18, (1, 10): 20, (1, 11): 25, (1, 12): 27, (2, 1): 15, (2, 2): 14, (2, 3): 15, (2, 4): 16, (2, 5): 15, (2, 6): 17, (2, 7): 18, (2, 8): 17, (2, 9): 15, (2, 10): 14, (2, 11): 15, (2, 12): 20}\n",
      "C= 40\n"
     ]
    }
   ],
   "source": [
    "from gurobipy import *\n",
    "\n",
    "# Conjuntos y parametros del modelo\n",
    "# Costos fijos y costos de almacenamiento por período:\n",
    "T, c, h = multidict({\n",
    "    1 : (400, 10),   2 : (450, 12),  3 : (400, 10),\n",
    "    4 : (470,  9),   5 : (450, 12),  6 : (400, 10),\n",
    "    7 : (350, 10),   8 : (400, 12),  9 : (450, 10),\n",
    "   10 : (450, 12),  11 : (500, 15), 12 : (500,  5)})\n",
    "\n",
    "\n",
    "# Costos de producción y demanda por (producto-período):\n",
    "IxT, p, d = multidict({\n",
    "    (1, 1) : (48, 20),   (1, 2) : (47, 20),  (1, 3) : (38, 25),\n",
    "    (1, 4) : (45, 25),   (1, 5) : (47, 25),  (1, 6) : (42, 20),\n",
    "    (1, 7) : (33, 20),   (1, 8) : (39, 18),  (1, 9) : (45, 18),\n",
    "    (1,10) : (47, 20),   (1,11) : (50, 25),  (1,12) : (55, 27),\n",
    "    (2, 1) : (44, 15),   (2, 2) : (42, 14),  (2, 3) : (35, 15),\n",
    "    (2, 4) : (41, 16),   (2, 5) : (42, 15),  (2, 6) : (38, 17),\n",
    "    (2, 7) : (33, 18),   (2, 8) : (36, 17),  (2, 9) : (41, 15),\n",
    "    (2,10) : (42, 14),   (2,11) : (45, 15),  (2,12) : (47, 20)})\n",
    "\n",
    "# Capacidad de la planta (lotes por período)\n",
    "C = 40\n",
    "\n",
    "# Recuperar conjunto I de productos desde IxT\n",
    "I = tuplelist(set([i for (i,t) in IxT]))\n",
    "\n",
    "# Definir conjunto T \\ {1}\n",
    "T2 = [t for t in T if not t==1]\n",
    "\n",
    "print(\"T= {}\".format(T))\n",
    "print(\"I= {}\".format(I))\n",
    "print(\"T2= {}\".format(T2))\n",
    "print(\"c= {}\".format(c))\n",
    "print(\"h= {}\".format(h))\n",
    "print(\"p= {}\".format(p))\n",
    "print(\"d= {}\".format(d))\n",
    "print(\"C= {}\".format(C))"
   ]
  },
  {
   "cell_type": "markdown",
   "metadata": {},
   "source": [
    "Definimos ahora el objeto modelo y las variables del modelo:"
   ]
  },
  {
   "cell_type": "code",
   "execution_count": 3,
   "metadata": {},
   "outputs": [
    {
     "name": "stdout",
     "output_type": "stream",
     "text": [
      "\n",
      "--------------------------------------------\n",
      "Warning: your license will expire in 2 days\n",
      "--------------------------------------------\n",
      "\n",
      "Using license file /Users/ltorres/gurobi.lic\n",
      "Academic license - for non-commercial use only\n"
     ]
    }
   ],
   "source": [
    "m = Model('lot-sizing-2')\n",
    "\n",
    "# lotes a producir\n",
    "# x = m.addVars(I, T, vtype = GRB.INTEGER, name=\"x\")\n",
    "# alternativa:\n",
    "x = m.addVars(IxT, vtype = GRB.INTEGER, name=\"x\")\n",
    "\n",
    "# se produce / no se produce en cada periodo\n",
    "y = m.addVars(T, vtype = GRB.BINARY, name=\"y\")\n",
    "\n",
    "# lotes a almacenar\n",
    "z = m.addVars(I, T, vtype = GRB.INTEGER, name=\"z\")"
   ]
  },
  {
   "cell_type": "markdown",
   "metadata": {},
   "source": [
    "Construimos la función objetivo a partir de sus tres términos:"
   ]
  },
  {
   "cell_type": "code",
   "execution_count": 4,
   "metadata": {},
   "outputs": [],
   "source": [
    "# costos variables de produccion\n",
    "c_produccion = x.prod(p, '*', '*')\n",
    "\n",
    "# costos fijos de produccion\n",
    "c_fijo = y.prod(c, '*')\n",
    "\n",
    "# costos de almacenamiento\n",
    "almacenamiento = quicksum([h[t]*z[i,t] for i in I for t in T])\n",
    "\n",
    "m.setObjective(c_produccion + c_fijo + almacenamiento, GRB.MINIMIZE)"
   ]
  },
  {
   "cell_type": "markdown",
   "metadata": {},
   "source": [
    "Finalmente, implementamos las restricciones del modelo:\n",
    "1. Balance entre produccion, almacenamiento y demanda."
   ]
  },
  {
   "cell_type": "code",
   "execution_count": 5,
   "metadata": {},
   "outputs": [
    {
     "data": {
      "text/plain": [
       "{(1, 2): <gurobi.Constr *Awaiting Model Update*>,\n",
       " (1, 3): <gurobi.Constr *Awaiting Model Update*>,\n",
       " (1, 4): <gurobi.Constr *Awaiting Model Update*>,\n",
       " (1, 5): <gurobi.Constr *Awaiting Model Update*>,\n",
       " (1, 6): <gurobi.Constr *Awaiting Model Update*>,\n",
       " (1, 7): <gurobi.Constr *Awaiting Model Update*>,\n",
       " (1, 8): <gurobi.Constr *Awaiting Model Update*>,\n",
       " (1, 9): <gurobi.Constr *Awaiting Model Update*>,\n",
       " (1, 10): <gurobi.Constr *Awaiting Model Update*>,\n",
       " (1, 11): <gurobi.Constr *Awaiting Model Update*>,\n",
       " (1, 12): <gurobi.Constr *Awaiting Model Update*>,\n",
       " (2, 2): <gurobi.Constr *Awaiting Model Update*>,\n",
       " (2, 3): <gurobi.Constr *Awaiting Model Update*>,\n",
       " (2, 4): <gurobi.Constr *Awaiting Model Update*>,\n",
       " (2, 5): <gurobi.Constr *Awaiting Model Update*>,\n",
       " (2, 6): <gurobi.Constr *Awaiting Model Update*>,\n",
       " (2, 7): <gurobi.Constr *Awaiting Model Update*>,\n",
       " (2, 8): <gurobi.Constr *Awaiting Model Update*>,\n",
       " (2, 9): <gurobi.Constr *Awaiting Model Update*>,\n",
       " (2, 10): <gurobi.Constr *Awaiting Model Update*>,\n",
       " (2, 11): <gurobi.Constr *Awaiting Model Update*>,\n",
       " (2, 12): <gurobi.Constr *Awaiting Model Update*>}"
      ]
     },
     "execution_count": 5,
     "metadata": {},
     "output_type": "execute_result"
    }
   ],
   "source": [
    "# Balance primer periodo\n",
    "m.addConstrs((x[i,1] - z[i,1] == d[i,1] for i in I), \"balance_ini\")\n",
    "\n",
    "# Balance periodos siguientes\n",
    "m.addConstrs((x[i,t] + z[i,t-1] - z[i,t] == d[i,t] for i in I for t in T2), \"balance\")"
   ]
  },
  {
   "cell_type": "markdown",
   "metadata": {},
   "source": [
    "2. Solamente puede producirse cuando $y_t =1$, y respetando la capacidad de la planta."
   ]
  },
  {
   "cell_type": "code",
   "execution_count": 6,
   "metadata": {},
   "outputs": [
    {
     "data": {
      "text/plain": [
       "{1: <gurobi.Constr *Awaiting Model Update*>,\n",
       " 2: <gurobi.Constr *Awaiting Model Update*>,\n",
       " 3: <gurobi.Constr *Awaiting Model Update*>,\n",
       " 4: <gurobi.Constr *Awaiting Model Update*>,\n",
       " 5: <gurobi.Constr *Awaiting Model Update*>,\n",
       " 6: <gurobi.Constr *Awaiting Model Update*>,\n",
       " 7: <gurobi.Constr *Awaiting Model Update*>,\n",
       " 8: <gurobi.Constr *Awaiting Model Update*>,\n",
       " 9: <gurobi.Constr *Awaiting Model Update*>,\n",
       " 10: <gurobi.Constr *Awaiting Model Update*>,\n",
       " 11: <gurobi.Constr *Awaiting Model Update*>,\n",
       " 12: <gurobi.Constr *Awaiting Model Update*>}"
      ]
     },
     "execution_count": 6,
     "metadata": {},
     "output_type": "execute_result"
    }
   ],
   "source": [
    "# y[t]=0 => sum_i (x[i, t])=0\n",
    "m.addConstrs((x.sum('*', t) <= C*y[t] for t in T), \"capacidad\")"
   ]
  },
  {
   "cell_type": "markdown",
   "metadata": {},
   "source": [
    "Optimizar el modelo:"
   ]
  },
  {
   "cell_type": "code",
   "execution_count": 7,
   "metadata": {},
   "outputs": [
    {
     "name": "stdout",
     "output_type": "stream",
     "text": [
      "Gurobi Optimizer version 9.0.2 build v9.0.2rc0 (mac64)\n",
      "Optimize a model with 36 rows, 60 columns and 106 nonzeros\n",
      "Model fingerprint: 0xc3dc15af\n",
      "Variable types: 0 continuous, 60 integer (12 binary)\n",
      "Coefficient statistics:\n",
      "  Matrix range     [1e+00, 4e+01]\n",
      "  Objective range  [5e+00, 5e+02]\n",
      "  Bounds range     [1e+00, 1e+00]\n",
      "  RHS range        [1e+01, 3e+01]\n",
      "Found heuristic solution: objective 24974.000000\n",
      "Presolve removed 22 rows and 40 columns\n",
      "Presolve time: 0.00s\n",
      "Presolved: 14 rows, 20 columns, 37 nonzeros\n",
      "Found heuristic solution: objective 24971.000000\n",
      "Variable types: 0 continuous, 20 integer (2 binary)\n",
      "\n",
      "Root relaxation: objective 2.494900e+04, 11 iterations, 0.00 seconds\n",
      "\n",
      "    Nodes    |    Current Node    |     Objective Bounds      |     Work\n",
      " Expl Unexpl |  Obj  Depth IntInf | Incumbent    BestBd   Gap | It/Node Time\n",
      "\n",
      "*    0     0               0    24949.000000 24949.0000  0.00%     -    0s\n",
      "\n",
      "Explored 0 nodes (11 simplex iterations) in 0.20 seconds\n",
      "Thread count was 4 (of 4 available processors)\n",
      "\n",
      "Solution count 3: 24949 24971 24974 \n",
      "\n",
      "Optimal solution found (tolerance 1.00e-04)\n",
      "Best objective 2.494900000000e+04, best bound 2.494900000000e+04, gap 0.0000%\n"
     ]
    }
   ],
   "source": [
    "m.optimize()"
   ]
  },
  {
   "cell_type": "markdown",
   "metadata": {},
   "source": [
    "Mostrar la solución: producción, demanda y almacenamiento de cada producto en cada período."
   ]
  },
  {
   "cell_type": "code",
   "execution_count": 8,
   "metadata": {},
   "outputs": [
    {
     "name": "stdout",
     "output_type": "stream",
     "text": [
      "Producto 1\n",
      "t\t\tx_t\t\ty_t\t\tz_t\t\td_t\n",
      "1\t\t20.0\t\t1.0\t\t0.0\t\t20\n",
      "2\t\t20.0\t\t1.0\t\t-0.0\t\t20\n",
      "3\t\t26.0\t\t1.0\t\t1.0\t\t25\n",
      "4\t\t24.0\t\t1.0\t\t-0.0\t\t25\n",
      "5\t\t25.0\t\t1.0\t\t-0.0\t\t25\n",
      "6\t\t20.0\t\t1.0\t\t-0.0\t\t20\n",
      "7\t\t20.0\t\t1.0\t\t-0.0\t\t20\n",
      "8\t\t18.0\t\t1.0\t\t-0.0\t\t18\n",
      "9\t\t19.0\t\t1.0\t\t1.0\t\t18\n",
      "10\t\t26.0\t\t1.0\t\t7.0\t\t20\n",
      "11\t\t25.0\t\t1.0\t\t7.0\t\t25\n",
      "12\t\t20.0\t\t1.0\t\t0.0\t\t27\n",
      "Producto 2\n",
      "t\t\tx_t\t\ty_t\t\tz_t\t\td_t\n",
      "1\t\t15.0\t\t1.0\t\t0.0\t\t15\n",
      "2\t\t15.0\t\t1.0\t\t1.0\t\t14\n",
      "3\t\t14.0\t\t1.0\t\t-0.0\t\t15\n",
      "4\t\t16.0\t\t1.0\t\t-0.0\t\t16\n",
      "5\t\t15.0\t\t1.0\t\t-0.0\t\t15\n",
      "6\t\t17.0\t\t1.0\t\t-0.0\t\t17\n",
      "7\t\t18.0\t\t1.0\t\t-0.0\t\t18\n",
      "8\t\t17.0\t\t1.0\t\t-0.0\t\t17\n",
      "9\t\t15.0\t\t1.0\t\t-0.0\t\t15\n",
      "10\t\t14.0\t\t1.0\t\t-0.0\t\t14\n",
      "11\t\t15.0\t\t1.0\t\t0.0\t\t15\n",
      "12\t\t20.0\t\t1.0\t\t0.0\t\t20\n"
     ]
    }
   ],
   "source": [
    "# Extraer valores de las soluciones\n",
    "vx = m.getAttr('x', x)\n",
    "vy = m.getAttr('x', y)\n",
    "vz = m.getAttr('x', z)\n",
    "\n",
    "# Mostrar tabla con los valores\n",
    "for i in I:\n",
    "    print('Producto {}'.format(i))\n",
    "    print('t\\t\\tx_t\\t\\ty_t\\t\\tz_t\\t\\td_t')\n",
    "    for t in T:\n",
    "        print('{}\\t\\t{}\\t\\t{}\\t\\t{}\\t\\t{}'.format(t, vx[i,t], vy[t], vz[i,t], d[i,t]))"
   ]
  },
  {
   "cell_type": "markdown",
   "metadata": {},
   "source": [
    "## Bonus extra\n",
    "### Exportar el programa lineal entero a un archivo\n",
    "\n",
    "A menudo es útil exportar el modelo de programación lineal entera a un archivo, con el objetivo de depurarlo, o de intentar resolverlo en otro solver. En la interfaz Python de Gurobi, esto puede hacerse llamando al método `write` de la clase modelo, cuyo argumento indica el nombre del archivo. La extensión indica el formato a utilizar en la exportación, un formato común es `.lp`. Más detalles acerca de este método pueden ser consultados en el [manual de referencia de Gurobi.](https://www.gurobi.com/documentation/9.0/refman/py_model_write.html)"
   ]
  },
  {
   "cell_type": "code",
   "execution_count": 10,
   "metadata": {},
   "outputs": [],
   "source": [
    "m.write('lot-sizing-2.lp')"
   ]
  },
  {
   "cell_type": "markdown",
   "metadata": {},
   "source": [
    "### Escribir tablas en Python\n",
    "Existen algunos módulos de Python que facilitan la escritura de tablas en la consola. Uno de ellos es `tabulate`. Para instalar este módulo (si no está disponible aún en el sistema) se usa el comando `pip install`. Luego de ello será necesario **reiniciar el kernel** de este cuaderno."
   ]
  },
  {
   "cell_type": "code",
   "execution_count": 12,
   "metadata": {},
   "outputs": [
    {
     "name": "stdout",
     "output_type": "stream",
     "text": [
      "Requirement already satisfied: tabulate in /opt/anaconda3/lib/python3.7/site-packages (0.8.7)\n",
      "Note: you may need to restart the kernel to use updated packages.\n"
     ]
    }
   ],
   "source": [
    "pip install tabulate"
   ]
  },
  {
   "cell_type": "markdown",
   "metadata": {},
   "source": [
    "Una vez instalado el módulo, podemos hacer uso de la función `tabulate` dentro del mismo, en combinación con el comando `print`. De esta manera, podemos escribir una lista bidimensional (lista de listas) como una tabla de manera sencilla. La función admite parámetros adicionales para formatear la escritura, uno de ellos es `headers`, que permite especificar los encabezados de las columnas. Otros detalles pueden ser consultados en [esta página web.](https://pypi.org/project/tabulate/)"
   ]
  },
  {
   "cell_type": "code",
   "execution_count": 11,
   "metadata": {},
   "outputs": [
    {
     "name": "stdout",
     "output_type": "stream",
     "text": [
      "Producto 1\n",
      "  t    x_t    y_t    z_t    d_t\n",
      "---  -----  -----  -----  -----\n",
      "  1     20      1      0     20\n",
      "  2     20      1     -0     20\n",
      "  3     26      1      1     25\n",
      "  4     24      1     -0     25\n",
      "  5     25      1     -0     25\n",
      "  6     20      1     -0     20\n",
      "  7     20      1     -0     20\n",
      "  8     18      1     -0     18\n",
      "  9     19      1      1     18\n",
      " 10     26      1      7     20\n",
      " 11     25      1      7     25\n",
      " 12     20      1      0     27\n",
      "Producto 2\n",
      "  t    x_t    y_t    z_t    d_t\n",
      "---  -----  -----  -----  -----\n",
      "  1     15      1      0     15\n",
      "  2     15      1      1     14\n",
      "  3     14      1     -0     15\n",
      "  4     16      1     -0     16\n",
      "  5     15      1     -0     15\n",
      "  6     17      1     -0     17\n",
      "  7     18      1     -0     18\n",
      "  8     17      1     -0     17\n",
      "  9     15      1     -0     15\n",
      " 10     14      1     -0     14\n",
      " 11     15      1      0     15\n",
      " 12     20      1      0     20\n"
     ]
    }
   ],
   "source": [
    "from tabulate import tabulate\n",
    "\n",
    "# Extraer valores de las soluciones\n",
    "vx = m.getAttr('x', x)\n",
    "vy = m.getAttr('x', y)\n",
    "vz = m.getAttr('x', z)\n",
    "\n",
    "# Mostrar tabla con los valores\n",
    "for i in I:\n",
    "    print('Producto {}'.format(i))\n",
    "    tabla = [[t, vx[i,t], vy[t], vz[i,t], d[i,t]] for t in T]\n",
    "    # print(tabla)\n",
    "    # print(tabulate(tabla))\n",
    "    print(tabulate(tabla, headers=['t', 'x_t', 'y_t', 'z_t', 'd_t']))"
   ]
  },
  {
   "cell_type": "markdown",
   "metadata": {},
   "source": [
    "## Código completo\n",
    "\n",
    "Se reproduce a continuación el código completo del modelo anterior."
   ]
  },
  {
   "cell_type": "code",
   "execution_count": 9,
   "metadata": {},
   "outputs": [
    {
     "name": "stdout",
     "output_type": "stream",
     "text": [
      "Gurobi Optimizer version 9.0.2 build v9.0.2rc0 (mac64)\n",
      "Optimize a model with 36 rows, 60 columns and 106 nonzeros\n",
      "Model fingerprint: 0xc3dc15af\n",
      "Variable types: 0 continuous, 60 integer (12 binary)\n",
      "Coefficient statistics:\n",
      "  Matrix range     [1e+00, 4e+01]\n",
      "  Objective range  [5e+00, 5e+02]\n",
      "  Bounds range     [1e+00, 1e+00]\n",
      "  RHS range        [1e+01, 3e+01]\n",
      "Found heuristic solution: objective 24974.000000\n",
      "Presolve removed 22 rows and 40 columns\n",
      "Presolve time: 0.00s\n",
      "Presolved: 14 rows, 20 columns, 37 nonzeros\n",
      "Found heuristic solution: objective 24971.000000\n",
      "Variable types: 0 continuous, 20 integer (2 binary)\n",
      "\n",
      "Root relaxation: objective 2.494900e+04, 11 iterations, 0.00 seconds\n",
      "\n",
      "    Nodes    |    Current Node    |     Objective Bounds      |     Work\n",
      " Expl Unexpl |  Obj  Depth IntInf | Incumbent    BestBd   Gap | It/Node Time\n",
      "\n",
      "*    0     0               0    24949.000000 24949.0000  0.00%     -    0s\n",
      "\n",
      "Explored 0 nodes (11 simplex iterations) in 0.16 seconds\n",
      "Thread count was 4 (of 4 available processors)\n",
      "\n",
      "Solution count 3: 24949 24971 24974 \n",
      "\n",
      "Optimal solution found (tolerance 1.00e-04)\n",
      "Best objective 2.494900000000e+04, best bound 2.494900000000e+04, gap 0.0000%\n",
      "Producto 1\n",
      "t\t\tx_t\t\ty_t\t\tz_t\t\td_t\n",
      "1\t\t20.0\t\t1.0\t\t0.0\t\t20\n",
      "2\t\t20.0\t\t1.0\t\t-0.0\t\t20\n",
      "3\t\t26.0\t\t1.0\t\t1.0\t\t25\n",
      "4\t\t24.0\t\t1.0\t\t-0.0\t\t25\n",
      "5\t\t25.0\t\t1.0\t\t-0.0\t\t25\n",
      "6\t\t20.0\t\t1.0\t\t-0.0\t\t20\n",
      "7\t\t20.0\t\t1.0\t\t-0.0\t\t20\n",
      "8\t\t18.0\t\t1.0\t\t-0.0\t\t18\n",
      "9\t\t19.0\t\t1.0\t\t1.0\t\t18\n",
      "10\t\t26.0\t\t1.0\t\t7.0\t\t20\n",
      "11\t\t25.0\t\t1.0\t\t7.0\t\t25\n",
      "12\t\t20.0\t\t1.0\t\t0.0\t\t27\n",
      "Producto 2\n",
      "t\t\tx_t\t\ty_t\t\tz_t\t\td_t\n",
      "1\t\t15.0\t\t1.0\t\t0.0\t\t15\n",
      "2\t\t15.0\t\t1.0\t\t1.0\t\t14\n",
      "3\t\t14.0\t\t1.0\t\t-0.0\t\t15\n",
      "4\t\t16.0\t\t1.0\t\t-0.0\t\t16\n",
      "5\t\t15.0\t\t1.0\t\t-0.0\t\t15\n",
      "6\t\t17.0\t\t1.0\t\t-0.0\t\t17\n",
      "7\t\t18.0\t\t1.0\t\t-0.0\t\t18\n",
      "8\t\t17.0\t\t1.0\t\t-0.0\t\t17\n",
      "9\t\t15.0\t\t1.0\t\t-0.0\t\t15\n",
      "10\t\t14.0\t\t1.0\t\t-0.0\t\t14\n",
      "11\t\t15.0\t\t1.0\t\t0.0\t\t15\n",
      "12\t\t20.0\t\t1.0\t\t0.0\t\t20\n"
     ]
    }
   ],
   "source": [
    "# Curso de implementación de programas lineales enteros\n",
    "# Ejemplo: Modelo de planificación de la producción con varios productos y capacidad limitada de producción\n",
    "# EPN (2020)\n",
    "\n",
    "from gurobipy import *\n",
    "try:\n",
    "    # Conjuntos y parametros del modelo\n",
    "    # Costos fijos y costos de almacenamiento por período:\n",
    "    T, c, h = multidict({\n",
    "        1 : (400, 10),   2 : (450, 12),  3 : (400, 10),\n",
    "        4 : (470,  9),   5 : (450, 12),  6 : (400, 10),\n",
    "        7 : (350, 10),   8 : (400, 12),  9 : (450, 10),\n",
    "       10 : (450, 12),  11 : (500, 15), 12 : (500,  5)})\n",
    "\n",
    "\n",
    "    # Costos de producción y demanda por (producto-período):\n",
    "    IxT, p, d = multidict({\n",
    "        (1, 1) : (48, 20),   (1, 2) : (47, 20),  (1, 3) : (38, 25),\n",
    "        (1, 4) : (45, 25),   (1, 5) : (47, 25),  (1, 6) : (42, 20),\n",
    "        (1, 7) : (33, 20),   (1, 8) : (39, 18),  (1, 9) : (45, 18),\n",
    "        (1,10) : (47, 20),   (1,11) : (50, 25),  (1,12) : (55, 27),\n",
    "        (2, 1) : (44, 15),   (2, 2) : (42, 14),  (2, 3) : (35, 15),\n",
    "        (2, 4) : (41, 16),   (2, 5) : (42, 15),  (2, 6) : (38, 17),\n",
    "        (2, 7) : (33, 18),   (2, 8) : (36, 17),  (2, 9) : (41, 15),\n",
    "        (2,10) : (42, 14),   (2,11) : (45, 15),  (2,12) : (47, 20)})\n",
    "\n",
    "    # Capacidad de la planta (lotes por período)\n",
    "    C = 40\n",
    "\n",
    "    # Recuperar conjunto I de productos desde IxT\n",
    "    I = tuplelist(set([i for (i,t) in IxT]))\n",
    "\n",
    "    # Definir conjunto T \\ {1}\n",
    "    T2 = [t for t in T if not t==1]\n",
    "    \n",
    "    # Crear el objeto modelo\n",
    "    m = Model('lot-sizing-2')\n",
    "\n",
    "    # Variables de decision\n",
    "    # lotes a producir\n",
    "    x = m.addVars(I, T, vtype = GRB.INTEGER, name=\"x\")\n",
    "\n",
    "    # se produce / no se produce en cada periodo\n",
    "    y = m.addVars(T, vtype = GRB.BINARY, name=\"y\")\n",
    "\n",
    "    # lotes a almacenar\n",
    "    z = m.addVars(I, T, vtype = GRB.INTEGER, name=\"z\")    \n",
    "\n",
    "    # Funcion objetivo\n",
    "    # costos variables de produccion\n",
    "    c_produccion = x.prod(p, '*')\n",
    "\n",
    "    # costos fijos de produccion\n",
    "    c_fijo = y.prod(c, '*')\n",
    "\n",
    "    # costos de almacenamiento\n",
    "    almacenamiento = quicksum([h[t]*z[i,t] for i in I for t in T])\n",
    "\n",
    "    m.setObjective(c_produccion + c_fijo + almacenamiento, GRB.MINIMIZE)\n",
    "\n",
    "    # Restricciones\n",
    "    # Balance primer periodo\n",
    "    m.addConstrs((x[i,1] - z[i,1] == d[i,1] for i in I), \"balance_ini\")\n",
    "\n",
    "    # Balance periodos siguientes\n",
    "    m.addConstrs((x[i,t] + z[i,t-1] - z[i,t] == d[i,t] for i in I for t in T2), \"balance\")   \n",
    "    \n",
    "    # y[t]=0 => sum_i (x[i, t])=0\n",
    "    m.addConstrs((x.sum('*', t) <= C*y[t] for t in T), \"capacidad\")   \n",
    "    \n",
    "    # Resolver el modelo\n",
    "    m.optimize()\n",
    "    \n",
    "    # Mostrar solucion\n",
    "    # Extraer valores de las soluciones\n",
    "    vx = m.getAttr('x', x)\n",
    "    vy = m.getAttr('x', y)\n",
    "    vz = m.getAttr('x', z)\n",
    "\n",
    "    # Mostrar tabla con los valores\n",
    "    for i in I:\n",
    "        print('Producto {}'.format(i))\n",
    "        print('t\\t\\tx_t\\t\\ty_t\\t\\tz_t\\t\\td_t')\n",
    "        for t in T:\n",
    "            print('{}\\t\\t{}\\t\\t{}\\t\\t{}\\t\\t{}'.format(t, vx[i,t], vy[t], vz[i,t], d[i,t]))  \n",
    "            \n",
    "except GurobiError as e:\n",
    "    print('Se produjo un error de Gurobi: codigo: ' + str(e.errno) + \": \" + str(e))\n",
    "\n",
    "except AttributeError:\n",
    "    print('Se produjo un error de atributo')"
   ]
  },
  {
   "cell_type": "code",
   "execution_count": null,
   "metadata": {},
   "outputs": [],
   "source": []
  }
 ],
 "metadata": {
  "kernelspec": {
   "display_name": "Python 3",
   "language": "python",
   "name": "python3"
  },
  "language_info": {
   "codemirror_mode": {
    "name": "ipython",
    "version": 3
   },
   "file_extension": ".py",
   "mimetype": "text/x-python",
   "name": "python",
   "nbconvert_exporter": "python",
   "pygments_lexer": "ipython3",
   "version": "3.7.6"
  }
 },
 "nbformat": 4,
 "nbformat_minor": 2
}
