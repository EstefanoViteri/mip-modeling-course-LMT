{
 "cells": [
  {
   "cell_type": "markdown",
   "metadata": {},
   "source": [
    "# Cuaderno 13: Problema de localización de instalaciones (facility location)\n",
    "\n",
    "Dados un conjunto $I$ de $m$ posibles instalaciones a construir y un conjunto $J$ de $n$ clientes a atender, se requiere decidir cuáles instalaciones construir, y cómo asignar los clientes a estas instalaciones, de tal forma que se cumplan las siguientes \n",
    "restricciones:\n",
    "\n",
    "* para cada cliente $j \\in J$, su demanda $d_j$ debe ser atendida en una sola instalación; \n",
    "* para cada instalación $i \\in I$, la suma de las demandas  de los clientes atendidos por ella no puede\n",
    "superar su capacidad $u_i$;\n",
    "* es posible dejar clientes sin atender, por cada cliente no atendido se debe pagar una multa cuyo valor es $M$.\n",
    "\n",
    "La construcción de la instalación $i \\in I$ involucra un costo fijo igual a $f_i$ unidades monetarias. La atención\n",
    "de un cliente $j \\in J$ por una instalación $i \\in I$ tiene un costo unitario de $c_{ij}$ unidades monetarias.\n",
    "\n",
    "Definimos las siguientes variables binarias: \n",
    "* $y_i$, $i \\in I$, que indican si se construye o no la instalación $i$; \n",
    "* $x_{ij}$, $i \\in I$, $j \\in J$, que registran si el cliente $j$ es atendido por la instalación $i$;\n",
    "* $z_j$, $j \\in J$, que indican si el cliente $j$ es atendido por alguna instalación.\n",
    "\n",
    "Empleando estas variables, el problema de localización de instalaciones puede ser escrito como el siguiente modelo de programación lineal entera.  \n",
    "\n",
    "\\begin{align*}\n",
    "\\min &\\sum_{i \\in I} f_i y_i + \\sum_{i \\in I} \\sum_{j \\in J} c_{ij} x_{ij} + M \\sum_{j \\in J} (1 - z_j)\\\\ \n",
    "& \\mbox{s.r.}\\\\\n",
    "&\\sum_{i \\in I} x_{ij} = z_j, \\quad \\forall j \\in J, \\\\\n",
    "&\\sum_{j \\in J} d_j x_{ij} \\leq u_i y_i, \\quad \\forall i \\in I, \\\\\n",
    "& x_{ij}, y_{i}, z_j \\in \\{0, 1\\}, \\quad \\forall i \\in I, j \\in J.\n",
    "\\end{align*}\n",
    "\n",
    "\n",
    "Vamos a implementar este modelo usando la interfaz Python de Gurobi.\n"
   ]
  },
  {
   "cell_type": "markdown",
   "metadata": {},
   "source": [
    "Definimos primero los conjuntos $I$, $J$ y los parámetros $f_i$, $c_{ij}$, $M$, $d_j$ y $u_i$:"
   ]
  },
  {
   "cell_type": "code",
   "execution_count": 1,
   "metadata": {},
   "outputs": [
    {
     "name": "stdout",
     "output_type": "stream",
     "text": [
      "J = [1, 2, 3, 4, 5, 6, 7, 8]\n",
      "d = {1: 10, 2: 5, 3: 7, 4: 8, 5: 7, 6: 6, 7: 8, 8: 7}\n",
      "I = [1, 2, 3, 4, 5]\n",
      "u = {1: 25, 2: 25, 3: 27, 4: 26, 5: 26}\n",
      "f = {1: 2500, 2: 2550, 3: 2850, 4: 2570, 5: 2570}\n",
      "c = {(1, 1): 25, (1, 2): 30, (1, 3): 32, (1, 4): 35, (1, 5): 37, (1, 6): 50, (1, 7): 23, (1, 8): 48, (2, 1): 50, (2, 2): 20, (2, 3): 22, (2, 4): 39, (2, 5): 36, (2, 6): 20, (2, 7): 50, (2, 8): 25, (3, 1): 35, (3, 2): 25, (3, 3): 18, (3, 4): 50, (3, 5): 45, (3, 6): 35, (3, 7): 33, (3, 8): 32, (4, 1): 25, (4, 2): 20, (4, 3): 26, (4, 4): 20, (4, 5): 20, (4, 6): 25, (4, 7): 37, (4, 8): 35, (5, 1): 45, (5, 2): 23, (5, 3): 20, (5, 4): 46, (5, 5): 41, (5, 6): 24, (5, 7): 38, (5, 8): 21}\n",
      "M = 890\n"
     ]
    }
   ],
   "source": [
    "from gurobipy import *\n",
    "\n",
    "# Parametros del modelo\n",
    "# Demandas de los clientes\n",
    "J, d = multidict(tupledict({1 : 10, 2 : 5,  3 : 7, 4 : 8, \n",
    "                 5 : 7,  6 : 6,  7 : 8, 8 : 7}))\n",
    "\n",
    "# Capacidad y costo fijo de construccion para instalaciones\n",
    "I, u, f = multidict(tupledict({1 : (25, 2500),\n",
    "                               2 : (25, 2550),\n",
    "                               3 : (27, 2850),\n",
    "                               4 : (26, 2570),\n",
    "                               5 : (26, 2570)}))\n",
    "\n",
    "# Costos de atencion\n",
    "c = tupledict({(1,1) : 25, (1,2): 30, (1,3): 32, (1,4): 35, (1,5): 37, (1,6): 50, (1,7): 23, (1,8) : 48,\n",
    "               (2,1) : 50, (2,2): 20, (2,3): 22, (2,4): 39, (2,5): 36, (2,6): 20, (2,7): 50, (2,8) : 25,\n",
    "               (3,1) : 35, (3,2): 25, (3,3): 18, (3,4): 50, (3,5): 45, (3,6): 35, (3,7): 33, (3,8) : 32,\n",
    "               (4,1) : 25, (4,2): 20, (4,3): 26, (4,4): 20, (4,5): 20, (4,6): 25, (4,7): 37, (4,8) : 35,\n",
    "               (5,1) : 45, (5,2): 23, (5,3): 20, (5,4): 46, (5,5): 41, (5,6): 24, (5,7): 38, (5,8) : 21})\n",
    "\n",
    "# Multas\n",
    "M = 890\n",
    "\n",
    "print(\"J = {}\".format(J))\n",
    "print(\"d = {}\".format(d))\n",
    "print(\"I = {}\".format(I))\n",
    "print(\"u = {}\".format(u))\n",
    "print(\"f = {}\".format(f))\n",
    "print(\"c = {}\".format(c))\n",
    "print(\"M = {}\".format(M))"
   ]
  },
  {
   "cell_type": "markdown",
   "metadata": {},
   "source": [
    "Definimos ahora el objeto modelo y las variables del modelo:"
   ]
  },
  {
   "cell_type": "code",
   "execution_count": 2,
   "metadata": {},
   "outputs": [
    {
     "name": "stdout",
     "output_type": "stream",
     "text": [
      "\n",
      "--------------------------------------------\n",
      "Warning: your license will expire in 9 days\n",
      "--------------------------------------------\n",
      "\n",
      "Using license file /Users/ltorres/gurobi.lic\n",
      "Academic license - for non-commercial use only\n"
     ]
    }
   ],
   "source": [
    "m = Model('facility-location')\n",
    "\n",
    "# Asignacion instalaciones-clientes:\n",
    "x = m.addVars(I, J, vtype = GRB.BINARY, name=\"x\")\n",
    "\n",
    "# Construccion de instalaciones\n",
    "y = m.addVars(I, vtype = GRB.BINARY, name=\"y\")\n",
    "\n",
    "# Atencion de clientes\n",
    "z = m.addVars(J, vtype = GRB.BINARY, name=\"z\")"
   ]
  },
  {
   "cell_type": "markdown",
   "metadata": {},
   "source": [
    "Construimos la función objetivo a partir de sus tres términos:"
   ]
  },
  {
   "cell_type": "code",
   "execution_count": 3,
   "metadata": {},
   "outputs": [],
   "source": [
    "# costos fijos de construccion\n",
    "costo_construccion = y.prod(f, '*')\n",
    "\n",
    "# costos de atencion a clientes\n",
    "costo_atencion = x.prod(c, '*', '*')\n",
    "\n",
    "# multas por no atencion\n",
    "multas = M*(len(J) - z.sum('*'))\n",
    "\n",
    "m.setObjective(costo_construccion + costo_atencion + multas, GRB.MINIMIZE)"
   ]
  },
  {
   "cell_type": "markdown",
   "metadata": {},
   "source": [
    "Finalmente, implementamos las restricciones del modelo:\n",
    "1. Cada cliente $j$ es atendido por una sola instalación, si $z_j = 1$; o no es atendido en ninguna instalación, si $z_j = 0$."
   ]
  },
  {
   "cell_type": "code",
   "execution_count": 4,
   "metadata": {},
   "outputs": [
    {
     "data": {
      "text/plain": [
       "{1: <gurobi.Constr *Awaiting Model Update*>,\n",
       " 2: <gurobi.Constr *Awaiting Model Update*>,\n",
       " 3: <gurobi.Constr *Awaiting Model Update*>,\n",
       " 4: <gurobi.Constr *Awaiting Model Update*>,\n",
       " 5: <gurobi.Constr *Awaiting Model Update*>,\n",
       " 6: <gurobi.Constr *Awaiting Model Update*>,\n",
       " 7: <gurobi.Constr *Awaiting Model Update*>,\n",
       " 8: <gurobi.Constr *Awaiting Model Update*>}"
      ]
     },
     "execution_count": 4,
     "metadata": {},
     "output_type": "execute_result"
    }
   ],
   "source": [
    "m.addConstrs((x.sum('*', j) == z[j] for j in J), \"asig\") "
   ]
  },
  {
   "cell_type": "markdown",
   "metadata": {},
   "source": [
    "2. Asignar clientes únicamente a instalaciones que son construidas, y respetar la capacidad de las instalaciones."
   ]
  },
  {
   "cell_type": "code",
   "execution_count": 5,
   "metadata": {},
   "outputs": [
    {
     "data": {
      "text/plain": [
       "{1: <gurobi.Constr *Awaiting Model Update*>,\n",
       " 2: <gurobi.Constr *Awaiting Model Update*>,\n",
       " 3: <gurobi.Constr *Awaiting Model Update*>,\n",
       " 4: <gurobi.Constr *Awaiting Model Update*>,\n",
       " 5: <gurobi.Constr *Awaiting Model Update*>}"
      ]
     },
     "execution_count": 5,
     "metadata": {},
     "output_type": "execute_result"
    }
   ],
   "source": [
    "m.addConstrs((quicksum(d[j] * x[i,j] for j in J) <= u[i]*y[i] for i in I), \"capacidad\")"
   ]
  },
  {
   "cell_type": "markdown",
   "metadata": {},
   "source": [
    "Optimizar el modelo:"
   ]
  },
  {
   "cell_type": "code",
   "execution_count": 6,
   "metadata": {},
   "outputs": [
    {
     "name": "stdout",
     "output_type": "stream",
     "text": [
      "Gurobi Optimizer version 9.0.2 build v9.0.2rc0 (mac64)\n",
      "Optimize a model with 13 rows, 53 columns and 93 nonzeros\n",
      "Model fingerprint: 0x6ff1a1e3\n",
      "Variable types: 0 continuous, 53 integer (53 binary)\n",
      "Coefficient statistics:\n",
      "  Matrix range     [1e+00, 3e+01]\n",
      "  Objective range  [2e+01, 3e+03]\n",
      "  Bounds range     [1e+00, 1e+00]\n",
      "  RHS range        [0e+00, 0e+00]\n",
      "Found heuristic solution: objective 7120.0000000\n",
      "Presolve removed 0 rows and 8 columns\n",
      "Presolve time: 0.01s\n",
      "Presolved: 13 rows, 45 columns, 85 nonzeros\n",
      "Variable types: 0 continuous, 45 integer (45 binary)\n",
      "\n",
      "Root relaxation: objective 5.791846e+03, 12 iterations, 0.00 seconds\n",
      "\n",
      "    Nodes    |    Current Node    |     Objective Bounds      |     Work\n",
      " Expl Unexpl |  Obj  Depth IntInf | Incumbent    BestBd   Gap | It/Node Time\n",
      "\n",
      "     0     0 5791.84615    0    3 7120.00000 5791.84615  18.7%     -    0s\n",
      "H    0     0                    7045.0000000 5791.84615  17.8%     -    0s\n",
      "H    0     0                    6215.0000000 5791.84615  6.81%     -    0s\n",
      "     0     0 5803.28205    0   11 6215.00000 5803.28205  6.62%     -    0s\n",
      "H    0     0                    6194.0000000 5803.28205  6.31%     -    0s\n",
      "     0     0 5821.46152    0   11 6194.00000 5821.46152  6.01%     -    0s\n",
      "     0     0 5821.52306    0   13 6194.00000 5821.52306  6.01%     -    0s\n",
      "     0     0 5822.07691    0   13 6194.00000 5822.07691  6.00%     -    0s\n",
      "     0     0 5822.19998    0   13 6194.00000 5822.19998  6.00%     -    0s\n",
      "     0     0 5842.75652    0   17 6194.00000 5842.75652  5.67%     -    0s\n",
      "     0     0 5847.21870    0   15 6194.00000 5847.21870  5.60%     -    0s\n",
      "     0     0 5852.10200    0   22 6194.00000 5852.10200  5.52%     -    0s\n",
      "H    0     0                    6125.0000000 5852.10200  4.46%     -    0s\n",
      "     0     0 5853.82666    0   20 6125.00000 5853.82666  4.43%     -    0s\n",
      "     0     0 5867.42855    0   22 6125.00000 5867.42855  4.21%     -    0s\n",
      "     0     0 5868.87247    0   22 6125.00000 5868.87247  4.18%     -    0s\n",
      "     0     0 5869.05873    0   23 6125.00000 5869.05873  4.18%     -    0s\n",
      "     0     0 5869.05873    0   23 6125.00000 5869.05873  4.18%     -    0s\n",
      "     0     2 5869.05873    0   23 6125.00000 5869.05873  4.18%     -    0s\n",
      "H    4     5                    6112.0000000 5897.80127  3.50%   4.8    0s\n",
      "\n",
      "Cutting planes:\n",
      "  Gomory: 3\n",
      "  Cover: 5\n",
      "  Clique: 1\n",
      "  MIR: 5\n",
      "  StrongCG: 1\n",
      "  Zero half: 1\n",
      "\n",
      "Explored 78 nodes (424 simplex iterations) in 0.66 seconds\n",
      "Thread count was 4 (of 4 available processors)\n",
      "\n",
      "Solution count 6: 6112 6125 6194 ... 7120\n",
      "\n",
      "Optimal solution found (tolerance 1.00e-04)\n",
      "Best objective 6.112000000000e+03, best bound 6.112000000000e+03, gap 0.0000%\n"
     ]
    }
   ],
   "source": [
    "m.optimize()"
   ]
  },
  {
   "cell_type": "markdown",
   "metadata": {},
   "source": [
    "Mostrar la solución: instalaciones a construir, asignación de clientes a instalaciones y clientes no atendidos."
   ]
  },
  {
   "cell_type": "code",
   "execution_count": 7,
   "metadata": {},
   "outputs": [
    {
     "name": "stdout",
     "output_type": "stream",
     "text": [
      "Se construye la instalacion 1.\n",
      "Se construye la instalacion 2.\n",
      "Cliente 1 atendido por la instalacion 1.\n",
      "Cliente 5 atendido por la instalacion 1.\n",
      "Cliente 7 atendido por la instalacion 1.\n",
      "Cliente 2 atendido por la instalacion 2.\n",
      "Cliente 3 atendido por la instalacion 2.\n",
      "Cliente 6 atendido por la instalacion 2.\n",
      "Cliente 8 atendido por la instalacion 2.\n",
      "Cliente 4 no es atendido.\n"
     ]
    }
   ],
   "source": [
    "# Instalaciones a construir\n",
    "for i in I:\n",
    "    if y[i].x >= 0.99:\n",
    "        print(\"Se construye la instalacion {}.\".format(i))\n",
    "        \n",
    "# Asignacion de clientes a instalaciones\n",
    "for i in I:\n",
    "    for j in J:\n",
    "        if x[i, j].x >= 0.99:\n",
    "            print(\"Cliente {} atendido por la instalacion {}.\".format(j, i))\n",
    "            \n",
    "# Clientes no atendidos\n",
    "for j in J:\n",
    "    if z[j].x <= 0.01:\n",
    "        print(\"Cliente {} no es atendido.\".format(j))"
   ]
  },
  {
   "cell_type": "markdown",
   "metadata": {},
   "source": [
    "## Código completo\n",
    "\n",
    "Se reproduce a continuación el código completo del modelo anterior."
   ]
  },
  {
   "cell_type": "code",
   "execution_count": 16,
   "metadata": {},
   "outputs": [
    {
     "name": "stdout",
     "output_type": "stream",
     "text": [
      "Gurobi Optimizer version 9.0.2 build v9.0.2rc0 (mac64)\n",
      "Optimize a model with 13 rows, 53 columns and 93 nonzeros\n",
      "Model fingerprint: 0x6ff1a1e3\n",
      "Variable types: 0 continuous, 53 integer (53 binary)\n",
      "Coefficient statistics:\n",
      "  Matrix range     [1e+00, 3e+01]\n",
      "  Objective range  [2e+01, 3e+03]\n",
      "  Bounds range     [1e+00, 1e+00]\n",
      "  RHS range        [0e+00, 0e+00]\n",
      "Found heuristic solution: objective 7120.0000000\n",
      "Presolve removed 0 rows and 8 columns\n",
      "Presolve time: 0.00s\n",
      "Presolved: 13 rows, 45 columns, 85 nonzeros\n",
      "Variable types: 0 continuous, 45 integer (45 binary)\n",
      "\n",
      "Root relaxation: objective 5.791846e+03, 12 iterations, 0.00 seconds\n",
      "\n",
      "    Nodes    |    Current Node    |     Objective Bounds      |     Work\n",
      " Expl Unexpl |  Obj  Depth IntInf | Incumbent    BestBd   Gap | It/Node Time\n",
      "\n",
      "     0     0 5791.84615    0    3 7120.00000 5791.84615  18.7%     -    0s\n",
      "H    0     0                    7045.0000000 5791.84615  17.8%     -    0s\n",
      "H    0     0                    6215.0000000 5791.84615  6.81%     -    0s\n",
      "     0     0 5803.28205    0   11 6215.00000 5803.28205  6.62%     -    0s\n",
      "H    0     0                    6194.0000000 5803.28205  6.31%     -    0s\n",
      "     0     0 5821.46152    0   11 6194.00000 5821.46152  6.01%     -    0s\n",
      "     0     0 5821.52306    0   13 6194.00000 5821.52306  6.01%     -    0s\n",
      "     0     0 5822.07691    0   13 6194.00000 5822.07691  6.00%     -    0s\n",
      "     0     0 5822.19998    0   13 6194.00000 5822.19998  6.00%     -    0s\n",
      "     0     0 5842.75652    0   17 6194.00000 5842.75652  5.67%     -    0s\n",
      "     0     0 5847.21870    0   15 6194.00000 5847.21870  5.60%     -    0s\n",
      "     0     0 5852.10200    0   22 6194.00000 5852.10200  5.52%     -    0s\n",
      "H    0     0                    6125.0000000 5852.10200  4.46%     -    0s\n",
      "     0     0 5853.82666    0   20 6125.00000 5853.82666  4.43%     -    0s\n",
      "     0     0 5867.42855    0   22 6125.00000 5867.42855  4.21%     -    0s\n",
      "     0     0 5868.87247    0   22 6125.00000 5868.87247  4.18%     -    0s\n",
      "     0     0 5869.05873    0   23 6125.00000 5869.05873  4.18%     -    0s\n",
      "     0     0 5869.05873    0   23 6125.00000 5869.05873  4.18%     -    0s\n",
      "     0     2 5869.05873    0   23 6125.00000 5869.05873  4.18%     -    0s\n",
      "H    4     5                    6112.0000000 5897.80127  3.50%   4.8    0s\n",
      "\n",
      "Cutting planes:\n",
      "  Gomory: 3\n",
      "  Cover: 5\n",
      "  Clique: 1\n",
      "  MIR: 5\n",
      "  StrongCG: 1\n",
      "  Zero half: 1\n",
      "\n",
      "Explored 78 nodes (424 simplex iterations) in 0.31 seconds\n",
      "Thread count was 4 (of 4 available processors)\n",
      "\n",
      "Solution count 6: 6112 6125 6194 ... 7120\n",
      "\n",
      "Optimal solution found (tolerance 1.00e-04)\n",
      "Best objective 6.112000000000e+03, best bound 6.112000000000e+03, gap 0.0000%\n",
      "Se construye la instalacion 1.\n",
      "Se construye la instalacion 2.\n",
      "Cliente 1 atendido por la instalacion 1.\n",
      "Cliente 5 atendido por la instalacion 1.\n",
      "Cliente 7 atendido por la instalacion 1.\n",
      "Cliente 2 atendido por la instalacion 2.\n",
      "Cliente 3 atendido por la instalacion 2.\n",
      "Cliente 6 atendido por la instalacion 2.\n",
      "Cliente 8 atendido por la instalacion 2.\n",
      "Cliente 4 no es atendido.\n"
     ]
    }
   ],
   "source": [
    "# Curso de implementacion de programas lineales enteros\n",
    "# Ejemplo: Modelo de localización de instalaciones (facility location)\n",
    "# EPN (2020)\n",
    "\n",
    "from gurobipy import *\n",
    "try:\n",
    "    # Parametros del modelo\n",
    "    # Demandas de los clientes\n",
    "    J, d = multidict(tupledict({1 : 10, 2 : 5,  3 : 7, 4 : 8, \n",
    "                 5 : 7,  6 : 6,  7 : 8, 8 : 7}))\n",
    "\n",
    "    # Capacidad y costo fijo de construccion para instalaciones\n",
    "    I, u, f = multidict(tupledict({1 : (25, 2500),\n",
    "                                   2 : (25, 2550),\n",
    "                                   3 : (27, 2850),\n",
    "                                   4 : (26, 2570),\n",
    "                                   5 : (26, 2570)}))\n",
    "\n",
    "    # Costos de atencion\n",
    "    c = tupledict({(1,1) : 25, (1,2): 30, (1,3): 32, (1,4): 35, (1,5): 37, (1,6): 50, (1,7): 23, (1,8) : 48,\n",
    "                   (2,1) : 50, (2,2): 20, (2,3): 22, (2,4): 39, (2,5): 36, (2,6): 20, (2,7): 50, (2,8) : 25,\n",
    "                   (3,1) : 35, (3,2): 25, (3,3): 18, (3,4): 50, (3,5): 45, (3,6): 35, (3,7): 33, (3,8) : 32,\n",
    "                   (4,1) : 25, (4,2): 20, (4,3): 26, (4,4): 20, (4,5): 20, (4,6): 25, (4,7): 37, (4,8) : 35,\n",
    "                   (5,1) : 45, (5,2): 23, (5,3): 20, (5,4): 46, (5,5): 41, (5,6): 24, (5,7): 38, (5,8) : 21})\n",
    "\n",
    "    # Multas\n",
    "    M = 890\n",
    "    \n",
    "    # Crear el objeto modelo\n",
    "    m = Model('facility-location')\n",
    "\n",
    "    # Asignacion instalaciones-clientes:\n",
    "    x = m.addVars(I, J, vtype = GRB.BINARY, name=\"x\")\n",
    "\n",
    "    # Construccion de instalaciones\n",
    "    y = m.addVars(I, vtype = GRB.BINARY, name=\"y\")\n",
    "\n",
    "    # Atencion de clientes\n",
    "    z = m.addVars(J, vtype = GRB.BINARY, name=\"z\")\n",
    "\n",
    "    # Funcion objetivo\n",
    "    # costos fijos de construccion\n",
    "    costo_construccion = y.prod(f, '*')\n",
    "\n",
    "    # costos de atencion a clientes\n",
    "    costo_atencion = x.prod(c, '*', '*')\n",
    "\n",
    "    # multas por no atencion\n",
    "    multas = M*(len(J) - z.sum('*'))\n",
    "\n",
    "    m.setObjective(costo_construccion + costo_atencion + multas, GRB.MINIMIZE)\n",
    "    \n",
    "    # Restricciones\n",
    "    # Si un cliente es atendido, es asignado a una sola instalación\n",
    "    m.addConstrs((x.sum('*', j) == z[j] for j in J), \"asig\") \n",
    "\n",
    "    # Los clientes son asignados solamente a instalaciones construidas, \n",
    "    # respetando su capacidad\n",
    "    m.addConstrs((quicksum(d[j] * x[i,j] for j in J) <= u[i]*y[i] for i in I), \"capacidad\")\n",
    "    \n",
    "    # Resolver el modelo\n",
    "    m.optimize()\n",
    "    \n",
    "    # Mostrar la solución\n",
    "    # Instalaciones a construir\n",
    "    for i in I:\n",
    "        if y[i].x >= 0.99:\n",
    "            print(\"Se construye la instalacion {}.\".format(i))\n",
    "        \n",
    "    # Asignación de clientes a instalaciones\n",
    "    for i in I:\n",
    "        for j in J:\n",
    "            if x[i, j].x >= 0.99:\n",
    "                print(\"Cliente {} atendido por la instalacion {}.\".format(j, i))\n",
    "            \n",
    "    # Clientes no atendidos\n",
    "    for j in J:\n",
    "        if z[j].x <= 0.01:\n",
    "            print(\"Cliente {} no es atendido.\".format(j))    \n",
    "except GurobiError as e:\n",
    "    print('Se produjo un error de Gurobi: codigo: ' + str(e.errno) + \": \" + str(e))\n",
    "\n",
    "except AttributeError:\n",
    "    print('Se produjo un error de atributo')"
   ]
  },
  {
   "cell_type": "code",
   "execution_count": null,
   "metadata": {},
   "outputs": [],
   "source": []
  }
 ],
 "metadata": {
  "kernelspec": {
   "display_name": "Python 3",
   "language": "python",
   "name": "python3"
  },
  "language_info": {
   "codemirror_mode": {
    "name": "ipython",
    "version": 3
   },
   "file_extension": ".py",
   "mimetype": "text/x-python",
   "name": "python",
   "nbconvert_exporter": "python",
   "pygments_lexer": "ipython3",
   "version": "3.7.6"
  }
 },
 "nbformat": 4,
 "nbformat_minor": 2
}
