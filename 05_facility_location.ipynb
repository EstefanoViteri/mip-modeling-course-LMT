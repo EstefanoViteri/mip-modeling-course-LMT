{
 "cells": [
  {
   "cell_type": "markdown",
   "metadata": {},
   "source": [
    "# Cuaderno 5: Problema de localización de instalaciones (facility location)\n",
    "\n",
    "En el problema de localización de instalaciones generalmente se requiere decidir cuáles de un conjunto de posibles instalaciones deben construirse para atender la demanda proyectada de un conjunto de clientes de manera óptima.\n",
    "\n",
    "Por ejemplo, dados un conjunto $I$ de $m$ posibles instalaciones a construir y un conjunto $J$ de $n$ clientes a atender, se requiere decidir cuáles instalaciones construir, y cómo asignar los clientes a estas instalaciones, de tal forma que se cumplan las siguientes \n",
    "restricciones:\n",
    "\n",
    "* para cada cliente $j \\in J$, su demanda $d_j$ debe ser atendida en una sola instalación; \n",
    "* para cada instalación $i \\in I$, la suma de las demandas  de los clientes atendidos por ella no puede\n",
    "superar su capacidad $u_i$;\n",
    "* es posible dejar clientes sin atender, por cada cliente no atendido se debe pagar una multa cuyo valor es $M$.\n",
    "\n",
    "La construcción de la instalación $i \\in I$ involucra un costo fijo igual a $f_i$ unidades monetarias. La atención\n",
    "de un cliente $j \\in J$ por una instalación $i \\in I$ tiene un costo unitario de $c_{ij}$ unidades monetarias.\n",
    "\n",
    "Definimos las siguientes variables binarias: \n",
    "* $y_i$, $i \\in I$, que indican si se construye o no la instalación $i$; \n",
    "* $x_{ij}$, $i \\in I$, $j \\in J$, que registran si el cliente $j$ es atendido por la instalación $i$;\n",
    "* $z_j$, $j \\in J$, que indican si el cliente $j$ es atendido por alguna instalación.\n",
    "\n",
    "Empleando estas variables, el problema de localización de instalaciones puede ser escrito como el siguiente modelo de programación lineal entera.  \n",
    "\n",
    "\\begin{align*}\n",
    "\\min &\\sum_{i \\in I} f_i y_i + \\sum_{i \\in I} \\sum_{j \\in J} c_{ij} x_{ij} + M \\sum_{j \\in J} (1 - z_j)\\\\ \n",
    "& \\mbox{s.r.}\\\\\n",
    "&\\sum_{i \\in I} x_{ij} = z_j, \\quad \\forall j \\in J, \\\\\n",
    "&\\sum_{j \\in J} d_j x_{ij} \\leq u_i y_i, \\quad \\forall i \\in I, \\\\\n",
    "& x_{ij}, y_{i}, z_j \\in \\{0, 1\\}, \\quad \\forall i \\in I, j \\in J.\n",
    "\\end{align*}\n",
    "\n",
    "Los tres términos de la función objetivo miden el costo de la construcción de las instalaciones, de la atención de los clientes y de las multas por dejar clientes inatendidos.\n",
    "\n",
    "La primera familia de restricciones contiene restricciones de enforzamiento que indican que si un cliente no es atendido ($z_j=0$) entonces no puede ser asignado a ninguna instalación. Por otra parte, cada cliente atendido ($z_j=1$) debe ser asignado a una sola instalación.\n",
    "\n",
    "La segunda familia de restricciones contiene también restricciones de enforzamiento. Estas requieren que si una instalación no es construida ($y_i=0$), entonces no puede asignarse a ella ningún cliente. Por otra parte, si la instalación $i$ es construida ($y_i=1$), entonces la suma de las demandas de los clientes asignados a $i$ no debe superar la capacidad $u_i$ de la instalación.\n",
    "\n",
    "Vamos a implementar este modelo usando la interfaz Python de Gurobi.\n"
   ]
  },
  {
   "cell_type": "markdown",
   "metadata": {},
   "source": [
    "Definimos primero los conjuntos $I$, $J$ y los parámetros $f_i$, $c_{ij}$, $M$, $d_j$ y $u_i$:"
   ]
  },
  {
   "cell_type": "code",
   "execution_count": null,
   "metadata": {},
   "outputs": [],
   "source": [
    "from gurobipy import *\n",
    "\n",
    "# Parametros del modelo\n",
    "# Demandas de los clientes\n",
    "J, d = multidict(tupledict({1 : 10, 2 : 5,  3 : 7, 4 : 8, \n",
    "                 5 : 7,  6 : 6,  7 : 8, 8 : 7}))\n",
    "\n",
    "# Capacidad y costo fijo de construccion para instalaciones\n",
    "I, u, f = multidict(tupledict({1 : (25, 2500),\n",
    "                               2 : (25, 2550),\n",
    "                               3 : (27, 2850),\n",
    "                               4 : (26, 2570),\n",
    "                               5 : (26, 2570)}))\n",
    "\n",
    "# Costos de atencion\n",
    "c = tupledict({(1,1) : 25, (1,2): 30, (1,3): 32, (1,4): 35, (1,5): 37, (1,6): 50, (1,7): 23, (1,8) : 48,\n",
    "               (2,1) : 50, (2,2): 20, (2,3): 22, (2,4): 39, (2,5): 36, (2,6): 20, (2,7): 50, (2,8) : 25,\n",
    "               (3,1) : 35, (3,2): 25, (3,3): 18, (3,4): 50, (3,5): 45, (3,6): 35, (3,7): 33, (3,8) : 32,\n",
    "               (4,1) : 25, (4,2): 20, (4,3): 26, (4,4): 20, (4,5): 20, (4,6): 25, (4,7): 37, (4,8) : 35,\n",
    "               (5,1) : 45, (5,2): 23, (5,3): 20, (5,4): 46, (5,5): 41, (5,6): 24, (5,7): 38, (5,8) : 21})\n",
    "\n",
    "# Multas\n",
    "M = 890\n",
    "\n",
    "print(\"J = {}\".format(J))\n",
    "print(\"d = {}\".format(d))\n",
    "print(\"I = {}\".format(I))\n",
    "print(\"u = {}\".format(u))\n",
    "print(\"f = {}\".format(f))\n",
    "print(\"c = {}\".format(c))\n",
    "print(\"M = {}\".format(M))"
   ]
  },
  {
   "cell_type": "markdown",
   "metadata": {},
   "source": [
    "Definimos ahora el objeto modelo y las variables del modelo:"
   ]
  },
  {
   "cell_type": "code",
   "execution_count": null,
   "metadata": {},
   "outputs": [],
   "source": [
    "m = Model('facility-location')\n",
    "\n",
    "# Asignacion instalaciones-clientes:\n",
    "x = m.addVars(I, J, vtype = GRB.BINARY, name=\"x\")\n",
    "\n",
    "# Construccion de instalaciones\n",
    "y = m.addVars(I, vtype = GRB.BINARY, name=\"y\")\n",
    "\n",
    "# Atencion de clientes\n",
    "z = m.addVars(J, vtype = GRB.BINARY, name=\"z\")"
   ]
  },
  {
   "cell_type": "markdown",
   "metadata": {},
   "source": [
    "Construimos la función objetivo a partir de sus tres términos:"
   ]
  },
  {
   "cell_type": "code",
   "execution_count": null,
   "metadata": {},
   "outputs": [],
   "source": [
    "# costos fijos de construccion\n",
    "costo_construccion = y.prod(f, '*')\n",
    "\n",
    "# costos de atencion a clientes\n",
    "costo_atencion = x.prod(c, '*', '*')\n",
    "\n",
    "# multas por no atencion\n",
    "multas = M*(len(J) - z.sum('*'))\n",
    "\n",
    "m.setObjective(costo_construccion + costo_atencion + multas, GRB.MINIMIZE)"
   ]
  },
  {
   "cell_type": "markdown",
   "metadata": {},
   "source": [
    "Finalmente, implementamos las restricciones del modelo:\n",
    "1. Cada cliente $j$ es atendido por una sola instalación, si $z_j = 1$; o no es atendido en ninguna instalación, si $z_j = 0$."
   ]
  },
  {
   "cell_type": "code",
   "execution_count": null,
   "metadata": {},
   "outputs": [],
   "source": [
    "m.addConstrs((x.sum('*', j) == z[j] for j in J), \"asig\") "
   ]
  },
  {
   "cell_type": "markdown",
   "metadata": {},
   "source": [
    "2. Asignar clientes únicamente a instalaciones que son construidas, y respetar la capacidad de las instalaciones."
   ]
  },
  {
   "cell_type": "code",
   "execution_count": null,
   "metadata": {},
   "outputs": [],
   "source": [
    "m.addConstrs((quicksum(d[j] * x[i,j] for j in J) <= u[i]*y[i] for i in I), \"capacidad\")"
   ]
  },
  {
   "cell_type": "markdown",
   "metadata": {},
   "source": [
    "Por último, optimizamos el modelo:"
   ]
  },
  {
   "cell_type": "code",
   "execution_count": null,
   "metadata": {},
   "outputs": [],
   "source": [
    "m.optimize()"
   ]
  },
  {
   "cell_type": "markdown",
   "metadata": {},
   "source": [
    "Para mostrar la solución, indicaremos las instalaciones a construir, la asignación de clientes a instalaciones y los clientes no atendidos."
   ]
  },
  {
   "cell_type": "code",
   "execution_count": null,
   "metadata": {},
   "outputs": [],
   "source": [
    "# Instalaciones a construir\n",
    "for i in I:\n",
    "    if y[i].x >= 0.99:\n",
    "        print(\"Se construye la instalacion {}.\".format(i))\n",
    "        \n",
    "# Asignacion de clientes a instalaciones\n",
    "for i in I:\n",
    "    for j in J:\n",
    "        if x[i, j].x >= 0.99:\n",
    "            print(\"Cliente {} atendido por la instalacion {}.\".format(j, i))\n",
    "            \n",
    "# Clientes no atendidos\n",
    "for j in J:\n",
    "    if z[j].x <= 0.01:\n",
    "        print(\"Cliente {} no es atendido.\".format(j))"
   ]
  },
  {
   "cell_type": "markdown",
   "metadata": {},
   "source": [
    "## Código completo\n",
    "\n",
    "Se reproduce a continuación el código completo del modelo anterior."
   ]
  },
  {
   "cell_type": "code",
   "execution_count": null,
   "metadata": {},
   "outputs": [],
   "source": [
    "# Curso de implementacion de programas lineales enteros\n",
    "# Ejemplo: Modelo de localización de instalaciones (facility location)\n",
    "# EPN (2021)\n",
    "\n",
    "from gurobipy import *\n",
    "try:\n",
    "    # Parametros del modelo\n",
    "    # Demandas de los clientes\n",
    "    J, d = multidict(tupledict({1 : 10, 2 : 5,  3 : 7, 4 : 8, \n",
    "                 5 : 7,  6 : 6,  7 : 8, 8 : 7}))\n",
    "\n",
    "    # Capacidad y costo fijo de construccion para instalaciones\n",
    "    I, u, f = multidict(tupledict({1 : (25, 2500),\n",
    "                                   2 : (25, 2550),\n",
    "                                   3 : (27, 2850),\n",
    "                                   4 : (26, 2570),\n",
    "                                   5 : (26, 2570)}))\n",
    "\n",
    "    # Costos de atencion\n",
    "    c = tupledict({(1,1) : 25, (1,2): 30, (1,3): 32, (1,4): 35, (1,5): 37, (1,6): 50, (1,7): 23, (1,8) : 48,\n",
    "                   (2,1) : 50, (2,2): 20, (2,3): 22, (2,4): 39, (2,5): 36, (2,6): 20, (2,7): 50, (2,8) : 25,\n",
    "                   (3,1) : 35, (3,2): 25, (3,3): 18, (3,4): 50, (3,5): 45, (3,6): 35, (3,7): 33, (3,8) : 32,\n",
    "                   (4,1) : 25, (4,2): 20, (4,3): 26, (4,4): 20, (4,5): 20, (4,6): 25, (4,7): 37, (4,8) : 35,\n",
    "                   (5,1) : 45, (5,2): 23, (5,3): 20, (5,4): 46, (5,5): 41, (5,6): 24, (5,7): 38, (5,8) : 21})\n",
    "\n",
    "    # Multas\n",
    "    M = 890\n",
    "    \n",
    "    # Crear el objeto modelo\n",
    "    m = Model('facility-location')\n",
    "\n",
    "    # Asignacion instalaciones-clientes:\n",
    "    x = m.addVars(I, J, vtype = GRB.BINARY, name=\"x\")\n",
    "\n",
    "    # Construccion de instalaciones\n",
    "    y = m.addVars(I, vtype = GRB.BINARY, name=\"y\")\n",
    "\n",
    "    # Atencion de clientes\n",
    "    z = m.addVars(J, vtype = GRB.BINARY, name=\"z\")\n",
    "\n",
    "    # Funcion objetivo\n",
    "    # costos fijos de construccion\n",
    "    costo_construccion = y.prod(f, '*')\n",
    "\n",
    "    # costos de atencion a clientes\n",
    "    costo_atencion = x.prod(c, '*', '*')\n",
    "\n",
    "    # multas por no atencion\n",
    "    multas = M*(len(J) - z.sum('*'))\n",
    "\n",
    "    m.setObjective(costo_construccion + costo_atencion + multas, GRB.MINIMIZE)\n",
    "    \n",
    "    # Restricciones\n",
    "    # Si un cliente es atendido, es asignado a una sola instalación\n",
    "    m.addConstrs((x.sum('*', j) == z[j] for j in J), \"asig\") \n",
    "\n",
    "    # Los clientes son asignados solamente a instalaciones construidas, \n",
    "    # respetando su capacidad\n",
    "    m.addConstrs((quicksum(d[j] * x[i,j] for j in J) <= u[i]*y[i] for i in I), \"capacidad\")\n",
    "    \n",
    "    # Resolver el modelo\n",
    "    m.optimize()\n",
    "    \n",
    "    # Mostrar la solución\n",
    "    # Instalaciones a construir\n",
    "    for i in I:\n",
    "        if y[i].x >= 0.99:\n",
    "            print(\"Se construye la instalacion {}.\".format(i))\n",
    "        \n",
    "    # Asignación de clientes a instalaciones\n",
    "    for i in I:\n",
    "        for j in J:\n",
    "            if x[i, j].x >= 0.99:\n",
    "                print(\"Cliente {} atendido por la instalacion {}.\".format(j, i))\n",
    "            \n",
    "    # Clientes no atendidos\n",
    "    for j in J:\n",
    "        if z[j].x <= 0.01:\n",
    "            print(\"Cliente {} no es atendido.\".format(j))    \n",
    "except GurobiError as e:\n",
    "    print('Se produjo un error de Gurobi: codigo: ' + str(e.errno) + \": \" + str(e))\n",
    "\n",
    "except AttributeError:\n",
    "    print('Se produjo un error de atributo')"
   ]
  },
  {
   "cell_type": "code",
   "execution_count": null,
   "metadata": {},
   "outputs": [],
   "source": [
    "m.write('facility-location.lp')"
   ]
  },
  {
   "cell_type": "code",
   "execution_count": null,
   "metadata": {},
   "outputs": [],
   "source": []
  }
 ],
 "metadata": {
  "kernelspec": {
   "display_name": "Python 3",
   "language": "python",
   "name": "python3"
  },
  "language_info": {
   "codemirror_mode": {
    "name": "ipython",
    "version": 3
   },
   "file_extension": ".py",
   "mimetype": "text/x-python",
   "name": "python",
   "nbconvert_exporter": "python",
   "pygments_lexer": "ipython3",
   "version": "3.8.5"
  }
 },
 "nbformat": 4,
 "nbformat_minor": 2
}
