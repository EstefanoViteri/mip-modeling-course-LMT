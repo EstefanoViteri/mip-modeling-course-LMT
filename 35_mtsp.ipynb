{
 "cells": [
  {
   "cell_type": "markdown",
   "metadata": {},
   "source": [
    "# Cuaderno 33: El problema del agente viajero múltiple ($k$-ATSP)\n",
    "\n",
    "$\\newcommand{\\card}[1]{\\left| #1 \\right|}$\n",
    "$\\newcommand{\\tabulatedset}[1]{\\left\\{ #1 \\right\\}}$\n",
    "$\\newcommand{\\ZZ}{\\mathbb{Z}}$\n",
    "$\\newcommand{\\RR}{\\mathbb{R}}$\n",
    "\n",
    "Dados: \n",
    "* un grafo dirigido **completo** $D=(V,A)$, donde $V= \\{0, \\ldots, n\\}$;\n",
    "* un número entero $k$; y,\n",
    "* un vector $c \\in \\ZZ^{A}$ de costos asociados a los arcos de $D$.\n",
    "\n",
    "El *problema del agente viajero asimétrico múltiple (Multiple Asymmetric Traveling Salesman Problem, $k$-ATSP)* consiste en encontrar un conjunto de $k$ circuitos dirigidos con las siguientes propiedades:\n",
    "* todos los circuitos deben contener al nodo 0 (también conocido como *nodo base* o *nodo depósito*);\n",
    "* cada uno de los demás nodos $1, \\ldots, n$ debe pertenecer exactamente a un circuito; y,\n",
    "* la suma de los costos de los arcos de todos los circuitos debe ser mínima.\n",
    "\n",
    "Notar que para todos los nodos, con excepción del nodo depósito, se cumplen las mismas restricciones de grado entrante y saliente del ATSP. El grado entrante y el grado saliente en el nodo 0 deben ser ambos iguales a $k$.\n",
    "\n",
    "Por otra parte, para impedir subciclos en una solución podemos usar las mismas estrategias que en el ATSP.\n",
    "Emplearemos en este ejemplo desigualdades de corte: para todo conjunto de nodos $W \\subset V$, con $\\emptyset \\neq W \\neq V$, la solución debe contener al menos un arco del corte entrante $\\delta^-(W)$ y al menos un arco del corte saliente $\\delta^+(W)$, donde\n",
    "\n",
    "\\begin{align*}\n",
    "\\delta^-(W) &:= \\{ (i, j) \\in A \\, : \\, i \\not\\in W, j \\in W \\},\\\\\n",
    "\\delta^+(W) &:= \\{ (i, j) \\in A \\, : \\, i \\in W, j \\not\\in W \\}, \n",
    "\\end{align*}\n",
    "\n",
    "\n",
    "Utilizando variables binarias $x_{ij}$ para indicar la selección de arcos, el $k$-ATSP puede formularse como el siguiente programa lineal entero:\n",
    "\n",
    "\\begin{align*}\n",
    "\\min &\\sum_{(i,j) \\in A} c_{ij} x_{ij}\\\\ \n",
    "& \\mbox{s.r.}\\\\\n",
    "&\\sum_{(i,j) \\in \\delta^+(i) } x_{ij} = 1, \\quad \\forall i \\in V \\setminus \\{0\\},\\\\\n",
    "&\\sum_{(j,i) \\in \\delta^-(i) } x_{ji} = 1, \\quad \\forall i \\in V \\setminus \\{0\\},\\\\\n",
    "&\\sum_{(0,j) \\in \\delta^+(0) } x_{0j} = k,\\\\\n",
    "&\\sum_{(j,0) \\in \\delta^-(0) } x_{j0} = k,\\\\\n",
    "&\\sum_{(i,j) \\in \\delta^+(W)} x_{ij} \\geq 1, \\quad \\forall W \\subset V, \\emptyset \\neq W \\neq V,\\\\\n",
    "&\\sum_{(i,j) \\in \\delta^-(W)} x_{ij} \\geq 1, \\quad \\forall W \\subset V, \\emptyset \\neq W \\neq V,\\\\\n",
    "& x_{ij} \\in \\{0, 1\\}, \\quad \\forall (i,j) \\in A.\n",
    "\\end{align*}\n",
    "\n",
    "Vamos a implementar este modelo usando la interfaz Python de Gurobi.\n",
    "\n"
   ]
  },
  {
   "cell_type": "markdown",
   "metadata": {},
   "source": [
    "Definimos primero los datos. Usaremos la función `randint` del módulo random para generar valores aleatorios en el rango {0,..,100} para las coordenadas de cada nodo. Los costos de los arcos serán iguales a las distancias euclideanas entre sus nodos extremos. "
   ]
  },
  {
   "cell_type": "code",
   "execution_count": 1,
   "metadata": {},
   "outputs": [],
   "source": [
    "from gurobipy import *\n",
    "import random as rm\n",
    "import math \n",
    "\n",
    "# Numero de nodos del grafo\n",
    "n = 10\n",
    "\n",
    "# Numero de toures en la solucion\n",
    "k = 3\n",
    "\n",
    "# Nodos del grafo\n",
    "V = tuplelist(range(0,n+1))\n",
    "# Nodos sin el depósito\n",
    "V1 = tuplelist([i for i in V if i!=0])\n",
    "\n",
    "# Posiciones de los nodos en un plano euclideano entre (0,0) y (100, 100)\n",
    "# El depósito está en el centro\n",
    "coordx={0 : 50}\n",
    "coordy={0 : 50}\n",
    "for i in V1:\n",
    "    coordx[i] = rm.randint(0,100)\n",
    "    coordy[i] = rm.randint(0,100)\n",
    "\n",
    "# los costos son las distancias eculideanas\n",
    "c = tupledict({})\n",
    "for i in V:\n",
    "    for j in V:\n",
    "        # evitar lazos\n",
    "        if i != j:\n",
    "            c[i,j]= math.sqrt((coordx[i] - coordx[j])**2 + (coordy[i] - coordy[j])**2)\n",
    " \n",
    "A = c.keys()\n",
    "\n"
   ]
  },
  {
   "cell_type": "markdown",
   "metadata": {},
   "source": [
    "Vamos a necesitar construir una restricción de corte para cada subconjunto de nodos $W \\subset V$ tal que $\\emptyset \\neq W \\neq V$. Con esta finalidad, definimos una función `powerset` empleando las funciones `chain` y `combinations` del módulo `itertools`."
   ]
  },
  {
   "cell_type": "code",
   "execution_count": 2,
   "metadata": {},
   "outputs": [],
   "source": [
    "from itertools import chain, combinations\n",
    "\n",
    "def powerset(iterable):\n",
    "    \"powerset([1,2,3]) --> () (1,) (2,) (3,) (1,2) (1,3) (2,3) (1,2,3)\"\n",
    "    s = list(iterable)\n",
    "    return chain.from_iterable(combinations(s, r) for r in range(len(s)+1))\n"
   ]
  },
  {
   "cell_type": "markdown",
   "metadata": {},
   "source": [
    "Emplearemos el módulo `matplotlib` para graficar el tour de la solución. Definiremos para ello la función `dibujarTour` que recibe tres argumentos: una lista `coordx` con las coordenadas horizontales de los nodos, una lista `coordy` con las coordenadas verticales y un vector `tour` indicando el orden de visita en la solución. Notar que en este caso, `tour` puede contener varias veces al nodo depósito."
   ]
  },
  {
   "cell_type": "code",
   "execution_count": 3,
   "metadata": {},
   "outputs": [],
   "source": [
    "import matplotlib.pyplot as plt\n",
    "import random\n",
    "\n",
    "def dibujarTour(coordx, coordy, tour):\n",
    "    x = [coordx[i] for i in tour]\n",
    "    y = [coordy[i] for i in tour]\n",
    "    plt.plot(x, y, 'ro')\n",
    "    Tx = [coordx[i] for i in tour]\n",
    "    Ty = [coordy[i] for i in tour]\n",
    "    Tx.append(coordx[tour[0]])\n",
    "    Ty.append(coordy[tour[0]])\n",
    "    plt.plot(Tx, Ty, 'b-')\n",
    "    plt.show()"
   ]
  },
  {
   "cell_type": "markdown",
   "metadata": {},
   "source": [
    "Definimos ahora el objeto modelo, las variables y la función objetivo:"
   ]
  },
  {
   "cell_type": "code",
   "execution_count": 10,
   "metadata": {},
   "outputs": [],
   "source": [
    "# Crear el objeto modelo\n",
    "m = Model('k-tsp-corte')\n",
    "\n",
    "# Crear las variables\n",
    "x = m.addVars(A, name=\"x\", vtype=GRB.BINARY)\n",
    "\n",
    "# Crear la funcion objetivo\n",
    "m.setObjective(x.prod(c,'*'), GRB.MINIMIZE)\n"
   ]
  },
  {
   "cell_type": "markdown",
   "metadata": {},
   "source": [
    "Añadimos las restricciones de grado en los nodos distintos al depósito. "
   ]
  },
  {
   "cell_type": "code",
   "execution_count": 11,
   "metadata": {},
   "outputs": [
    {
     "data": {
      "text/plain": [
       "{1: <gurobi.Constr *Awaiting Model Update*>,\n",
       " 2: <gurobi.Constr *Awaiting Model Update*>,\n",
       " 3: <gurobi.Constr *Awaiting Model Update*>,\n",
       " 4: <gurobi.Constr *Awaiting Model Update*>,\n",
       " 5: <gurobi.Constr *Awaiting Model Update*>,\n",
       " 6: <gurobi.Constr *Awaiting Model Update*>,\n",
       " 7: <gurobi.Constr *Awaiting Model Update*>,\n",
       " 8: <gurobi.Constr *Awaiting Model Update*>,\n",
       " 9: <gurobi.Constr *Awaiting Model Update*>,\n",
       " 10: <gurobi.Constr *Awaiting Model Update*>}"
      ]
     },
     "execution_count": 11,
     "metadata": {},
     "output_type": "execute_result"
    }
   ],
   "source": [
    "# Restricciones de grado saliente\n",
    "m.addConstrs((x.sum(i,'*') == 1 for i in V1), \"g_saliente\")\n",
    "\n",
    "# Restricciones de grado entrante\n",
    "m.addConstrs((x.sum('*', i) == 1 for i in V1), \"g_entrante\")\n"
   ]
  },
  {
   "cell_type": "markdown",
   "metadata": {},
   "source": [
    "Agregamos las restricciones de grado entrante y saliente en el depósito."
   ]
  },
  {
   "cell_type": "code",
   "execution_count": 12,
   "metadata": {},
   "outputs": [
    {
     "data": {
      "text/plain": [
       "<gurobi.Constr *Awaiting Model Update*>"
      ]
     },
     "execution_count": 12,
     "metadata": {},
     "output_type": "execute_result"
    }
   ],
   "source": [
    "# Restriccion de grado saliente deposito\n",
    "m.addConstr(x.sum(0,'*') == k, \"d_saliente\")\n",
    "\n",
    "# Restriccion de grado entrante deposito\n",
    "m.addConstr(x.sum('*', 0) == k, \"d_entrante\")\n"
   ]
  },
  {
   "cell_type": "markdown",
   "metadata": {},
   "source": [
    "Para construir las restricciones de corte, usamos la función `powerset` para iterar sobre todos los subconjuntos de nodos $W$ tales que $\\emptyset \\neq W \\neq V$. Para cada subconjunto, se construye primero el conjunto `Wc` con su \n",
    "complemento, es decir, con los nodos de $V$ que no están en $W$. La expresión `x.sum(W, Wc)` construye la suma de las variables asociadas a aristas que tienen el primer extremo en $W$ y el otro extremo fuera de $W$. De manera similar, `x.sum(Wc, W)` construye la suma de las variables asociadas a aristas que tienen el primer extremo fuera de $W$ y el otro extremo en $W$. Con estas expresiones construimos las restricciones de corte entrante y saliente."
   ]
  },
  {
   "cell_type": "code",
   "execution_count": 13,
   "metadata": {},
   "outputs": [],
   "source": [
    "# Restricciones de corte\n",
    "PV = list(powerset(V))\n",
    "for W in PV:\n",
    "    if W!=() and W!=tuple(V):\n",
    "        Wc = [i for i in V if i not in W]\n",
    "        # Corte saliente\n",
    "        m.addConstr(x.sum(W, Wc) >= 1, \"corte_sal[{}]\".format(W))\n",
    "        # Corte entrante\n",
    "        m.addConstr(x.sum(Wc, W) >= 1, \"corte_ent[{}]\".format(W))\n"
   ]
  },
  {
   "cell_type": "markdown",
   "metadata": {},
   "source": [
    "Escribimos el modelo a un archivo de texto:"
   ]
  },
  {
   "cell_type": "code",
   "execution_count": 14,
   "metadata": {},
   "outputs": [
    {
     "name": "stdout",
     "output_type": "stream",
     "text": [
      "Warning: constraint name \"corte_sal[(0, 1)]\" has a space\n"
     ]
    }
   ],
   "source": [
    "# Escribir el modelo a un archivo\n",
    "m.write('k-tsp-corte.lp')\n"
   ]
  },
  {
   "cell_type": "markdown",
   "metadata": {},
   "source": [
    "Finalmente, resolvemos el modelo y mostramos la solución:"
   ]
  },
  {
   "cell_type": "code",
   "execution_count": 15,
   "metadata": {},
   "outputs": [
    {
     "name": "stdout",
     "output_type": "stream",
     "text": [
      "Optimize a model with 4114 rows, 110 columns and 112860 nonzeros\n",
      "Variable types: 0 continuous, 110 integer (110 binary)\n",
      "Coefficient statistics:\n",
      "  Matrix range     [1e+00, 1e+00]\n",
      "  Objective range  [5e+00, 1e+02]\n",
      "  Bounds range     [1e+00, 1e+00]\n",
      "  RHS range        [1e+00, 3e+00]\n",
      "Found heuristic solution: objective 562.6362614\n",
      "Presolve removed 2068 rows and 0 columns\n",
      "Presolve time: 0.07s\n",
      "Presolved: 2046 rows, 110 columns, 56320 nonzeros\n",
      "Variable types: 0 continuous, 110 integer (110 binary)\n",
      "\n",
      "Root relaxation: objective 2.740619e+02, 27 iterations, 0.01 seconds\n",
      "\n",
      "    Nodes    |    Current Node    |     Objective Bounds      |     Work\n",
      " Expl Unexpl |  Obj  Depth IntInf | Incumbent    BestBd   Gap | It/Node Time\n",
      "\n",
      "*    0     0               0     274.0618538  274.06185  0.00%     -    0s\n",
      "\n",
      "Explored 0 nodes (27 simplex iterations) in 0.11 seconds\n",
      "Thread count was 8 (of 8 available processors)\n",
      "\n",
      "Solution count 2: 274.062 562.636 \n",
      "\n",
      "Optimal solution found (tolerance 1.00e-04)\n",
      "Best objective 2.740618537505e+02, best bound 2.740618537505e+02, gap 0.0000%\n",
      "\n",
      "Toures optimos:\n",
      "0 -> 2\n",
      "0 -> 5\n",
      "0 -> 8\n",
      "1 -> 0\n",
      "2 -> 7\n",
      "3 -> 0\n",
      "4 -> 3\n",
      "5 -> 0\n",
      "6 -> 1\n",
      "7 -> 10\n",
      "8 -> 9\n",
      "9 -> 6\n",
      "10 -> 4\n"
     ]
    }
   ],
   "source": [
    "# Calcular la solucion optima\n",
    "m.optimize()\n",
    "\n",
    "# Escribir la solucion\n",
    "if m.status == GRB.Status.OPTIMAL:\n",
    "    # Recuperar los valores de las variables\n",
    "    vx = m.getAttr('x', x)\n",
    "    print('\\nToures optimos:')\n",
    "    for i,j in A:\n",
    "        if vx[i,j] > 0:\n",
    "            print('{} -> {}'.format(i, j))\n"
   ]
  },
  {
   "cell_type": "code",
   "execution_count": 16,
   "metadata": {},
   "outputs": [
    {
     "data": {
      "image/png": "[encoded data removed]",
      "text/plain": [
       "<Figure size 432x288 with 1 Axes>"
      ]
     },
     "metadata": {
      "needs_background": "light"
     },
     "output_type": "display_data"
    }
   ],
   "source": [
    "# Crear lista con arcos seleccionados en la solucion\n",
    "L = [(i,j) for i,j in A if vx[i,j]>0]\n",
    "\n",
    "# Recuperar el tour como un ordenamiento de los nodos que empieza y termina en el deposito\n",
    "T = [0]\n",
    "# nodo actual:\n",
    "i = 0\n",
    "while L!=[]:\n",
    "    # Determinar un sucesor de i\n",
    "    N = [j for j in V if (i,j) in L] \n",
    "    j = N.pop()\n",
    "    a = (i,j)\n",
    "    L.remove(a)\n",
    "    # Colocar sucesor en la lista del tour y actualizar i\n",
    "    T.append(j)\n",
    "    i = j\n",
    "        \n",
    "# Graficar el tour\n",
    "dibujarTour(coordx, coordy, T)    "
   ]
  },
  {
   "cell_type": "markdown",
   "metadata": {},
   "source": [
    "## Código completo\n",
    "\n",
    "Se reproduce a continuación el código completo del modelo anterior."
   ]
  },
  {
   "cell_type": "code",
   "execution_count": 17,
   "metadata": {},
   "outputs": [
    {
     "name": "stdout",
     "output_type": "stream",
     "text": [
      "Optimize a model with 4114 rows, 110 columns and 112860 nonzeros\n",
      "Variable types: 0 continuous, 110 integer (110 binary)\n",
      "Coefficient statistics:\n",
      "  Matrix range     [1e+00, 1e+00]\n",
      "  Objective range  [4e+00, 1e+02]\n",
      "  Bounds range     [1e+00, 1e+00]\n",
      "  RHS range        [1e+00, 3e+00]\n",
      "Found heuristic solution: objective 558.8580325\n",
      "Presolve removed 2068 rows and 0 columns\n",
      "Presolve time: 0.07s\n",
      "Presolved: 2046 rows, 110 columns, 56320 nonzeros\n",
      "Variable types: 0 continuous, 110 integer (110 binary)\n",
      "\n",
      "Root relaxation: objective 3.596320e+02, 31 iterations, 0.01 seconds\n",
      "\n",
      "    Nodes    |    Current Node    |     Objective Bounds      |     Work\n",
      " Expl Unexpl |  Obj  Depth IntInf | Incumbent    BestBd   Gap | It/Node Time\n",
      "\n",
      "*    0     0               0     359.6319549  359.63195  0.00%     -    0s\n",
      "\n",
      "Explored 0 nodes (31 simplex iterations) in 0.12 seconds\n",
      "Thread count was 8 (of 8 available processors)\n",
      "\n",
      "Solution count 2: 359.632 558.858 \n",
      "\n",
      "Optimal solution found (tolerance 1.00e-04)\n",
      "Best objective 3.596319548967e+02, best bound 3.596319548967e+02, gap 0.0000%\n",
      "\n",
      "Toures optimos:\n",
      "0 -> 2\n",
      "0 -> 6\n",
      "0 -> 7\n",
      "1 -> 3\n",
      "2 -> 0\n",
      "3 -> 0\n",
      "4 -> 8\n",
      "5 -> 1\n",
      "6 -> 0\n",
      "7 -> 4\n",
      "8 -> 9\n",
      "9 -> 10\n",
      "10 -> 5\n"
     ]
    },
    {
     "data": {
      "image/png": "[encoded data removed]",
      "text/plain": [
       "<Figure size 432x288 with 1 Axes>"
      ]
     },
     "metadata": {
      "needs_background": "light"
     },
     "output_type": "display_data"
    }
   ],
   "source": [
    "# Implementación de modelos lineales enteros\n",
    "# Problema del agente viajero asimétrico múltiple (k-ATSP)\n",
    "\n",
    "# Luis M. Torres (EPN 2019)\n",
    "\n",
    "from gurobipy import *\n",
    "import random as rm\n",
    "import matplotlib.pyplot as plt\n",
    "from itertools import chain, combinations\n",
    "\n",
    "def powerset(iterable):\n",
    "    \"powerset([1,2,3]) --> () (1,) (2,) (3,) (1,2) (1,3) (2,3) (1,2,3)\"\n",
    "    s = list(iterable)\n",
    "    return chain.from_iterable(combinations(s, r) for r in range(len(s)+1))\n",
    "\n",
    "def dibujarTour(coordx, coordy, tour):\n",
    "    x = [coordx[i] for i in tour]\n",
    "    y = [coordy[i] for i in tour]\n",
    "    plt.plot(x, y, 'ro')\n",
    "    Tx = [coordx[i] for i in tour]\n",
    "    Ty = [coordy[i] for i in tour]\n",
    "    Tx.append(coordx[tour[0]])\n",
    "    Ty.append(coordy[tour[0]])\n",
    "    plt.plot(Tx, Ty, 'b-')\n",
    "    plt.show()\n",
    "\n",
    "# Numero de nodos del grafo\n",
    "n = 10\n",
    "\n",
    "# Numero de toures en la solucion\n",
    "k = 3\n",
    "\n",
    "# Nodos del grafo\n",
    "V = tuplelist(range(0,n+1))\n",
    "# Nodos sin el depósito\n",
    "V1 = [i for i in V if i!=0]\n",
    "\n",
    "# Posiciones de los nodos en un plano euclideano entre (0,0) y (100, 100)\n",
    "# El depósito está en el centro\n",
    "coordx={0 : 50}\n",
    "coordy={0 : 50}\n",
    "for i in V1:\n",
    "    coordx[i] = rm.randint(0,100)\n",
    "    coordy[i] = rm.randint(0,100)\n",
    "\n",
    "# los costos son las distancias eculideanas\n",
    "c = tupledict({})\n",
    "for i in V:\n",
    "    for j in V:\n",
    "        # evitar lazos\n",
    "        if i != j:\n",
    "            c[i,j]= math.sqrt((coordx[i] - coordx[j])**2 + (coordy[i] - coordy[j])**2)\n",
    " \n",
    "A = c.keys()\n",
    "\n",
    "try:\n",
    "    # Crear el objeto modelo\n",
    "    m = Model('k-tsp-corte')\n",
    "\n",
    "    # Crear las variables\n",
    "    x = m.addVars(A, name=\"x\", vtype=GRB.BINARY)\n",
    "\n",
    "    # Crear la funcion objetivo\n",
    "    m.setObjective(x.prod(c,'*'), GRB.MINIMIZE)\n",
    "\n",
    "    # Restricciones de grado saliente\n",
    "    m.addConstrs((x.sum(i,'*') == 1 for i in V1), \"g_saliente\")\n",
    "\n",
    "    # Restricciones de grado entrante\n",
    "    m.addConstrs((x.sum('*', i) == 1 for i in V1), \"g_entrante\")\n",
    "\n",
    "    # Restriccion de grado saliente deposito\n",
    "    m.addConstr(x.sum(0,'*') == k, \"d_saliente\")\n",
    "\n",
    "    # Restriccion de grado entrante deposito\n",
    "    m.addConstr(x.sum('*', 0) == k, \"d_entrante\")\n",
    "\n",
    "    # Restricciones de corte\n",
    "    PV = list(powerset(V))\n",
    "    for W in PV:\n",
    "        if W!=() and W!=tuple(V):\n",
    "            Wc = [i for i in V if i not in W]\n",
    "            # Corte saliente\n",
    "            m.addConstr(x.sum(W, Wc) >= 1, \"corte_sal[{}]\".format(W))\n",
    "            # Corte entrante\n",
    "            m.addConstr(x.sum(Wc, W) >= 1, \"corte_ent[{}]\".format(W))\n",
    "\n",
    "    # Escribir el modelo a un archivo\n",
    "    # m.write('k-tsp-corte.lp')\n",
    "\n",
    "    # Calcular la solucion optima\n",
    "    m.optimize()\n",
    "\n",
    "    # Escribir la solucion\n",
    "    if m.status == GRB.Status.OPTIMAL:\n",
    "        # Recuperar los valores de las variables\n",
    "        vx = m.getAttr('x', x)\n",
    "        print('\\nToures optimos:')\n",
    "        for i,j in A:\n",
    "            if vx[i,j] > 0:\n",
    "                print('{} -> {}'.format(i, j))\n",
    "                \n",
    "    # Crear lista con arcos seleccionados en la solucion\n",
    "    L = [(i,j) for i,j in A if vx[i,j]>0]\n",
    "\n",
    "    # Recuperar el tour como un ordenamiento de los nodos que empieza y termina en el deposito\n",
    "    T = [0]\n",
    "    # nodo actual:\n",
    "    i = 0\n",
    "    while L!=[]:\n",
    "        # Determinar un sucesor de i\n",
    "        N = [j for j in V if (i,j) in L] \n",
    "        j = N.pop()\n",
    "        a = (i,j) \n",
    "        L.remove(a)\n",
    "        # Colocar sucesor en la lista del tour y actualizar i\n",
    "        T.append(j)\n",
    "        i = j\n",
    "        \n",
    "    # Graficar el tour\n",
    "    dibujarTour(coordx, coordy, T)    \n",
    "\n",
    "except GurobiError as e:\n",
    "    print('Se produjo un error de Gurobi: codigo: ' + str(e.errno) + \": \" + str(e))\n",
    "\n",
    "except AttributeError:\n",
    "    print('Se produjo un error de atributo')"
   ]
  },
  {
   "cell_type": "markdown",
   "metadata": {},
   "source": [
    "### Creando el conjunto potencia de un conjunto en Python\n",
    "\n",
    "Para construir el conjunto potencia (la familia de subconjuntos) de cualquier iterable, pueden usarse las funciones `chain` y `combinations` del módulo `itertools`."
   ]
  },
  {
   "cell_type": "code",
   "execution_count": 9,
   "metadata": {},
   "outputs": [
    {
     "name": "stdout",
     "output_type": "stream",
     "text": [
      "[1, 2, 3, 4, 5]\n",
      "[(), (1,), (2,), (3,), (4,), (5,), (1, 2), (1, 3), (1, 4), (1, 5), (2, 3), (2, 4), (2, 5), (3, 4), (3, 5), (4, 5), (1, 2, 3), (1, 2, 4), (1, 2, 5), (1, 3, 4), (1, 3, 5), (1, 4, 5), (2, 3, 4), (2, 3, 5), (2, 4, 5), (3, 4, 5), (1, 2, 3, 4), (1, 2, 3, 5), (1, 2, 4, 5), (1, 3, 4, 5), (2, 3, 4, 5), (1, 2, 3, 4, 5)]\n",
      "(1,) 1\n",
      "(2,) 1\n",
      "(3,) 1\n",
      "(4,) 1\n",
      "(5,) 1\n",
      "(1, 2) 2\n",
      "(1, 3) 2\n",
      "(1, 4) 2\n",
      "(1, 5) 2\n",
      "(2, 3) 2\n",
      "(2, 4) 2\n",
      "(2, 5) 2\n",
      "(3, 4) 2\n",
      "(3, 5) 2\n",
      "(4, 5) 2\n",
      "(1, 2, 3) 3\n",
      "(1, 2, 4) 3\n",
      "(1, 2, 5) 3\n",
      "(1, 3, 4) 3\n",
      "(1, 3, 5) 3\n",
      "(1, 4, 5) 3\n",
      "(2, 3, 4) 3\n",
      "(2, 3, 5) 3\n",
      "(2, 4, 5) 3\n",
      "(3, 4, 5) 3\n",
      "(1, 2, 3, 4) 4\n",
      "(1, 2, 3, 5) 4\n",
      "(1, 2, 4, 5) 4\n",
      "(1, 3, 4, 5) 4\n",
      "(2, 3, 4, 5) 4\n"
     ]
    }
   ],
   "source": [
    "from itertools import chain, combinations\n",
    "\n",
    "def powerset(iterable):\n",
    "    \"powerset([1,2,3]) --> () (1,) (2,) (3,) (1,2) (1,3) (2,3) (1,2,3)\"\n",
    "    s = list(iterable)\n",
    "    return chain.from_iterable(combinations(s, r) for r in range(len(s)+1))\n",
    "\n",
    "V = tuplelist([1, 2, 3, 4, 5])\n",
    "L = list(powerset(V))\n",
    "print V\n",
    "print L\n",
    "\n",
    "for W in L:\n",
    "    if W!=() and W!=tuple(V):\n",
    "        print W, len(W)"
   ]
  },
  {
   "cell_type": "code",
   "execution_count": null,
   "metadata": {},
   "outputs": [],
   "source": []
  }
 ],
 "metadata": {
  "kernelspec": {
   "display_name": "Python 3 (ipykernel)",
   "language": "python",
   "name": "python3"
  },
  "language_info": {
   "codemirror_mode": {
    "name": "ipython",
    "version": 3
   },
   "file_extension": ".py",
   "mimetype": "text/x-python",
   "name": "python",
   "nbconvert_exporter": "python",
   "pygments_lexer": "ipython3",
   "version": "3.8.12"
  }
 },
 "nbformat": 4,
 "nbformat_minor": 2
}
