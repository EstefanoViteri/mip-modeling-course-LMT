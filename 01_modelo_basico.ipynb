{
 "cells": [
  {
   "cell_type": "markdown",
   "metadata": {},
   "source": [
    "# Cuaderno 9: Interfaz Python de Gurobi - Introducción\n",
    "\n",
    "Describiremos en este cuaderno el uso básico de la interfaz Python de Gurobi para crear y resolver un modelo de de programación lineal entera.\n",
    "\n",
    "Implementaremos el siguiente modelo, tomado del *manual de Gurobi Optimization (2020)*\n",
    "\\begin{align*}\n",
    "&\\max x + y + 2z\\\\\n",
    "&\\mbox{s.r.}\\\\\n",
    "& x + 2y + 3z \\leq 4\\\\\n",
    "& x + y \\geq 1\\\\\n",
    "& x,y,z \\in \\{0, 1\\}\n",
    "\\end{align*}\n",
    "\n",
    "Lo primero que debemos hacer es importar el módulo `gurobipy` con las clases y funciones de la interfaz de Gurobi. Usamos la forma `from <modulo> import *` para evitar tener que repetir el nombre del módulo en el resto del programa:"
   ]
  },
  {
   "cell_type": "code",
   "execution_count": 13,
   "metadata": {},
   "outputs": [],
   "source": [
    "from gurobipy import *"
   ]
  },
  {
   "cell_type": "markdown",
   "metadata": {},
   "source": [
    "Luego llamamos al constructor `Model(<nombre_del_modelo>)` para crear un nuevo objeto que representará al modelo de programación lineal entera."
   ]
  },
  {
   "cell_type": "code",
   "execution_count": 14,
   "metadata": {},
   "outputs": [],
   "source": [
    "m = Model(\"mip1\")"
   ]
  },
  {
   "cell_type": "markdown",
   "metadata": {},
   "source": [
    "La construcción, modificación y solución de este modelo se realiza a través de métodos de la clase Model.\n",
    "\n",
    "Lo primero que debemos hacer es agregar variables al modelo. Para ello se puede emplear el método `addVar()`. Dos argumentos importantes que se pueden pasar a este método son `vtype`, que indica el tipo de la variable; y `name` que almacena su nombre como una cadena de caracteres.\n",
    "\n",
    "Los valores posibles para `vtype` son `GRB.BINARY` (variables binarias), `GRB.INTEGER` (variables enteras no negativas) y `GRB.CONTINUOUS` (variables reales no negativas). "
   ]
  },
  {
   "cell_type": "code",
   "execution_count": 15,
   "metadata": {},
   "outputs": [],
   "source": [
    "# Definir a x,y,z, como variables binarias\n",
    "x = m.addVar(vtype=GRB.BINARY, name=\"x\")\n",
    "y = m.addVar(vtype=GRB.BINARY, name=\"y\")\n",
    "z = m.addVar(vtype=GRB.BINARY, name=\"z\")"
   ]
  },
  {
   "cell_type": "markdown",
   "metadata": {},
   "source": [
    "El siguiente paso es construir la función objetivo del modelo llamando al método `setObjective`. Este método recibe dos parámetros: una *expresión lineal* con la función objetivo en sí, y una constante que indica el sentido de la optimización. Para el segundo parámetro debe pasarse uno de los dos valores: `GRB.MAXIMIZE` o `GRB.MINIMIZE`."
   ]
  },
  {
   "cell_type": "code",
   "execution_count": 16,
   "metadata": {},
   "outputs": [],
   "source": [
    "# Definir la función objetivo e indicar que se trata de maximizacion\n",
    "m.setObjective(x + y + 2 * z, GRB.MAXIMIZE)"
   ]
  },
  {
   "cell_type": "markdown",
   "metadata": {},
   "source": [
    "Observar más de cerca el primer parámetro: la interfaz Python de Gurobi define un nuevo tipo de datos específico para construir **expresiones lineales**. Una expresión lineal se compone de una suma o resta de *términos lineales*. Cada término lineal puede ser una variable (ej: `x`), un número, o el producto de un número con una variable (ej: `2 * z`).\n",
    "\n",
    "Una vez definida la función objetivo del modelo, el paso siguiente es agregar las restricciones llamando al método `addConstr()`:"
   ]
  },
  {
   "cell_type": "code",
   "execution_count": 17,
   "metadata": {},
   "outputs": [
    {
     "data": {
      "text/plain": [
       "<gurobi.Constr *Awaiting Model Update*>"
      ]
     },
     "execution_count": 17,
     "metadata": {},
     "output_type": "execute_result"
    }
   ],
   "source": [
    "# Agregar dos restricciones al modelo\n",
    "m.addConstr(x + 2 * y + 3 * z <= 4, \"c0\")\n",
    "m.addConstr(x + y >= 1, \"c1\")"
   ]
  },
  {
   "cell_type": "markdown",
   "metadata": {},
   "source": [
    "El primer parámetro de la función `addConstr()` es una restricción lineal, el segundo parámetro es una cadena de caracteres que almacena el nombre de la restricción.\n",
    "\n",
    "La interfaz Python de Gurobi define un nuevo tipo de datos específico para representar **restricciones lineales**. Una expresión de este tipo se construye a partir de una expresión lineal; seguida por uno de los tres operadores de comparación `<=`, `==`, o `>=`; seguida por un número o por una segunda expresión lineal.\n",
    "\n",
    "Para resolver el modelo, se llama al método `optimize()`:"
   ]
  },
  {
   "cell_type": "code",
   "execution_count": 18,
   "metadata": {},
   "outputs": [
    {
     "name": "stdout",
     "output_type": "stream",
     "text": [
      "Gurobi Optimizer version 9.0.2 build v9.0.2rc0 (mac64)\n",
      "Optimize a model with 2 rows, 3 columns and 5 nonzeros\n",
      "Model fingerprint: 0xf43f5bdf\n",
      "Variable types: 0 continuous, 3 integer (3 binary)\n",
      "Coefficient statistics:\n",
      "  Matrix range     [1e+00, 3e+00]\n",
      "  Objective range  [1e+00, 2e+00]\n",
      "  Bounds range     [1e+00, 1e+00]\n",
      "  RHS range        [1e+00, 4e+00]\n",
      "Found heuristic solution: objective 2.0000000\n",
      "Presolve removed 2 rows and 3 columns\n",
      "Presolve time: 0.00s\n",
      "Presolve: All rows and columns removed\n",
      "\n",
      "Explored 0 nodes (0 simplex iterations) in 0.10 seconds\n",
      "Thread count was 1 (of 4 available processors)\n",
      "\n",
      "Solution count 2: 3 \n",
      "\n",
      "Optimal solution found (tolerance 1.00e-04)\n",
      "Best objective 3.000000000000e+00, best bound 3.000000000000e+00, gap 0.0000%\n"
     ]
    }
   ],
   "source": [
    "# Optimizar el modelo\n",
    "m.optimize()"
   ]
  },
  {
   "cell_type": "markdown",
   "metadata": {},
   "source": [
    "Al llamar a `optimize()`, se invocan automáticamente las funciones de la biblioteca de Gurobi necesarias para resolver el modelo. Se muestra la salida de las mismas.\n",
    "\n",
    "Una vez terminada la solución del modelo, puede consultarse el valor óptimo de la función objetivo (en caso de que el modelo haya sido resuelto hasta la optimalidad) consultando el valor de `objVal`. Por otra parte, el método `m.getVars()` retorna una lista con las variables del modelo, la misma que puede iterarse para consultar información como el valor de cada variable:"
   ]
  },
  {
   "cell_type": "code",
   "execution_count": 22,
   "metadata": {},
   "outputs": [
    {
     "name": "stdout",
     "output_type": "stream",
     "text": [
      "Valor optimo: 3.0\n",
      "Datos de las variables\n",
      "Nombre: x\t\tValor: 1.0\n",
      "Nombre: y\t\tValor: 0.0\n",
      "Nombre: z\t\tValor: 1.0\n"
     ]
    }
   ],
   "source": [
    "# Valor de la funcion objetivo\n",
    "print('Valor optimo: {}'.format(m.objVal))\n",
    "# Datos de las variables\n",
    "print('Datos de las variables')\n",
    "for v in m.getVars():\n",
    "    print('Nombre: {}\\t\\tValor: {}'.format(v.varName, v.x))"
   ]
  },
  {
   "cell_type": "markdown",
   "metadata": {},
   "source": [
    "## Código completo\n",
    "\n",
    "Se reproduce a continuación el código completo del modelo anterior, tal como se encuentra documentado en el manual de Gurobi.\n",
    "\n",
    "Observar que las instrucciones anteriores están contenidas dentro de un bloque `try` ... `except`. Esta es una práctica recomendada para el correcto manejo de las excepciones que pudieran producirse durante la construcción y solución del modelo."
   ]
  },
  {
   "cell_type": "code",
   "execution_count": 31,
   "metadata": {},
   "outputs": [
    {
     "name": "stdout",
     "output_type": "stream",
     "text": [
      "Gurobi Optimizer version 9.0.2 build v9.0.2rc0 (mac64)\n",
      "Optimize a model with 2 rows, 3 columns and 5 nonzeros\n",
      "Model fingerprint: 0xf43f5bdf\n",
      "Variable types: 0 continuous, 3 integer (3 binary)\n",
      "Coefficient statistics:\n",
      "  Matrix range     [1e+00, 3e+00]\n",
      "  Objective range  [1e+00, 2e+00]\n",
      "  Bounds range     [1e+00, 1e+00]\n",
      "  RHS range        [1e+00, 4e+00]\n",
      "Found heuristic solution: objective 2.0000000\n",
      "Presolve removed 2 rows and 3 columns\n",
      "Presolve time: 0.00s\n",
      "Presolve: All rows and columns removed\n",
      "\n",
      "Explored 0 nodes (0 simplex iterations) in 0.09 seconds\n",
      "Thread count was 1 (of 4 available processors)\n",
      "\n",
      "Solution count 2: 3 \n",
      "\n",
      "Optimal solution found (tolerance 1.00e-04)\n",
      "Best objective 3.000000000000e+00, best bound 3.000000000000e+00, gap 0.0000%\n",
      "x 1\n",
      "y 0\n",
      "z 1\n",
      "Obj: 3\n"
     ]
    }
   ],
   "source": [
    "#!/usr/bin/env python3.7\n",
    "\n",
    "# Copyright 2020, Gurobi Optimization, LLC\n",
    "\n",
    "# This example formulates and solves the following simple MIP model:\n",
    "#  maximize\n",
    "#        x +   y + 2 z\n",
    "#  subject to\n",
    "#        x + 2 y + 3 z <= 4\n",
    "#        x +   y       >= 1\n",
    "#        x, y, z binary\n",
    "\n",
    "import gurobipy as gp\n",
    "from gurobipy import GRB\n",
    "\n",
    "try:\n",
    "\n",
    "    # Create a new model\n",
    "    m = gp.Model(\"mip1\")\n",
    "\n",
    "    # Create variables\n",
    "    x = m.addVar(vtype=GRB.BINARY, name=\"x\")\n",
    "    y = m.addVar(vtype=GRB.BINARY, name=\"y\")\n",
    "    z = m.addVar(vtype=GRB.BINARY, name=\"z\")\n",
    "\n",
    "    # Set objective\n",
    "    m.setObjective(x + y + 2 * z, GRB.MAXIMIZE)\n",
    "\n",
    "    # Add constraint: x + 2 y + 3 z <= 4\n",
    "    m.addConstr(x + 2 * y + 3 * z <= 4, \"c0\")\n",
    "    # m.addConstr(x + 2 * y + 3 * z >= 5, \"c2\")\n",
    "\n",
    "    # Add constraint: x + y >= 1\n",
    "    m.addConstr(x + y  >= 1, \"c1\")\n",
    "\n",
    "    # Optimize model\n",
    "    m.optimize()\n",
    "\n",
    "    for v in m.getVars():\n",
    "        print('%s %g' % (v.varName, v.x))\n",
    "\n",
    "    print('Obj: %g' % m.objVal)\n",
    "\n",
    "except gp.GurobiError as e:\n",
    "    print('Error code ' + str(e.errno) + ': ' + str(e))\n",
    "\n",
    "except AttributeError:\n",
    "    print('Encountered an attribute error')"
   ]
  },
  {
   "cell_type": "code",
   "execution_count": null,
   "metadata": {},
   "outputs": [],
   "source": []
  }
 ],
 "metadata": {
  "kernelspec": {
   "display_name": "Python 3",
   "language": "python",
   "name": "python3"
  },
  "language_info": {
   "codemirror_mode": {
    "name": "ipython",
    "version": 3
   },
   "file_extension": ".py",
   "mimetype": "text/x-python",
   "name": "python",
   "nbconvert_exporter": "python",
   "pygments_lexer": "ipython3",
   "version": "3.7.6"
  }
 },
 "nbformat": 4,
 "nbformat_minor": 2
}
