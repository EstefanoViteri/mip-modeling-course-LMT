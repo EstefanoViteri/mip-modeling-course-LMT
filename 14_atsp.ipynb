{
 "cells": [
  {
   "cell_type": "markdown",
   "metadata": {},
   "source": [
    "# Cuaderno 14: Problema del agente viajero asimétrico \n",
    "# Asymmetric Traveling Salesman Problem (ATSP)\n",
    "\n",
    "$\\newcommand{\\card}[1]{\\left| #1 \\right|}$\n",
    "$\\newcommand{\\tabulatedset}[1]{\\left\\{ #1 \\right\\}}$\n",
    "$\\newcommand{\\ZZ}{\\mathbb{Z}}$\n",
    "$\\newcommand{\\RR}{\\mathbb{R}}$\n",
    "\n",
    "Dados: \n",
    "* un grafo dirigido **completo** $D=(V,A)$; y,\n",
    "* un vector $c \\in \\ZZ^{A}$ de costos asociados a los arcos de $D$.\n",
    "\n",
    "El *problema del agente viajero asimétrico (Asymmetric Traveling Salesman Problem, ATSP)* consiste en encontrar un circuito (llamado también *tour*) que visite **todos** los nodos de $D$ y que tenga el menor costo posible. En el problema del agente viajero simétrico *(TSP)* requerimos adicionalmente que $c_{ij} = c_{ji}$ se cumpla para todo par de nodos $i,j \\in V$.\n",
    "\n",
    "El problema del agente viajero (en sus versiones simétrica y asimétrica) es un problema clásico de la optimización combinatoria que ha despertado históricamente mucho interés. Al ser un problema NP-difícil, no se conoce un algoritmo eficiente para su solución en general. El estudio de este problema ha conducido a avances significativos en el campo de la combinatoria poliedral y en el desarrollo de métodos de solución basados en la programación lineal entera. Mayor información sobre este tópico está disponible [en el siguiente enlace](https://www.math.uwaterloo.ca/tsp/index.html). En el mismo sitio web está además disponible el solver [Concorde](https://www.math.uwaterloo.ca/tsp/concorde/index.html), que actualmente constituye una de las herramientas computacionales más rápidas para la solución exacta de instancias del TSP. \n",
    "\n",
    "Utilizando variables binarias $x_{ij}$ para indicar la selección de arcos en el circuito, el problema del agente viajero puede formularse como el siguiente programa lineal entero:\n",
    "\n",
    "\\begin{align*}\n",
    "\\min &\\sum_{(i,j) \\in A} c_{ij} x_{ij}\\\\ \n",
    "& \\mbox{s.r.}\\\\\n",
    "&\\sum_{(j, i) \\in A} x_{ji} = 1, \\quad \\forall i \\in V,\\\\\n",
    "&\\sum_{(i, j) \\in A} x_{ij} = 1, \\quad \\forall i \\in V,\\\\ \n",
    "&\\sum_{(i,j) \\in E(W)} x_{ij} \\leq \\card{W} - 1, \\quad \\forall W \\subset V, \\emptyset \\neq W \\neq V,\\\\\n",
    "& x_{ij} \\in \\{0, 1\\}, \\quad \\forall (i, j) \\in A.\n",
    "\\end{align*}\n",
    "donde $E(W) := \\{ (i,j) \\in A \\, : \\, i \\in W, j \\in W\\}$.\n",
    "\n",
    "La función objetivo mide el costo total de los arcos seleccionados en la solución.\n",
    "\n",
    "Las dos primeras familias contienen restricciones de grado. Estas especifican que, para cada nodo del grafo, debe seleccionarse un arco entrante y un arco saliente.\n",
    "\n",
    "Además de los toures factibles del problema del agente viajero, puede demostrarse que las únicas soluciones que satisfacen las restricciones de grado consisten de circuitos disjuntos que cubren todos los nodos del grafo. La tercera familia de restricciones se emplea para eliminar estas últimas soluciones. Para cualquier subconjunto propio de nodos $W$, se requiere que la cantidad de aristas seleccionadas que tengan sus dos extremos en $W$ debe ser menor o igual a $\\card{W} -1$. Debido a la función que cumplen, estas restricciones se conocen como *restricciones de eliminación de subtoures*. Notar que hay un restricción de este tipo por cada subconjunto propio no vacío de nodos, es decir, $2^n - 2$ restricciones para un grafo con $n$ nodos.\n",
    "\n",
    "Vamos a implementar este modelo usando la interfaz Python de Gurobi.\n",
    "\n"
   ]
  },
  {
   "cell_type": "markdown",
   "metadata": {},
   "source": [
    "Definimos primero los datos. Usaremos la función `randint` para generar puntos con coordenadas aleatorias en el rango {0,..,100}. El costo de un arco $(i,j)$ será igual a la distancia euclideana entre $i$ y $j$:"
   ]
  },
  {
   "cell_type": "code",
   "execution_count": null,
   "metadata": {},
   "outputs": [],
   "source": [
    "from gurobipy import *\n",
    "import random as rm\n",
    "import math \n",
    "\n",
    "# Numero de nodos del grafo\n",
    "n = 10\n",
    "\n",
    "# Nodos del grafo\n",
    "V = tuplelist(range(1,n+1))\n",
    "\n",
    "# Posiciones de los nodos en un plano euclideano entre (0,0) y (100, 100)\n",
    "coordx={i : rm.randint(0,100) for i in V}\n",
    "coordy={i : rm.randint(0,100) for i in V}\n",
    "\n",
    "# los costos son las distancias eculideanas\n",
    "c = tupledict({\n",
    "    (i,j) : math.sqrt((coordx[i] - coordx[j])**2 + (coordy[i] - coordy[j])**2)\n",
    "    for i in V for j in V if i!=j\n",
    "})\n",
    " \n",
    "A = c.keys()\n"
   ]
  },
  {
   "cell_type": "markdown",
   "metadata": {},
   "source": [
    "Vamos a necesitar construir una restricción de eliminación de subciclos para cada subconjunto de nodos $W \\subset V$ tal que $\\emptyset \\neq W \\neq V$. Con esta finalidad, definimos una función `powerset` empleando las funciones `chain` y `combinations` del módulo `itertools`."
   ]
  },
  {
   "cell_type": "code",
   "execution_count": null,
   "metadata": {},
   "outputs": [],
   "source": [
    "from itertools import chain, combinations\n",
    "\n",
    "def powerset(iterable):\n",
    "    \"powerset([1,2,3]) --> () (1,) (2,) (3,) (1,2) (1,3) (2,3) (1,2,3)\"\n",
    "    s = list(iterable)\n",
    "    return chain.from_iterable(combinations(s, r) for r in range(len(s)+1))\n"
   ]
  },
  {
   "cell_type": "markdown",
   "metadata": {},
   "source": [
    "Definimos ahora el objeto modelo, las variables y la función objetivo:"
   ]
  },
  {
   "cell_type": "code",
   "execution_count": null,
   "metadata": {},
   "outputs": [],
   "source": [
    "# Crear el objeto modelo\n",
    "m = Model('atsp')\n",
    "\n",
    "# Crear las variables\n",
    "x = m.addVars(A, name=\"x\", vtype=GRB.BINARY)\n",
    "\n",
    "# Crear la funcion objetivo\n",
    "m.setObjective(x.prod(c,'*'), GRB.MINIMIZE)\n"
   ]
  },
  {
   "cell_type": "markdown",
   "metadata": {},
   "source": [
    "Añadimos las restricciones de grado:"
   ]
  },
  {
   "cell_type": "code",
   "execution_count": null,
   "metadata": {},
   "outputs": [],
   "source": [
    "# Restricciones de grado saliente\n",
    "m.addConstrs((x.sum(i,'*')  == 1 for i in V), \n",
    "                 \"g_saliente\")\n",
    "    \n",
    "# Restricciones de grado entrante\n",
    "m.addConstrs((x.sum('*', i)  == 1 for i in V), \n",
    "                 \"g_entrante\")"
   ]
  },
  {
   "cell_type": "markdown",
   "metadata": {},
   "source": [
    "Para construir las restricciones de subciclos, usamos la función `powerset` para iterar sobre todos los subconjuntos de vértices $W$ tales que $\\emptyset \\neq W \\neq V$. Para cada subconjunto, la expresión `x.sum(W, W)` construye la suma de las variables asociadas a arcos con ambos extremos en $W$."
   ]
  },
  {
   "cell_type": "code",
   "execution_count": null,
   "metadata": {},
   "outputs": [],
   "source": [
    "# Restricciones de eliminación de subciclos\n",
    "for W in powerset(V):\n",
    "    if W!=() and W!=tuple(V):\n",
    "        m.addConstr(x.sum(W, W) <= len(W)-1, \"subciclo[{}]\".format(W))\n"
   ]
  },
  {
   "cell_type": "markdown",
   "metadata": {},
   "source": [
    "Escribimos el modelo a un archivo de texto:"
   ]
  },
  {
   "cell_type": "code",
   "execution_count": null,
   "metadata": {},
   "outputs": [],
   "source": [
    "# Escribir el modelo a un archivo\n",
    "m.write('tsp.lp')\n"
   ]
  },
  {
   "cell_type": "markdown",
   "metadata": {},
   "source": [
    "Finalmente, resolvemos el modelo y mostramos la solución:"
   ]
  },
  {
   "cell_type": "code",
   "execution_count": null,
   "metadata": {},
   "outputs": [],
   "source": [
    "# Calcular la solucion optima\n",
    "m.optimize()\n",
    "\n",
    "# Escribir la solucion\n",
    "if m.status == GRB.Status.OPTIMAL:\n",
    "    # Recuperar los valores de las variables\n",
    "    vx = m.getAttr('x', x)\n",
    "    print('\\nTour optimo:')\n",
    "    for i,j in A:\n",
    "        if vx[i,j] >= 0.99:\n",
    "            print('{} -> {}'.format(i, j))\n"
   ]
  },
  {
   "cell_type": "markdown",
   "metadata": {},
   "source": [
    "### Graficando los toures\n",
    "\n",
    "Podemos emplear el módulo `matplotlib` para graficar el tour de la solución. Definiremos para ello la función `dibujarTour` que recibe tres argumentos: una lista `coordx` con las coordenadas horizontales de los nodos, una lista `coordy` con las coordenadas verticales y un vector `tour` con una permutación de los nodos indicando el orden de visita en la solución."
   ]
  },
  {
   "cell_type": "code",
   "execution_count": null,
   "metadata": {},
   "outputs": [],
   "source": [
    "import matplotlib.pyplot as plt\n",
    "import random\n",
    "\n",
    "def dibujarTour(coordx, coordy, tour):\n",
    "    Tx = [coordx[i] for i in tour]\n",
    "    Ty = [coordy[i] for i in tour]\n",
    "    plt.plot(Tx[:-1], Ty[:-1], 'ro')\n",
    "    for i in range(len(tour)-1):\n",
    "        s='{}'.format(tour[i])\n",
    "        plt.text(Tx[i],Ty[i]+1,s)\n",
    "        plt.arrow(Tx[i], Ty[i], Tx[i+1]-Tx[i], Ty[i+1]-Ty[i], color='blue', \n",
    "                  length_includes_head=True, width=0.1, head_width=2)\n",
    "    plt.show()\n"
   ]
  },
  {
   "cell_type": "markdown",
   "metadata": {},
   "source": [
    "Utilicemos ahora esta función para graficar la solución de nuestra instancia:"
   ]
  },
  {
   "cell_type": "code",
   "execution_count": null,
   "metadata": {},
   "outputs": [],
   "source": [
    "# Crear lista con arcos seleccionados en la solucion\n",
    "L = [(i,j) for i,j in A if vx[i,j]>=0.9]\n",
    "print(L)\n",
    "\n",
    "# Recuperar el tour como un ordenamiento de los nodos\n",
    "T = [1]\n",
    "# nodo actual:\n",
    "i = 1\n",
    "while True:\n",
    "    # Determinar sucesor de i\n",
    "    j = [j for j in V if (i,j) in L].pop()\n",
    "    # Colocar sucesor en la lista del tour y actualizar i\n",
    "    T.append(j)\n",
    "    i = j\n",
    "    # Terminar cuando el nodo colocado sea 1\n",
    "    if i==1: break;\n",
    "\n",
    "print(T)\n",
    "        \n",
    "# Graficar el tour\n",
    "dibujarTour(coordx, coordy, T)    "
   ]
  },
  {
   "cell_type": "markdown",
   "metadata": {},
   "source": [
    "## Código completo\n",
    "\n",
    "Se reproduce a continuación el código completo del modelo anterior."
   ]
  },
  {
   "cell_type": "code",
   "execution_count": null,
   "metadata": {},
   "outputs": [],
   "source": [
    "# Implementación de modelos lineales enteros\n",
    "# Problema del agente viajero (TSP)\n",
    "# Luis M. Torres (EPN 2021)\n",
    "\n",
    "from gurobipy import *\n",
    "import random as rm\n",
    "import matplotlib.pyplot as plt\n",
    "from itertools import chain, combinations\n",
    "\n",
    "def powerset(iterable):\n",
    "    \"powerset([1,2,3]) --> () (1,) (2,) (3,) (1,2) (1,3) (2,3) (1,2,3)\"\n",
    "    s = list(iterable)\n",
    "    return chain.from_iterable(combinations(s, r) for r in range(len(s)+1))\n",
    "\n",
    "def dibujarTour(coordx, coordy, tour):\n",
    "    Tx = [coordx[i] for i in tour]\n",
    "    Ty = [coordy[i] for i in tour]\n",
    "    plt.plot(Tx[:-1], Ty[:-1], 'ro')\n",
    "    for i in range(len(tour)-1):\n",
    "        s='{}'.format(tour[i])\n",
    "        plt.text(Tx[i],Ty[i]+1,s)\n",
    "        plt.arrow(Tx[i], Ty[i], Tx[i+1]-Tx[i], Ty[i+1]-Ty[i], color='blue', \n",
    "                  length_includes_head=True, width=0.1, head_width=2)\n",
    "\n",
    "# Numero de nodos del grafo\n",
    "n = 20\n",
    "\n",
    "# Nodos del grafo\n",
    "V = tuplelist(range(1,n+1))\n",
    "\n",
    "# Posiciones de los nodos en un plano euclideano entre (0,0) y (100, 100)\n",
    "coordx={i : rm.randint(0,100) for i in V}\n",
    "coordy={i : rm.randint(0,100) for i in V}\n",
    "\n",
    "# los costos son las distancias eculideanas\n",
    "c = tupledict({\n",
    "    (i,j) : math.sqrt((coordx[i] - coordx[j])**2 + (coordy[i] - coordy[j])**2)\n",
    "    for i in V for j in V if i!=j\n",
    "})\n",
    " \n",
    "A = c.keys()\n",
    "\n",
    "try:\n",
    "    # Crear el objeto modelo\n",
    "    m = Model('tsp')\n",
    "\n",
    "    # Crear las variables\n",
    "    x = m.addVars(A, name=\"x\", vtype=GRB.BINARY)\n",
    "\n",
    "    # Crear la funcion objetivo\n",
    "    m.setObjective(x.prod(c,'*'), GRB.MINIMIZE)\n",
    "\n",
    "    # Restricciones de grado saliente\n",
    "    m.addConstrs((x.sum(i,'*')  == 1 for i in V), \n",
    "                 \"g_saliente\")\n",
    "    \n",
    "    # Restricciones de grado entrante\n",
    "    m.addConstrs((x.sum('*', i)  == 1 for i in V), \n",
    "                 \"g_entrante\")\n",
    "\n",
    "    # Restricciones de eliminacion de subciclos\n",
    "    for W in powerset(V):\n",
    "        if W!=() and W!=tuple(V):\n",
    "            m.addConstr(x.sum(W, W) <= len(W)-1, \n",
    "                        \"subciclo[{}]\".format(W))\n",
    "\n",
    "    # Escribir el modelo a un archivo\n",
    "    # m.write('tsp.lp')\n",
    "\n",
    "    # Calcular la solucion optima\n",
    "    m.optimize()\n",
    "\n",
    "    # Escribir la solucion\n",
    "    if m.status == GRB.Status.OPTIMAL:\n",
    "        # Recuperar los valores de las variables\n",
    "        vx = m.getAttr('x', x)\n",
    "        print('\\nTour optimo:')\n",
    "        for i,j in A:\n",
    "            if vx[i,j] > 0:\n",
    "                print('{} -> {}'.format(i, j))\n",
    "                \n",
    "    # Crear lista con arcos seleccionados en la solucion\n",
    "    L = [(i,j) for i,j in A if vx[i,j]>0]\n",
    "\n",
    "    # Recuperar el tour como un ordenamiento de los nodos\n",
    "    T = [1]\n",
    "    # nodo actual:\n",
    "    i = 1\n",
    "    while True:\n",
    "        # Determinar sucesor de i\n",
    "        j = [j for j in V if (i,j) in L].pop()\n",
    "        # Colocar sucesor en la lista del tour y actualizar i\n",
    "        T.append(j)\n",
    "        i = j\n",
    "        # Terminar cuando el nodo colocado sea 1\n",
    "        if i==1: break;\n",
    "        \n",
    "    # Graficar el tour\n",
    "    dibujarTour(coordx, coordy, T)    \n",
    "    \n",
    "except GurobiError as e:\n",
    "    print('Se produjo un error de Gurobi: codigo: ' + str(e.errno) + \": \" + str(e))\n",
    "\n",
    "except AttributeError:\n",
    "    print('Se produjo un error de atributo')"
   ]
  },
  {
   "cell_type": "markdown",
   "metadata": {},
   "source": [
    "### Creando el conjunto potencia de un conjunto en Python\n",
    "\n",
    "Para construir el conjunto potencia (la familia de subconjuntos) de cualquier iterable, pueden usarse las funciones `chain` y `combinations` del módulo `itertools`."
   ]
  },
  {
   "cell_type": "code",
   "execution_count": null,
   "metadata": {},
   "outputs": [],
   "source": [
    "from itertools import chain, combinations\n",
    "\n",
    "def powerset(iterable):\n",
    "    \"powerset([1,2,3]) --> () (1,) (2,) (3,) (1,2) (1,3) (2,3) (1,2,3)\"\n",
    "    s = list(iterable)\n",
    "    return chain.from_iterable(combinations(s, r) for r in range(len(s)+1))\n",
    "\n",
    "V = list([1, 2, 3, 4, 5])\n",
    "P = list(powerset(V))\n",
    "print(\"V= {}\".format(V))\n",
    "print(\"P= {}\".format(P))\n",
    "\n",
    "for W in powerset(V):\n",
    "    if W!=() and W!=tuple(V):\n",
    "        print (W, len(W))"
   ]
  },
  {
   "cell_type": "code",
   "execution_count": null,
   "metadata": {},
   "outputs": [],
   "source": [
    "L = powerset([1,2,3,4])\n",
    "for i in L:\n",
    "    print(i)"
   ]
  },
  {
   "cell_type": "code",
   "execution_count": null,
   "metadata": {},
   "outputs": [],
   "source": []
  }
 ],
 "metadata": {
  "kernelspec": {
   "display_name": "Python 3 (ipykernel)",
   "language": "python",
   "name": "python3"
  },
  "language_info": {
   "codemirror_mode": {
    "name": "ipython",
    "version": 3
   },
   "file_extension": ".py",
   "mimetype": "text/x-python",
   "name": "python",
   "nbconvert_exporter": "python",
   "pygments_lexer": "ipython3",
   "version": "3.8.12"
  }
 },
 "nbformat": 4,
 "nbformat_minor": 2
}
