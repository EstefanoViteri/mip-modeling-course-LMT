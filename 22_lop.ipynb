{
 "cells": [
  {
   "cell_type": "markdown",
   "metadata": {},
   "source": [
    "# Cuaderno 22: Implementando algoritmos de plano cortante\n",
    "## Problema del ordenamiento lineal \n",
    "## Linear Ordering Problem (LOP)\n",
    "\n",
    "$\\newcommand{\\card}[1]{\\left| #1 \\right|}$\n",
    "$\\newcommand{\\tabulatedset}[1]{\\left\\{ #1 \\right\\}}$\n",
    "$\\newcommand{\\ZZ}{\\mathbb{Z}}$\n",
    "$\\newcommand{\\RR}{\\mathbb{R}}$\n",
    "\n",
    "Dados: \n",
    "* un grafo dirigido **completo** $D=(V,A)$, sin lazos; y,\n",
    "* un vector $w \\in \\ZZ^{A}$ de pesos asociados a los arcos de $D$.\n",
    "\n",
    "El *problema del ordenamiento lineal (Linear Ordering Problem, LOP)* consiste en encontrar un conjunto de arcos con las siguientes propiedades:\n",
    "* entre cada par de nodos debe seleccionarse exactamente uno de los dos arcos (antiparalelos) posibles;\n",
    "* los arcos seleccionados no deben formar circuitos; y,\n",
    "* la suma de los pesos de los arcos seleccionados debe ser máxima.\n",
    "\n",
    "Notar que la segunda condición equivale a requerir que los arcos seleccionados no formen circuitos de longitud 3, es decir, triángulos orientados.\n",
    "\n",
    "Empleando variables binarias $x_{ij}$ para indicar selección de arcos, LOP puede formularse como el siguiente programa lineal entero:\n",
    "\n",
    "\\begin{align*}\n",
    "\\max &\\sum_{(i,j) \\in A} w_{ij} x_{ij}\\\\ \n",
    "& \\mbox{s.r.}\\\\\n",
    "& x_{ij} + x_{ji} = 1, \\quad \\forall i \\neq j \\in V,\\\\\n",
    "& x_{ij} + x_{jk} + x_{ki} \\leq 2, \\forall i, j, k \\in V \\mbox{ distintos entre sí},\\\\\n",
    "& x_{ji} + x_{ik} + x_{kj} \\leq 2, \\forall i, j, k \\in V \\mbox{ distintos entre sí},\\\\\n",
    "& x_{ij} \\in \\{0, 1\\}, \\quad \\forall (i,j) \\in A.\n",
    "\\end{align*}\n",
    "\n",
    "La función objetivo mide el peso total de los arcos seleccionados.\n",
    "\n",
    "La primera familia de restricciones indica que debe seleccionarse exactamente uno de los dos arcos que conectan a cada par de nodos.\n",
    "\n",
    "La segunda familia de restricciones prohibe que se seleccionen arcos que forman circuitos de longitud igual a tres. Como se selecciona un arco entre cada par de nodos, puede demostrarse que si los arcos seleccionados forman circuitos, entonces forman circuitos de longitud 3. Por lo tanto, esta familia de restricciones prohibe la formación de cualquier circuito.\n",
    "\n",
    "Vamos a implementar este modelo usando la interfaz Python de Gurobi. Colocaremos las restricciones de arcos antiparalelos de la manera usual en el modelo, pero agregaremos las restricciones de eliminación de triángulos de manera dinámica durante el proceso de solución.\n"
   ]
  },
  {
   "cell_type": "markdown",
   "metadata": {},
   "source": [
    "Definimos primero los datos. Usaremos la función `randint` del módulo random para generar valores aleatorios en el rango {-10,..,10} para los pesos de los arcos. "
   ]
  },
  {
   "cell_type": "code",
   "execution_count": null,
   "metadata": {},
   "outputs": [],
   "source": [
    "from gurobipy import *\n",
    "import random as rm\n",
    "import math \n",
    "\n",
    "# Numero de nodos del grafo\n",
    "n = 15\n",
    "\n",
    "# Nodos del grafo: {1,..,n}\n",
    "V = tuplelist(range(1,n+1))\n",
    "\n",
    "# Arcos\n",
    "A = [(i,j) for i in V for j in V if i!=j]\n",
    "\n",
    "# los pesos son valores aleatorios en el rango {-10, 10}\n",
    "w = tupledict({(i,j) : rm.randint(-10, 10) for (i,j) in A})\n",
    "\n",
    "print('*** Matriz de pesos ***')\n",
    "print(''.join([\"{:3}   \".format(i) for i in V]))\n",
    "print('-'*60)\n",
    "for i in V:\n",
    "    L =[]\n",
    "    for j in V:\n",
    "        if i!=j:\n",
    "            L.append(\"{:3}   \".format(w[i,j]))\n",
    "        else:\n",
    "            L.append(\"---   \")\n",
    "    print(''.join(L))\n",
    "        \n"
   ]
  },
  {
   "cell_type": "markdown",
   "metadata": {},
   "source": [
    "Definimos el objeto modelo, las variables y la función objetivo. Las asignaciones `m._x = x` y `m._V = V` serán utilizadas más adelante."
   ]
  },
  {
   "cell_type": "code",
   "execution_count": null,
   "metadata": {},
   "outputs": [],
   "source": [
    "# Crear el objeto modelo\n",
    "m = Model('LOP')\n",
    "\n",
    "# Variables de seleccion de arcos\n",
    "x = m.addVars(A, name=\"x\", vtype=GRB.BINARY)\n",
    "m._x = x\n",
    "m._V = V\n",
    "\n",
    "# Crear la funcion objetivo\n",
    "m.setObjective(x.prod(w,'*'), GRB.MAXIMIZE)\n"
   ]
  },
  {
   "cell_type": "markdown",
   "metadata": {},
   "source": [
    "Añadimos las restricciones de selección de arcos antiparalelos, que seleccionan exactamente un arco entre cada par de nodos:"
   ]
  },
  {
   "cell_type": "code",
   "execution_count": null,
   "metadata": {},
   "outputs": [],
   "source": [
    "# Restricciones de selección de arcos antiparalelos\n",
    "m.addConstrs((x[i,j] + x[j,i]==1 for i,j in A if i < j), \"antiparalelos\")\n"
   ]
  },
  {
   "cell_type": "markdown",
   "metadata": {},
   "source": [
    "### Restricciones lazy y funciones callback\n",
    "Las restricciones de eliminación de triángulos se implementarán como restricciones tipo *lazy*. Estas restricciones se agregan dinámicamente al modelo conforme son requeridas. Para ello, es necesario definir una función tipo **callback**.\n",
    "\n",
    "Una función tipo callback es una función diseñada para ser llamada por el solver Gurobi durante el proceso de solución del modelo. Esta función puede tener cualquier nombre, pero debe recibir obligatoriamente dos parámetros: `model` y `where`. La función debe en primer lugar examinar el valor de `where` para determinar desde qué parte del proceso de solución ha sido llamada y tomar la acción que sea correspondiente. Esto se hace comparando este parámetro contra algunos *códigos callback*. En nuestro ejemplo, el código `GRB.Callback.MIPSOL` indica que se acaba de encontrar una nueva solución entera que satisface las demás restricciones del problema. En el manual de referencia puede consultarse la lista completa de [códigos callback](https://www.gurobi.com/documentation/9.5/refman/cb_codes.html).\n",
    "\n",
    "El parámetro `model` proporciona acceso a las variables y métodos del objeto modelo. Esto es útil para acceder a ciertas funciones como `cbGetSolution`, que permite recuperar la solución actual; o `cbLazy` que permite agregar dinámicamente una restricción lazy al modelo. También se usa para tener acceso a variables y cualquier otra información del modelo. Para ello, en el programa principal, la información a compartir debe incluirse como una variable del objeto modelo. En en lenguaje Python, se acostumbra empezar los nombres de estas variables con el símbolo `_`. En nuestro ejemplo, empleamos `_x`para acceder de las variables de selección de arcos y `_V`para acceder a la lista con los vértices.\n",
    "\n",
    "En el ejemplo, la función callback se activa únicamente cuando se ha encontrado una nueva solución entera que satisface todas las desigualdades de arcos antiparalelos. Llamando a `cbGetSolution(model._x)` se recuperan los valores de las variables $x_{ij}$ dentro de la solución actual y se almacenan en `vx`. Luego se itera sobre todos los conjuntos de tres nodos y se verifica que estos valores satisfagan las dos desigualdades triangulares posibles. Cada vez que se encuentra un triángulo donde la suma de los valores de las variables supera 2, se agrega la desigualdad correspondiente llamando a la función `cbLazy`."
   ]
  },
  {
   "cell_type": "code",
   "execution_count": null,
   "metadata": {},
   "outputs": [],
   "source": [
    "# Definir función callback\n",
    "def mycallback(model, where):\n",
    "    # Esta función se activará cuando se encuentre una nueva solución entera\n",
    "    if where == GRB.Callback.MIPSOL:\n",
    "        # Recuperar los valores de la solución actual\n",
    "        print(\"Hola! Solución nueva encontrada\")\n",
    "        vx = model.cbGetSolution(model._x)\n",
    "        # Determinar si existe desigualdad triangular que sea violada\n",
    "        l = 0\n",
    "        for i in model._V:\n",
    "            for j in model._V:\n",
    "                if i>=j: \n",
    "                    continue\n",
    "                for k in model._V:\n",
    "                    if j>=k: \n",
    "                        continue\n",
    "                    \n",
    "                    # Iteramos sobre todos los nodos i < j < k, y verificamos las dos restricciones posibles\n",
    "                    if vx[i, j] + vx[j, k] + vx[k, i] > 2:\n",
    "                        model.cbLazy(model._x[i, j] + model._x[j, k] \n",
    "                                                    + model._x[k, i] <=2)\n",
    "                        l+= 1\n",
    "                    if vx[i, k] + vx[k, j] + vx[j, i] > 2:\n",
    "                        model.cbLazy(model._x[i, k] + model._x[k, j] \n",
    "                                           + model._x[j, i] <=2)\n",
    "                        l+= 1\n",
    "        print('Se agregaron {} desigualdades'.format(l))\n",
    "        "
   ]
  },
  {
   "cell_type": "markdown",
   "metadata": {},
   "source": [
    "Para poder utilizar restricciones tipo *lazy* en un modelo, debe fijarse el parámetro `LazyConstraints` al valor de 1."
   ]
  },
  {
   "cell_type": "code",
   "execution_count": null,
   "metadata": {},
   "outputs": [],
   "source": [
    "# Configurar Gurobi para usar restricciones lazy\n",
    "m.Params.LazyConstraints = 1\n"
   ]
  },
  {
   "cell_type": "markdown",
   "metadata": {},
   "source": [
    "Fijamos un tiempo límite de 180 segundos y una tolerancia para la brecha de optimalidad del 15%:"
   ]
  },
  {
   "cell_type": "code",
   "execution_count": null,
   "metadata": {},
   "outputs": [],
   "source": [
    "# Terminar al alcanzar un Gap del 20%\n",
    "m.Params.MIPGap = 0.2\n",
    "\n",
    "# Terminar luego de 180 segundos\n",
    "m.Params.TimeLimit = 180\n"
   ]
  },
  {
   "cell_type": "markdown",
   "metadata": {},
   "source": [
    "Escribimos el modelo a un archivo de texto. Notar que el modelo inicial contiene solamente las restricciones de selección de arcos antiparalelos."
   ]
  },
  {
   "cell_type": "code",
   "execution_count": null,
   "metadata": {},
   "outputs": [],
   "source": [
    "# Escribir el modelo a un archivo\n",
    "m.write('LOP-lazy.lp')\n"
   ]
  },
  {
   "cell_type": "markdown",
   "metadata": {},
   "source": [
    "Finalmente, resolvemos el modelo y mostramos la solución. Al llamar a `optimize` es necesario pasar el nombre de la función *callback* como un parámetro."
   ]
  },
  {
   "cell_type": "code",
   "execution_count": null,
   "metadata": {},
   "outputs": [],
   "source": [
    "# Calcular la solucion optima\n",
    "m.optimize(mycallback)\n",
    "\n",
    "# Escribir la solucion\n",
    "if m.SolCount > 0:\n",
    "    # Recuperar los valores de las variables\n",
    "    vx = m.getAttr('x', x)\n",
    "    print('\\nOrdenamiento óptimo:')\n",
    "    for i,j in A:\n",
    "        if vx[i,j] >= 0.9:\n",
    "            print('{} -> {}'.format(i, j))\n"
   ]
  },
  {
   "cell_type": "markdown",
   "metadata": {},
   "source": [
    "## Código completo\n",
    "\n",
    "Se reproduce a continuación el código completo del modelo anterior."
   ]
  },
  {
   "cell_type": "code",
   "execution_count": null,
   "metadata": {},
   "outputs": [],
   "source": [
    "# Implementación de modelos lineales enteros\n",
    "# Problema de ordenamiento lineal\n",
    "# Formulación usando restricciones lazy \n",
    "# para las desigualdades de eliminación de triángulos\n",
    "\n",
    "# Luis M. Torres (EPN 2022)\n",
    "\n",
    "from gurobipy import *\n",
    "import random as rm\n",
    "\n",
    "# Definir función callback\n",
    "def mycallback(model, where):\n",
    "    # Esta función se activara cuando se encuentre una nueva solución entera\n",
    "    if where == GRB.Callback.MIPSOL:\n",
    "        # print(\"Hola! Solución nueva encontrada\")\n",
    "        # Recuperar los valores de la solución actual\n",
    "        vx = model.cbGetSolution(model._x)\n",
    "        # Determinar si existe desigualdad triangular que sea violada\n",
    "        for i in model._V:\n",
    "            for j in model._V:\n",
    "                if i>=j: continue\n",
    "                for k in model._V:\n",
    "                    if j>=k: continue\n",
    "                    # Iteramos sobre todos los nodos i < j < k, y verificamos las dos restricciones posibles\n",
    "                    if vx[i, j] + vx[j, k] + vx[k, i] > 2:\n",
    "                        model.cbLazy(model._x[i, j] + model._x[j, k] + model._x[k, i] <=2)\n",
    "                    if vx[i, k] + vx[k, j] + vx[j, i] > 2:\n",
    "                        model.cbLazy(model._x[i, k] + model._x[k, j] + model._x[j, i] <=2)\n",
    "\n",
    "\n",
    "# Número de nodos del grafo\n",
    "n = 50\n",
    "\n",
    "# Nodos del grafo: {1,..,n}\n",
    "V = tuplelist(range(1,n+1))\n",
    "\n",
    "# Arcos\n",
    "A = [(i,j) for i in V for j in V if i!=j]\n",
    "\n",
    "# Los pesos son valores aleatorios en el rango {-10, 10}\n",
    "w = tupledict({(i,j) : rm.randint(-10, 10) for (i,j) in A})\n",
    "\n",
    "# Escribir la matriz con los datos ingresados\n",
    "print('*** Matriz de pesos ***')\n",
    "print(''.join([\"{:3}   \".format(i) for i in V]))\n",
    "print('-'*60)\n",
    "for i in V:\n",
    "    L =[]\n",
    "    for j in V:\n",
    "        if i!=j:\n",
    "            L.append(\"{:3}   \".format(w[i,j]))\n",
    "        else:\n",
    "            L.append(\"---   \")\n",
    "    print(''.join(L))\n",
    "\n",
    "\n",
    "try:\n",
    "    # Crear el objeto modelo\n",
    "    m = Model('LOP')\n",
    "\n",
    "    # Variables de selección de arcos\n",
    "    x = m.addVars(A, name=\"x\", vtype=GRB.BINARY)\n",
    "\n",
    "    # Crear la función objetivo\n",
    "    m.setObjective(x.prod(w,'*'), GRB.MAXIMIZE)\n",
    "\n",
    "    # Crear variables en el objeto modelo para el acceso \n",
    "    # a las variables de selección de arcos y al conjunto de nodos\n",
    "    m._x = x\n",
    "    m._V = V\n",
    "\n",
    "    # Restricciones de selección de arcos antiparalelos\n",
    "    m.addConstrs((x[i,j] + x[j,i]==1 for i,j in A if i < j), \"antiparalelos\")\n",
    "\n",
    "    # Escribir el modelo a un archivo\n",
    "    m.write('LOP-lazy.lp')\n",
    "\n",
    "    # Configurar Gurobi para usar restricciones lazy\n",
    "    m.Params.LazyConstraints = 1\n",
    "\n",
    "    # Terminar al alcanzar un Gap del 20%\n",
    "    m.Params.MIPGap = 0.2\n",
    "\n",
    "    # Fijar tiempo límite en 180 segundos\n",
    "    m.Params.TimeLimit = 180\n",
    "\n",
    "    # Iniciar algoritmo de solución\n",
    "    m.optimize(mycallback)\n",
    "\n",
    "    # Escribir la solución\n",
    "    if m.SolCount > 0:\n",
    "        # Recuperar los valores de las variables\n",
    "        vx = m.getAttr('x', x)\n",
    "        print('\\nOrdenamiento óptimo:')\n",
    "        for i,j in A:\n",
    "            if vx[i,j] > 0:\n",
    "                print('{} -> {}'.format(i, j))\n",
    "                \n",
    "except GurobiError as e:\n",
    "    print('Se produjo un error de Gurobi: código: ' + str(e.errno) + \": \" + str(e))\n",
    "\n",
    "except AttributeError:\n",
    "    print('Se produjo un error de atributo')"
   ]
  },
  {
   "cell_type": "code",
   "execution_count": null,
   "metadata": {},
   "outputs": [],
   "source": []
  }
 ],
 "metadata": {
  "kernelspec": {
   "display_name": "Python 3 (ipykernel)",
   "language": "python",
   "name": "python3"
  },
  "language_info": {
   "codemirror_mode": {
    "name": "ipython",
    "version": 3
   },
   "file_extension": ".py",
   "mimetype": "text/x-python",
   "name": "python",
   "nbconvert_exporter": "python",
   "pygments_lexer": "ipython3",
   "version": "3.8.12"
  }
 },
 "nbformat": 4,
 "nbformat_minor": 2
}
