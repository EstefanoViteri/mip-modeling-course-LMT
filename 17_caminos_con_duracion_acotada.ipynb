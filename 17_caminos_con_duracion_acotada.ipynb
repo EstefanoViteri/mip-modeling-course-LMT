{
 "cells": [
  {
   "cell_type": "markdown",
   "metadata": {},
   "source": [
    "# Cuaderno 17: Caminos más cortos con duración acotada\n",
    "# (Resource Constrained Shortest Path Problems - SPPRC)\n",
    "\n",
    "$\\newcommand{\\card}[1]{\\left| #1 \\right|}$\n",
    "$\\newcommand{\\tabulatedset}[1]{\\left\\{ #1 \\right\\}}$\n",
    "$\\newcommand{\\ZZ}{\\mathbb{Z}}$\n",
    "$\\newcommand{\\RR}{\\mathbb{R}}$\n",
    "\n",
    "Dados: \n",
    "* un grafo dirigido $D=(V,A)$; \n",
    "* un vector de costos $c \\in \\ZZ^{A}$  asociados a los arcos de $D$; \n",
    "* un vector de tiempos de tránsito $t \\in \\ZZ^{A}_{+}$  asociados a los arcos de $D$; \n",
    "* un nodo de salida $r$;\n",
    "* un nodo de llegada $s$, y\n",
    "* una cota $B_{\\max} \\in \\ZZ$ para la duración máxima permitida.\n",
    "\n",
    "El *problema del camino más corto con duración acotada* consiste en encontrar un camino $P$ desde $r$ hasta $s$ cuyo costo sea mínimo y cuya duración no supere la cota $B_{max}$ establecida. El costo de un camino se calcula sumando de los costos de sus arcos, mientras que la duración es la suma de los tiempos de tránsito de los mismos.\n",
    "\n",
    "Utilizaremos la siguientes variables de decisión: \n",
    "* variables binarias $x_{ij}$, para indicar si los arcos de $A$ son seleccionados o no dentro de $P$; y, \n",
    "* variables no negativas $B_i$ para indicar la duración del subcamino de $P$ que va desde $r$ hasta $i$, en caso de que el nodo $i$ sea visitado por $P$ (si $i$ no es visitado por $P$, el valor de $B_i$ es irrelevante para el modelo).\n",
    "\n",
    "De esta manera, se puede formular al problema como el siguiente programa lineal entero:\n",
    "\n",
    "\\begin{align*}\n",
    "\\min &\\sum_{(i,j) \\in A} c_{ij} x_{ij}\\\\ \n",
    "& \\mbox{s.r.}\\\\\n",
    "&\\sum_{(r, i) \\in A} x_{ri} = 1,\\\\\n",
    "&\\sum_{(i, s) \\in A} x_{is} = 1,\\\\\n",
    "& \\sum_{(j, i) \\in A} x_{ji} - \\sum_{(i, j) \\in A} x_{ij} = 0, \\quad \\forall i \\in V \\setminus \\tabulatedset{r,s},\\\\\n",
    "&B_j \\geq B_i + t_{ij} - M(1 -  x_{ij}), \\quad \\forall (i,j) \\in A, \\\\ \n",
    "&B_s \\leq B_{\\max},\\\\ \n",
    "&B_i \\geq 0, \\quad \\forall i \\in V,\\\\\n",
    "& x_{ij} \\in \\tabulatedset{0, 1}, \\quad \\forall (i, j) \\in A.\n",
    "\\end{align*}\n",
    "\n",
    "Al igual que en el modelo del problema clásico de caminos más cortos, la función objetivo mide el costo total de los arcos seleccionados, mientras que las primeras tres restricciones establecen condiciones de grado en cada nodo: seleccionar exactamente un arco saliente de $r$, exactamente un arco entrante a $s$, y un número de arcos entrantes igual al número de arcos salientes para los demás nodos. \n",
    "\n",
    "La cuarta familia de restricciones especifica que, si el arco $(i,j)$ es seleccionado en la solución, entonces debe cumplirse que $B_j \\geq B_i + t_{ij}$. Como consecuencia, el valor de $B_j$ debe ser por lo menos igual a la duración del (sub-)camino seleccionado desde $r$ hasta $j$. En particular, el valor de $B_s$ será por lo menos igual a la duración total del camino desde $r$ hasta $s$.\n",
    "\n",
    "La quinta restricción indica que la duración total del camino seleccionado no puede superar la duración máxima permitida $B_{\\max}$.\n",
    "\n",
    "En la cuarta familia de restricciones se demuestra el uso de una técnica de modelización conocida como \"$M$ *grande*\" (\"*big* $M$\"). $M$ es una constante con un valor suficientemente grande como para que la restricción $B_j \\geq B_i + t_{ij} - M$ sea siempre redundante. Por ejemplo, en nuestro problema puede tomarse $M:=\\sum_{ij \\in A} t_{ij}$. \n",
    "Por otra parte, el valor de $M$ no debería ser demasiado grande, para evitar problemas numéricos en los algortimos de solución. Generalmente, el uso de esta técnica no es recomendado en la formulación de programas lineales enteros, debido a que las relajaciones lineales de los modelos son débiles, lo que conlleva mayores tiempos de ejecución del algoritmo de branch-and-bound.\n",
    "\n",
    "Observar que este modelo funciona aún si el grafo tiene circuitos de costo negativo, siempre y cuando los tiempos de tránsito sean positivos.\n",
    "\n",
    "Vamos a implementar este modelo usando la interfaz Python de Gurobi.\n",
    "\n"
   ]
  },
  {
   "cell_type": "markdown",
   "metadata": {},
   "source": [
    "Definimos primero los conjuntos y parámetros del modelo:"
   ]
  },
  {
   "cell_type": "code",
   "execution_count": null,
   "metadata": {},
   "outputs": [],
   "source": [
    "from gurobipy import *\n",
    "\n",
    "# Arcos, costos y tiempos de tránsito \n",
    "A, c, t = multidict({\n",
    "  (1, 2):  (3, 2), \n",
    "  (1, 3):  (1,5),\n",
    "  (2, 3):  (10,2),\n",
    "  (2, 4):  (5,2),\n",
    "  (4, 3):  (2,3),\n",
    "  (3, 5):  (2,3),\n",
    "  (4, 5):  (5,1),\n",
    "  (4, 6):  (10,1),\n",
    "  (5, 6):  (2,3),\n",
    "  (5, 7):  (-3,1),\n",
    "  (6, 8):  (1, 2),  \n",
    "  (7, 8):  (-3,1),  \n",
    "  (8, 5):  (-3,1)})\n",
    "\n",
    "# Recuperar los nodos del grafo a partir de los extremos de los arcos\n",
    "V = tuplelist(set([i for (i,j) in A] + [j for (i,j) in A]))\n",
    "\n",
    "# Nodo de salida\n",
    "r = 1\n",
    "\n",
    "# Nodo de llegada\n",
    "s = 6\n",
    "\n",
    "# Duración máxima\n",
    "Bmax = 11\n",
    "\n",
    "# Constante suficientemente grande:\n",
    "M = quicksum([t[i,j] for (i,j) in A])\n",
    "\n",
    "# --- los valores a partir de aqui se calculan automaticamente ---\n",
    "# nodos internos: Vi := V \\ {s, t}\n",
    "Vi = tuplelist([i for i in V if i!=r and i!=s])"
   ]
  },
  {
   "cell_type": "markdown",
   "metadata": {},
   "source": [
    "En la siguiente celda empleamos los módulos `networkx` y `matplotlib` para representar graficamente esta instancia del problema:"
   ]
  },
  {
   "cell_type": "code",
   "execution_count": null,
   "metadata": {},
   "outputs": [],
   "source": [
    "import networkx as nx\n",
    "import matplotlib.pyplot as plt\n",
    "D = nx.DiGraph()\n",
    "D.add_nodes_from(V)\n",
    "node_labels= {i : str(i) for i in V}\n",
    "D.add_edges_from(A)\n",
    "edge_labels = {(i,j) : str(c[i,j]) + ',' + str(t[i,j]) for (i,j) in A}\n",
    "plt.figure(figsize=(12,4))\n",
    "pos = {1 : (1,1), 2 : (1,2), 3 : (2,1), 4 : (2,2), 5 : (3,1), 6:(3,2), 7 : (4,1), 8 : (4,2)}\n",
    "nx.draw_networkx_edge_labels(D, pos, edge_labels)\n",
    "nx.draw_networkx(D, pos, labels= node_labels, node_color='cyan', node_size=500)\n"
   ]
  },
  {
   "cell_type": "markdown",
   "metadata": {},
   "source": [
    "Creamos ahora el objeto modelo y las variables de binarias de selección de arcos $x_{ij}$. Observar que las variables están indexadas por los conjuntos de arcos."
   ]
  },
  {
   "cell_type": "code",
   "execution_count": null,
   "metadata": {},
   "outputs": [],
   "source": [
    "# Crear el objeto modelo\n",
    "m = Model('cheapest-path-bounded-duration')\n",
    "\n",
    "# Crear las variables de selección de arcos\n",
    "x = m.addVars(A, name=\"x\", vtype=GRB.BINARY)\n",
    "\n",
    "# Crear las variables de tiempo de visita en los nodos\n",
    "B = m.addVars(V, name=\"B\")\n"
   ]
  },
  {
   "cell_type": "markdown",
   "metadata": {},
   "source": [
    "Definimos la función objetivo a minimizar:"
   ]
  },
  {
   "cell_type": "code",
   "execution_count": null,
   "metadata": {},
   "outputs": [],
   "source": [
    "m.setObjective(x.prod(c, '*'), GRB.MINIMIZE)"
   ]
  },
  {
   "cell_type": "markdown",
   "metadata": {},
   "source": [
    "Definimos las restricciones del modelo:\n",
    "\n",
    "1. Restricciones de grado"
   ]
  },
  {
   "cell_type": "code",
   "execution_count": null,
   "metadata": {},
   "outputs": [],
   "source": [
    "# Arcos salientes de r\n",
    "m.addConstr(x.sum(r,'*')  == 1, \"grado_r\")\n",
    "\n",
    "# Arcos entrantes a s\n",
    "m.addConstr(x.sum('*', s)  == 1, \"grado_s\")\n",
    "\n",
    "# Balance de grados en los demas nodos\n",
    "m.addConstrs(\n",
    "    (x.sum('*',i) - x.sum(i,'*')  == 0 for i in Vi), \"grado\")"
   ]
  },
  {
   "cell_type": "markdown",
   "metadata": {},
   "source": [
    "2. Restricciones de tiempo de visita en los nodos y duración máxima del camino:"
   ]
  },
  {
   "cell_type": "code",
   "execution_count": null,
   "metadata": {},
   "outputs": [],
   "source": [
    "# Bj >= Bi + tij si el arco (i,j) forma parte del camino:\n",
    "m.addConstrs((B[j] >= B[i] + t[i,j] - M*(1 - x[i,j]) for (i,j) in A), \"tiempos_visita\")\n",
    "\n",
    "# Duración máxima del camino:\n",
    "m.addConstr(B[s]  <= Bmax, \"dur_max\")\n",
    "\n",
    "# Alternativa 2 (no funciona si el grafo tiene circuitos de costo negativo)\n",
    "# m.addConstr(x.prod(t, '*')  <= Bmax, \"dur_max\")"
   ]
  },
  {
   "cell_type": "markdown",
   "metadata": {},
   "source": [
    "Resolvemos el modelo y mostramos la solución. Notar que los valores de las variables pueden recuperarse también empleando el método `getAttr`:"
   ]
  },
  {
   "cell_type": "code",
   "execution_count": null,
   "metadata": {},
   "outputs": [],
   "source": [
    "# Calcular la solucion optima\n",
    "m.optimize()\n",
    "\n",
    "# Escribir la solucion\n",
    "if m.status == GRB.Status.OPTIMAL:\n",
    "    # Recuperar los valores de las variables\n",
    "    vx = m.getAttr('x', x)\n",
    "    # vB = m.getAttr('x', B)\n",
    "    print('Arcos seleccionados:')\n",
    "    Bs = 0\n",
    "    for i,j in A:\n",
    "        if vx[i,j] >= 0.99:\n",
    "            print('{} -> {}'.format(i, j))\n",
    "            Bs += t[i,j]\n",
    "    # Mostrar duración:\n",
    "    print(\"Duración: {}\".format(Bs))\n",
    "    print(\"Costo: {}\".format(m.objval))"
   ]
  },
  {
   "cell_type": "markdown",
   "metadata": {},
   "source": [
    "Finalmente, grafiquemos la solución empleando `networkx` y `ipycytoscape`:"
   ]
  },
  {
   "cell_type": "code",
   "execution_count": null,
   "metadata": {
    "scrolled": true
   },
   "outputs": [],
   "source": [
    "import networkx as nx\n",
    "import ipycytoscape\n",
    "D = nx.DiGraph()\n",
    "D.add_nodes_from(V)\n",
    "for i in V:\n",
    "    D.nodes[i]['etiq']= str(i)\n",
    "D.add_edges_from(A)\n",
    "for i,j in A:\n",
    "    D.edges[i,j]['etiq'] = '({}, {})'.format(c[i,j], t[i,j])\n",
    "    D.edges[i,j]['color'] =  '#9dbaea' if vx[i,j]<=0.1 else '#ff007f'\n",
    "grafo = ipycytoscape.CytoscapeWidget()\n",
    "grafo.graph.add_graph_from_networkx(D, directed=True)\n",
    "grafo.set_style([{'selector': 'node', 'style' : {'background-color': '#11479e', 'font-family': 'helvetica', 'font-size': '10px', 'color':'white', 'label': 'data(etiq)', 'text-wrap' : 'wrap', 'text-valign' : 'center'}}, \n",
    "                    {'selector': 'node:parent', 'css': {'background-opacity': 0.333}, 'style' : {'font-family': 'helvetica', 'font-size': '10px', 'label': 'data(etiq)'}}, \n",
    "                    {'selector': 'edge', 'style': {'width': 4, 'line-color': 'data(color)', 'font-size': '10px', 'label': 'data(etiq)', 'text-valign' : 'top', 'text-margin-y' : '-10px'}}, \n",
    "                    {'selector': 'edge.directed', 'style': {'curve-style': 'bezier', 'target-arrow-shape': 'triangle', 'target-arrow-color': 'data(color)'}}])\n",
    "grafo"
   ]
  },
  {
   "cell_type": "markdown",
   "metadata": {},
   "source": [
    "## Código completo\n",
    "\n",
    "Se reproduce a continuación el código completo del modelo anterior."
   ]
  },
  {
   "cell_type": "code",
   "execution_count": null,
   "metadata": {},
   "outputs": [],
   "source": [
    "# Implementacion de modelos de programacion lineal entera\n",
    "# Problema de caminos mas cortos con duración acotada\n",
    "# (cheapest path with bounded duration)\n",
    "# Luis M. Torres (EPN 2021)\n",
    "\n",
    "from gurobipy import *\n",
    "\n",
    "# Arcos, costos y tiempos de tránsito \n",
    "A, c, t = multidict({\n",
    "  (1, 2):  (3, 2), \n",
    "  (1, 3):  (20,1),\n",
    "  (2, 3):  (10,2),\n",
    "  (2, 4):  (5,2),\n",
    "  (4, 3):  (2,3),\n",
    "  (3, 5):  (2,3),\n",
    "  (4, 5):  (5,1),\n",
    "  (4, 6):  (10,1),\n",
    "  (5, 6):  (2,3),\n",
    "  (5, 7):  (-3,1),\n",
    "  (6, 8):  (1, 2),  \n",
    "  (7, 8):  (-3,1),  \n",
    "  (8, 5):  (-3,1)})\n",
    "\n",
    "# Recuperar los nodos del grafo a partir de los extremos de los arcos\n",
    "V = tuplelist(set([i for (i,j) in A] + [j for (i,j) in A]))\n",
    "\n",
    "# Nodo de salida\n",
    "r = 1\n",
    "\n",
    "# Nodo de llegada\n",
    "s = 6\n",
    "\n",
    "# Duración máxima\n",
    "Bmax = 10\n",
    "\n",
    "# Constante suficientemente grande:\n",
    "M = quicksum([t[i,j] for (i,j) in A])\n",
    "\n",
    "# --- los valores a partir de aqui se calculan automaticamente ---\n",
    "# nodos internos: Vi := V \\ {s, t}\n",
    "Vi = tuplelist([i for i in V if i!=r and i!=s])\n",
    "\n",
    "try:\n",
    "    # Crear el objeto modelo\n",
    "    m = Model('cheapest-path-bounded-duration')\n",
    "\n",
    "    # Crear las variables de selección de arcos\n",
    "    x = m.addVars(A, name=\"x\", vtype=GRB.BINARY)\n",
    "\n",
    "    # Crear las variables de tiempo de visita en los nodos\n",
    "    B = m.addVars(V, name=\"B\")\n",
    "\n",
    "    # Definir la funcion objetivo\n",
    "    m.setObjective(x.prod(c, '*'), GRB.MINIMIZE)\n",
    "\n",
    "    # Arcos salientes de r\n",
    "    m.addConstr(x.sum(r,'*')  == 1, \"grado_r\")\n",
    "\n",
    "    # Arcos entrantes a s\n",
    "    m.addConstr(x.sum('*', s)  == 1, \"grado_s\")\n",
    "\n",
    "    # Balance de grados en los demas nodos\n",
    "    m.addConstrs(\n",
    "        (x.sum('*',i) - x.sum(i,'*')  == 0 for i in Vi), \"grado\")\n",
    "\n",
    "    # Bj >= Bi + tij si el arco (i,j) forma parte del camino:\n",
    "    m.addConstrs((B[j] >= B[i] + t[i,j] - M*(1 - x[i,j]) for (i,j) in A), \"tiempos_visita\")\n",
    "\n",
    "    # Duración máxima del camino:\n",
    "    m.addConstr(B[s]  <= Bmax, \"dur_max\")\n",
    "\n",
    "    # Calcular la solución óptima\n",
    "    m.optimize()\n",
    "\n",
    "    # Escribir la solucion\n",
    "    if m.status == GRB.Status.OPTIMAL:\n",
    "        # Recuperar los valores de las variables\n",
    "        vx = m.getAttr('x', x)\n",
    "        vB = m.getAttr('x', B)\n",
    "        print('Arcos seleccionados:')\n",
    "        Bs = 0\n",
    "        for i,j in A:\n",
    "            if vx[i,j] >= 0.1:\n",
    "                print('{} -> {}'.format(i, j))\n",
    "                Bs += t[i,j]\n",
    "        # Mostrar duración:\n",
    "        print(\"Duración: {}\".format(Bs))\n",
    "        print(\"Costo: {}\".format(m.objval))            \n",
    "        \n",
    "except GurobiError as e:\n",
    "    print('Se produjo un error de Gurobi: codigo: ' + str(e.errno) + \": \" + str(e))\n",
    "\n",
    "except AttributeError:\n",
    "    print('Se produjo un error de atributo')"
   ]
  },
  {
   "cell_type": "code",
   "execution_count": null,
   "metadata": {},
   "outputs": [],
   "source": []
  }
 ],
 "metadata": {
  "kernelspec": {
   "display_name": "Python 3 (ipykernel)",
   "language": "python",
   "name": "python3"
  },
  "language_info": {
   "codemirror_mode": {
    "name": "ipython",
    "version": 3
   },
   "file_extension": ".py",
   "mimetype": "text/x-python",
   "name": "python",
   "nbconvert_exporter": "python",
   "pygments_lexer": "ipython3",
   "version": "3.8.12"
  }
 },
 "nbformat": 4,
 "nbformat_minor": 2
}
