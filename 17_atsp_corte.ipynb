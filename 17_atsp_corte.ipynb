{
 "cells": [
  {
   "cell_type": "markdown",
   "metadata": {},
   "source": [
    "# Cuaderno 15: Modelo con restricciones de corte para el ATSP\n",
    "\n",
    "$\\newcommand{\\card}[1]{\\left| #1 \\right|}$\n",
    "$\\newcommand{\\tabulatedset}[1]{\\left\\{ #1 \\right\\}}$\n",
    "$\\newcommand{\\ZZ}{\\mathbb{Z}}$\n",
    "$\\newcommand{\\RR}{\\mathbb{R}}$\n",
    "\n",
    "Recordar que, dados: \n",
    "* un grafo dirigido **completo** $D=(V,A)$; y,\n",
    "* un vector $c \\in \\ZZ^{A}$ de costos asociados a los arcos de $D$;\n",
    "\n",
    "el *problema del agente viajero asimétrico (Asymmetric Traveling Salesman Problem, ATSP)* consiste en encontrar un circuito que visite **todos** los nodos de $D$ y que tenga el menor costo posible.\n",
    "\n",
    "En el Cuaderno 14 revisamos un modelo de programación lineal entera para este problema. Un aspecto importante a considerar en el modelo fueron las *restricciones de eliminación de subtoures*, las cuales consisitían en requerir que, para cualquier subconjunto de nodos $W \\subset V$, con $\\emptyset \\neq W \\neq V$, el número de arcos seleccionados en la solución que tengan sus dos extremos dentro de $W$ sea menor o igual a $\\card{W} - 1$.\n",
    "\n",
    "Una manera alternativa de eliminar subciclos consiste en requerir que la solución contenga siempre un arco del corte entrante $\\delta^{-}(W)$ o un arco del corte saliente $\\delta^{+}(W)$ para cada $W \\subset V$ con $\\emptyset \\neq W \\neq V$. Estas restricciones se conocen como *restricciones de corte*. Los conjuntos de corte están definidos por:\n",
    "\n",
    "\\begin{align*}\n",
    "\\delta^{-}(W) &:= \\{ (i,j) \\in A \\, : \\, i \\not\\in W, j \\in W\\}, \\\\\n",
    "\\delta^{+}(W) &:= \\{ (i,j) \\in A \\, : \\, i \\in W, j \\not\\in W\\}. \\\\\n",
    "\\end{align*}\n",
    "\n",
    "\n",
    "De esta manera, el problema del agente viajero asimétrico puede formularse como el siguiente programa lineal entero:\n",
    "\n",
    "\\begin{align*} \n",
    "\\min &\\sum_{(i,j) \\in A} c_{ij} x_{ij}\\\\ \n",
    "& \\mbox{s.r.}\\\\\n",
    "&\\sum_{(j, i) \\in A} x_{ji} = 1, \\quad \\forall i \\in V,\\\\\n",
    "&\\sum_{(i, j) \\in A} x_{ij} = 1, \\quad \\forall i \\in V,\\\\ \n",
    "&\\sum_{(i,j) \\in \\delta^{-}(W)} x_{ij} \\geq 1, \\quad \\forall W \\subset V, \\emptyset \\neq W \\neq V,\\\\\n",
    "& x_{ij} \\in \\{0, 1\\}, \\quad \\forall (i, j) \\in A.\n",
    "\\end{align*}\n",
    "\n",
    "Las dos primeras familias de restricciones corresponden a las restricciones de grado para los nodos.\n",
    "\n",
    "La tercera familia incluye las restricciones de corte para eliminación de subtoures.\n",
    "\n",
    "Vamos a implementar este modelo usando la interfaz Python de Gurobi.\n",
    "\n"
   ]
  },
  {
   "cell_type": "markdown",
   "metadata": {},
   "source": [
    "Definimos primero los datos. Usaremos la función `randint` para generar puntos con coordenadas aleatorias en el rango {0,..,100}. El costo de un arco $(i,j)$ será igual a la distancia euclideana entre $i$ y $j$:"
   ]
  },
  {
   "cell_type": "code",
   "execution_count": null,
   "metadata": {},
   "outputs": [],
   "source": [
    "import gurobipy as gp\n",
    "from gurobipy import GRB\n",
    "import random as rm\n",
    "import math \n",
    "\n",
    "# número de nodos del grafo\n",
    "n = 10\n",
    "\n",
    "# conjunto de nodos del grafo\n",
    "V = gp.tuplelist(range(1,n+1))\n",
    "\n",
    "# coordenadas de los nodos\n",
    "coordx={i : rm.randint(0,100) for i in V}\n",
    "coordy={i : rm.randint(0,100) for i in V}\n",
    "\n",
    "# los costos son las distancias eculideanas\n",
    "c = gp.tupledict({\n",
    "    (i,j) : math.sqrt((coordx[i] - coordx[j])**2 + (coordy[i] - coordy[j])**2)\n",
    "    for i in V for j in V if i!=j\n",
    "})\n",
    " \n",
    "A = c.keys()\n"
   ]
  },
  {
   "cell_type": "markdown",
   "metadata": {},
   "source": [
    "Vamos a necesitar construir una restricción de corte para cada subconjunto de nodos $W \\subset V$ tal que $\\emptyset \\neq W \\neq V$. Con esta finalidad, definimos una función `powerset` empleando las funciones `chain` y `combinations` del módulo `itertools`."
   ]
  },
  {
   "cell_type": "code",
   "execution_count": null,
   "metadata": {},
   "outputs": [],
   "source": [
    "from itertools import chain, combinations\n",
    "\n",
    "def powerset(iterable):\n",
    "    \"powerset([1,2,3]) --> () (1,) (2,) (3,) (1,2) (1,3) (2,3) (1,2,3)\"\n",
    "    s = list(iterable)\n",
    "    return chain.from_iterable(combinations(s, r) for r in range(len(s)+1))\n",
    "\n",
    "# ejemplo:\n",
    "for W in powerset([1,2,3]):\n",
    "    print(W)"
   ]
  },
  {
   "cell_type": "markdown",
   "metadata": {},
   "source": [
    "Definimos ahora el objeto modelo, las variables y la función objetivo:"
   ]
  },
  {
   "cell_type": "code",
   "execution_count": null,
   "metadata": {},
   "outputs": [],
   "source": [
    "# crear el objeto modelo\n",
    "m = gp.Model('atsp-corte')\n",
    "\n",
    "# crear las variables\n",
    "x = m.addVars(A, name=\"x\", vtype=GRB.BINARY)\n",
    "\n",
    "# crear la función objetivo\n",
    "m.setObjective(x.prod(c,'*'), GRB.MINIMIZE)\n"
   ]
  },
  {
   "cell_type": "markdown",
   "metadata": {},
   "source": [
    "Añadimos las restricciones de grado:"
   ]
  },
  {
   "cell_type": "code",
   "execution_count": null,
   "metadata": {},
   "outputs": [],
   "source": [
    "# restricciones de grado saliente\n",
    "m.addConstrs((x.sum(i,'*')  == 1 for i in V), \n",
    "                 \"g_saliente\")\n",
    "    \n",
    "# restricciones de grado entrante\n",
    "m.addConstrs((x.sum('*', i)  == 1 for i in V), \n",
    "                 \"g_entrante\")"
   ]
  },
  {
   "cell_type": "markdown",
   "metadata": {},
   "source": [
    "Para construir las restricciones de corte, usamos la función `powerset` para iterar sobre todos los subconjuntos de vértices $W$ tales que $\\emptyset \\neq W \\neq V$. Para cada subconjunto, determinamos su complemento $W_c:= V \\setminus W$. La expresión `x.sum(Wc, W)` construye la suma de las variables asociadas a arcos del corte entrante de $W$."
   ]
  },
  {
   "cell_type": "code",
   "execution_count": null,
   "metadata": {},
   "outputs": [],
   "source": [
    "# restricciones de corte para eliminar subtoures\n",
    "for W in powerset(V):\n",
    "    if len(W)!=0 and len(W)!=len(tuple(V)):\n",
    "        Wc = [i for i in V if i not in W]\n",
    "        m.addConstr(x.sum(Wc, W) >= 1, \"corte_ent[{}]\".format(W))"
   ]
  },
  {
   "cell_type": "markdown",
   "metadata": {},
   "source": [
    "Escribimos el modelo a un archivo de texto:"
   ]
  },
  {
   "cell_type": "code",
   "execution_count": null,
   "metadata": {},
   "outputs": [],
   "source": [
    "# escribir el modelo a un archivo\n",
    "m.write('atsp.lp')"
   ]
  },
  {
   "cell_type": "markdown",
   "metadata": {},
   "source": [
    "Finalmente, resolvemos el modelo y mostramos la solución:"
   ]
  },
  {
   "cell_type": "code",
   "execution_count": null,
   "metadata": {},
   "outputs": [],
   "source": [
    "# calcular la solución óptima\n",
    "m.optimize()\n",
    "\n",
    "# escribir la solución\n",
    "if m.SolCount > 0:\n",
    "    # recuperar los valores de las variables\n",
    "    vx = m.getAttr('x', x)\n",
    "    print('\\nTour óptimo:')\n",
    "    for i,j in A:\n",
    "        if vx[i,j] >= 0.99:\n",
    "            print('{} -> {}'.format(i, j))\n"
   ]
  },
  {
   "cell_type": "markdown",
   "metadata": {},
   "source": [
    "Por último, empleamos el módulo `matplotlib` y la función `dibujarTour` del Cuaderno 14 para graficar el tour de la solución.\n"
   ]
  },
  {
   "cell_type": "code",
   "execution_count": null,
   "metadata": {},
   "outputs": [],
   "source": [
    "import matplotlib.pyplot as plt\n",
    "\n",
    "def dibujarTour(coordx, coordy, tour):\n",
    "    Tx = [coordx[i] for i in tour]\n",
    "    Ty = [coordy[i] for i in tour]\n",
    "    plt.plot(Tx[:-1], Ty[:-1], 'ro')\n",
    "    for i in range(len(tour)-1):\n",
    "        s='{}'.format(tour[i])\n",
    "        plt.text(Tx[i],Ty[i]+1,s)\n",
    "        plt.arrow(Tx[i], Ty[i], Tx[i+1]-Tx[i], Ty[i+1]-Ty[i], color='blue', \n",
    "                  length_includes_head=True, width=0.1, head_width=2)\n",
    "    display(plt.show())\n",
    "    \n",
    "# crear lista con los arcos seleccionados en la solución\n",
    "L = gp.tuplelist([(i,j) for i,j in A if vx[i,j]>=0.9])\n",
    "\n",
    "# recuperar el tour como un ordenamiento de los nodos\n",
    "# empezar (arbitrariamente) en el nodo 1\n",
    "T = [1]\n",
    "# nodo actual:\n",
    "i = 1\n",
    "while True:\n",
    "    # determinar sucesor de i\n",
    "    (i,j) = L.select(i, '*').pop(0)\n",
    "    # colocar sucesor en la lista del tour y actualizar i\n",
    "    T.append(j)\n",
    "    i = j\n",
    "    # terminar cuando el nodo colocado sea 1\n",
    "    if i==1: \n",
    "        break;\n",
    "        \n",
    "# graficar el tour\n",
    "dibujarTour(coordx, coordy, T)    "
   ]
  },
  {
   "cell_type": "markdown",
   "metadata": {},
   "source": [
    "## Código completo\n",
    "\n",
    "Se reproduce a continuación el código completo del modelo anterior."
   ]
  },
  {
   "cell_type": "code",
   "execution_count": null,
   "metadata": {},
   "outputs": [],
   "source": [
    "# Implementación de modelos lineales enteros\n",
    "# Problema del agente viajero asimétrico (ATSP)\n",
    "\n",
    "# Luis M. Torres (EPN 2022)\n",
    "\n",
    "import gurobipy as gp\n",
    "from gurobipy import GRB\n",
    "import random as rm\n",
    "import math\n",
    "import matplotlib.pyplot as plt\n",
    "from itertools import chain, combinations\n",
    "\n",
    "def powerset(iterable):\n",
    "    \"powerset([1,2,3]) --> () (1,) (2,) (3,) (1,2) (1,3) (2,3) (1,2,3)\"\n",
    "    s = list(iterable)\n",
    "    return chain.from_iterable(combinations(s, r) for r in range(len(s)+1))\n",
    "\n",
    "def dibujarTour(coordx, coordy, tour):\n",
    "    Tx = [coordx[i] for i in tour]\n",
    "    Ty = [coordy[i] for i in tour]\n",
    "    plt.plot(Tx[:-1], Ty[:-1], 'ro')\n",
    "    for i in range(len(tour)-1):\n",
    "        s='{}'.format(tour[i])\n",
    "        plt.text(Tx[i],Ty[i]+1,s)\n",
    "        plt.arrow(Tx[i], Ty[i], Tx[i+1]-Tx[i], Ty[i+1]-Ty[i], color='blue', \n",
    "                  length_includes_head=True, width=0.1, head_width=2)\n",
    "    plt.show()\n",
    "    \n",
    "# iniciar generador de numeros aleatorios\n",
    "rm.seed(0)\n",
    "\n",
    "# número de nodos del grafo\n",
    "n = 10\n",
    "\n",
    "# conjunto de nodos del grafo\n",
    "V = gp.tuplelist(range(1,n+1))\n",
    "\n",
    "# coordenadas de los nodos\n",
    "coordx={i : rm.randint(0,100) for i in V}\n",
    "coordy={i : rm.randint(0,100) for i in V}\n",
    "\n",
    "# los costos son las distancias eculideanas\n",
    "c = gp.tupledict({\n",
    "    (i,j) : math.sqrt((coordx[i] - coordx[j])**2 + (coordy[i] - coordy[j])**2)\n",
    "    for i in V for j in V if i!=j\n",
    "})\n",
    " \n",
    "A = c.keys()\n",
    "\n",
    "try:\n",
    "    # crear el objeto modelo\n",
    "    m = gp.Model('tsp')\n",
    "\n",
    "    # crear las variables\n",
    "    x = m.addVars(A, name=\"x\", vtype=GRB.BINARY)\n",
    "\n",
    "    # crear la función objetivo\n",
    "    m.setObjective(x.prod(c,'*'), GRB.MINIMIZE)\n",
    "\n",
    "    # restricciones de grado saliente\n",
    "    m.addConstrs((x.sum(i,'*')  == 1 for i in V), \n",
    "                 \"g_saliente\")\n",
    "    \n",
    "    # restricciones de grado entrante\n",
    "    m.addConstrs((x.sum('*', i)  == 1 for i in V), \n",
    "                 \"g_entrante\")\n",
    "\n",
    "    # restricciones de corte para eliminar subtoures\n",
    "    for W in powerset(V):\n",
    "        if len(W)!=0 and len(W)!=len(V):\n",
    "            Wc = [i for i in V if i not in W]\n",
    "            m.addConstr(x.sum(Wc, W) >= 1, \"subciclo[{}]\".format(W))\n",
    "\n",
    "    # escribir el modelo a un archivo\n",
    "    # m.write('tsp.lp')\n",
    "\n",
    "    # calcular la solución óptima\n",
    "    m.optimize()\n",
    "\n",
    "    # escribir la solución\n",
    "    if m.SolCount > 0:\n",
    "        # recuperar los valores de las variables\n",
    "        vx = m.getAttr('x', x)\n",
    "        print('\\nTour optimo:')\n",
    "        for i,j in A:\n",
    "            if vx[i,j] >= 0.99:\n",
    "                print('{} -> {}'.format(i, j))\n",
    "                \n",
    "        # crear lista con arcos seleccionados en la solución\n",
    "        L = gp.tuplelist([(i,j) for i,j in A if vx[i,j]>=0.9])\n",
    "\n",
    "        # recuperar el tour como un ordenamiento de los nodos\n",
    "        T = [1]\n",
    "        # nodo actual:\n",
    "        i = 1\n",
    "        while True:\n",
    "            # determinar sucesor de i\n",
    "            (i,j) = L.select(i, '*').pop(0)\n",
    "            # colocar sucesor en la lista del tour y actualizar i\n",
    "            T.append(j)\n",
    "            i = j\n",
    "            # terminar cuando el nodo colocado sea 1\n",
    "            if i==1: break;\n",
    "        \n",
    "        # graficar el tour\n",
    "        dibujarTour(coordx, coordy, T)    \n",
    "    \n",
    "except GurobiError as e:\n",
    "    print('Se produjo un error de Gurobi: codigo: ' + str(e.errno) + \": \" + str(e))\n",
    "\n",
    "except AttributeError:\n",
    "    print('Se produjo un error de atributo')"
   ]
  },
  {
   "cell_type": "code",
   "execution_count": null,
   "metadata": {},
   "outputs": [],
   "source": []
  }
 ],
 "metadata": {
  "kernelspec": {
   "display_name": "Python 3 (ipykernel)",
   "language": "python",
   "name": "python3"
  },
  "language_info": {
   "codemirror_mode": {
    "name": "ipython",
    "version": 3
   },
   "file_extension": ".py",
   "mimetype": "text/x-python",
   "name": "python",
   "nbconvert_exporter": "python",
   "pygments_lexer": "ipython3",
   "version": "3.8.12"
  }
 },
 "nbformat": 4,
 "nbformat_minor": 2
}
