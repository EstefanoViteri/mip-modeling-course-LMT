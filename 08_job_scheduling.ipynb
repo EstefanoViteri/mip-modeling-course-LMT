{
 "cells": [
  {
   "cell_type": "markdown",
   "metadata": {},
   "source": [
    "# Cuaderno 16: Calendarización de trabajos (job scheduling)\n",
    "\n",
    "$\\newcommand{\\card}[1]{\\left| #1 \\right|}$\n",
    "$\\newcommand{\\tabulatedset}[1]{\\left\\{ #1 \\right\\}}$\n",
    "\n",
    "Los problemas de calendarización de trabajos (*job scheduling*) consisten en determinar el orden óptimo en el que deben ejecutarse ciertas tareas para optimizar un proceso productivo.\n",
    "\n",
    "Suponer que se tiene dado un conjunto de $n$ trabajos de confección $J:= \\tabulatedset{1, \\ldots, n}$, los cuales  deben ser procesados secuencialmente en una máquina hiladora. La máquina contiene un carrete en el cual pueden ser cargados simultáneamente $B$ hilos de diferentes colores, seleccionados de un conjunto $H$ de hilos disponibles. Cada trabajo $j \\in J$  requiere para su ejecución de un subconjunto $H_j \\subset H$ de hilos. Para que $j$\n",
    "pueda ser procesado, todos los hilos de $H_j$ deben estar cargados en el carrete. Si esto no ocurre, la máquina debe ser detenida para cargar los hilos que hagan falta y, de ser necesario, descargar hilos que no sean requeridos con la finalidad de liberar espacio en el carrete. Asumimos que $\\card{H_j} \\leq B, \\forall j \\in J$.\n",
    "\n",
    "Se desea determinar el orden en el que los trabajos deben ser procesados para minimizar el número de paradas requeridas de la máquina. Para especificar el ordenamiento, se asignará a cada trabajo $j \\in J$ un turno $t \\in T$, con $T:= \\tabulatedset{1, \\ldots, n}$. \n",
    "\n",
    "Emplearemos las siguientes variables de decisión binarias: \n",
    "\n",
    "* $x_{jt}$, $j \\in J$, $t \\in T$, que indican si el trabajo $j$ es procesado en el turno $t$;\n",
    "* $y_{ht}$, $h \\in H$, $t \\in T$, que determinan si el hilo $h \\in H$ está cargado en la máquina durante el turno $t$; \n",
    "* $z_t$, $t \\in T, \\, t \\geq 2$, que registran si es necesario parar la máquina entre los turnos $t-1$ y $t$.\n",
    "\n",
    "Los valores de $z_t$ se determinan a partir de los valores de $y_{ht}$ como se indica a continuación. Notar que la expresión es $\\card{y_{ht} - y_{h,t-1}}$ es igual a 1 si el hilo $h$ entra o sale del carrete de la máquina entre los turnos $t$ y $t-1$. Por lo tanto, definiendo:\n",
    "$$\n",
    "w_{ht} \\in \\{0, 1 \\} \\, : w_{ht} \\geq \\max\\{ y_{ht} - y_{h,t-1}, y_{h,t-1} - y_{ht} \\},\n",
    "$$\n",
    "y $z_{t} \\in \\{0, 1 \\}$, $z_t \\geq \\frac{\\sum_{h \\in H} w_{ht}}{\\card{H}}$, se tiene que $z_t = 1$ si es necesario detener la máquina entre los turnos $t-1$ y $t$ para cambiar algún hilo.\n",
    "\n",
    "Empleando estas ideas, el problema de calendarización de trabajos descrito arriba puede ser formulado como el siguiente modelo de programación lineal entera.  \n",
    "\n",
    "\\begin{align*}\n",
    "\\min &\\sum_{t \\in T \\setminus \\{1\\}} z_t\\\\ \n",
    "& \\mbox{s.r.}\\\\\n",
    "&\\sum_{j \\in J} x_{jt} = 1, \\quad \\forall t \\in T, \\\\\n",
    "&\\sum_{t \\in T} x_{jt} = 1, \\quad \\forall j \\in J, \\\\\n",
    "&\\sum_{h \\in H} y_{ht} \\leq B, \\quad \\forall t \\in T, \\\\\n",
    "& x_{jt} \\leq y_{ht}, \\quad \\forall h \\in H_j, \\, j \\in J, \\, t \\in T,\\\\\n",
    "& w_{ht} \\geq y_{ht} - y_{h, t-1}, \\quad, \\forall h \\in H, t \\in T \\setminus \\{1\\},\\\\\n",
    "& w_{ht} \\geq y_{h, t-1} - y_{ht}, \\quad, \\forall h \\in H, t \\in T \\setminus \\{1\\},\\\\\n",
    "& \\sum_{h \\in H} w_{ht} \\leq \\card{H} z_t, \\forall t \\in T \\setminus \\{1\\},\\\\\n",
    "& x_{jt}, y_{ht} \\in \\{0, 1\\}, \\quad \\forall j \\in J, h \\in H, t \\in T,\\\\\n",
    "& w_{ht}, z_t \\in \\{0, 1\\}, \\quad \\forall h \\in H, t \\in T \\setminus \\{1\\}.\n",
    "\\end{align*}\n",
    "\n",
    "\n",
    "Vamos a implementar este modelo usando la interfaz Python de Gurobi.\n"
   ]
  },
  {
   "cell_type": "markdown",
   "metadata": {},
   "source": [
    "Definimos primero los conjuntos $J$, $H$, $T$; y los parámetros $H_j$ y $B$:"
   ]
  },
  {
   "cell_type": "code",
   "execution_count": 1,
   "metadata": {},
   "outputs": [
    {
     "name": "stdout",
     "output_type": "stream",
     "text": [
      "H = {1, 2, 3, 4, 5}\n",
      "J = [1, 2, 3, 4, 5, 6, 7]\n",
      "T = [1, 2, 3, 4, 5, 6, 7]\n",
      "HH = {1: {2, 3, 5}, 2: {1, 3, 4}, 3: {1, 4, 5}, 4: {1, 3}, 5: {1, 2, 4}, 6: {1, 4, 5}, 7: {3, 5}}\n"
     ]
    }
   ],
   "source": [
    "from gurobipy import *\n",
    "import random\n",
    "\n",
    "# Conjuntos y parametros del modelo\n",
    "# Familia HH de conjuntos de hilos requeridos por cada trabajo\n",
    "HH = tupledict({1 : {2, 3, 5},\n",
    "                2 : {1, 3, 4},\n",
    "                3 : {1, 4, 5},\n",
    "                4 : {1, 3},\n",
    "                5 : {1, 2, 4},\n",
    "                6 : {1, 4, 5},\n",
    "                7 : {3, 5}})\n",
    "\n",
    "# Cantidad de hilos que pueden estar en el carrete\n",
    "B = 3\n",
    "\n",
    "# ---- a partir de aqui, los parametros se calculan en base a los anteriores ----\n",
    "\n",
    "# Conjunto de trabajos\n",
    "J = HH.keys()\n",
    "\n",
    "# Conjunto de turnos T y de turnos sin el primero\n",
    "T = J\n",
    "T2 = [i for i in T if i!=1]\n",
    "\n",
    "# Conjunto de todos los hilos, calculado como la union de Hj para j in J\n",
    "H = set()\n",
    "for j in J:\n",
    "    H = H | HH[j]\n",
    "\n",
    "print(\"H = {}\".format(H))\n",
    "print(\"J = {}\".format(J))\n",
    "print(\"T = {}\".format(T))\n",
    "print(\"HH = {}\".format(HH))\n"
   ]
  },
  {
   "cell_type": "markdown",
   "metadata": {},
   "source": [
    "Definimos ahora el objeto modelo y las variables del modelo:"
   ]
  },
  {
   "cell_type": "code",
   "execution_count": 2,
   "metadata": {},
   "outputs": [
    {
     "name": "stdout",
     "output_type": "stream",
     "text": [
      "Using license file /Users/ltorres/gurobi.lic\n",
      "Academic license - for non-commercial use only\n"
     ]
    }
   ],
   "source": [
    "m = Model('job-scheduling')\n",
    "\n",
    "# Asignacion turnos a trabajos\n",
    "x = m.addVars(J, T, vtype = GRB.BINARY, name=\"x\")\n",
    "\n",
    "# Estado de hilos en el carrete\n",
    "y = m.addVars(H, T, vtype = GRB.BINARY, name=\"y\")\n",
    "\n",
    "# Paradas de la maquina\n",
    "z = m.addVars(T2, vtype = GRB.BINARY, name=\"z\")\n",
    "\n",
    "# Auxiliar: cambio de los hilos en el carrete\n",
    "w = m.addVars(H, T2, vtype = GRB.BINARY, name=\"w\")"
   ]
  },
  {
   "cell_type": "markdown",
   "metadata": {},
   "source": [
    "Definimos la función objetivo:"
   ]
  },
  {
   "cell_type": "code",
   "execution_count": 3,
   "metadata": {},
   "outputs": [],
   "source": [
    "# minimizar paradas de la maquina\n",
    "m.setObjective(z.sum('*'), GRB.MINIMIZE)"
   ]
  },
  {
   "cell_type": "markdown",
   "metadata": {},
   "source": [
    "Finalmente, implementamos las restricciones del modelo. El método `addConstrs` nos permite agregar una familia completa de restricciones al modelo, empleando un generador.\n",
    "\n",
    "1. A cada trabajo $j$ se le asigna un turno único y en cada turno se ejecuta exactamente un trabajo."
   ]
  },
  {
   "cell_type": "code",
   "execution_count": 4,
   "metadata": {},
   "outputs": [
    {
     "data": {
      "text/plain": [
       "{1: <gurobi.Constr *Awaiting Model Update*>,\n",
       " 2: <gurobi.Constr *Awaiting Model Update*>,\n",
       " 3: <gurobi.Constr *Awaiting Model Update*>,\n",
       " 4: <gurobi.Constr *Awaiting Model Update*>,\n",
       " 5: <gurobi.Constr *Awaiting Model Update*>,\n",
       " 6: <gurobi.Constr *Awaiting Model Update*>,\n",
       " 7: <gurobi.Constr *Awaiting Model Update*>}"
      ]
     },
     "execution_count": 4,
     "metadata": {},
     "output_type": "execute_result"
    }
   ],
   "source": [
    "# A cada turno se le asigna exactamente un trabajo\n",
    "m.addConstrs((x.sum('*', t) == 1 for t in T), name='turno_t') \n",
    "\n",
    "# A cada trabajo se le asigna exactamente un turno\n",
    "m.addConstrs((x.sum(j, '*') == 1 for j in J), name='turno_j') "
   ]
  },
  {
   "cell_type": "markdown",
   "metadata": {},
   "source": [
    "2. En cada turno, la cantidad de hilos cargados en la máquina no supera la capacidad del carrete."
   ]
  },
  {
   "cell_type": "code",
   "execution_count": 5,
   "metadata": {},
   "outputs": [
    {
     "data": {
      "text/plain": [
       "{1: <gurobi.Constr *Awaiting Model Update*>,\n",
       " 2: <gurobi.Constr *Awaiting Model Update*>,\n",
       " 3: <gurobi.Constr *Awaiting Model Update*>,\n",
       " 4: <gurobi.Constr *Awaiting Model Update*>,\n",
       " 5: <gurobi.Constr *Awaiting Model Update*>,\n",
       " 6: <gurobi.Constr *Awaiting Model Update*>,\n",
       " 7: <gurobi.Constr *Awaiting Model Update*>}"
      ]
     },
     "execution_count": 5,
     "metadata": {},
     "output_type": "execute_result"
    }
   ],
   "source": [
    "# Respetar capacidad del carrete\n",
    "m.addConstrs((y.sum('*', t) <= B for t in T), name='carrete') "
   ]
  },
  {
   "cell_type": "markdown",
   "metadata": {},
   "source": [
    "3. Si el trabajo $j$ es procesado en el turno $t$, entonces todos los hilos requeridos para este trabajo deben estar cargados en el carrete en el turno $t$."
   ]
  },
  {
   "cell_type": "code",
   "execution_count": 6,
   "metadata": {},
   "outputs": [
    {
     "data": {
      "text/plain": [
       "{(1, 1, 2): <gurobi.Constr *Awaiting Model Update*>,\n",
       " (1, 1, 3): <gurobi.Constr *Awaiting Model Update*>,\n",
       " (1, 1, 5): <gurobi.Constr *Awaiting Model Update*>,\n",
       " (1, 2, 1): <gurobi.Constr *Awaiting Model Update*>,\n",
       " (1, 2, 3): <gurobi.Constr *Awaiting Model Update*>,\n",
       " (1, 2, 4): <gurobi.Constr *Awaiting Model Update*>,\n",
       " (1, 3, 1): <gurobi.Constr *Awaiting Model Update*>,\n",
       " (1, 3, 4): <gurobi.Constr *Awaiting Model Update*>,\n",
       " (1, 3, 5): <gurobi.Constr *Awaiting Model Update*>,\n",
       " (1, 4, 1): <gurobi.Constr *Awaiting Model Update*>,\n",
       " (1, 4, 3): <gurobi.Constr *Awaiting Model Update*>,\n",
       " (1, 5, 1): <gurobi.Constr *Awaiting Model Update*>,\n",
       " (1, 5, 2): <gurobi.Constr *Awaiting Model Update*>,\n",
       " (1, 5, 4): <gurobi.Constr *Awaiting Model Update*>,\n",
       " (1, 6, 1): <gurobi.Constr *Awaiting Model Update*>,\n",
       " (1, 6, 4): <gurobi.Constr *Awaiting Model Update*>,\n",
       " (1, 6, 5): <gurobi.Constr *Awaiting Model Update*>,\n",
       " (1, 7, 3): <gurobi.Constr *Awaiting Model Update*>,\n",
       " (1, 7, 5): <gurobi.Constr *Awaiting Model Update*>,\n",
       " (2, 1, 2): <gurobi.Constr *Awaiting Model Update*>,\n",
       " (2, 1, 3): <gurobi.Constr *Awaiting Model Update*>,\n",
       " (2, 1, 5): <gurobi.Constr *Awaiting Model Update*>,\n",
       " (2, 2, 1): <gurobi.Constr *Awaiting Model Update*>,\n",
       " (2, 2, 3): <gurobi.Constr *Awaiting Model Update*>,\n",
       " (2, 2, 4): <gurobi.Constr *Awaiting Model Update*>,\n",
       " (2, 3, 1): <gurobi.Constr *Awaiting Model Update*>,\n",
       " (2, 3, 4): <gurobi.Constr *Awaiting Model Update*>,\n",
       " (2, 3, 5): <gurobi.Constr *Awaiting Model Update*>,\n",
       " (2, 4, 1): <gurobi.Constr *Awaiting Model Update*>,\n",
       " (2, 4, 3): <gurobi.Constr *Awaiting Model Update*>,\n",
       " (2, 5, 1): <gurobi.Constr *Awaiting Model Update*>,\n",
       " (2, 5, 2): <gurobi.Constr *Awaiting Model Update*>,\n",
       " (2, 5, 4): <gurobi.Constr *Awaiting Model Update*>,\n",
       " (2, 6, 1): <gurobi.Constr *Awaiting Model Update*>,\n",
       " (2, 6, 4): <gurobi.Constr *Awaiting Model Update*>,\n",
       " (2, 6, 5): <gurobi.Constr *Awaiting Model Update*>,\n",
       " (2, 7, 3): <gurobi.Constr *Awaiting Model Update*>,\n",
       " (2, 7, 5): <gurobi.Constr *Awaiting Model Update*>,\n",
       " (3, 1, 2): <gurobi.Constr *Awaiting Model Update*>,\n",
       " (3, 1, 3): <gurobi.Constr *Awaiting Model Update*>,\n",
       " (3, 1, 5): <gurobi.Constr *Awaiting Model Update*>,\n",
       " (3, 2, 1): <gurobi.Constr *Awaiting Model Update*>,\n",
       " (3, 2, 3): <gurobi.Constr *Awaiting Model Update*>,\n",
       " (3, 2, 4): <gurobi.Constr *Awaiting Model Update*>,\n",
       " (3, 3, 1): <gurobi.Constr *Awaiting Model Update*>,\n",
       " (3, 3, 4): <gurobi.Constr *Awaiting Model Update*>,\n",
       " (3, 3, 5): <gurobi.Constr *Awaiting Model Update*>,\n",
       " (3, 4, 1): <gurobi.Constr *Awaiting Model Update*>,\n",
       " (3, 4, 3): <gurobi.Constr *Awaiting Model Update*>,\n",
       " (3, 5, 1): <gurobi.Constr *Awaiting Model Update*>,\n",
       " (3, 5, 2): <gurobi.Constr *Awaiting Model Update*>,\n",
       " (3, 5, 4): <gurobi.Constr *Awaiting Model Update*>,\n",
       " (3, 6, 1): <gurobi.Constr *Awaiting Model Update*>,\n",
       " (3, 6, 4): <gurobi.Constr *Awaiting Model Update*>,\n",
       " (3, 6, 5): <gurobi.Constr *Awaiting Model Update*>,\n",
       " (3, 7, 3): <gurobi.Constr *Awaiting Model Update*>,\n",
       " (3, 7, 5): <gurobi.Constr *Awaiting Model Update*>,\n",
       " (4, 1, 2): <gurobi.Constr *Awaiting Model Update*>,\n",
       " (4, 1, 3): <gurobi.Constr *Awaiting Model Update*>,\n",
       " (4, 1, 5): <gurobi.Constr *Awaiting Model Update*>,\n",
       " (4, 2, 1): <gurobi.Constr *Awaiting Model Update*>,\n",
       " (4, 2, 3): <gurobi.Constr *Awaiting Model Update*>,\n",
       " (4, 2, 4): <gurobi.Constr *Awaiting Model Update*>,\n",
       " (4, 3, 1): <gurobi.Constr *Awaiting Model Update*>,\n",
       " (4, 3, 4): <gurobi.Constr *Awaiting Model Update*>,\n",
       " (4, 3, 5): <gurobi.Constr *Awaiting Model Update*>,\n",
       " (4, 4, 1): <gurobi.Constr *Awaiting Model Update*>,\n",
       " (4, 4, 3): <gurobi.Constr *Awaiting Model Update*>,\n",
       " (4, 5, 1): <gurobi.Constr *Awaiting Model Update*>,\n",
       " (4, 5, 2): <gurobi.Constr *Awaiting Model Update*>,\n",
       " (4, 5, 4): <gurobi.Constr *Awaiting Model Update*>,\n",
       " (4, 6, 1): <gurobi.Constr *Awaiting Model Update*>,\n",
       " (4, 6, 4): <gurobi.Constr *Awaiting Model Update*>,\n",
       " (4, 6, 5): <gurobi.Constr *Awaiting Model Update*>,\n",
       " (4, 7, 3): <gurobi.Constr *Awaiting Model Update*>,\n",
       " (4, 7, 5): <gurobi.Constr *Awaiting Model Update*>,\n",
       " (5, 1, 2): <gurobi.Constr *Awaiting Model Update*>,\n",
       " (5, 1, 3): <gurobi.Constr *Awaiting Model Update*>,\n",
       " (5, 1, 5): <gurobi.Constr *Awaiting Model Update*>,\n",
       " (5, 2, 1): <gurobi.Constr *Awaiting Model Update*>,\n",
       " (5, 2, 3): <gurobi.Constr *Awaiting Model Update*>,\n",
       " (5, 2, 4): <gurobi.Constr *Awaiting Model Update*>,\n",
       " (5, 3, 1): <gurobi.Constr *Awaiting Model Update*>,\n",
       " (5, 3, 4): <gurobi.Constr *Awaiting Model Update*>,\n",
       " (5, 3, 5): <gurobi.Constr *Awaiting Model Update*>,\n",
       " (5, 4, 1): <gurobi.Constr *Awaiting Model Update*>,\n",
       " (5, 4, 3): <gurobi.Constr *Awaiting Model Update*>,\n",
       " (5, 5, 1): <gurobi.Constr *Awaiting Model Update*>,\n",
       " (5, 5, 2): <gurobi.Constr *Awaiting Model Update*>,\n",
       " (5, 5, 4): <gurobi.Constr *Awaiting Model Update*>,\n",
       " (5, 6, 1): <gurobi.Constr *Awaiting Model Update*>,\n",
       " (5, 6, 4): <gurobi.Constr *Awaiting Model Update*>,\n",
       " (5, 6, 5): <gurobi.Constr *Awaiting Model Update*>,\n",
       " (5, 7, 3): <gurobi.Constr *Awaiting Model Update*>,\n",
       " (5, 7, 5): <gurobi.Constr *Awaiting Model Update*>,\n",
       " (6, 1, 2): <gurobi.Constr *Awaiting Model Update*>,\n",
       " (6, 1, 3): <gurobi.Constr *Awaiting Model Update*>,\n",
       " (6, 1, 5): <gurobi.Constr *Awaiting Model Update*>,\n",
       " (6, 2, 1): <gurobi.Constr *Awaiting Model Update*>,\n",
       " (6, 2, 3): <gurobi.Constr *Awaiting Model Update*>,\n",
       " (6, 2, 4): <gurobi.Constr *Awaiting Model Update*>,\n",
       " (6, 3, 1): <gurobi.Constr *Awaiting Model Update*>,\n",
       " (6, 3, 4): <gurobi.Constr *Awaiting Model Update*>,\n",
       " (6, 3, 5): <gurobi.Constr *Awaiting Model Update*>,\n",
       " (6, 4, 1): <gurobi.Constr *Awaiting Model Update*>,\n",
       " (6, 4, 3): <gurobi.Constr *Awaiting Model Update*>,\n",
       " (6, 5, 1): <gurobi.Constr *Awaiting Model Update*>,\n",
       " (6, 5, 2): <gurobi.Constr *Awaiting Model Update*>,\n",
       " (6, 5, 4): <gurobi.Constr *Awaiting Model Update*>,\n",
       " (6, 6, 1): <gurobi.Constr *Awaiting Model Update*>,\n",
       " (6, 6, 4): <gurobi.Constr *Awaiting Model Update*>,\n",
       " (6, 6, 5): <gurobi.Constr *Awaiting Model Update*>,\n",
       " (6, 7, 3): <gurobi.Constr *Awaiting Model Update*>,\n",
       " (6, 7, 5): <gurobi.Constr *Awaiting Model Update*>,\n",
       " (7, 1, 2): <gurobi.Constr *Awaiting Model Update*>,\n",
       " (7, 1, 3): <gurobi.Constr *Awaiting Model Update*>,\n",
       " (7, 1, 5): <gurobi.Constr *Awaiting Model Update*>,\n",
       " (7, 2, 1): <gurobi.Constr *Awaiting Model Update*>,\n",
       " (7, 2, 3): <gurobi.Constr *Awaiting Model Update*>,\n",
       " (7, 2, 4): <gurobi.Constr *Awaiting Model Update*>,\n",
       " (7, 3, 1): <gurobi.Constr *Awaiting Model Update*>,\n",
       " (7, 3, 4): <gurobi.Constr *Awaiting Model Update*>,\n",
       " (7, 3, 5): <gurobi.Constr *Awaiting Model Update*>,\n",
       " (7, 4, 1): <gurobi.Constr *Awaiting Model Update*>,\n",
       " (7, 4, 3): <gurobi.Constr *Awaiting Model Update*>,\n",
       " (7, 5, 1): <gurobi.Constr *Awaiting Model Update*>,\n",
       " (7, 5, 2): <gurobi.Constr *Awaiting Model Update*>,\n",
       " (7, 5, 4): <gurobi.Constr *Awaiting Model Update*>,\n",
       " (7, 6, 1): <gurobi.Constr *Awaiting Model Update*>,\n",
       " (7, 6, 4): <gurobi.Constr *Awaiting Model Update*>,\n",
       " (7, 6, 5): <gurobi.Constr *Awaiting Model Update*>,\n",
       " (7, 7, 3): <gurobi.Constr *Awaiting Model Update*>,\n",
       " (7, 7, 5): <gurobi.Constr *Awaiting Model Update*>}"
      ]
     },
     "execution_count": 6,
     "metadata": {},
     "output_type": "execute_result"
    }
   ],
   "source": [
    "# Cargar todos los hilos requeridos para procesar un trabajo\n",
    "m.addConstrs((x[j,t] <= y[h,t] for t in T for j in J for h in HH[j]), name='hilos') "
   ]
  },
  {
   "cell_type": "markdown",
   "metadata": {},
   "source": [
    "4. Definición de las variables auxiliares:"
   ]
  },
  {
   "cell_type": "code",
   "execution_count": 7,
   "metadata": {},
   "outputs": [
    {
     "data": {
      "text/plain": [
       "{(1, 2): <gurobi.Constr *Awaiting Model Update*>,\n",
       " (1, 3): <gurobi.Constr *Awaiting Model Update*>,\n",
       " (1, 4): <gurobi.Constr *Awaiting Model Update*>,\n",
       " (1, 5): <gurobi.Constr *Awaiting Model Update*>,\n",
       " (1, 6): <gurobi.Constr *Awaiting Model Update*>,\n",
       " (1, 7): <gurobi.Constr *Awaiting Model Update*>,\n",
       " (2, 2): <gurobi.Constr *Awaiting Model Update*>,\n",
       " (2, 3): <gurobi.Constr *Awaiting Model Update*>,\n",
       " (2, 4): <gurobi.Constr *Awaiting Model Update*>,\n",
       " (2, 5): <gurobi.Constr *Awaiting Model Update*>,\n",
       " (2, 6): <gurobi.Constr *Awaiting Model Update*>,\n",
       " (2, 7): <gurobi.Constr *Awaiting Model Update*>,\n",
       " (3, 2): <gurobi.Constr *Awaiting Model Update*>,\n",
       " (3, 3): <gurobi.Constr *Awaiting Model Update*>,\n",
       " (3, 4): <gurobi.Constr *Awaiting Model Update*>,\n",
       " (3, 5): <gurobi.Constr *Awaiting Model Update*>,\n",
       " (3, 6): <gurobi.Constr *Awaiting Model Update*>,\n",
       " (3, 7): <gurobi.Constr *Awaiting Model Update*>,\n",
       " (4, 2): <gurobi.Constr *Awaiting Model Update*>,\n",
       " (4, 3): <gurobi.Constr *Awaiting Model Update*>,\n",
       " (4, 4): <gurobi.Constr *Awaiting Model Update*>,\n",
       " (4, 5): <gurobi.Constr *Awaiting Model Update*>,\n",
       " (4, 6): <gurobi.Constr *Awaiting Model Update*>,\n",
       " (4, 7): <gurobi.Constr *Awaiting Model Update*>,\n",
       " (5, 2): <gurobi.Constr *Awaiting Model Update*>,\n",
       " (5, 3): <gurobi.Constr *Awaiting Model Update*>,\n",
       " (5, 4): <gurobi.Constr *Awaiting Model Update*>,\n",
       " (5, 5): <gurobi.Constr *Awaiting Model Update*>,\n",
       " (5, 6): <gurobi.Constr *Awaiting Model Update*>,\n",
       " (5, 7): <gurobi.Constr *Awaiting Model Update*>}"
      ]
     },
     "execution_count": 7,
     "metadata": {},
     "output_type": "execute_result"
    }
   ],
   "source": [
    "# Definir w[h,t] en función de y[h,t] y y[h,t-1]\n",
    "m.addConstrs((w[h,t] >= y[h,t] - y[h,t-1] for h in H for t in T2), name='defw1') \n",
    "m.addConstrs((w[h,t] >= y[h,t-1] - y[h,t] for h in H for t in T2), name='defw2') "
   ]
  },
  {
   "cell_type": "markdown",
   "metadata": {},
   "source": [
    "5. Contabilizar las paradas de la máquina."
   ]
  },
  {
   "cell_type": "code",
   "execution_count": 8,
   "metadata": {},
   "outputs": [
    {
     "data": {
      "text/plain": [
       "{2: <gurobi.Constr *Awaiting Model Update*>,\n",
       " 3: <gurobi.Constr *Awaiting Model Update*>,\n",
       " 4: <gurobi.Constr *Awaiting Model Update*>,\n",
       " 5: <gurobi.Constr *Awaiting Model Update*>,\n",
       " 6: <gurobi.Constr *Awaiting Model Update*>,\n",
       " 7: <gurobi.Constr *Awaiting Model Update*>}"
      ]
     },
     "execution_count": 8,
     "metadata": {},
     "output_type": "execute_result"
    }
   ],
   "source": [
    "# Definir z[t] en función de w[h,t]\n",
    "m.addConstrs((w.sum('*', t) <= len(H)*z[t] for t in T2), name='defz') "
   ]
  },
  {
   "cell_type": "markdown",
   "metadata": {},
   "source": [
    "Optimizar el modelo:"
   ]
  },
  {
   "cell_type": "code",
   "execution_count": 9,
   "metadata": {},
   "outputs": [
    {
     "name": "stdout",
     "output_type": "stream",
     "text": [
      "Gurobi Optimizer version 9.0.2 build v9.0.2rc0 (mac64)\n",
      "Optimize a model with 220 rows, 120 columns and 615 nonzeros\n",
      "Model fingerprint: 0x3d8ebb5a\n",
      "Variable types: 0 continuous, 120 integer (120 binary)\n",
      "Coefficient statistics:\n",
      "  Matrix range     [1e+00, 5e+00]\n",
      "  Objective range  [1e+00, 1e+00]\n",
      "  Bounds range     [1e+00, 1e+00]\n",
      "  RHS range        [1e+00, 3e+00]\n",
      "Found heuristic solution: objective 6.0000000\n",
      "Presolve removed 104 rows and 30 columns\n",
      "Presolve time: 0.03s\n",
      "Presolved: 116 rows, 90 columns, 481 nonzeros\n",
      "Variable types: 0 continuous, 90 integer (90 binary)\n",
      "\n",
      "Root relaxation: objective 0.000000e+00, 143 iterations, 0.02 seconds\n",
      "\n",
      "    Nodes    |    Current Node    |     Objective Bounds      |     Work\n",
      " Expl Unexpl |  Obj  Depth IntInf | Incumbent    BestBd   Gap | It/Node Time\n",
      "\n",
      "     0     0    0.00000    0   68    6.00000    0.00000   100%     -    0s\n",
      "H    0     0                       5.0000000    0.00000   100%     -    0s\n",
      "     0     0    0.30000    0   64    5.00000    0.30000  94.0%     -    0s\n",
      "     0     0    1.00000    0   62    5.00000    1.00000  80.0%     -    0s\n",
      "H    0     0                       4.0000000    1.00000  75.0%     -    0s\n",
      "     0     0    1.00000    0   62    4.00000    1.00000  75.0%     -    0s\n",
      "     0     0    1.00000    0   59    4.00000    1.00000  75.0%     -    0s\n",
      "     0     0    1.00000    0   59    4.00000    1.00000  75.0%     -    0s\n",
      "     0     0    1.00000    0   48    4.00000    1.00000  75.0%     -    0s\n",
      "H    0     0                       3.0000000    1.00000  66.7%     -    0s\n",
      "     0     0    1.00000    0   60    3.00000    1.00000  66.7%     -    0s\n",
      "     0     0    1.00000    0   32    3.00000    1.00000  66.7%     -    0s\n",
      "     0     0    1.00000    0   54    3.00000    1.00000  66.7%     -    0s\n",
      "     0     0    1.00000    0   54    3.00000    1.00000  66.7%     -    0s\n",
      "     0     0    1.00000    0   59    3.00000    1.00000  66.7%     -    0s\n",
      "     0     0    1.00000    0   56    3.00000    1.00000  66.7%     -    0s\n",
      "     0     0    1.00000    0   52    3.00000    1.00000  66.7%     -    0s\n",
      "     0     2    1.00000    0   38    3.00000    1.00000  66.7%     -    0s\n",
      "\n",
      "Cutting planes:\n",
      "  Gomory: 1\n",
      "  Cover: 1\n",
      "  Clique: 1\n",
      "  Inf proof: 1\n",
      "  Zero half: 23\n",
      "\n",
      "Explored 213 nodes (4348 simplex iterations) in 1.00 seconds\n",
      "Thread count was 4 (of 4 available processors)\n",
      "\n",
      "Solution count 4: 3 4 5 6 \n",
      "\n",
      "Optimal solution found (tolerance 1.00e-04)\n",
      "Best objective 3.000000000000e+00, best bound 3.000000000000e+00, gap 0.0000%\n"
     ]
    }
   ],
   "source": [
    "m.optimize()"
   ]
  },
  {
   "cell_type": "markdown",
   "metadata": {},
   "source": [
    "Mostrar la solución: instalaciones a construir, asignación de clientes a instalaciones y clientes no atendidos."
   ]
  },
  {
   "cell_type": "code",
   "execution_count": 10,
   "metadata": {},
   "outputs": [
    {
     "name": "stdout",
     "output_type": "stream",
     "text": [
      "Orden de procesamiento de trabajos:\n",
      "[3, 6, 5, 2, 4, 7, 1]\n",
      "Numero de paradas: 3.0\n",
      "Estado del carrete:\n",
      "1: [1, 4, 5]\n",
      "2: [1, 4, 5]\n",
      "3: [1, 2, 4]\n",
      "4: [1, 3, 4]\n",
      "5: [1, 3, 4]\n",
      "6: [2, 3, 5]\n",
      "7: [2, 3, 5]\n"
     ]
    }
   ],
   "source": [
    "# Mostrar solucion\n",
    "print('Orden de procesamiento de trabajos:')\n",
    "print([j for t in T for j in J if x[j,t].x >= 0.9])\n",
    "\n",
    "print('Numero de paradas: {}'.format(m.objVal))\n",
    "\n",
    "print('Estado del carrete:')\n",
    "for t in T:\n",
    "    print('{}: {}'.format(t, [h for h in H if y[h,t].x >= 0.9]))"
   ]
  },
  {
   "cell_type": "markdown",
   "metadata": {},
   "source": [
    "## Bonus extra\n",
    "### Fijando brechas de optimalidad y tiempos límites de ejecución\n",
    "\n",
    "Cuando los modelos a optimizar son grandes y demandan demasiado tiempo de ejecución, puede ser útil especificar un tiempo límite de ejecución para el solver o un rango de tolerancia para la brecha de optimalidad (de manera que la optimización termine tan pronto se encuentre una solución factible cuya brecha de optimalidad se encuentre dentro de ese rango).\n",
    "\n",
    "En Gurobi esto se consigue fijando el valor de ciertos *parámetros* del solver. El tiempo máximo de ejecución está determinado por el [parámetro `TimeLimit`](https://www.gurobi.com/documentation/9.0/refman/timelimit.html), mientras que el rango de tolerancia para la brecha de optimalidad se especifica a través del [parámetro `MIPGap`](https://www.gurobi.com/documentation/9.0/refman/mipgap2.html)\n",
    "\n",
    "Podemos asignar valores a los parámetros ajustando la propiedad `Params` en el objeto modelo.  "
   ]
  },
  {
   "cell_type": "code",
   "execution_count": 26,
   "metadata": {},
   "outputs": [
    {
     "name": "stdout",
     "output_type": "stream",
     "text": [
      "Changed value of parameter TimeLimit to 60.0\n",
      "   Prev: inf  Min: 0.0  Max: inf  Default: inf\n",
      "Changed value of parameter MIPGap to 0.1\n",
      "   Prev: 0.0001  Min: 0.0  Max: inf  Default: 0.0001\n"
     ]
    }
   ],
   "source": [
    "# Fijar tiempo máximo de ejecución en 60 segundos\n",
    "m.Params.TimeLimit = 60\n",
    "\n",
    "# Fijar brecha de optimalidad aceptable en 10%\n",
    "m.Params.MIPGap = 0.1"
   ]
  },
  {
   "cell_type": "markdown",
   "metadata": {},
   "source": [
    "## Código completo\n",
    "\n",
    "Reproducimos a continuación el código completo del ejemplo:"
   ]
  },
  {
   "cell_type": "code",
   "execution_count": 30,
   "metadata": {},
   "outputs": [
    {
     "name": "stdout",
     "output_type": "stream",
     "text": [
      "HH= {1: {2, 4, 5}, 2: {2, 4, 5}, 3: {3, 4, 5}, 4: {2, 3, 4}, 5: {1, 4, 5}, 6: {2, 5}, 7: {1, 2, 3}, 8: {1, 3, 5}, 9: {2, 5}, 10: {3, 5}, 11: {3, 4}, 12: {2, 3, 4}, 13: {1, 4, 5}, 14: {1, 2}, 15: {2, 3}, 16: {3, 5}, 17: {3, 4}, 18: {4, 5}, 19: {2, 3, 4}, 20: {3, 4}, 21: {1, 4}, 22: {1, 3, 4}, 23: {2, 3, 4}, 24: {1, 2, 5}, 25: {2, 5}, 26: {1, 2, 4}, 27: {1, 3}, 28: {2, 3}, 29: {1, 2, 3}, 30: {2, 5}, 31: {1, 4, 5}, 32: {1, 4, 5}, 33: {3, 4, 5}, 34: {1, 3, 4}, 35: {1, 2, 5}, 36: {1, 2, 4}, 37: {2, 3, 5}, 38: {3, 4, 5}, 39: {3, 5}, 40: {1, 3, 4}, 41: {2, 4}, 42: {2, 3, 5}, 43: {1, 4}, 44: {1, 3, 4}, 45: {3, 4}, 46: {1, 2, 3}, 47: {1, 2, 5}, 48: {2, 3}, 49: {1, 2, 4}, 50: {3, 4, 5}, 51: {3, 5}, 52: {2, 4}, 53: {1, 4}, 54: {1, 2}, 55: {1, 2}, 56: {2, 3, 5}, 57: {1, 4}, 58: {2, 3}, 59: {3}, 60: {1, 2, 4}, 61: {1, 3}, 62: {1, 4}, 63: {2, 5}, 64: {1, 4, 5}, 65: {2, 3}, 66: {1, 2}, 67: {1, 2}, 68: {2, 5}, 69: {1, 2}, 70: {1, 2, 5}, 71: {1, 3, 4}, 72: {1, 2, 4}, 73: {2, 4}, 74: {2, 3, 5}, 75: {2, 3}, 76: {2, 3}, 77: {2, 3, 4}, 78: {2, 3, 4}, 79: {1, 3}, 80: {1, 3, 5}, 81: {1, 4}, 82: {3, 5}, 83: {1, 5}, 84: {1, 3, 5}, 85: {3, 4}, 86: {2, 4, 5}, 87: {3, 5}, 88: {1}, 89: {1, 3, 4}, 90: {4, 5}, 91: {3, 5}, 92: {1, 2, 4}, 93: {3, 5}, 94: {3, 4, 5}, 95: {1, 3, 4}, 96: {3, 5}, 97: {1}, 98: {1, 2}, 99: {3, 5}, 100: {1, 2, 4}}\n",
      "Changed value of parameter TimeLimit to 30.0\n",
      "   Prev: inf  Min: 0.0  Max: inf  Default: inf\n",
      "Gurobi Optimizer version 9.0.2 build v9.0.2rc0 (mac64)\n",
      "Optimize a model with 25789 rows, 11094 columns and 72864 nonzeros\n",
      "Model fingerprint: 0xf84200fa\n",
      "Variable types: 0 continuous, 11094 integer (11094 binary)\n",
      "Coefficient statistics:\n",
      "  Matrix range     [1e+00, 5e+00]\n",
      "  Objective range  [1e+00, 1e+00]\n",
      "  Bounds range     [1e+00, 1e+00]\n",
      "  RHS range        [1e+00, 3e+00]\n",
      "Presolve removed 23999 rows and 495 columns\n",
      "Presolve time: 0.28s\n",
      "Presolved: 1790 rows, 10599 columns, 48370 nonzeros\n",
      "Variable types: 0 continuous, 10599 integer (10599 binary)\n",
      "Found heuristic solution: objective 66.0000000\n",
      "\n",
      "Root relaxation: objective 0.000000e+00, 7804 iterations, 2.74 seconds\n",
      "Total elapsed time = 7.07s\n",
      "\n",
      "    Nodes    |    Current Node    |     Objective Bounds      |     Work\n",
      " Expl Unexpl |  Obj  Depth IntInf | Incumbent    BestBd   Gap | It/Node Time\n",
      "\n",
      "     0     0    0.00000    0  827   66.00000    0.00000   100%     -    9s\n",
      "H    0     0                      60.0000000    0.00000   100%     -   12s\n",
      "H    0     0                      43.0000000    0.00000   100%     -   16s\n",
      "     0     0    0.00000    0  956   43.00000    0.00000   100%     -   18s\n",
      "     0     0    0.00000    0  955   43.00000    0.00000   100%     -   18s\n",
      "     0     0    0.00000    0  759   43.00000    0.00000   100%     -   28s\n",
      "     0     0    0.00000    0  772   43.00000    0.00000   100%     -   29s\n",
      "     0     0          -    0        43.00000    0.00000   100%     -   30s\n",
      "\n",
      "Cutting planes:\n",
      "  Clique: 99\n",
      "  Zero half: 57\n",
      "\n",
      "Explored 1 nodes (68008 simplex iterations) in 30.03 seconds\n",
      "Thread count was 4 (of 4 available processors)\n",
      "\n",
      "Solution count 3: 43 60 66 \n",
      "\n",
      "Time limit reached\n",
      "Best objective 4.300000000000e+01, best bound 0.000000000000e+00, gap 100.0000%\n",
      "Orden de procesamiento de trabajos:\n",
      "[70, 10, 51, 29, 98, 61, 65, 14, 88, 58, 49, 27, 97, 85, 66, 26, 57, 25, 2, 20, 89, 5, 31, 54, 71, 60, 80, 87, 82, 12, 77, 44, 92, 38, 11, 95, 22, 30, 37, 56, 67, 48, 78, 75, 23, 9, 59, 93, 7, 32, 1, 86, 15, 79, 55, 28, 3, 36, 43, 34, 64, 18, 19, 4, 72, 17, 73, 21, 62, 13, 16, 96, 84, 90, 39, 52, 81, 41, 53, 100, 8, 91, 63, 35, 33, 50, 94, 45, 99, 69, 46, 76, 40, 6, 42, 68, 74, 83, 24, 47]\n",
      "Numero de paradas: 43.0\n",
      "Estado del carrete:\n",
      "1: [1, 2, 5]\n",
      "2: [3, 5]\n",
      "3: [3, 5]\n",
      "4: [1, 2, 3]\n",
      "5: [1, 2, 3]\n",
      "6: [1, 2, 3]\n",
      "7: [1, 2, 3]\n",
      "8: [1, 2, 3]\n",
      "9: [1, 2, 3]\n",
      "10: [1, 2, 3]\n",
      "11: [1, 2, 4]\n",
      "12: [1, 3, 4]\n",
      "13: [1, 3, 4]\n",
      "14: [1, 3, 4]\n",
      "15: [1, 2, 4]\n",
      "16: [1, 2, 4]\n",
      "17: [1, 2, 4]\n",
      "18: [2, 4, 5]\n",
      "19: [2, 4, 5]\n",
      "20: [1, 3, 4]\n",
      "21: [1, 3, 4]\n",
      "22: [1, 4, 5]\n",
      "23: [1, 4, 5]\n",
      "24: [1, 2, 5]\n",
      "25: [1, 3, 4]\n",
      "26: [1, 2, 4]\n",
      "27: [1, 3, 5]\n",
      "28: [1, 3, 5]\n",
      "29: [1, 3, 5]\n",
      "30: [2, 3, 4]\n",
      "31: [2, 3, 4]\n",
      "32: [1, 3, 4]\n",
      "33: [1, 2, 4]\n",
      "34: [3, 4, 5]\n",
      "35: [3, 4, 5]\n",
      "36: [1, 3, 4]\n",
      "37: [1, 3, 4]\n",
      "38: [2, 3, 5]\n",
      "39: [2, 3, 5]\n",
      "40: [2, 3, 5]\n",
      "41: [1, 2]\n",
      "42: [2, 3, 4]\n",
      "43: [2, 3, 4]\n",
      "44: [2, 3, 4]\n",
      "45: [2, 3, 4]\n",
      "46: [2, 3, 5]\n",
      "47: [2, 3, 5]\n",
      "48: [2, 3, 5]\n",
      "49: [1, 2, 3]\n",
      "50: [1, 4, 5]\n",
      "51: [2, 4, 5]\n",
      "52: [2, 4, 5]\n",
      "53: [1, 2, 3]\n",
      "54: [1, 2, 3]\n",
      "55: [1, 2, 3]\n",
      "56: [1, 2, 3]\n",
      "57: [3, 4, 5]\n",
      "58: [1, 2, 4]\n",
      "59: [1, 2, 4]\n",
      "60: [1, 3, 4]\n",
      "61: [1, 4, 5]\n",
      "62: [1, 4, 5]\n",
      "63: [2, 3, 4]\n",
      "64: [2, 3, 4]\n",
      "65: [1, 2, 4]\n",
      "66: [2, 3, 4]\n",
      "67: [2, 3, 4]\n",
      "68: [1, 4, 5]\n",
      "69: [1, 4, 5]\n",
      "70: [1, 4, 5]\n",
      "71: [1, 3, 5]\n",
      "72: [1, 3, 5]\n",
      "73: [1, 3, 5]\n",
      "74: [3, 4, 5]\n",
      "75: [3, 4, 5]\n",
      "76: [1, 2, 4]\n",
      "77: [1, 2, 4]\n",
      "78: [1, 2, 4]\n",
      "79: [1, 2, 4]\n",
      "80: [1, 2, 4]\n",
      "81: [1, 3, 5]\n",
      "82: [1, 3, 5]\n",
      "83: [1, 2, 5]\n",
      "84: [1, 2, 5]\n",
      "85: [3, 4, 5]\n",
      "86: [3, 4, 5]\n",
      "87: [3, 4, 5]\n",
      "88: [3, 4, 5]\n",
      "89: [3, 4, 5]\n",
      "90: [1, 2, 3]\n",
      "91: [1, 2, 3]\n",
      "92: [1, 2, 3]\n",
      "93: [1, 3, 4]\n",
      "94: [2, 3, 5]\n",
      "95: [2, 3, 5]\n",
      "96: [2, 3, 5]\n",
      "97: [2, 3, 5]\n",
      "98: [1, 2, 5]\n",
      "99: [1, 2, 5]\n",
      "100: [1, 2, 5]\n"
     ]
    }
   ],
   "source": [
    "# Curso de implementación de programas lineales enteros\n",
    "# Ejemplo: Modelo de job scheduling\n",
    "# EPN (2020)\n",
    "\n",
    "from gurobipy import *\n",
    "try:\n",
    "    # Conjuntos y parametros del modelo\n",
    "    # Familia HH de conjuntos de hilos requeridos por cada trabajo\n",
    "    # HH = tupledict({1 : {2, 3, 5},\n",
    "    #                 2 : {1, 3, 4},\n",
    "    #                 3 : {1, 4, 5},\n",
    "    #                 4 : {1, 3},\n",
    "    #                 5 : {1, 2, 4},\n",
    "    #                 6 : {1, 4, 5},\n",
    "    #                 7 : {3, 5}})\n",
    "\n",
    "    HH = {j : set([random.randint(1,5) for i in range(3)]) for j in range(1,101)}\n",
    "    print(\"HH= {}\".format(HH))\n",
    "\n",
    "    # Cantidad de hilos que pueden estar en el carrete\n",
    "    B = 3\n",
    "\n",
    "    # Conjunto de trabajos\n",
    "    J = HH.keys()\n",
    "\n",
    "    # Conjunto de turnos T y de turnos sin el primero\n",
    "    T = J\n",
    "    T2 = [i for i in T if i!=1]\n",
    "\n",
    "    # Conjunto de todos los hilos, calculado como la union de Hj para j in J\n",
    "    H = set()\n",
    "    for j in J:\n",
    "        H = H | HH[j]\n",
    "    \n",
    "    # Crear el objeto modelo\n",
    "    m = Model('job-scheduling')\n",
    "\n",
    "    # Definir variables\n",
    "    # Asignacion turnos a trabajos\n",
    "    x = m.addVars(J, T, vtype = GRB.BINARY, name=\"x\")\n",
    "\n",
    "    # Estado de hilos en el carrete\n",
    "    y = m.addVars(H, T, vtype = GRB.BINARY, name=\"y\")\n",
    "\n",
    "    # Paradas de la maquina\n",
    "    z = m.addVars(T2, vtype = GRB.BINARY, name=\"z\")\n",
    "\n",
    "    # Auxiliar: cambio de los hilos en el carrete\n",
    "    w = m.addVars(H, T2, vtype = GRB.BINARY, name=\"z\")\n",
    "    \n",
    "    # Funcion objetivo: minimizar paradas de la maquina\n",
    "    m.setObjective(z.sum('*'), GRB.MINIMIZE)\n",
    "\n",
    "    # Restricciones\n",
    "    # A cada turno se le asigna exactamente un trabajo\n",
    "    m.addConstrs((x.sum('*', t) == 1 for t in T), name='turno_t') \n",
    "\n",
    "    # A cada trabajo se le asigna exactamente un turno\n",
    "    m.addConstrs((x.sum(j, '*') == 1 for j in J), name='turno_j') \n",
    "    \n",
    "    # Respetar capacidad del carrete\n",
    "    m.addConstrs((y.sum('*', t) <= B for t in T), name='carrete') \n",
    "    \n",
    "    # Cargar todos los hilos requeridos para procesar un trabajo\n",
    "    m.addConstrs((x[j,t] <= y[h,t] for t in T for j in J for h in HH[j]), name='hilos') \n",
    "    \n",
    "    # Definir w[h,t] en función de y[h,t] y y[h,t-1]\n",
    "    m.addConstrs((w[h,t] >= y[h,t] - y[h,t-1] for h in H for t in T2), name='defw1') \n",
    "    m.addConstrs((w[h,t] >= y[h,t-1] - y[h,t] for h in H for t in T2), name='defw2') \n",
    "    \n",
    "    # Definir z[t] en función de w[h,t]\n",
    "    m.addConstrs((w.sum('*', t) <= len(H)*z[t] for t in T2), name='defz') \n",
    "    \n",
    "    # Fijar tiempo máximo de ejecución en 60 segundos\n",
    "    m.Params.TimeLimit = 30\n",
    "\n",
    "    # Fijar brecha de optimalidad aceptable en 10%\n",
    "    # m.Params.MIPGap = 0.1\n",
    "\n",
    "    # Resolver el modelo\n",
    "    m.optimize()\n",
    "    \n",
    "    # Mostrar solucion\n",
    "    print('Orden de procesamiento de trabajos:')\n",
    "    print([j for t in T for j in J if x[j,t].x >= 0.9])\n",
    "\n",
    "    print('Numero de paradas: {}'.format(m.objVal))\n",
    "\n",
    "    print('Estado del carrete:')\n",
    "    for t in T:\n",
    "        print('{}: {}'.format(t, [h for h in H if y[h,t].x >= 0.9]))\n",
    "        \n",
    "except GurobiError as e:\n",
    "    print('Se produjo un error de Gurobi: codigo: ' + str(e.errno) + \": \" + str(e))\n",
    "\n",
    "except AttributeError:\n",
    "    print('Se produjo un error de atributo')"
   ]
  },
  {
   "cell_type": "code",
   "execution_count": null,
   "metadata": {},
   "outputs": [],
   "source": []
  }
 ],
 "metadata": {
  "kernelspec": {
   "display_name": "Python 3",
   "language": "python",
   "name": "python3"
  },
  "language_info": {
   "codemirror_mode": {
    "name": "ipython",
    "version": 3
   },
   "file_extension": ".py",
   "mimetype": "text/x-python",
   "name": "python",
   "nbconvert_exporter": "python",
   "pygments_lexer": "ipython3",
   "version": "3.7.6"
  }
 },
 "nbformat": 4,
 "nbformat_minor": 2
}
