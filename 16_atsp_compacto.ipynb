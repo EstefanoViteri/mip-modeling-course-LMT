{
 "cells": [
  {
   "cell_type": "markdown",
   "metadata": {},
   "source": [
    "# Cuaderno 16: Modelo compacto MTZ para el ATSP\n",
    "\n",
    "$\\newcommand{\\card}[1]{\\left| #1 \\right|}$\n",
    "$\\newcommand{\\tabulatedset}[1]{\\left\\{ #1 \\right\\}}$\n",
    "$\\newcommand{\\ZZ}{\\mathbb{Z}}$\n",
    "$\\newcommand{\\RR}{\\mathbb{R}}$\n",
    "\n",
    "Dados: \n",
    "* un grafo dirigido **completo** $D=(V,A)$, con $V=\\{1, \\ldots, n\\}$; y,\n",
    "* un vector $c \\in \\ZZ^{A}$ de costos asociados a los arcos de $D$.\n",
    "\n",
    "El *problema del agente viajero asimétrico (Asymmetric Traveling Salesman Problem, ATSP)* consiste en encontrar un circuito dirigido que visite **todos** los nodos de $D$ y que tenga el menor costo posible.\n",
    "\n",
    "Una manera alternativa de evitar subciclos en la solución, que no requiere un número exponencial de restricciones, fue propuesta por [C.E.Miller, A.W.Tucker y R.A.Zemlin en 1960](https://dl.acm.org/doi/abs/10.1145/321043.321046?casa_token=wS9ir40FaVQAAAAA%3AREqLlEQWddvpSw0sEq2toPwlctyB4Tfa2O2aUHj3WqIfPlXESLWYFByDmy1UWEqcdIFZG6RibRhLXw). La formulación compacta *Miller-Tucker-Zemlin (MTZ)* consiste en introducir variables auxiliares de ordenamiento $u_i$ para los nodos $i \\in V \\setminus \\{ 1 \\}$, que indican la posición de cada nodo dentro del tour, asumiendo que el nodo 1 ocupa la primera posición. Utilizando además las variables binarias $x_{ij}$ de selección para indicar los arcos que forman parte del tour, el problema del agente viajero puede formularse como el siguiente programa lineal entero:\n",
    "\n",
    "\\begin{align*}\n",
    "\\min &\\sum_{(i,j) \\in A} c_{ij} x_{ij}\\\\ \n",
    "& \\mbox{s.r.}\\\\\n",
    "&\\sum_{(j, i) \\in A} x_{ji} = 1, \\quad \\forall i \\in V,\\\\\n",
    "&\\sum_{(i, j) \\in A} x_{ij} = 1, \\quad \\forall i \\in V,\\\\ \n",
    "& u_j \\geq u_i + (1 + n) x_{ij} - n, \\quad\\forall (i,j) \\in A, i \\neq 1, j \\neq 1, \\\\\n",
    "& x_{ij} \\in \\{0, 1\\}, \\quad \\forall (i, j) \\in A,\\\\\n",
    "& u_i \\in \\{2, \\ldots, n \\} \\quad \\forall i \\in V \\setminus \\{1\\}.\\\\\n",
    "\\end{align*}\n",
    "\n",
    "La función objetivo mide el costo total de los arcos seleccionados en el tour.\n",
    "\n",
    "Las dos primeras familias de restricciones corresponden a las restricciones de grado de los nodos.\n",
    "\n",
    "La tercera familia de restricciones requiere que, para cualquier arco $(i,j)$ cuyos dos extremos sean distintos al nodo $1$, si el arco es seleccionado dentro de la solución, entonces debe cumplirse que $u_j \\geq u_i + 1$. Notar que de esta manera se evitan soluciones que incluyan ciclos que no contienen al nodo 1. Como resultado, se eliminan soluciones con subtoures, empleando únicamente $m -2n +2$ restricciones, donde $m=n(n-1)$ es el número de arcos en el grafo.\n",
    "\n",
    "Vamos a implementar este modelo usando la interfaz Python de Gurobi.\n",
    "\n"
   ]
  },
  {
   "cell_type": "markdown",
   "metadata": {},
   "source": [
    "Definimos primero los datos. Usaremos la función `randint` para generar puntos con coordenadas aleatorias en el rango {0,..,100}. El costo de un arco $(i,j)$ será igual a la distancia euclideana entre $i$ y $j$:"
   ]
  },
  {
   "cell_type": "code",
   "execution_count": null,
   "metadata": {},
   "outputs": [],
   "source": [
    "from gurobipy import *\n",
    "import random as rm\n",
    "import math \n",
    "\n",
    "# Numero de nodos del grafo\n",
    "n = 200\n",
    "\n",
    "# Nodos del grafo\n",
    "V = tuplelist(range(1,n+1))\n",
    "\n",
    "# Nodos sin el primero\n",
    "V2 = V[1:]\n",
    "\n",
    "# Posiciones de los nodos en un plano euclideano entre (0,0) y (100, 100)\n",
    "coordx={i : rm.randint(0,100) for i in V}\n",
    "coordy={i : rm.randint(0,100) for i in V}\n",
    "\n",
    "# los costos son las distancias eculideanas\n",
    "c = tupledict({\n",
    "    (i,j) : math.sqrt((coordx[i] - coordx[j])**2 + (coordy[i] - coordy[j])**2)\n",
    "    for i in V for j in V if i!=j\n",
    "})\n",
    " \n",
    "A = c.keys()\n"
   ]
  },
  {
   "cell_type": "markdown",
   "metadata": {},
   "source": [
    "Emplearemos el módulo `matplotlib` para graficar el tour de la solución. Definiremos para ello la función `dibujarTour` que recibe tres argumentos: una lista `coordx` con las coordenadas horizontales de los nodos, una lista `coordy` con las coordenadas verticales y un vector `tour` con una permutación de los nodos indicando el orden de visita en la solución."
   ]
  },
  {
   "cell_type": "code",
   "execution_count": null,
   "metadata": {},
   "outputs": [],
   "source": [
    "import matplotlib.pyplot as plt\n",
    "import random\n",
    "\n",
    "def dibujarTour(coordx, coordy, tour):\n",
    "    Tx = [coordx[i] for i in tour]\n",
    "    Ty = [coordy[i] for i in tour]\n",
    "    plt.plot(Tx[:-1], Ty[:-1], 'ro')\n",
    "    for i in range(len(tour)-1):\n",
    "        s='{}'.format(tour[i])\n",
    "        plt.text(Tx[i],Ty[i]+1,s)\n",
    "        plt.arrow(Tx[i], Ty[i], Tx[i+1]-Tx[i], Ty[i+1]-Ty[i], color='blue', \n",
    "                  length_includes_head=True, width=0.1, head_width=2)\n",
    "    display(plt.show())\n"
   ]
  },
  {
   "cell_type": "markdown",
   "metadata": {},
   "source": [
    "Definimos ahora el objeto modelo, las variables y la función objetivo. Notar que las variables de ordenamiento son enteros en el rango $\\{2,\\ldots, n\\}$ y que existe una variable para cada nodo excepto el nodo 1."
   ]
  },
  {
   "cell_type": "code",
   "execution_count": null,
   "metadata": {},
   "outputs": [],
   "source": [
    "# Crear el objeto modelo\n",
    "m = Model('atsp-compacto')\n",
    "\n",
    "# Crear las variables de seleccion de arcos\n",
    "x = m.addVars(A, name=\"x\", vtype=GRB.BINARY)\n",
    "\n",
    "# Crear las variables de ordenamiento de nodos\n",
    "u = m.addVars(V2, name=\"u\", vtype=GRB.INTEGER, lb=2, ub=n)\n",
    "\n",
    "# Crear la funcion objetivo\n",
    "m.setObjective(x.prod(c,'*'), GRB.MINIMIZE)\n"
   ]
  },
  {
   "cell_type": "markdown",
   "metadata": {},
   "source": [
    "Añadimos las restricciones de grado:"
   ]
  },
  {
   "cell_type": "code",
   "execution_count": null,
   "metadata": {},
   "outputs": [],
   "source": [
    "# Restricciones de grado saliente\n",
    "m.addConstrs((x.sum(i,'*')  == 1 for i in V), \n",
    "                 \"g_saliente\")\n",
    "    \n",
    "# Restricciones de grado entrante\n",
    "m.addConstrs((x.sum('*', i)  == 1 for i in V), \n",
    "                 \"g_entrante\")"
   ]
  },
  {
   "cell_type": "markdown",
   "metadata": {},
   "source": [
    "Para eliminar los subciclos, empleamos las restricciones que fijan valores a las variables de ordenamiento"
   ]
  },
  {
   "cell_type": "code",
   "execution_count": null,
   "metadata": {},
   "outputs": [],
   "source": [
    "# Restricciones de ordenamiento de nodos\n",
    "m.addConstrs((u[j]  >= u[i] + (1 + n)*x[i,j] - n \n",
    "              for i,j in A if i!=1 and j!=1), \"ordenamiento\");"
   ]
  },
  {
   "cell_type": "markdown",
   "metadata": {},
   "source": [
    "Escribimos el modelo a un archivo de texto:"
   ]
  },
  {
   "cell_type": "code",
   "execution_count": null,
   "metadata": {},
   "outputs": [],
   "source": [
    "# Escribir el modelo a un archivo\n",
    "m.write('atsp-mtz.lp')\n"
   ]
  },
  {
   "cell_type": "markdown",
   "metadata": {},
   "source": [
    "Establecer un tiempo límite para la solución del modelo y una tolerancia para la brecha de optimalidad:"
   ]
  },
  {
   "cell_type": "code",
   "execution_count": null,
   "metadata": {},
   "outputs": [],
   "source": [
    "# Terminar al alcanzar un Gap del 1%\n",
    "m.Params.MIPGap = 0.05\n",
    "\n",
    "# Terminar luego de 180 segundos\n",
    "m.Params.TimeLimit = 180"
   ]
  },
  {
   "cell_type": "markdown",
   "metadata": {},
   "source": [
    "Finalmente, resolvemos el modelo y mostramos la solución. Notar que antes de mostrar la solución, verificamos el valor de la propiedad `SolCount` del objeto del modelo, para determinar si en la ejecución de `optimize` fue posible encontrar al menos una solución factible."
   ]
  },
  {
   "cell_type": "code",
   "execution_count": null,
   "metadata": {},
   "outputs": [],
   "source": [
    "# Calcular la solucion optima\n",
    "m.optimize()\n",
    "\n",
    "# Escribir la solucion\n",
    "if m.SolCount > 0:\n",
    "    # Recuperar los valores de las variables\n",
    "    vx = m.getAttr('x', x)\n",
    "    print('\\nTour optimo:')\n",
    "    for i,j in A:\n",
    "        if vx[i,j] >= 0.99:\n",
    "            print('{} -> {}'.format(i, j))\n"
   ]
  },
  {
   "cell_type": "code",
   "execution_count": null,
   "metadata": {},
   "outputs": [],
   "source": [
    "# Crear lista con arcos seleccionados en la solucion\n",
    "vx = m.getAttr('x', x)\n",
    "L = [(i,j) for i,j in A if vx[i,j]>=0.95]\n",
    "print(L)\n",
    "\n",
    "# Recuperar el tour como un ordenamiento de los nodos\n",
    "T = [1]\n",
    "# nodo actual:\n",
    "i = 1\n",
    "while True:\n",
    "    # Determinar sucesor de i\n",
    "    j = [j for j in V if (i,j) in L].pop()\n",
    "    # Colocar sucesor en la lista del tour y actualizar i\n",
    "    T.append(j)\n",
    "    i = j\n",
    "    # Terminar cuando el nodo colocado sea 1\n",
    "    if i==1: break;\n",
    "    \n",
    "print(\"Tour óptimo: {}\".format(T))\n",
    "        \n",
    "# Graficar el tour\n",
    "dibujarTour(coordx, coordy, T)    "
   ]
  },
  {
   "cell_type": "markdown",
   "metadata": {},
   "source": [
    "## Código completo\n",
    "\n",
    "Se reproduce a continuación el código completo del modelo anterior."
   ]
  },
  {
   "cell_type": "code",
   "execution_count": null,
   "metadata": {},
   "outputs": [],
   "source": [
    "# Implementación de modelos lineales enteros\n",
    "# Modelo compacto para el problema del agente viajero asimétrico (ATSP)\n",
    "\n",
    "# Luis M. Torres (EPN 2022)\n",
    "\n",
    "from gurobipy import *\n",
    "import random as rm\n",
    "import matplotlib.pyplot as plt\n",
    "\n",
    "def dibujarTour(coordx, coordy, tour):\n",
    "    Tx = [coordx[i] for i in tour]\n",
    "    Ty = [coordy[i] for i in tour]\n",
    "    plt.plot(Tx[:-1], Ty[:-1], 'ro')\n",
    "    for i in range(len(tour)-1):\n",
    "        s='{}'.format(tour[i])\n",
    "        plt.text(Tx[i],Ty[i]+1,s)\n",
    "        plt.arrow(Tx[i], Ty[i], Tx[i+1]-Tx[i], Ty[i+1]-Ty[i], color='blue', \n",
    "                  length_includes_head=True, width=0.1, head_width=2)\n",
    "\n",
    "# iniciar generador de numeros aleatorios\n",
    "rm.seed(0)\n",
    "\n",
    "# Numero de nodos del grafo\n",
    "n = 200\n",
    "\n",
    "# Nodos del grafo\n",
    "V = tuplelist(range(1,n+1))\n",
    "\n",
    "# Nodos sin el primero\n",
    "V2 = V[1:]\n",
    "\n",
    "# Posiciones de los nodos en un plano euclideano entre (0,0) y (100, 100)\n",
    "coordx={i : rm.randint(0,100) for i in V}\n",
    "coordy={i : rm.randint(0,100) for i in V}\n",
    "\n",
    "# los costos son las distancias eculideanas\n",
    "c = tupledict({\n",
    "    (i,j) : math.sqrt((coordx[i] - coordx[j])**2 + (coordy[i] - coordy[j])**2)\n",
    "    for i in V for j in V if i!=j\n",
    "})\n",
    " \n",
    "A = c.keys()\n",
    "\n",
    "try:\n",
    "    # Crear el objeto modelo\n",
    "    m = Model('tsp')\n",
    "\n",
    "    # Crear las variables de seleccion de arcos\n",
    "    x = m.addVars(A, name=\"x\", vtype=GRB.BINARY)\n",
    "\n",
    "    # Crear las variables de ordenamiento de nodos\n",
    "    u = m.addVars(V2, name=\"u\", vtype=GRB.INTEGER, lb=2, ub=n)\n",
    "\n",
    "    # Crear la funcion objetivo\n",
    "    m.setObjective(x.prod(c,'*'), GRB.MINIMIZE)\n",
    "\n",
    "    # Restricciones de grado saliente\n",
    "    m.addConstrs((x.sum(i,'*')  == 1 for i in V), \n",
    "                 \"g_saliente\")\n",
    "    \n",
    "    # Restricciones de grado entrante\n",
    "    m.addConstrs((x.sum('*', i)  == 1 for i in V), \n",
    "                 \"g_entrante\")\n",
    "\n",
    "    # Restricciones de ordenamiento de nodos\n",
    "    m.addConstrs((u[j]  >= u[i] + (1 + n)*x[i,j] - n \n",
    "                  for i,j in A if i!=1 and j!=1), \"ordenamiento\")\n",
    "\n",
    "    # Escribir el modelo a un archivo\n",
    "    # m.write('tsp.lp')\n",
    "\n",
    "    # Terminar al alcanzar un Gap del 5%\n",
    "    m.Params.MIPGap = 0.05\n",
    "\n",
    "    # Terminar luego de 180 segundos\n",
    "    m.Params.TimeLimit = 180    # Calcular la solucion optima\n",
    "    \n",
    "    # Desactivar todos los cortes\n",
    "    m.Params.Cuts = 3\n",
    "    \n",
    "    m.optimize()\n",
    "\n",
    "    # Escribir la solucion\n",
    "    # Proceder solamente si se tiene al menos una solución factible\n",
    "    if m.SolCount > 0:\n",
    "        # Recuperar los valores de las variables\n",
    "        vx = m.getAttr('x', x)\n",
    "        print('\\nTour optimo:')\n",
    "        for i,j in A:\n",
    "            if vx[i,j] > 0:\n",
    "                print('{} -> {}'.format(i, j))\n",
    "                \n",
    "        # Crear lista con arcos seleccionados en la solucion\n",
    "        L = [(i,j) for i,j in A if vx[i,j]>=0.99]\n",
    "\n",
    "        # Recuperar el tour como un ordenamiento de los nodos\n",
    "        T = [1]\n",
    "        # nodo actual:\n",
    "        i = 1\n",
    "        while True:\n",
    "            # Determinar sucesor de i\n",
    "            j = [j for j in V if (i,j) in L].pop()\n",
    "            # Colocar sucesor en la lista del tour y actualizar i\n",
    "            T.append(j)\n",
    "            i = j\n",
    "            # Terminar cuando el nodo colocado sea 1\n",
    "            if i==1: break;\n",
    "        \n",
    "        # Graficar el tour\n",
    "        dibujarTour(coordx, coordy, T)    \n",
    "    \n",
    "except GurobiError as e:\n",
    "    print('Se produjo un error de Gurobi: codigo: ' + str(e.errno) + \": \" + str(e))\n",
    "\n",
    "except AttributeError:\n",
    "    print('Se produjo un error de atributo')"
   ]
  },
  {
   "cell_type": "code",
   "execution_count": null,
   "metadata": {},
   "outputs": [],
   "source": [
    "display(dibujarTour(coordx, coordy, T) )"
   ]
  },
  {
   "cell_type": "code",
   "execution_count": null,
   "metadata": {},
   "outputs": [],
   "source": [
    "vx = m.getAttr('x', x)\n",
    "# Crear lista con arcos seleccionados en la solucion\n",
    "L = [(i,j) for i,j in A if vx[i,j]>=0.99]\n",
    "print(L)\n",
    "\n",
    "# Recuperar el tour como un ordenamiento de los nodos\n",
    "T = [1]\n",
    "# nodo actual:\n",
    "i = 1\n",
    "while True:\n",
    "    # Determinar sucesor de i\n",
    "    j = [j for j in V if (i,j) in L].pop()\n",
    "    # Colocar sucesor en la lista del tour y actualizar i\n",
    "    T.append(j)\n",
    "    i = j\n",
    "    # Terminar cuando el nodo colocado sea 1\n",
    "    if i==1: break;\n",
    "        \n",
    "# Graficar el tour\n",
    "dibujarTour(coordx, coordy, T)    \n"
   ]
  },
  {
   "cell_type": "code",
   "execution_count": null,
   "metadata": {},
   "outputs": [],
   "source": []
  }
 ],
 "metadata": {
  "kernelspec": {
   "display_name": "Python 3 (ipykernel)",
   "language": "python",
   "name": "python3"
  },
  "language_info": {
   "codemirror_mode": {
    "name": "ipython",
    "version": 3
   },
   "file_extension": ".py",
   "mimetype": "text/x-python",
   "name": "python",
   "nbconvert_exporter": "python",
   "pygments_lexer": "ipython3",
   "version": "3.8.12"
  }
 },
 "nbformat": 4,
 "nbformat_minor": 2
}
