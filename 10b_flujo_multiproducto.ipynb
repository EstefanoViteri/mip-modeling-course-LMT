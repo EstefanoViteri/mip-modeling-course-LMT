{
 "cells": [
  {
   "cell_type": "markdown",
   "metadata": {},
   "source": [
    "# Cuaderno 18b: Flujos multiproducto (formulación alternativa)\n",
    "\n",
    "$\\newcommand{\\card}[1]{\\left| #1 \\right|}$\n",
    "$\\newcommand{\\tabulatedset}[1]{\\left\\{ #1 \\right\\}}$\n",
    "$\\newcommand{\\ZZ}{\\mathbb{Z}}$\n",
    "$\\newcommand{\\RR}{\\mathbb{R}}$\n",
    "\n",
    "Dados: \n",
    "* un grafo dirigido $D=(V,A)$; \n",
    "* un conjunto $K$ de productos; \n",
    "* un vector de capacidades $u \\in \\ZZ^{A}_+$  asociadas a los arcos de $D$; \n",
    "* un vector $c \\in \\ZZ^{A}$ de costos de transporte unitarios asociados a los arcos de $D$; y, \n",
    "* un nodo origen $s_k$, un nodo destino $t_k$ y una demanda $d_k$ asociados a cada producto $k \\in K$.\n",
    "\n",
    "El *problema de flujo multiproducto de costo mínimo* consiste en encontrar un flujo $x \\in \\RR^{A \\times K}$  que satisfaga las siguientes condiciones:\n",
    "\n",
    "* para cada producto $k \\in K$, el flujo neto en $s_k$ (es decir, el flujo total de $k$ sobre los arcos que entran a $s_k$ menos el flujo total de $k$ sobre los arcos que salen de $s_k$) debe ser igual al negativo de la demanda $-d_k$ del producto, el flujo neto en $t_k$ debe ser igual a la demanda $d_k$, y el flujo neto en los demás nodos debe ser cero;  \n",
    "* para cada arco $(i,j) \\in A$, el flujo agregado de todos los productos sobre $(i,j)$ debe ser menor o igual a su capacidad $u_{ij}$;\n",
    "* el costo total del flujo debe ser mínimo. Este costo se calcula al multiplicar el flujo total sobre cada arco $(i,j) \\in A$ por su correspondiente costo unitario de transportación $c_{ij}$, y sumar estos valores sobre todos los arcos de la red.\n",
    "\n",
    "\n",
    "Utilizando variables continuas no negativas $x_{ij}^k$ para representar el flujo del producto $k \\in K$ sobre el arco $(i, j) \\in A$, el problema de flujo multiproducto de costo mínimo puede formularse como el siguiente programa lineal entero:\n",
    "\n",
    "\\begin{align*}\n",
    "\\min &\\sum_{k \\in K} \\sum_{(i,j) \\in A} c_{ij} x_{ij}^k\\\\ \n",
    "& \\mbox{s.r.}\\\\\n",
    "&\\sum_{(j, i) \\in A} x_{ji}^k - \\sum_{(i, j) \\in A} x_{ij}^k = b_i^k, \\quad \\forall i \\in V, k \\in K\\\\\n",
    "&\\sum_{k \\in K} x_{ij}^k \\leq u_{ij}, \\quad \\forall (i, j) \\in A, \\\\\n",
    "& x_{ij}^k \\geq 0, \\quad \\forall (i, j) \\in A, k \\in K.\n",
    "\\end{align*}\n",
    "\n",
    "Los valores del parámetro $b_i^k$ se definen por medio de:\n",
    "$$\n",
    "b_i^k = \\left\\{\n",
    "\\begin{array}{rl}\n",
    "-d_k, & \\mbox{ si $i=s_k$,}\\\\\n",
    "d_k, & \\mbox{ si $i=t_k$,}\\\\\n",
    "0, & \\mbox{ en los demás casos.}\n",
    "\\end{array}\n",
    "\\right.\n",
    "$$\n",
    "\n",
    "Vamos a implementar este modelo usando la interfaz Python de Gurobi.\n",
    "\n"
   ]
  },
  {
   "cell_type": "markdown",
   "metadata": {},
   "source": [
    "Definimos primero los conjuntos y parámetros del modelo:"
   ]
  },
  {
   "cell_type": "code",
   "execution_count": 1,
   "metadata": {},
   "outputs": [],
   "source": [
    "from gurobipy import *\n",
    "\n",
    "# Productos y nodos del grafo\n",
    "K, s, t, d = multidict({1: (2, 5, 10),\n",
    "                        2: (1, 8, 15),\n",
    "                        3: (3, 7, 12)})\n",
    "V = tuplelist(range(1,9))\n",
    "\n",
    "# Arcos, capacidades y costos\n",
    "A, u, c = multidict({\n",
    "  (2, 1):  (10, 1),\n",
    "  (3, 4):  (20, 1),\n",
    "  (6, 5):  (10, 1),\n",
    "  (8, 7):  (12, 1),\n",
    "  (2, 4):  (10, 1),\n",
    "  (4, 6):  (30, 2),\n",
    "  (6, 8):  (20, 1),\n",
    "  (1, 3):  (25, 2),\n",
    "  (3, 5):  (12, 1),\n",
    "  (5, 7):  (12, 3),\n",
    "  (1, 4):  (15, 1),\n",
    "  (4, 5):  (25, 1),\n",
    "  (5, 8):  (26, 1)})\n",
    "\n",
    "# --- Desde aqui los valores se calculan en funcion de los anteriores\n",
    "# Demandas asociadas a nodos y productos\n",
    "b= {}\n",
    "for i in V:\n",
    "    for k in K:\n",
    "        b[i,k] = -d[k] if i==s[k] else (d[k] if i==t[k] else 0) \n"
   ]
  },
  {
   "cell_type": "markdown",
   "metadata": {},
   "source": [
    "Creamos ahora el objeto modelo y las variables $x_{ij}^k$ del flujo multiproducto. Observar que las variables están indexadas por los conjuntos de productos y de arcos.\n",
    "\n",
    "Si no se especifica el argumento `vtype` en la llamada a la función `addVars`, por defecto las variables creadas son continuas y no negativas.\n"
   ]
  },
  {
   "cell_type": "code",
   "execution_count": 2,
   "metadata": {},
   "outputs": [
    {
     "name": "stdout",
     "output_type": "stream",
     "text": [
      "Using license file /Users/ltorres/gurobi.lic\n",
      "Academic license - for non-commercial use only\n"
     ]
    }
   ],
   "source": [
    "# Crear el objeto modelo\n",
    "m = Model('flujo-multiproducto')\n",
    "\n",
    "# Crear las variables\n",
    "x = m.addVars(A, K, name=\"x\")"
   ]
  },
  {
   "cell_type": "markdown",
   "metadata": {},
   "source": [
    "Definimos la función objetivo"
   ]
  },
  {
   "cell_type": "code",
   "execution_count": 3,
   "metadata": {},
   "outputs": [],
   "source": [
    "# Crear la funcion objetivo\n",
    "m.setObjective(quicksum(c[i,j]*x[i,j,k] \n",
    "                        for (i,j) in A for k in K), \n",
    "               GRB.MINIMIZE)"
   ]
  },
  {
   "cell_type": "markdown",
   "metadata": {},
   "source": [
    "Definimos las restricciones del modelo:"
   ]
  },
  {
   "cell_type": "code",
   "execution_count": 4,
   "metadata": {},
   "outputs": [
    {
     "data": {
      "text/plain": [
       "{(2, 1): <gurobi.Constr *Awaiting Model Update*>,\n",
       " (3, 4): <gurobi.Constr *Awaiting Model Update*>,\n",
       " (6, 5): <gurobi.Constr *Awaiting Model Update*>,\n",
       " (8, 7): <gurobi.Constr *Awaiting Model Update*>,\n",
       " (2, 4): <gurobi.Constr *Awaiting Model Update*>,\n",
       " (4, 6): <gurobi.Constr *Awaiting Model Update*>,\n",
       " (6, 8): <gurobi.Constr *Awaiting Model Update*>,\n",
       " (1, 3): <gurobi.Constr *Awaiting Model Update*>,\n",
       " (3, 5): <gurobi.Constr *Awaiting Model Update*>,\n",
       " (5, 7): <gurobi.Constr *Awaiting Model Update*>,\n",
       " (1, 4): <gurobi.Constr *Awaiting Model Update*>,\n",
       " (4, 5): <gurobi.Constr *Awaiting Model Update*>,\n",
       " (5, 8): <gurobi.Constr *Awaiting Model Update*>}"
      ]
     },
     "execution_count": 4,
     "metadata": {},
     "output_type": "execute_result"
    }
   ],
   "source": [
    "# Restricciones de demanda en los nodos\n",
    "m.addConstrs(\n",
    "    (x.sum('*',i,k) - x.sum(i,'*', k)  == b[i,k]\n",
    "    for k in K for i in V), \"demanda\")\n",
    "\n",
    "# Restricciones de capacidades en los arcos\n",
    "m.addConstrs(\n",
    "    (x.sum(i,j,'*') <= u[i,j] for i,j in A), \"capacidad\")"
   ]
  },
  {
   "cell_type": "markdown",
   "metadata": {},
   "source": [
    "A menudo es útil exportar el modelo a un archivo de texto para poder revisarlo. Esto puede hacerse con el método `write`."
   ]
  },
  {
   "cell_type": "code",
   "execution_count": 5,
   "metadata": {},
   "outputs": [],
   "source": [
    "# Escribir el modelo a un archivo\n",
    "m.write('flujo_multiproducto.lp')"
   ]
  },
  {
   "cell_type": "markdown",
   "metadata": {},
   "source": [
    "Finalmente, resolvemos el modelo y mostramos la solución. Notar que los valores de las variables pueden recuperarse también empleando el método `getAttr`:"
   ]
  },
  {
   "cell_type": "code",
   "execution_count": 6,
   "metadata": {},
   "outputs": [
    {
     "name": "stdout",
     "output_type": "stream",
     "text": [
      "Gurobi Optimizer version 9.0.2 build v9.0.2rc0 (mac64)\n",
      "Optimize a model with 37 rows, 39 columns and 117 nonzeros\n",
      "Model fingerprint: 0x5e0b8889\n",
      "Coefficient statistics:\n",
      "  Matrix range     [1e+00, 1e+00]\n",
      "  Objective range  [1e+00, 3e+00]\n",
      "  Bounds range     [0e+00, 0e+00]\n",
      "  RHS range        [1e+01, 3e+01]\n",
      "Presolve removed 24 rows and 23 columns\n",
      "Presolve time: 0.03s\n",
      "Presolved: 13 rows, 16 columns, 42 nonzeros\n",
      "\n",
      "Iteration    Objective       Primal Inf.    Dual Inf.      Time\n",
      "       0    6.1961000e+01   2.553250e+01   0.000000e+00      0s\n",
      "Extra one simplex iteration after uncrush\n",
      "       7    1.0200000e+02   0.000000e+00   0.000000e+00      0s\n",
      "\n",
      "Solved in 7 iterations and 0.07 seconds\n",
      "Optimal objective  1.020000000e+02\n",
      "\n",
      "Flujos optimos para 1:\n",
      "2 -> 4: 10\n",
      "4 -> 5: 10\n",
      "\n",
      "Flujos optimos para 2:\n",
      "1 -> 4: 15\n",
      "4 -> 5: 15\n",
      "5 -> 8: 15\n",
      "\n",
      "Flujos optimos para 3:\n",
      "8 -> 7: 11\n",
      "3 -> 5: 12\n",
      "5 -> 7: 1\n",
      "5 -> 8: 11\n"
     ]
    }
   ],
   "source": [
    "# Calcular la solucion optima\n",
    "m.optimize()\n",
    "\n",
    "# Escribir la solucion\n",
    "if m.status == GRB.Status.OPTIMAL:\n",
    "    # Recuperar los valores de las variables\n",
    "    vx = m.getAttr('x', x)\n",
    "    for k in K:\n",
    "        print('\\nFlujos optimos para {}:'.format(k))\n",
    "        for i,j in A:\n",
    "            if vx[i,j,k] > 0:\n",
    "                print('{} -> {}: {}'.format(i, j, int(vx[i,j,k])))"
   ]
  },
  {
   "cell_type": "markdown",
   "metadata": {},
   "source": [
    "## Código completo\n",
    "\n",
    "Se reproduce a continuación el código completo del modelo anterior."
   ]
  },
  {
   "cell_type": "code",
   "execution_count": 8,
   "metadata": {},
   "outputs": [
    {
     "name": "stdout",
     "output_type": "stream",
     "text": [
      "Gurobi Optimizer version 9.0.2 build v9.0.2rc0 (mac64)\n",
      "Optimize a model with 37 rows, 39 columns and 117 nonzeros\n",
      "Model fingerprint: 0x5e0b8889\n",
      "Coefficient statistics:\n",
      "  Matrix range     [1e+00, 1e+00]\n",
      "  Objective range  [1e+00, 3e+00]\n",
      "  Bounds range     [0e+00, 0e+00]\n",
      "  RHS range        [1e+01, 3e+01]\n",
      "Presolve removed 24 rows and 23 columns\n",
      "Presolve time: 0.02s\n",
      "Presolved: 13 rows, 16 columns, 42 nonzeros\n",
      "\n",
      "Iteration    Objective       Primal Inf.    Dual Inf.      Time\n",
      "       0    6.1961000e+01   2.553250e+01   0.000000e+00      0s\n",
      "Extra one simplex iteration after uncrush\n",
      "       7    1.0200000e+02   0.000000e+00   0.000000e+00      0s\n",
      "\n",
      "Solved in 7 iterations and 0.06 seconds\n",
      "Optimal objective  1.020000000e+02\n",
      "\n",
      "Flujos optimos para 1:\n",
      "2 -> 4: 10\n",
      "4 -> 5: 10\n",
      "\n",
      "Flujos optimos para 2:\n",
      "1 -> 4: 15\n",
      "4 -> 5: 15\n",
      "5 -> 8: 15\n",
      "\n",
      "Flujos optimos para 3:\n",
      "8 -> 7: 11\n",
      "3 -> 5: 12\n",
      "5 -> 7: 1\n",
      "5 -> 8: 11\n"
     ]
    }
   ],
   "source": [
    "# Problema de flujo multiproducto de costo minimo (mincost flow)\n",
    "\n",
    "# Luis M. Torres (EPN 2019)\n",
    "\n",
    "from gurobipy import *\n",
    "\n",
    "# Productos y nodos del grafo\n",
    "K, s, t, d = multidict({1: (2, 5, 10),\n",
    "                        2: (1, 8, 15),\n",
    "                        3: (3, 7, 12)})\n",
    "V = tuplelist(range(1,9))\n",
    "\n",
    "# Arcos, capacidades y costos\n",
    "A, u, c = multidict({\n",
    "  (2, 1):  (10, 1),\n",
    "  (3, 4):  (20, 1),\n",
    "  (6, 5):  (10, 1),\n",
    "  (8, 7):  (12, 1),\n",
    "  (2, 4):  (10, 1),\n",
    "  (4, 6):  (30, 2),\n",
    "  (6, 8):  (20, 1),\n",
    "  (1, 3):  (25, 2),\n",
    "  (3, 5):  (12, 1),\n",
    "  (5, 7):  (12, 3),\n",
    "  (1, 4):  (15, 1),\n",
    "  (4, 5):  (25, 1),\n",
    "  (5, 8):  (26, 1)})\n",
    "\n",
    "# --- Desde aqui los valores se calculan en funcion de los anteriores\n",
    "# Demandas asociadas a nodos y productos\n",
    "b= {}\n",
    "for i in V:\n",
    "    for k in K:\n",
    "        b[i,k] = -d[k] if i==s[k] else (d[k] if i==t[k] else 0) \n",
    "\n",
    "try:\n",
    "    # Crear el objeto modelo\n",
    "    m = Model('flujo-multiproducto')\n",
    "\n",
    "    # Crear las variables\n",
    "    x = m.addVars(A, K, name=\"x\")\n",
    "\n",
    "    # Crear la funcion objetivo\n",
    "    m.setObjective(quicksum(c[i,j]*x[i,j,k] for (i,j) in A for k in K), GRB.MINIMIZE)\n",
    "\n",
    "    # Restricciones de demanda en los nodos\n",
    "    m.addConstrs(\n",
    "        (x.sum('*',i,k) - x.sum(i,'*', k)  == b[i,k]\n",
    "        for k in K for i in V), \"demanda\")\n",
    "\n",
    "    # Restricciones de capacidades en los arcos\n",
    "    m.addConstrs((x.sum(i,j,'*') <= u[i,j] for i,j in A), \"capacidad\")\n",
    "\n",
    "    # Escribir el modelo a un archivo\n",
    "    m.write('flujo_multiproducto.lp')\n",
    "\n",
    "    # Calcular la solucion optima\n",
    "    m.optimize()\n",
    "\n",
    "    # Escribir la solucion\n",
    "    if m.status == GRB.Status.OPTIMAL:\n",
    "        # Recuperar los valores de las variables\n",
    "        vx = m.getAttr('x', x)\n",
    "        for k in K:\n",
    "            print('\\nFlujos optimos para {}:'.format(k))\n",
    "            for i,j in A:\n",
    "                if vx[i,j,k] > 0:\n",
    "                    print('{} -> {}: {}'.format(i, j, int(vx[i,j,k])))\n",
    "                \n",
    "except GurobiError as e:\n",
    "    print('Se produjo un error de Gurobi: codigo: ' + str(e.errno) + \": \" + str(e))\n",
    "\n",
    "except AttributeError:\n",
    "    print('Se produjo un error de atributo')"
   ]
  },
  {
   "cell_type": "markdown",
   "metadata": {},
   "source": [
    "## Flujo multiproducto no divisible\n",
    "\n",
    "Suponer que el transporte del producto $k$ desde el nodo $s_k$ hasta el nodo $t_k$ debe realizarse a lo largo de un único camino. ¿Cómo cambia el modelo?"
   ]
  },
  {
   "cell_type": "code",
   "execution_count": 9,
   "metadata": {},
   "outputs": [
    {
     "name": "stdout",
     "output_type": "stream",
     "text": [
      "Gurobi Optimizer version 9.0.2 build v9.0.2rc0 (mac64)\n",
      "Optimize a model with 124 rows, 78 columns and 273 nonzeros\n",
      "Variable types: 39 continuous, 39 integer (39 binary)\n",
      "Coefficient statistics:\n",
      "  Matrix range     [1e+00, 3e+01]\n",
      "  Objective range  [1e+00, 3e+00]\n",
      "  Bounds range     [1e+00, 1e+00]\n",
      "  RHS range        [1e+00, 3e+01]\n",
      "Found heuristic solution: objective 160.0000000\n",
      "Presolve removed 124 rows and 78 columns\n",
      "Presolve time: 0.01s\n",
      "Presolve: All rows and columns removed\n",
      "\n",
      "Explored 0 nodes (0 simplex iterations) in 0.04 seconds\n",
      "Thread count was 1 (of 4 available processors)\n",
      "\n",
      "Solution count 2: 113 \n",
      "\n",
      "Optimal solution found (tolerance 1.00e-04)\n",
      "Best objective 1.130000000000e+02, best bound 1.130000000000e+02, gap 0.0000%\n",
      "\n",
      "Flujos optimos para 1:\n",
      "2 -> 4: 10.0\n",
      "4 -> 5: 10.0\n",
      "\n",
      "Flujos optimos para 2:\n",
      "1 -> 4: 15.0\n",
      "4 -> 5: 15.0\n",
      "5 -> 8: 15.0\n",
      "\n",
      "Flujos optimos para 3:\n",
      "3 -> 5: 12.0\n",
      "5 -> 7: 12.0\n"
     ]
    }
   ],
   "source": [
    "# Agregar variables binarias de seleccion de arcos\n",
    "y = m.addVars(A, K, name=\"y\", vtype = GRB.BINARY)\n",
    "\n",
    "# Agregar restricciones de grado\n",
    "m.addConstrs((y.sum('*',i,k) <= 1 for i in V for k in K), \"entrante\")\n",
    "m.addConstrs((y.sum(i,'*',k) <= 1 for i in V for k in K), \"saliente\")\n",
    "\n",
    "# Agregar restricciones de uso de arcos \n",
    "m.addConstrs((x[i,j,k] <= u[i,j]*y[i,j,k] for i,j in A for k in K), \"uso\")\n",
    "\n",
    "# Actualizar el modelo\n",
    "m.update()\n",
    "\n",
    "# Escribir el modelo modificado a un archivo\n",
    "m.write('flujo_no_divisible.lp')\n",
    "\n",
    "# Resolver nuevamente\n",
    "m.optimize()\n",
    "\n",
    "# Mostrar la solucion\n",
    "if m.status == GRB.Status.OPTIMAL:\n",
    "    vx = m.getAttr('x', x)\n",
    "    for k in K:\n",
    "        print('\\nFlujos optimos para {}:'.format(k))\n",
    "        for i,j in A:\n",
    "            if vx[i,j,k] > 0:\n",
    "                print('{} -> {}: {}'.format(i, j, vx[i,j,k]))\n"
   ]
  },
  {
   "cell_type": "code",
   "execution_count": null,
   "metadata": {},
   "outputs": [],
   "source": []
  }
 ],
 "metadata": {
  "kernelspec": {
   "display_name": "Python 3",
   "language": "python",
   "name": "python3"
  },
  "language_info": {
   "codemirror_mode": {
    "name": "ipython",
    "version": 3
   },
   "file_extension": ".py",
   "mimetype": "text/x-python",
   "name": "python",
   "nbconvert_exporter": "python",
   "pygments_lexer": "ipython3",
   "version": "3.7.6"
  }
 },
 "nbformat": 4,
 "nbformat_minor": 2
}
